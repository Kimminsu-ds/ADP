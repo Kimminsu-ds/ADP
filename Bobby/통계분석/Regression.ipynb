{
 "cells": [
  {
   "cell_type": "markdown",
   "id": "2885c7d5",
   "metadata": {},
   "source": [
    "# Project: 데이터분석전문가(ADP) 실기시험\n",
    "#### Summary: 회귀분석 관련 코드 정리"
   ]
  },
  {
   "cell_type": "code",
   "execution_count": 13,
   "id": "7108883d",
   "metadata": {},
   "outputs": [],
   "source": [
    "import warnings\n",
    "warnings.filterwarnings(action='ignore')"
   ]
  },
  {
   "cell_type": "markdown",
   "id": "70e50ed8",
   "metadata": {},
   "source": [
    "## 회귀분석 기본 프로세스\n",
    "1. 데이터 분할\n",
    "2. 모델 적용 & GridSearchCV를 통한 파라미터 최적화\n",
    "3. 결정계수 및 RMSE 구하기"
   ]
  },
  {
   "cell_type": "code",
   "execution_count": 24,
   "id": "180590e2",
   "metadata": {},
   "outputs": [
    {
     "name": "stdout",
     "output_type": "stream",
     "text": [
      "선형회귀 결정계수: 0.6610321968877293\n",
      "선형회귀 RMSE: 5.025688043217024\n",
      "----------------------------------------------------------------------------------------------------------------------------------\n",
      "Ridge 최적 alpha: {'alpha': 0.1}\n",
      "Ridge 결정계수: 0.8355846906162807\n",
      "Ridge RMSE: 3.5001562337886427\n",
      "----------------------------------------------------------------------------------------------------------------------------------\n",
      "Lasso 최적 alpha: {'alpha': 0.0}\n",
      "Lasso 결정계수: 0.6591444264036643\n",
      "Lasso RMSE: 5.039663077054247\n"
     ]
    }
   ],
   "source": [
    "import pandas as pd\n",
    "import numpy as np\n",
    "import mglearn\n",
    "\n",
    "# 데이터 불러오기\n",
    "X, y = mglearn.datasets.load_extended_boston()\n",
    "\n",
    "from sklearn.model_selection import train_test_split, GridSearchCV\n",
    "from sklearn.linear_model import LinearRegression, Ridge, Lasso\n",
    "from sklearn.metrics import mean_squared_error\n",
    "\n",
    "# 데이터 7:3 분할\n",
    "X_train, X_test, y_train, y_test = train_test_split(X, y, test_size=0.3, random_state=42)\n",
    "\n",
    "\n",
    "# 선형회귀(Linear regression)\n",
    "lr = LinearRegression()\n",
    "lr.fit(X_train, y_train)\n",
    "y_pred = lr.predict(X_test)\n",
    "\n",
    "# print(f\"선형회귀 변수별 계수: {lr.coef_}\")\n",
    "print(f\"선형회귀 결정계수: {lr.score(X_test, y_test)}\")\n",
    "print(f\"선형회귀 RMSE: {np.sqrt(mean_squared_error(y_test, y_pred))}\")\n",
    "print(\"-\" * 130)\n",
    "\n",
    "\n",
    "# Ridge 회귀(Ridge regression):\n",
    "# 파라미터 search-space (예) alpha값 0부터 1까지 0.1 단위로\n",
    "params = {\n",
    "    'alpha' : np.arange(0, 1.1, 0.1)\n",
    "}\n",
    "\n",
    "ridge = GridSearchCV(Ridge(random_state=42), params)\n",
    "ridge.fit(X_train, y_train)\n",
    "alpha = ridge.best_params_\n",
    "\n",
    "print(f\"Ridge 최적 alpha: {alpha}\")\n",
    "\n",
    "# 최적 alpha 값으로 학습한 모델\n",
    "ridge = ridge.best_estimator_\n",
    "y_pred = ridge.predict(X_test)\n",
    "\n",
    "# print(f\"Ridge 변수별 계수: {ridge.coef_}\")\n",
    "print(f\"Ridge 결정계수: {ridge.score(X_test, y_test)}\")\n",
    "print(f\"Ridge RMSE: {np.sqrt(mean_squared_error(y_test, y_pred))}\")\n",
    "print(\"-\" * 130)\n",
    "\n",
    "\n",
    "# Lasso 회귀(Lasso Regression)\n",
    "# 파라미터 search-space (예) alpha값 0부터 1까지 0.1 단위로\n",
    "params = {\n",
    "    'alpha' : np.arange(0, 1.1, 0.1)\n",
    "}\n",
    "\n",
    "lasso = GridSearchCV(Lasso(random_state=42), params)\n",
    "lasso.fit(X_train, y_train)\n",
    "alpha = lasso.best_params_\n",
    "\n",
    "print(f\"Lasso 최적 alpha: {alpha}\")\n",
    "\n",
    "# 최적 alpha 값으로 학습한 모델\n",
    "lasso = lasso.best_estimator_\n",
    "y_pred = lasso.predict(X_test)\n",
    "\n",
    "# print(f\"Lasso 변수별 계수: {lasso.coef_}\")\n",
    "print(f\"Lasso 결정계수: {lasso.score(X_test, y_test)}\")\n",
    "print(f\"Lasso RMSE: {np.sqrt(mean_squared_error(y_test, y_pred))}\")"
   ]
  }
 ],
 "metadata": {
  "kernelspec": {
   "display_name": "Python 3 (ipykernel)",
   "language": "python",
   "name": "python3"
  },
  "language_info": {
   "codemirror_mode": {
    "name": "ipython",
    "version": 3
   },
   "file_extension": ".py",
   "mimetype": "text/x-python",
   "name": "python",
   "nbconvert_exporter": "python",
   "pygments_lexer": "ipython3",
   "version": "3.11.5"
  },
  "toc": {
   "base_numbering": 1,
   "nav_menu": {},
   "number_sections": true,
   "sideBar": true,
   "skip_h1_title": false,
   "title_cell": "Table of Contents",
   "title_sidebar": "Contents",
   "toc_cell": false,
   "toc_position": {
    "height": "calc(100% - 180px)",
    "left": "10px",
    "top": "150px",
    "width": "223.328px"
   },
   "toc_section_display": true,
   "toc_window_display": false
  },
  "varInspector": {
   "cols": {
    "lenName": 16,
    "lenType": 16,
    "lenVar": 40
   },
   "kernels_config": {
    "python": {
     "delete_cmd_postfix": "",
     "delete_cmd_prefix": "del ",
     "library": "var_list.py",
     "varRefreshCmd": "print(var_dic_list())"
    },
    "r": {
     "delete_cmd_postfix": ") ",
     "delete_cmd_prefix": "rm(",
     "library": "var_list.r",
     "varRefreshCmd": "cat(var_dic_list()) "
    }
   },
   "types_to_exclude": [
    "module",
    "function",
    "builtin_function_or_method",
    "instance",
    "_Feature"
   ],
   "window_display": false
  }
 },
 "nbformat": 4,
 "nbformat_minor": 5
}
