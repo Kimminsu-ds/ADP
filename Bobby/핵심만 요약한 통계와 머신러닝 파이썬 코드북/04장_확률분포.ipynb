{
 "cells": [
  {
   "cell_type": "markdown",
   "metadata": {
    "id": "DnDoY5Ebvl_r"
   },
   "source": [
    "# 제32회 ADP 실기 대비 - 핵심만 요약한 통계와 머신러닝 파이썬 코드북"
   ]
  },
  {
   "cell_type": "code",
   "execution_count": 1,
   "metadata": {
    "executionInfo": {
     "elapsed": 332,
     "status": "ok",
     "timestamp": 1713268542892,
     "user": {
      "displayName": "김민수",
      "userId": "04980821268576496984"
     },
     "user_tz": -540
    },
    "id": "XjZOLjYsvl_w"
   },
   "outputs": [],
   "source": [
    "import pandas as pd\n",
    "import numpy as np\n",
    "\n",
    "import matplotlib.pyplot as plt\n",
    "import seaborn as sns\n",
    "\n",
    "# 시각화 설정\n",
    "plt.rcParams['font.family'] = 'Malgun Gothic' # 한글 폰트 설정\n",
    "plt.rcParams['axes.unicode_minus'] = False # 마이너스 부호 설정\n",
    "\n",
    "# Colab 한글 폰트 설정\n",
    "# !sudo apt-get install -y fonts-nanum\n",
    "# !sudo fc-cache -fv\n",
    "# !rm ~/.cache/matplotlib -rf\n",
    "# plt.rc('font', family='NanumBarunGothic')"
   ]
  },
  {
   "cell_type": "markdown",
   "metadata": {
    "id": "RuGPXraIvl_y"
   },
   "source": [
    "# 4장. 확률분포\n",
    "- 확률변수(Random variable)는 일정한 확률을 가지고 발생하는 사상(Event)에 수치가 부여된 변수를 말한다.\n",
    "- 일반적으로 확률변수는 X, Y, Z와 같이 대문자로 표기하고 확률변수의 값은 x, y, z와 같이 소문자로 표기한다.\n",
    "- 확률분포에는 이산형 확률분포(Discrete probability distribution)와 연속형 확률분포(Continuous probability distribution)가 있다."
   ]
  },
  {
   "cell_type": "markdown",
   "metadata": {
    "id": "X1vkiM24vl_y"
   },
   "source": [
    "- 이산형 확률분포는 확률 변수가 가질 수 있는 값이 명확하고 셀 수 있는 이산형인 경우의 분포이다.\n",
    "- 확률분포 X가 취하는 확률값은 확률질량함수(Probability mass function)를 이용하여 계산한다.\n",
    "- 확률값은 항상 0 이상 1 이하이며, 모든 확률변수의 확률값의 합은 1이다.\n",
    "- 베르누이, 기하분포, 이항분포, 다항분포, 포아송 분포, 초기하분포, 음이항분포 등이 있다."
   ]
  },
  {
   "cell_type": "markdown",
   "metadata": {
    "id": "XIArNxROvl_z"
   },
   "source": [
    "- 연속형 확률분포는 확률변수가 가질 수 있는 값이 연속적인 실수여서 셀 수 없는 경우의 분포이며, 확률값은 확률밀도함수(Probability density function)를 이용하여 계산한다.\n",
    "- 확률밀도함수의 그래프는 항상 수평축 위에 있고, 어떤 구간에서 그래프 아래의 면적이 확률의 의미를 가진다.\n",
    "- 즉, 확률밀도함수를 적분함으로써 그래프 아래의 면적인 확률값을 계산한다.\n",
    "- 또한, 연속확률변수는 한 점에서의 확률이 0이므로 구간의 끝점에서 등호를 붙이거나 떼거나 확률은 동일하다.\n",
    "- 확률밀도곡선 아래의 전체 면적은 항상 1이다. 균일분포, 정규분포, 지수분포, t-분포, 카이제곱분포, F분포 등이 있다."
   ]
  },
  {
   "cell_type": "markdown",
   "metadata": {
    "id": "BCA2j1Qlvl_z"
   },
   "source": [
    "- 각종 확률분포의 확률값은 확률분포표를 보거나 SciPy 라이브러리를 사용하여 쉽게 얻을 수 있다.\n",
    "- SciPy 라이브러리에는 특정 확률분포의 여러가지 조건 하의 확률값을 계산하는 메서드들이 있다.\n",
    "- 예를 들어 **`pmf()`**는 probabilty mass function, **`cdf()`**는 cumulative distribution function, **`ppf()`**는 percent point function을 반환한다."
   ]
  },
  {
   "cell_type": "markdown",
   "metadata": {
    "id": "kW4Zj4UBvl_0"
   },
   "source": [
    "## 4-1. 특수한 이산형 확률분포들"
   ]
  },
  {
   "cell_type": "markdown",
   "metadata": {
    "id": "WXVeReKuvl_0"
   },
   "source": [
    "### 베르누이 분포 (Bernoulli distribution)\n",
    "- 동등한 실험 조건 하에서 실험의 결과가 단지 두 가지의 가능한 결과만을 가질 때 이러한 실험을 베르누이 시행이라 하는데, 성공의 횟수를 확률변수 X라 하면, 확률변수 X는 성공률이 p, 실패할 확률 q(=1-p)인 베르누이 분포를 따른다고 한다.\n",
    "- 확률변수 X가 모수 p를 가지는 베르누이 시행을 다음과 같이 표현한다.\n",
    "$$ X \\sim B(1,p) $$"
   ]
  },
  {
   "cell_type": "markdown",
   "metadata": {
    "id": "iLLYCnWVvl_0"
   },
   "source": [
    "- 해당 확률분포의 확률질량함수, 기댓값, 분산을 구하는 공식은 아래와 같다.\n",
    "- $f(x) = p^x(1-p)^{1-x},\\ \\ x=0,\\ 1,\\ \\ 0<=p<=1$\n",
    "- $E(X) = p$\n",
    "- $Var(X) = p(1-p)$"
   ]
  },
  {
   "cell_type": "code",
   "execution_count": 2,
   "metadata": {
    "colab": {
     "base_uri": "https://localhost:8080/"
    },
    "executionInfo": {
     "elapsed": 6,
     "status": "ok",
     "timestamp": 1713268547348,
     "user": {
      "displayName": "김민수",
      "userId": "04980821268576496984"
     },
     "user_tz": -540
    },
    "id": "fHiazaaKvl_1",
    "outputId": "cae969a7-4a04-4af0-a090-007917b9f487"
   },
   "outputs": [
    {
     "name": "stdout",
     "output_type": "stream",
     "text": [
      "해당 분포의 기댓값은: 0.3, 분산은: 0.21\n",
      "기댓값: 0.3, 분산: 0.21\n"
     ]
    }
   ],
   "source": [
    "# p, q: 성공할 확률, 실패할 확률(1-p)\n",
    "p, q = 0.3, 0.7\n",
    "\n",
    "E = p # 기댓값\n",
    "V = p*q # 분산\n",
    "\n",
    "print(f\"해당 분포의 기댓값은: {round(E, 3)}, 분산은: {round(V, 3)}\")\n",
    "\n",
    "from scipy.stats import bernoulli\n",
    "\n",
    "E2, V2 = bernoulli.stats(p)\n",
    "print(f\"기댓값: {E2}, 분산: {V2}\")"
   ]
  },
  {
   "cell_type": "markdown",
   "metadata": {
    "id": "bDLYQclsvl_2"
   },
   "source": [
    "### 이항분포 (Binomial distribution)\n",
    "- 어떤 실험에서 성공의 확률이 p인 베르누이 시행을 독립적으로 n번 반복 시행했을 때 성공의 횟수를 확률변수 X라 하면 확률변수 X는 시행횟수 n과 성공의 확률 p를 모수로 가지는 이항분포를 따른다.\n",
    "$$ X \\sim B(n, p) $$"
   ]
  },
  {
   "cell_type": "markdown",
   "metadata": {
    "id": "ByaRoEJGvl_3"
   },
   "source": [
    "- 이항분포 $B(n,p)$는 $n>20,\\ np>=5,\\ n(1-p)>=5$일 때 정규분포 $N(np,\\ np(1-p))$로 근사한다.\n",
    "- 또한, $p<=0.1,\\ np=0.1\\sim10,\\ n>=50$일 때 포아송 분포 $p(np)$로 근사한다.\n",
    "- $f(x) = {n \\choose x}p^x(1-p)^{n-x},\\ x=0,1,...,n$\n",
    "- $E(X) = np$\n",
    "- $Var(X) = np(1-p)$"
   ]
  },
  {
   "cell_type": "code",
   "execution_count": 3,
   "metadata": {
    "colab": {
     "base_uri": "https://localhost:8080/"
    },
    "executionInfo": {
     "elapsed": 413,
     "status": "ok",
     "timestamp": 1713268553657,
     "user": {
      "displayName": "김민수",
      "userId": "04980821268576496984"
     },
     "user_tz": -540
    },
    "id": "EeyQJGGyvl_3",
    "outputId": "eabd2e04-08f5-4fd7-e078-4d271a1acf6c"
   },
   "outputs": [
    {
     "name": "stdout",
     "output_type": "stream",
     "text": [
      "해당 분포의 기댓값은: 0.3, 분산은: 0.27\n",
      "기댓값: 0.30000000000000004, 분산: 0.2700000000000001\n"
     ]
    }
   ],
   "source": [
    "# combination 함수 정의\n",
    "fac = np.math.factorial\n",
    "def combi(a, b):\n",
    "    result = fac(a) / fac(b) / fac(a-b)\n",
    "    return result\n",
    "\n",
    "# 근로자가 내년에 회사를 떠날 확률이 0.1이라고 추정할 경우,\n",
    "# 근로자 3명을 무작위로 뽑은 상황\n",
    "\n",
    "n=3  # 근로자 샘플 갯수\n",
    "p=0.1 # 떠날 확률\n",
    "\n",
    "# 근로자가 떠날 확률에 대해 기댓값과 분산 계산하기\n",
    "E = n*p\n",
    "V = n*p*(1-p)\n",
    "print(f\"해당 분포의 기댓값은: {round(E, 3)}, 분산은: {round(V, 3)}\")\n",
    "\n",
    "from scipy.stats import binom\n",
    "\n",
    "E2, V2 = binom.stats(n, p)\n",
    "print(f\"기댓값: {E2}, 분산: {V2}\")"
   ]
  },
  {
   "cell_type": "markdown",
   "metadata": {
    "id": "XYXC9NOjvl_4"
   },
   "source": [
    "- 확률질량함수 계산하기: 근로자 1명이 올해에 회사를 떠날 확률은?"
   ]
  },
  {
   "cell_type": "code",
   "execution_count": 4,
   "metadata": {
    "colab": {
     "base_uri": "https://localhost:8080/"
    },
    "executionInfo": {
     "elapsed": 3,
     "status": "ok",
     "timestamp": 1713268557379,
     "user": {
      "displayName": "김민수",
      "userId": "04980821268576496984"
     },
     "user_tz": -540
    },
    "id": "mlcrigvJvl_4",
    "outputId": "d169df1c-0956-458a-ff9f-386c088980a5"
   },
   "outputs": [
    {
     "name": "stdout",
     "output_type": "stream",
     "text": [
      "해당 분포의 확률질량함수(pmf): 0.243\n",
      "해당 분포의 확률질량함수(pmf): 0.243\n"
     ]
    }
   ],
   "source": [
    "x=1 # 떠날 근로자 샘플 갯수\n",
    "pmf = combi(n, x) * p**x * (1-p)**(n-x)\n",
    "print(f\"해당 분포의 확률질량함수(pmf): {round(pmf, 3)}\")\n",
    "print(f\"해당 분포의 확률질량함수(pmf): {binom.pmf(x, n, p)}\")"
   ]
  },
  {
   "cell_type": "markdown",
   "metadata": {
    "id": "mxSJzlY7vl_5"
   },
   "source": [
    "- 누적확률질량함수 계산하기: 근로자 1명 이하로 떠날 확률은?"
   ]
  },
  {
   "cell_type": "code",
   "execution_count": 5,
   "metadata": {
    "colab": {
     "base_uri": "https://localhost:8080/"
    },
    "executionInfo": {
     "elapsed": 4,
     "status": "ok",
     "timestamp": 1713268560752,
     "user": {
      "displayName": "김민수",
      "userId": "04980821268576496984"
     },
     "user_tz": -540
    },
    "id": "csvIQWP_vl_5",
    "outputId": "33ffaffe-6c08-4399-a739-b6fa5118b40d"
   },
   "outputs": [
    {
     "name": "stdout",
     "output_type": "stream",
     "text": [
      "해당 분포의 누적확률질량함수(cdf): 0.9720000000000001\n",
      "해당 분포의 누적확률질량함수(cdf): 0.972\n"
     ]
    }
   ],
   "source": [
    "cdf = 0\n",
    "for i in range(x+1): # 확률변수의 확률값들을 합함 (0명 떠날 확률 + 1명 떠날 확률)\n",
    "    cdf += binom.pmf(i, n, p)\n",
    "\n",
    "print(f\"해당 분포의 누적확률질량함수(cdf): {cdf}\")\n",
    "print(f\"해당 분포의 누적확률질량함수(cdf): {binom.cdf(x, n, p)}\")"
   ]
  },
  {
   "cell_type": "markdown",
   "metadata": {
    "id": "NiWKGm7Cvl_6"
   },
   "source": [
    "- 이항분포의 정규분포 근사"
   ]
  },
  {
   "cell_type": "code",
   "execution_count": 6,
   "metadata": {
    "colab": {
     "base_uri": "https://localhost:8080/"
    },
    "executionInfo": {
     "elapsed": 3,
     "status": "ok",
     "timestamp": 1713268565217,
     "user": {
      "displayName": "김민수",
      "userId": "04980821268576496984"
     },
     "user_tz": -540
    },
    "id": "UkvJrqkrvl_6",
    "outputId": "e51aa2c5-09ed-4877-89a2-a22bfb2d71c6"
   },
   "outputs": [
    {
     "name": "stdout",
     "output_type": "stream",
     "text": [
      "이항분포: 0.028, 정규분포: 0.028\n"
     ]
    }
   ],
   "source": [
    "from scipy.stats import norm\n",
    "\n",
    "x, n, p = 10, 30, 0.5\n",
    "b_result = binom.pmf(x, n, p)\n",
    "\n",
    "E=n*p\n",
    "sigma = np.sqrt(E*(1-p))\n",
    "zstat1 = (x-0.5-E)/sigma # 이항분포의 x에서 -0.5\n",
    "zstat2 = (x+0.5-E)/sigma # 이항분포의 x에서 +0.5\n",
    "n_result = norm.cdf(zstat2) - norm.cdf(zstat1)\n",
    "\n",
    "# 결과값이 근사한 것을 볼 수 있다.\n",
    "print(f\"이항분포: {round(b_result, 3)}, 정규분포: {round(n_result, 3)}\")"
   ]
  },
  {
   "cell_type": "markdown",
   "metadata": {
    "id": "ZciSz-KSvl_7"
   },
   "source": [
    "- 이항분포의 포아송분포 근사"
   ]
  },
  {
   "cell_type": "code",
   "execution_count": 7,
   "metadata": {
    "colab": {
     "base_uri": "https://localhost:8080/"
    },
    "executionInfo": {
     "elapsed": 4,
     "status": "ok",
     "timestamp": 1713268569801,
     "user": {
      "displayName": "김민수",
      "userId": "04980821268576496984"
     },
     "user_tz": -540
    },
    "id": "yFqd10PXvl_7",
    "outputId": "51ab415a-4196-44ac-f5a6-396ee60b5c00"
   },
   "outputs": [
    {
     "name": "stdout",
     "output_type": "stream",
     "text": [
      "이항분포: 0.017, 포아송분포: 0.018\n"
     ]
    }
   ],
   "source": [
    "from scipy.stats import poisson\n",
    "\n",
    "x, n, p = 10, 100, 0.05\n",
    "b_result= binom.pmf(x, n, p)\n",
    "\n",
    "E=n*p\n",
    "p_result = poisson.pmf(x, E)\n",
    "\n",
    "# 결과값이 근사한 것을 볼 수 있다.\n",
    "print(f\"이항분포: {round(b_result, 3)}, 포아송분포: {round(p_result, 3)}\")"
   ]
  },
  {
   "cell_type": "markdown",
   "metadata": {
    "id": "_xZndWoovl_8"
   },
   "source": [
    "### 음이항분포 (Negative binomial distribution)\n",
    "- 성공의 확률이 p인 베르누이 시행을 독립적으로 반복 시행할 때 k번 성공할 때까지의 시행횟수를 확률변수 X로 하는 경우 (1)과 k번 성공할 때까지의 실패횟수를 확률변수 X로 하는 경우 (2)의 확률변수 X는 모두 k, p를 모수로 갖는 음이항분포를 따른다.\n",
    "\n",
    "$$ X \\sim NB(k,p)$$"
   ]
  },
  {
   "cell_type": "markdown",
   "metadata": {
    "id": "kj6d_m3rvl_8"
   },
   "source": [
    "- 음이항분포의 X는 셀 수 있지만 값이 무한한 무한확률변수이다. 음이항분포에서 k=1이면, 음이항분포는 기하분포가 된다.\n",
    "- 음이항분포는 확률변수 X를 (1) 시행횟수로 놓거나, (2) 실패횟수로 정할 수 있다.\n",
    "- 일반적으로 분석자들은 (1)번에 관심을 갖는다. 확률변수 X에 따라 해당 분포의 확률질량함수, 기댓값, 분산은 아래와 같다."
   ]
  },
  {
   "cell_type": "markdown",
   "metadata": {
    "id": "qBXLfl17vl_8"
   },
   "source": [
    "- (1) 확률변수 X = 시행횟수\n",
    "    - $f(x) =  {(x-1) \\choose (k-1)}{p^k}{(1-p)}^{(x-k)}, x=k, k+1, ...,\\ \\ k>0 $\n",
    "    - $E(X) = k/p$\n",
    "    - $Var(X) = k(1-p)/p^2$\n",
    "    \n",
    "- (2) 확률변수 X = 실패횟수\n",
    "    - $f(x) = {(x+k-1)\\choose(k-1)}{p^k}{(1-p)^x}, x=0, 1, 2, ... ,\\ \\ k>0$\n",
    "    - $E(X) = k(1-p)/p$\n",
    "    - $Var(X) = k(1-p)/p^2$"
   ]
  },
  {
   "cell_type": "markdown",
   "metadata": {
    "id": "4U5hBsj1vl_9"
   },
   "source": [
    "- (예) A가 승리할 확률이 0.3일 때, 5번 경기를 치르는 상황"
   ]
  },
  {
   "cell_type": "code",
   "execution_count": 8,
   "metadata": {
    "colab": {
     "base_uri": "https://localhost:8080/"
    },
    "executionInfo": {
     "elapsed": 427,
     "status": "ok",
     "timestamp": 1713268679512,
     "user": {
      "displayName": "김민수",
      "userId": "04980821268576496984"
     },
     "user_tz": -540
    },
    "id": "wB6EuSjIvl_9",
    "outputId": "97404a51-9d0b-4dc5-dda5-1dde362f7588"
   },
   "outputs": [
    {
     "name": "stdout",
     "output_type": "stream",
     "text": [
      "[수기] 해당 분포의 기댓값은: 4.667, 분산은 15.556\n",
      "[라이브러리] 해당 분포의 기댓값은 4.666666666666667, 분산은 15.555555555555555\n",
      "--------------------------------------------------\n",
      "확률질량함수 계산하기: 5번째 경기에서 2번째로 이길 확률은?\n",
      "[수기] 확률질량함수(pmf): 0.123\n",
      "[라이브러리] 확률질량함수(pmf): 0.123\n",
      "--------------------------------------------------\n",
      "누적확률질량함수 계산하기: 2번째 이하로 이길 확률은?\n",
      "[수기] 누적확률질량함수(cdf): 0.472\n",
      "[라이브러리] 누적확률질량함수(cdf): 0.472\n"
     ]
    }
   ],
   "source": [
    "from scipy.stats import nbinom\n",
    "\n",
    "# combination 함수 정의\n",
    "fac = np.math.factorial\n",
    "def combi(a, b):\n",
    "    result = fac(a) / fac(b) / fac(a-b)\n",
    "    return result\n",
    "\n",
    "n = 5   # 총 시행횟수\n",
    "k = 2   # 총 성공횟수\n",
    "p = 0.3 # 성공확률\n",
    "q = 1-p # 실패확률\n",
    "\n",
    "case = 2\n",
    "\n",
    "if case == 1: # 확률변수 X가 k번 성공할 때까지의 시행횟수 x인 경우\n",
    "    x = n # 확률변수\n",
    "    E = k / p\n",
    "    V = k*q / p**2\n",
    "\n",
    "    pmf = combi(x-1, k-1) * p**k * q**(x-k)\n",
    "    E2, V2 = np.nan, np.nan # 라이브러리 지원 안함\n",
    "    pkg_pmf, pkg_cdf = np.nan, np.nan # 라이브러리 지원 안함\n",
    "\n",
    "    cdf = 0\n",
    "    for i in range(k, x+1): # 확률변수의 확률값들을 합함\n",
    "        cdf += combi(i-1, k-1) * p**k * q**(i-k)\n",
    "\n",
    "elif case == 2: # 확률변수 X가 k번 성공할 때까지의 실패횟수 x인 경우\n",
    "    x = n-k # 확률변수\n",
    "    E = k*q / p\n",
    "    V = k*q / p**2\n",
    "    pmf = combi(x+k-1, k-1) * p**k * q**(x)\n",
    "    E2, V2 = nbinom.stats(k, p)\n",
    "    pkg_pmf, pkg_cdf = nbinom.pmf(x, k, p), nbinom.cdf(x, k, p)\n",
    "\n",
    "    cdf = 0\n",
    "    for i in range(x+1): # 확률변수의 확률값들을 합함\n",
    "        cdf += nbinom.pmf(i, k, p)\n",
    "\n",
    "# 기댓값과 분산 계산하기\n",
    "print(f\"[수기] 해당 분포의 기댓값은: {round(E, 3)}, 분산은 {round(V, 3)}\")\n",
    "print(f\"[라이브러리] 해당 분포의 기댓값은 {E2}, 분산은 {V2}\")\n",
    "print(\"-\"*50)\n",
    "\n",
    "# 확률질량함수 계산하기\n",
    "print(\"확률질량함수 계산하기: 5번째 경기에서 2번째로 이길 확률은?\")\n",
    "print(f\"[수기] 확률질량함수(pmf): {round(pmf, 3)}\")\n",
    "print(f\"[라이브러리] 확률질량함수(pmf): {round(pkg_pmf, 3)}\")\n",
    "print(\"-\"*50)\n",
    "\n",
    "print(\"누적확률질량함수 계산하기: 2번째 이하로 이길 확률은?\")\n",
    "print(f\"[수기] 누적확률질량함수(cdf): {round(cdf, 3)}\")\n",
    "print(f\"[라이브러리] 누적확률질량함수(cdf): {round(pkg_cdf, 3)}\")"
   ]
  },
  {
   "cell_type": "markdown",
   "metadata": {
    "id": "TrH_6JJivl_-"
   },
   "source": [
    "### 기하분포 (Geometric distribution)\n",
    "- 성공의 확률이 p인 베르누이 시행을 처음으로 성공할 때까지의 시행횟수를 확률변수 X라 하는 경우(1)과 처음 성공할 때까지의 실패횟수를 확률변수 X라 하는 경우(2)의 확률변수 X는 성공확률 p를 모수로 가지는 기하분포를 따른다.\n",
    "$$X \\sim G(p)$$"
   ]
  },
  {
   "cell_type": "markdown",
   "metadata": {
    "id": "cBCZMSTxvl_-"
   },
   "source": [
    "- 기하분포의 X는 셀 수 있지만 값이 무한한 무한확률변수이다. 기하분포는 이산확률분포 중에서 유일하게 무기억성의 성질을 가진다.\n",
    "- 무기억성이란 실패를 많이 했다고 해서 실패가 앞으로 성공할 가능성에 영향을 미치지 않는다는 성질이다.\n",
    "- 기하분포는 확률변수 X를 (1) 시행횟수로 놓거나, (2) 실패횟수로 정할 수 있다.\n",
    "- 일반적으로 분석자들은 (1)에 관심을 가진다.\n",
    "- 확률변수 X에 따라 해당 분포의 확률질량함수, 기댓값, 분산은 아래와 같다."
   ]
  },
  {
   "cell_type": "markdown",
   "metadata": {
    "id": "B0oUEFjBvl_-"
   },
   "source": [
    "- (1) 확률변수 X = 시행횟수\n",
    "    - $f(x) =  p(1-p)^{x-1},\\ x=1, 2, 3,...$\n",
    "    - $E(X) = 1/p$\n",
    "    - $Var(X) = (1-p)/p^2$\n",
    "    \n",
    "- (2) 확률변수 X = 실패횟수\n",
    "    - $f(x) = p(1-p)^x, x=0, 1, 2, ...$\n",
    "    - $E(X) = (1-p)/p$\n",
    "    - $Var(X) = (1-p)/p^2$"
   ]
  },
  {
   "cell_type": "markdown",
   "metadata": {
    "id": "oz58A_lcvl__"
   },
   "source": [
    "- (예) 하나의 주사위를 세 번 던질 때 세번째 시행에서 앞면 숫자가 6이 나올 확률은?"
   ]
  },
  {
   "cell_type": "code",
   "execution_count": 9,
   "metadata": {
    "executionInfo": {
     "elapsed": 408,
     "status": "ok",
     "timestamp": 1713268725382,
     "user": {
      "displayName": "김민수",
      "userId": "04980821268576496984"
     },
     "user_tz": -540
    },
    "id": "kIBkZ9OVvl__"
   },
   "outputs": [],
   "source": [
    "from scipy.stats import geom\n",
    "\n",
    "n = 3 # 총 시행횟수\n",
    "p = 1/6 # 성공확률\n",
    "q = 1-p # 실패확률\n",
    "\n",
    "case = 1\n",
    "\n",
    "if case == 1: # 확률변수 X가 처음으로 성공할 때까지의 시행횟수 x인 경우\n",
    "    x = n # **확률변수\n",
    "    E = 1 / p\n",
    "    V = q / p**2\n",
    "    pmf = q**(x-1) * p\n",
    "\n",
    "    E2, V2 = geom.stats(p, moments='mv') # mean, variance\n",
    "    pkg_pmf, pkg_cdf = geom.pmf(x, p), geom.cdf(x, p)\n",
    "    cdf = 0\n",
    "    for i in range(1, x+1): # 확률변수의 확률값들을 합함\n",
    "        cdf += q**(i-1) * p\n",
    "\n",
    "elif case == 2: # 확률변수 X가 처음으로 성공할 때까지의 실패횟수 x인 경우\n",
    "    x = n-1 # **확률변수\n",
    "    E = q / p\n",
    "    V = q / p**2\n",
    "    pmf = q**x * p\n",
    "    E2, V2 = np.nan, np.nan # 라이브러리 지원 안 함\n",
    "    pkg_pmf, pkg_cdf = np.nan, np.nan # 라이브러리 지원 안 함\n",
    "    cdf = 0\n",
    "    for i in range(x+1): # 확률변수의 확률값들을 합함\n",
    "        cdf += q**i * p"
   ]
  },
  {
   "cell_type": "code",
   "execution_count": 10,
   "metadata": {
    "colab": {
     "base_uri": "https://localhost:8080/"
    },
    "executionInfo": {
     "elapsed": 379,
     "status": "ok",
     "timestamp": 1713268734087,
     "user": {
      "displayName": "김민수",
      "userId": "04980821268576496984"
     },
     "user_tz": -540
    },
    "id": "z-EwzufQvl__",
    "outputId": "129bf5fc-36a1-413e-823a-e9bb80f61338"
   },
   "outputs": [
    {
     "name": "stdout",
     "output_type": "stream",
     "text": [
      "[수기] 해당 분포의 기댓값은 6.000, 분산은 30.000\n",
      "[라이브러리] 해당 분포의 기댓값은 6.000, 분산은 30.000 \n",
      "\n",
      "[수기] 확률질량함수(pmf):  0.11574074074074076\n",
      "[라이브러리] 확률질량함수(pmf):  0.11574074074074076 \n",
      "\n",
      "[수기] 누적확률질량함수(cdf):  0.42129629629629634\n",
      "[라이브러리] 누적확률질량함수(cdf):  0.4212962962962962\n"
     ]
    }
   ],
   "source": [
    "# 기댓값과 분산 계산하기\n",
    "print(\"[수기] 해당 분포의 기댓값은 {:.3f}, 분산은 {:.3f}\".format(E, V))\n",
    "print(\"[라이브러리] 해당 분포의 기댓값은 {:.3f}, 분산은 {:.3f}\".format(E2, V2), '\\n')\n",
    "\n",
    "# 확률질량함수 계산하기\n",
    "print(\"[수기] 확률질량함수(pmf): \", pmf)\n",
    "print(\"[라이브러리] 확률질량함수(pmf): \", pkg_pmf, '\\n')\n",
    "\n",
    "# 누적확률질량함수 계산하기: 2번째 이하로 이길 확률은?\n",
    "print(\"[수기] 누적확률질량함수(cdf): \", cdf)\n",
    "print(\"[라이브러리] 누적확률질량함수(cdf): \", pkg_cdf)"
   ]
  },
  {
   "cell_type": "markdown",
   "metadata": {
    "id": "4QlNg029vmAA"
   },
   "source": [
    "### 초기하분포 (Hypergeometric distribution)\n",
    "- 크기 N의 유한모집단 중 크기 n의 확률표본을 뽑은 경우, N개 중 K개는 성공으로, 나머지 (N-k)개는 실패로 분류하여 비복원으로 뽑을 때\n",
    "- 성공 횟수를 X라 하면, 확률변수 X는 N, k, n을 모수로 갖는 초기하분포를 따른다고 한다.\n",
    "$$ X \\sim HG(N,k,n)$$"
   ]
  },
  {
   "cell_type": "markdown",
   "metadata": {
    "id": "szeHpRc3vmAB"
   },
   "source": [
    "- 첫 시도 결과에 따라 시도들이 달라지는 종속 관계가 있는 경우 해당 분포를 따른다.\n",
    "- 초기하분포는 모집단의 크기 N이 충분히 큰 경우, n개 시행 중 성공확률이 k/N인 이항분포 $B(n, k/N)$로 근사한다."
   ]
  },
  {
   "cell_type": "markdown",
   "metadata": {
    "id": "lNBv4aJgvmAC"
   },
   "source": [
    "- 해당 분포의 확률질량함수, 기댓값, 분산을 구하는 공식은 아래와 같다.\n",
    "- $f(x) = \\frac{{k \\choose x}{(N-k) \\choose (n-x)}}{N \\choose n}, x=0, 1, ..., n$\n",
    "- $E(X) = nk/N$\n",
    "- $Var(X) = \\frac{nk}{N} \\frac{(N-k)}{N} \\frac{N-n}{N-1}$"
   ]
  },
  {
   "cell_type": "markdown",
   "metadata": {
    "id": "zlUETkJAvmAC"
   },
   "source": [
    "- (예) 상자 속에 빨간 공이 90개 파란공이 10개 들어있다. 임의로 1개씩 두 번 꺼내고 다시 넣지 않을 때 1개가 파란 공이 될 확률은?"
   ]
  },
  {
   "cell_type": "code",
   "execution_count": 11,
   "metadata": {
    "id": "IvduRcZCvmAD"
   },
   "outputs": [],
   "source": [
    "from scipy.stats import hypergeom\n",
    "\n",
    "# combination 함수 정의\n",
    "fac = np.math.factorial\n",
    "def combi(a, b):\n",
    "    result = fac(a) / fac(b) / fac(a-b)\n",
    "    return result\n",
    "\n",
    "N = 100 # 모집단 수 (총 공 개수)\n",
    "k = 10 # 성공요소 수 (총 파란공 개수)\n",
    "n = 2 # 시행횟수 (공 선택 횟수)\n",
    "x = 1 # 확인하고자 하는 사건 (1개 파란공) ** 확률변수\n",
    "P = k/N # 모비율"
   ]
  },
  {
   "cell_type": "code",
   "execution_count": 12,
   "metadata": {
    "id": "hlz3jfjsvmAD",
    "outputId": "8677c162-9e5a-4a04-9ec3-7152f27f932b"
   },
   "outputs": [
    {
     "name": "stdout",
     "output_type": "stream",
     "text": [
      "[수기] 해당 분포의 기댓값은 0.200, 분산은 0.178\n",
      "[라이브러리] 해당 분포의 기댓값은 0.200, 분산은 0.178 \n",
      "\n",
      "[수기] 해당 분포의 확률질량함수(pmf): 0.182\n",
      "[라이브러리] 해당 분포의 확률질량함수(pmf): 0.182 \n",
      "\n",
      "[수기] 해당 분포의 누적확률질량함수(cdf): 0.991\n",
      "[라이브러리] 해당 분포의 누적확률질량함수(cdf): 0.991\n"
     ]
    }
   ],
   "source": [
    "# 기댓값과 분산 계산하기\n",
    "E = n*P\n",
    "V = n*P*(1-P)*((N-n)/(N-1))\n",
    "print(\"[수기] 해당 분포의 기댓값은 {:.3f}, 분산은 {:.3f}\".format(E, V))\n",
    "E2, V2 = hypergeom.stats(N, k, n)\n",
    "print(\"[라이브러리] 해당 분포의 기댓값은 {:.3f}, 분산은 {:.3f}\".format(E2, V2), '\\n')\n",
    "\n",
    "# 확률질량함수 계산하기\n",
    "pmf = combi(k,x)*combi(N-k, n-x)/combi(N, n)\n",
    "print(\"[수기] 해당 분포의 확률질량함수(pmf): %.3f\" %(pmf))\n",
    "print(\"[라이브러리] 해당 분포의 확률질량함수(pmf): %.3f\" %(hypergeom.pmf(x, N, k, n)), '\\n')\n",
    "\n",
    "# 누적확률질량함수 계산하기: 파란공을 1개 이하로 선택할 확률은?\n",
    "cdf = 0\n",
    "for i in range(0,x+1): # 확률변수의 확률값들을 합함\n",
    "    cdf += hypergeom.pmf(i, N, k, n)\n",
    "print(\"[수기] 해당 분포의 누적확률질량함수(cdf): %.3f\" %cdf)\n",
    "print(\"[라이브러리] 해당 분포의 누적확률질량함수(cdf): %.3f\" %(hypergeom.cdf(x, N, k, n)))"
   ]
  },
  {
   "cell_type": "markdown",
   "metadata": {
    "id": "6-WZcc4ovmAE"
   },
   "source": [
    "- 초기하분포의 이항분포 근사"
   ]
  },
  {
   "cell_type": "code",
   "execution_count": 13,
   "metadata": {
    "id": "thXhXR6svmAE",
    "outputId": "8eb90515-705b-4c2f-d83c-686aa3ce9dc6"
   },
   "outputs": [
    {
     "name": "stdout",
     "output_type": "stream",
     "text": [
      "초기하분포로 계산하면 0.182 이항분포로 근사계산하면 0.180\n"
     ]
    }
   ],
   "source": [
    "# 초기하 분포의 이항분포 근사\n",
    "from scipy.stats import norm\n",
    "\n",
    "b_result = binom.pmf(x, n, k/N)\n",
    "h_result = hypergeom.pmf(x, N, k, n)\n",
    "print(\"초기하분포로 계산하면 {:.3f} 이항분포로 근사계산하면 {:.3f}\".format(h_result,b_result))\n",
    "# 결과값이 근사한 것을 볼 수 있다."
   ]
  },
  {
   "cell_type": "markdown",
   "metadata": {
    "id": "lbpLisurvmAF"
   },
   "source": [
    "### 포아송분포 (Poisson distribution)\n",
    "- 단위시간, 단위면적 또는 단위공간 내에서 발생하는 어떤 사건의 횟수를 확률변수 X라고 할 때\n",
    "    - 확률변수 X는 $\\lambda$(Lambda, 단위 시간/면적/공간 내에서 발생하는 사건의 평균값)를 모수로 가지는 포아송 분포를 따른다고 한다.\n",
    "    \n",
    "    $$X \\sim  P(\\lambda)$$"
   ]
  },
  {
   "cell_type": "markdown",
   "metadata": {
    "id": "z8XmqTWevmAG"
   },
   "source": [
    "- 포아송 분포의 확률변수 X는 셀 수는 있지만 값이 무한한 무한확률변수이다.\n",
    "- 또한, 단위 시간/공간에서 발생하는 사건의 횟수는 다른 시간/공간에 대해서 독립이며 평균출현횟수는 일정하다.\n",
    "- 포아송분포는 $\\lambda >= 5$일 때 정규분포에 근사하고 $\\lambda < 5$ 일 때 왼쪽으로 치우치고 오른쪽으로 긴 꼬리가 있는 비대칭 분포를 가진다."
   ]
  },
  {
   "cell_type": "markdown",
   "metadata": {
    "id": "kfzlKxqUvmAG"
   },
   "source": [
    "- 해당 분포의 확률질량함수, 기댓값, 분산을 구하는 공식은 아래와 같다.\n",
    "- $f(x) = \\frac{e^{-\\lambda}\\lambda^x}{x!}, x=0, 1, 2, ...$\n",
    "- $E(X) = \\lambda$\n",
    "- $Var(X) = \\lambda$"
   ]
  },
  {
   "cell_type": "markdown",
   "metadata": {
    "id": "9jJ8B66yvmAG"
   },
   "source": [
    "- (예) 주말 저녁 시간당 평균 6명이 응급실에 올 경우 어떤 주말 저녁 30분 내 4명이 도착할 확률은?"
   ]
  },
  {
   "cell_type": "code",
   "execution_count": 14,
   "metadata": {
    "id": "dxE58qv9vmAH",
    "outputId": "4ebe8e2d-bbde-4945-e059-85d6d15c5102"
   },
   "outputs": [
    {
     "name": "stdout",
     "output_type": "stream",
     "text": [
      "[수기] 해당 분포의 기댓값은 3.000, 분산은 3.000\n",
      "[라이브러리] 해당 분포의 기댓값은 3.000, 분산은 3.000 \n",
      "\n",
      "[수기] 해당 분포의 확률질량함수(pmf): 0.168\n",
      "[라이브러리] 해당 분포의 확률질량함수(pmf): 0.168 \n",
      "\n",
      "[수기] 해당 분포의 누적확률질량함수(cdf): 0.815\n",
      "[라이브러리] 해당 분포의 누적확률질량함수(cdf): 0.815\n"
     ]
    }
   ],
   "source": [
    "from scipy.stats import poisson\n",
    "\n",
    "x = 4 # 구간 내 사건 횟수 **확률변수\n",
    "lam = 3  # 단위 시간 내 평균(=lambda)\n",
    "\n",
    "# 기댓값과 분산 계산하기\n",
    "E = lam\n",
    "V = lam\n",
    "print(\"[수기] 해당 분포의 기댓값은 {:.3f}, 분산은 {:.3f}\".format(E, V))\n",
    "E2, V2 = poisson.stats(lam, moments='mv')\n",
    "print(\"[라이브러리] 해당 분포의 기댓값은 {:.3f}, 분산은 {:.3f}\".format(E2, V2), '\\n')\n",
    "\n",
    "# 확률질량함수 계산하기\n",
    "pmf = lam**x * np.exp(-lam)/np.math.factorial(x)\n",
    "print(\"[수기] 해당 분포의 확률질량함수(pmf): %.3f\" %(pmf))\n",
    "print(\"[라이브러리] 해당 분포의 확률질량함수(pmf): %.3f\" %(poisson.pmf(x, lam)), '\\n')\n",
    "\n",
    "# 누적확률질량함수 계산하기: 4명 이하로 도착할 확률은?\n",
    "cdf = 0\n",
    "for i in range(0,x+1): # 확률변수의 확률값들을 합함\n",
    "    cdf += poisson.pmf(i, lam)\n",
    "print(\"[수기] 해당 분포의 누적확률질량함수(cdf): %.3f\" %cdf)\n",
    "print(\"[라이브러리] 해당 분포의 누적확률질량함수(cdf): %.3f\" %(poisson.cdf(x, lam)))"
   ]
  },
  {
   "cell_type": "markdown",
   "metadata": {
    "id": "w-zkeYbCvmAH"
   },
   "source": [
    "- 포아송 분포의 정규분포 근사"
   ]
  },
  {
   "cell_type": "code",
   "execution_count": 15,
   "metadata": {
    "id": "GoGWzeoevmAH",
    "outputId": "321d211e-6ff9-422e-f6e3-8f330c649f28"
   },
   "outputs": [
    {
     "name": "stdout",
     "output_type": "stream",
     "text": [
      "포아송 분포: 0.006, 정규분포: 0.007\n"
     ]
    }
   ],
   "source": [
    "from scipy.stats import norm\n",
    "\n",
    "X = 10\n",
    "lambd = 20\n",
    "E=V=lambd\n",
    "\n",
    "# 포아송 분포의 표준편차\n",
    "sigma = np.sqrt(V)\n",
    "\n",
    "# 포아송 분포 (X - 0.5 - lambda) / sigma\n",
    "zstat1 = (X - 0.5 - lambd) / sigma\n",
    "\n",
    "# 포아송 분포 (X + 0.5 - lambda) / sigma\n",
    "zstat2 = (X + 0.5 - lambd) / sigma\n",
    "\n",
    "n_result = norm.cdf(zstat2) - norm.cdf(zstat1)\n",
    "p_result = poisson.pmf(X, lambd)\n",
    "\n",
    "# 결과값이 근사한 것을 볼 수 있다.\n",
    "print(f\"포아송 분포: {round(p_result, 3)}, 정규분포: {round(n_result, 3)}\")"
   ]
  },
  {
   "cell_type": "markdown",
   "metadata": {
    "id": "9sTtwt72vmAI"
   },
   "source": [
    "## 4-2. 특수한 연속형 확률분포들"
   ]
  },
  {
   "cell_type": "markdown",
   "metadata": {
    "id": "Zn4h4VFXvmAI"
   },
   "source": [
    "### 균일분포 (Uniform distribution)\n",
    "- 일반적으로 구간(a, b)에서 확률변수 X가 균일하게 분포되어 있다면, 확률변수 X는 구간(a, b)에서 균일분포를 따른다고 한다.\n",
    "\n",
    "$$ X \\sim U(a, b)$$\n",
    "\n",
    "- 해당 분포의 확률밀도함수, 기댓값, 분산을 구하는 공식은 아래와 같다.\n",
    "- $f(x) = 1/(b-a), a<x<b$\n",
    "- $E(X) = (a+b)/2$\n",
    "- $Var(X) = (b-a)^2/12$"
   ]
  },
  {
   "cell_type": "markdown",
   "metadata": {
    "id": "pCVFR0DovmAI"
   },
   "source": [
    "- (예) 확률변수 X가 (5, 15)에서 균일분포를 따를 때 12와 15사이의 확률은?"
   ]
  },
  {
   "cell_type": "code",
   "execution_count": 16,
   "metadata": {
    "id": "zZ5Qu8bMvmAJ",
    "outputId": "7ec12270-788e-4ab4-d00a-fb2a884d86ad"
   },
   "outputs": [
    {
     "name": "stdout",
     "output_type": "stream",
     "text": [
      "범위 내 누적확률은 0.3\n",
      "해당 분포의 기댓값은 10.0, 분산은 8.333\n"
     ]
    }
   ],
   "source": [
    "a, b = 5, 15 # 확률변수의 범위\n",
    "range_ = [(12, 15)]\n",
    "\n",
    "p = 1 / (b-a) # 확률밀도함수\n",
    "\n",
    "cdf = 0\n",
    "for (x1, x2) in range_:\n",
    "    cdf += (x2-x1) * p # 누적분포함수\n",
    "\n",
    "E = (b+a) / 2\n",
    "V = (b-a)**2 / 12\n",
    "\n",
    "print(f\"범위 내 누적확률은 {round(cdf, 3)}\")\n",
    "print(f\"해당 분포의 기댓값은 {round(E, 3)}, 분산은 {round(V, 3)}\")"
   ]
  },
  {
   "cell_type": "markdown",
   "metadata": {
    "id": "ql9VjJ27vmAJ"
   },
   "source": [
    "- (예) 버스가 오전 7시부터 15분 간격으로 정류장을 출발한다. 한 승객이 이 정류장에 도착하는 시간은 7시에서 7시 30분 사이에 균등분포를 따른다고 할 때 이 승객이 버스를 5분 미만 기다릴 확률은?"
   ]
  },
  {
   "cell_type": "code",
   "execution_count": 17,
   "metadata": {
    "id": "OHaM9PSFvmAJ",
    "outputId": "bd106d14-5fb0-4b4b-a9b8-62bfb3a35b21"
   },
   "outputs": [
    {
     "name": "stdout",
     "output_type": "stream",
     "text": [
      "범위 내 누적확률은 0.333\n",
      "해당 분포의 기댓값은 15.0, 분산은 75.0\n"
     ]
    }
   ],
   "source": [
    "a, b = 0, 30 # 확률변수의 범위\n",
    "\n",
    "# 승객이 버스를 5분 미만으로 기다릴 구간: 7시 10분 ~ 7시 15분, 7시 25분 ~ 7시 30분\n",
    "range_ = [(10, 15), (25, 30)]\n",
    "p = 1 / (b-a)\n",
    "\n",
    "cdf = 0\n",
    "for (x1, x2) in range_:\n",
    "    cdf += (x2-x1) * p # 누적분포 함수\n",
    "\n",
    "E = (b+a) / 2\n",
    "V = (b-a) ** 2 / 12\n",
    "\n",
    "print(f\"범위 내 누적확률은 {round(cdf, 3)}\")\n",
    "print(f\"해당 분포의 기댓값은 {round(E, 3)}, 분산은 {round(V, 3)}\")"
   ]
  },
  {
   "cell_type": "markdown",
   "metadata": {
    "id": "AIp0m8HrvmAK"
   },
   "source": [
    "### 정규분포 (Normal distribution)와 표준정규분포 (Standard Normal Distribution)\n",
    "- 정규분포에서 평균 $\\mu$는 곡선의 중심위치를 결정하고, 표준편차 $\\sigma$는 그 곡선의 퍼진 정도를 결정한다.\n",
    "- 확률변수 X가 모수 $\\mu, \\sigma$를 갖는 정규분포를 따른다고 한다.\n",
    "\n",
    "$$ X \\sim N(\\mu, \\sigma^2)$$"
   ]
  },
  {
   "cell_type": "markdown",
   "metadata": {
    "id": "-exqZZHkvmAK"
   },
   "source": [
    "- 정규분포의 왜도는 0이며, 첨도는 3이다.\n",
    "- 정규분포의 양측꼬리는 x축에 닿지 않고 무한대로 간다.\n",
    "- 정규분포의 곡선 모양은 평균과 분산에 의해 결정된다.\n",
    "- 정규분포는 평균에 대해 좌우대칭이다.\n",
    "- 해당 분포의 확률밀도함수, 기댓값, 분산을 구하는 공식은 아래와 같다.\n",
    "\n",
    "- $f(x) = \\frac{1}{\\sqrt{2\\pi\\sigma}}e^{-\\frac{1}{2}(\\frac{x-\\mu}{\\sigma})^2},\\ \\ -\\infty<x<\\infty$\n",
    "- $E(X) = \\mu$\n",
    "- $Var(X) = \\sigma^2$"
   ]
  },
  {
   "cell_type": "markdown",
   "metadata": {
    "id": "XELr72WevmAK"
   },
   "source": [
    "- 정규분포는 연속확률분포이므로 확률은 정규곡선 밑의 면적으로 주어진다.\n",
    "- 하지만 정규확률밀도함수의 면적을 계산하는 것이 복잡하므로 평균과 표준편차를 이용하여 X를 표준화한 후 구한다.\n",
    "- 표준화(standardize)란, 확률변수 X에 대해 $Z=(X-\\mu)/\\sigma$로 변환시키는 것을 뜻하고, 표준화 확률변수 Z는 평균 0과 표준편차 1인 표준정규분포를 따른다.\n",
    "\n",
    "$$ Z \\sim N(0, 1)$$"
   ]
  },
  {
   "cell_type": "markdown",
   "metadata": {
    "id": "IbhUARyZvmAL"
   },
   "source": [
    "- 해당 분포의 확률밀도함수, 기댓값, 분산을 구하는 공식은 아래와 같다.\n",
    "- $f(z) = \\frac{1}{\\sqrt{2\\pi}}e^{\\frac{z^2}{2}}, \\ \\ -\\infty < z < \\infty$\n",
    "- $E(Z) = 0$\n",
    "- $Var(Z) = 1$"
   ]
  },
  {
   "cell_type": "markdown",
   "metadata": {
    "id": "tGUn3lDMvmAL"
   },
   "source": [
    "- (예) 확률변수 X가 정규분포 N(30, 64)를 따를 때 26~46 구간의 확률은?"
   ]
  },
  {
   "cell_type": "code",
   "execution_count": 18,
   "metadata": {
    "id": "BAVcLg3wvmAL",
    "outputId": "d32dccec-8fd9-4a14-d237-f36a447b164d"
   },
   "outputs": [
    {
     "name": "stdout",
     "output_type": "stream",
     "text": [
      "[수기] 범위 내 누적확률은 0.669\n",
      "[수기] 해당 분포의 기댓값은 30.000, 분산은 64.000\n"
     ]
    }
   ],
   "source": [
    "from scipy.stats import norm #표준정규분포\n",
    "\n",
    "E = 30 # 평균\n",
    "V = 64\n",
    "S = np.sqrt(V) # 표준편차\n",
    "x1 = 26\n",
    "x2 = 46\n",
    "zstat1 = (x1-E)/S #표준화\n",
    "zstat2 = (x2-E)/S #표준화\n",
    "cdf = norm.cdf(zstat2) - norm.cdf(zstat1)\n",
    "print(\"[수기] 범위 내 누적확률은 {:.3f}\".format(cdf))\n",
    "print(\"[수기] 해당 분포의 기댓값은 {:.3f}, 분산은 {:.3f}\".format(E, V))"
   ]
  },
  {
   "cell_type": "markdown",
   "metadata": {
    "id": "7OE5h-vwvmAL"
   },
   "source": [
    "- (예) 확률변수 X가 표준정규분포를 따를 때 -1.96 ~ 1.96 구간의 확률은?"
   ]
  },
  {
   "cell_type": "code",
   "execution_count": 19,
   "metadata": {
    "id": "PYQLfGu9vmAM",
    "outputId": "e1807a49-6352-485e-da4d-f4693b17df9e"
   },
   "outputs": [
    {
     "name": "stdout",
     "output_type": "stream",
     "text": [
      "[수기] 범위 내 누적확률은 0.950\n",
      "[수기] 해당 분포의 기댓값은 0.000, 분산은 1.000\n"
     ]
    }
   ],
   "source": [
    "E = 0 # 평균\n",
    "V = 1\n",
    "S = np.sqrt(V) # 표준편차\n",
    "zstat1 = -1.96\n",
    "zstat2 = 1.96\n",
    "cdf = norm.cdf(zstat2) - norm.cdf(zstat1)\n",
    "\n",
    "print(\"[수기] 범위 내 누적확률은 {:.3f}\".format(cdf))\n",
    "print(\"[수기] 해당 분포의 기댓값은 {:.3f}, 분산은 {:.3f}\".format(E, V))"
   ]
  },
  {
   "cell_type": "markdown",
   "metadata": {
    "id": "h4abss9hvmAM"
   },
   "source": [
    "### 지수분포 (Exponential distribution)\n",
    "- 포아송 분포가 단위시간 내에서 발생하는 어떤 사건의 횟수의 분포인 반면, 지수분포는 한 번의 사건이 발생할 때까지의 소요되는 시간의 분포이다.\n",
    "- 지수분포는 어떤 사건이 포아송 분포에 의해서 발생될 때 지정된 시점으로부터 이 사건이 일어날 때까지 걸린 시간을 측정하는 확률분포로 확률변수 X는 한 번의 사건이 발생할 때까지 소요되는 시간이고 $\\lambda$는 단위시간 동안에 평균적으로 발생한 사건의 횟수이다.\n",
    "- 확률변수 X가 모수 $\\lambda$를 가지는 지수분포를 따를 때 다음과 같이 표현한다.\n",
    "\n",
    "$$ X \\sim \\ \\epsilon (\\lambda)$$"
   ]
  },
  {
   "cell_type": "markdown",
   "metadata": {
    "id": "3qr5Kv8PvmAM"
   },
   "source": [
    "- 지수분포는 연속확률분포 중에서 유일하게 무기억성의 성질을 가진다.\n",
    "- 지수분포에서 무기억성이란, 예를 들어 어떤 전구 제품이 지수분포를 따른다면 앞으로 남은 전구의 수명은 지금까지 사용한 시간과 무관하다는 의미이다.\n",
    "- 지수 분포는 오른쪽 꼬리 모양을 가지며 왜도는 2이다.\n",
    "- 해당 분포의 확률밀도함수, 기댓값, 분산을 구하는 공식은 다음과 같다.\n",
    "- $f(x) = \\lambda e^{-\\lambda x}, x>0, \\lambda >0$\n",
    "- $E(X) = 1/\\lambda$\n",
    "- $Var(X) = 1/\\lambda^2$"
   ]
  },
  {
   "cell_type": "markdown",
   "metadata": {
    "id": "Zf3F9ZevvmAM"
   },
   "source": [
    "- (예)  자동차들 사이 시간 간격이 평균 3분인 지수확률 분포를 따르는 경우, 연속한 두 대의 차량이 도착하는 시간이 2분 이내일 확률은?"
   ]
  },
  {
   "cell_type": "code",
   "execution_count": 20,
   "metadata": {
    "id": "5MXoAIOhvmAN",
    "outputId": "c8aa0f7c-944a-48c5-e46f-781461fcb4f1"
   },
   "outputs": [
    {
     "name": "stdout",
     "output_type": "stream",
     "text": [
      "[수기] 누적확률은 0.487\n",
      "[수기] 해당 분포의 기댓값은 3.000, 분산은 9.000\n"
     ]
    }
   ],
   "source": [
    "# 지수분포\n",
    "from scipy.stats import expon\n",
    "\n",
    "lam = 1/3 # lambda: 단위시간 동안 평균적으로 발생한 사건 = 3분동안 1건, 1분동안 1/3건\n",
    "x = 2 # 사건이 일어날 때까지 걸린 시간\n",
    "\n",
    "E = 1/lam\n",
    "V = 1/(lam**2)\n",
    "\n",
    "# scale에 1/lam을 입력해주어야 함\n",
    "cdf = expon.cdf(x, scale = 1/lam)\n",
    "\n",
    "print(\"[수기] 누적확률은 {:.3f}\".format(cdf))\n",
    "print(\"[수기] 해당 분포의 기댓값은 {:.3f}, 분산은 {:.3f}\".format(E, V))"
   ]
  },
  {
   "cell_type": "markdown",
   "metadata": {
    "id": "BVmwOVv4vmAN"
   },
   "source": [
    "### 감마분포 (Gamma distribution)\n",
    "- 포아송 분포는 주어진 단위시간 동안 어떤 사건의 출현횟수를 나타내는 분포이며, 지수분포는 첫 번째 사건이 발생할 때까지의 대기시간 분포이다.\n",
    "- 이 개념을 확장하여 감마분포(Gamma distribution)는 $\\alpha$번의 사건이 발생할 때까지의 대기시간 분포이다.\n",
    "- 즉, 지수분포의 일반화된 형태이다.\n",
    "- 확률변수 X가 모수 $\\alpha, \\beta$를 갖는 감마분포를 따를 때 다음과 같이 표현한다.\n",
    "\n",
    "$$ X \\sim \\Gamma (\\alpha, \\beta)$$"
   ]
  },
  {
   "cell_type": "markdown",
   "metadata": {
    "id": "gv1smQCpvmAN"
   },
   "source": [
    "- 감마분포에서 $\\alpha=1$인 경우 $\\beta=1/\\lambda$인 지수분포가 된다.\n",
    "- 해당 분포의 확률밀도함수, 기댓값, 분산을 구하는 공식은 다음과 같다.\n",
    "- $f(x) = \\frac{1}{\\Gamma(\\alpha)\\beta^\\alpha}x^{\\alpha-1}e^{-\\frac{x}{\\beta}}, x>0,\\alpha>0,\\beta>0 $\n",
    "- $E(X) = \\alpha\\beta = \\alpha/\\lambda$\n",
    "- $Var(X) = \\alpha\\beta^2 = \\alpha/\\lambda^2$"
   ]
  },
  {
   "cell_type": "markdown",
   "metadata": {
    "id": "jE9j-1sLvmAO"
   },
   "source": [
    "- (예) 낚시를 하는데 어부가 물고기를 30분에 한 마리씩 잡는다. 어부가 4마리의 물고기를 잡을 때까지 걸리는 시간이 1시간에서 3시간 사이로 소요될 확률은?"
   ]
  },
  {
   "cell_type": "code",
   "execution_count": 21,
   "metadata": {
    "id": "0qzbUkl2vmAO",
    "outputId": "3e3661fa-c399-4a31-bce3-85e692ccaeed"
   },
   "outputs": [
    {
     "name": "stdout",
     "output_type": "stream",
     "text": [
      "[수기] 누적확률은 0.706\n",
      "[수기] 해당 분포의 기댓값은 2.000, 분산은 1.000\n"
     ]
    }
   ],
   "source": [
    "from scipy.stats import gamma\n",
    "\n",
    "lam = 2 # lambda: 30분에 한마리 = 1시간에 두마리 잡음\n",
    "beta = 1/lam\n",
    "alpha = 4 # 4마리의 물고기\n",
    "E = alpha * beta\n",
    "V = alpha * beta**2\n",
    "range_ = (1, 3) #1시간~3시간\n",
    "\n",
    "# scale에 beta를 입력해주어야 함\n",
    "cdf = gamma.cdf(range_[1], alpha, scale=beta) - gamma.cdf(range_[0], alpha, scale=beta)\n",
    "\n",
    "print(\"[수기] 누적확률은 {:.3f}\".format(cdf))\n",
    "print(\"[수기] 해당 분포의 기댓값은 {:.3f}, 분산은 {:.3f}\".format(E, V))"
   ]
  },
  {
   "cell_type": "markdown",
   "metadata": {
    "id": "5QcZdbHEvmAO"
   },
   "source": [
    "- (예) 배송 시간이 alpha = 20, lambda = 1.6인 감마분포를 따를 때, 20개 철판을 배송할 때 걸리는 시간이 15분 이내일 확률은?"
   ]
  },
  {
   "cell_type": "code",
   "execution_count": 22,
   "metadata": {
    "id": "s1DimmzpvmAP",
    "outputId": "9c681478-e360-4183-e22e-c3c3961b8cf8"
   },
   "outputs": [
    {
     "name": "stdout",
     "output_type": "stream",
     "text": [
      "[수기] 누적확률은 0.820\n",
      "[수기] 해당 분포의 기댓값은 12.500, 분산은 7.812\n"
     ]
    }
   ],
   "source": [
    "lam = 1.6 # lambda\n",
    "beta = 1/lam\n",
    "alpha = 20\n",
    "E = alpha * beta\n",
    "V = alpha * beta**2\n",
    "range_ = (0, 15)\n",
    "\n",
    "# scale에 beta를 입력해주어야 함\n",
    "cdf = gamma.cdf(range_[1], alpha, scale=beta) - gamma.cdf(range_[0], alpha, scale=beta)\n",
    "\n",
    "print(\"[수기] 누적확률은 {:.3f}\".format(cdf))\n",
    "print(\"[수기] 해당 분포의 기댓값은 {:.3f}, 분산은 {:.3f}\".format(E, V))"
   ]
  },
  {
   "cell_type": "markdown",
   "metadata": {
    "id": "9ngUFyq_vmAP"
   },
   "source": [
    "### 카이제곱분포 (Chi-sqaure distribution)\n",
    "- 카이제곱분포는 감마분포의 특수한 경우로서 $\\alpha=n/2, \\beta=2$인 경우를 자유도(Degree of freedom) n인 카이제곱분포라고 한다.\n",
    "- 카이제곱분포는 모집단이 정규분포인 대표본에서 모분산 $\\sigma^2$을 추정/검정하거나, 비모수 검정 중에서 범주형 변수들에 대한 적합도 검정(Goodness of fit test), 독립성 검정(Test of independence), 동질성 검정(Test of homogeneity)을 하는데 사용한다.\n",
    "- 확률변수 X가 자유도 n인 카이제곱분포를 따를 때 다음과 같이 표현한다.\n",
    "\n",
    "$$ X \\sim \\chi^2_{(n)}$$"
   ]
  },
  {
   "cell_type": "markdown",
   "metadata": {
    "id": "rH8B_aT1vmAP"
   },
   "source": [
    "- 해당 분포의 확률밀도함수, 기댓값, 분산을 구하는 공식은 다음과 같으며, 통계량 계산을 포함한 상세한 예제는 <5. 추정과 가설 검정>에서 다루도록 한다.\n",
    "\n",
    "- $f(x) = \\frac{1}{\\Gamma (\\frac{n}{2})2^{\\frac{n}{2}}}x^{{\\frac{n}{2}-1}}e^{-\\frac{x}{2}}, x>0, n>0$\n",
    "- $E(X) = n$\n",
    "- $Var(X) = 2n$"
   ]
  },
  {
   "cell_type": "markdown",
   "metadata": {
    "id": "OKuFylebvmAQ"
   },
   "source": [
    "### t분포 (t-distribution)\n",
    "- 표본 평균을 표본 분산으로 표준화한 값이 따르는 확률분포를 t분포라고 한다. Student's t-distribution라고도 한다.\n",
    "- 주로 모분산을 모르는 상황에서 표본 평균을 추정/검정할 때 사용한다.\n",
    "- t분포는 자유도가 증가할수록 표준정규분포에 수렴하며, 주로 30개 이하의 소표본에 사용한다.\n",
    "- 확률변수 X가 자유도 k인 t분포를 따를 때 다음과 같이 표현한다.\n",
    "\n",
    "$$ X \\sim t_{(k)} $$"
   ]
  },
  {
   "cell_type": "markdown",
   "metadata": {
    "id": "uKZqUxyPvmAQ"
   },
   "source": [
    "- 해당 분포의 확률밀도함수, 기댓값, 분산을 구하는 공식은 다음과 같으며, 통계량 계산을 포함한 상세한 예제는 <5. 추정과 가설 검정>에서 다루도록 한다.\n",
    "- $f(x) = \\frac{\\Gamma(\\frac{k+1}{2})}{\\Gamma(\\frac{k}{2})\\sqrt{\\pi k}}(1+ \\frac{x^2}{k})^{- \\frac{k+1}{2}}, -\\infty < x < \\infty $\n",
    "- $E(X) = 0$\n",
    "- $Var(X) = k/(k-2), k>2$"
   ]
  },
  {
   "cell_type": "markdown",
   "metadata": {
    "id": "HVfDb5W3vmAQ"
   },
   "source": [
    "### F분포 (F-distribution)\n",
    "- F분포는 두 모집단의 모분산 비의 추정/검정과 세집단 이상의 모평균 비교에 주로 사용한다. Fisher-Snedecor distribution이라고도 한다.\n",
    "- 확률변수 X가 자유도 (m, n)인 F분포를 따를 때 다음과 같이 표현한다.\n",
    "\n",
    "$$ X \\sim F_{(m, n)} $$"
   ]
  },
  {
   "cell_type": "markdown",
   "metadata": {
    "id": "J-whOSkxvmAQ"
   },
   "source": [
    "- 한편, 확률변수 X가 $F_{(m, n)}$을 따를 때 확률변수 1/X은 $F_{(n, m)}$을 따른다."
   ]
  },
  {
   "cell_type": "markdown",
   "metadata": {
    "id": "4SBghSkwvmAQ"
   },
   "source": [
    "- 해당 분포의 기댓값, 분산을 구하는 공식은 다음과 같으며, 통계량 계산을 포함한 상세한 예제는 <5. 추정과 가설 검정>에서 다루도록 한다.\n",
    "- $f(x) = \\frac{\\Gamma(\\frac{m+n}{2})(\\frac{m}{n})^{\\frac{m}{2}}}{\\Gamma(\\frac{m}{2})\\Gamma(\\frac{n}{2})} \\cdot \\frac{x^{\\frac{m}{2}-1}}{(1+\\frac{m}{n}x)^{\\frac{m+n}{2}}}, \\ x > 0$\n",
    "- $f(x) = 0,\\ \\ x <= 0$\n",
    "- $E(X) = n/(n-2), \\ n>2$\n",
    "- $Var(X) = \\frac{2n^2(m+n-2)}{m(n-2)^2(n-4)}, \\ n>4$"
   ]
  },
  {
   "cell_type": "markdown",
   "metadata": {
    "id": "88wcAc4CvmAR"
   },
   "source": [
    "## 연습문제"
   ]
  },
  {
   "cell_type": "markdown",
   "metadata": {
    "id": "ftqshSvZvmAR"
   },
   "source": [
    "#### 1.\n",
    "- 어느 권총 사격 선수가 과녁의 정중앙을 맞힐 확률이 80%라고 한다.\n",
    "- 이 선수가 총 5번의 사격을 할 때 평균적으로 몇 번 정중앙을 맞히는지 구하시오."
   ]
  },
  {
   "cell_type": "code",
   "execution_count": 23,
   "metadata": {
    "id": "mzhmzVy1vmAR",
    "outputId": "451a978d-3e43-4211-ee92-0c4ea004c978"
   },
   "outputs": [
    {
     "name": "stdout",
     "output_type": "stream",
     "text": [
      "[라이브러리 계산] 4.00\n",
      "[수기 계산] 4.00\n"
     ]
    }
   ],
   "source": [
    "p = 0.8\n",
    "q = 1-p\n",
    "n = 5\n",
    "\n",
    "from scipy.stats import binom\n",
    "E, V = binom.stats(n, p)\n",
    "print(\"[라이브러리 계산] {:.2f}\".format(E))\n",
    "\n",
    "a = n*p\n",
    "print(\"[수기 계산] {:.2f}\".format(a))\n",
    "\n",
    "# 이항분포 X ~ B(n, p), E(X)=np, V(X)=npq 에서 기댓값을 구하는 문제이다. 정답은 4"
   ]
  },
  {
   "cell_type": "markdown",
   "metadata": {
    "id": "7NdmyzlsvmAR"
   },
   "source": [
    "#### 2.\n",
    "- 전체 청소년의 40%가 11시 이전에 잠을 잔다고 한다면, 임의로 선택한 10명의 청소년 중에서 3명이 11시 이전에 잠을 잘 확률을 계산하시오.\n",
    "- (소수점 첫째자리까지 반올림)"
   ]
  },
  {
   "cell_type": "code",
   "execution_count": 24,
   "metadata": {
    "id": "fcHsMzlkvmAS",
    "outputId": "42bd831d-04b4-4130-ab41-3b9c638795c8"
   },
   "outputs": [
    {
     "name": "stdout",
     "output_type": "stream",
     "text": [
      "[라이브러리 계산] 0.2150\n",
      "[수기 계산] 0.2150\n"
     ]
    }
   ],
   "source": [
    "p = 0.4\n",
    "q = 1-p\n",
    "n = 10\n",
    "x = 3\n",
    "\n",
    "from scipy.stats import binom\n",
    "print(\"[라이브러리 계산] {:.4f}\".format(binom.pmf(x, n, p)))\n",
    "\n",
    "from numpy import math\n",
    "fac = math.factorial\n",
    "def combi(a, b): #aCb\n",
    "    return fac(a)/fac(b)/fac(a-b)\n",
    "print(\"[수기 계산] {:.4f}\".format(combi(n, x) * p**(x) * (1-p)**(n-x)))\n",
    "\n",
    "# 이항분포의 특정 확률변수 x에 대한 확률질량함수를 구하는 문제이다. 정답은 21.5%"
   ]
  },
  {
   "cell_type": "markdown",
   "metadata": {
    "id": "LN_55-dgvmAS"
   },
   "source": [
    "#### 3.\n",
    "- 어느 아파트 단지에서 밤 11시부터 새벽 2시 사이에 배달되는 음식 배달 건수는 시간당 평균 5건이다.\n",
    "- 음식 배달 건수의 분포가 포아송분포를 따른다면 오늘 새벽 12시와 1시 사이에 배달이 1건만 발생할 확률을 구하시오.\n",
    "- (소수점 둘째자리까지 반올림)"
   ]
  },
  {
   "cell_type": "code",
   "execution_count": 25,
   "metadata": {
    "id": "PdOkxgMevmAS",
    "outputId": "16e8d21b-650a-4a78-908c-02cdd27bec54"
   },
   "outputs": [
    {
     "name": "stdout",
     "output_type": "stream",
     "text": [
      "0.0337\n",
      "0.0337\n"
     ]
    }
   ],
   "source": [
    "lam = 5\n",
    "x = 1\n",
    "import numpy as np\n",
    "pmf = lam**x * np.exp(-lam)/np.math.factorial(x)\n",
    "print(\"{:.4f}\".format(pmf))\n",
    "\n",
    "from scipy.stats import poisson\n",
    "print(\"{:.4f}\".format(poisson.pmf(x, lam)))\n",
    "# 포아송 분포의 특정 확률변수 x에 대한 확률질량함수를 구하는 문제이다. 정답은 3.37%"
   ]
  },
  {
   "cell_type": "markdown",
   "metadata": {
    "id": "_lZvxLHhvmAS"
   },
   "source": [
    "#### 4.\n",
    "- A대학교 B전공 시험의 성적 분포는 평균이 65, 표준편차 12인 정규분포를 따른다고 한다.\n",
    "- 최고 점수부터 10%까지를 A+로 분류한다면, A+를 받기 위해 최소 몇 점을 받아야 하는가?"
   ]
  },
  {
   "cell_type": "code",
   "execution_count": 26,
   "metadata": {
    "id": "qok_u13SvmAT",
    "outputId": "d20053c9-ea9f-457e-c649-9f278bdf67e4"
   },
   "outputs": [
    {
     "data": {
      "text/plain": [
       "80.38"
      ]
     },
     "execution_count": 26,
     "metadata": {},
     "output_type": "execute_result"
    }
   ],
   "source": [
    "mu = 65\n",
    "sigma = 12\n",
    "\n",
    "from scipy.stats import norm\n",
    "z = norm.ppf(1-0.1)\n",
    "x = z * sigma + mu\n",
    "round(x, 2)\n",
    "# 정규분포 X ~ N(mu, sigma^2)를 표준정규분포 Z ~ N(0, 1)로 표준화하여 x를 구하는 문제이다. 표준화 공식은 z = (x - mu) / sigma이다. 정답: 81점"
   ]
  }
 ],
 "metadata": {
  "colab": {
   "provenance": []
  },
  "kernelspec": {
   "display_name": "Python 3",
   "language": "python",
   "name": "python3"
  },
  "language_info": {
   "codemirror_mode": {
    "name": "ipython",
    "version": 3
   },
   "file_extension": ".py",
   "mimetype": "text/x-python",
   "name": "python",
   "nbconvert_exporter": "python",
   "pygments_lexer": "ipython3",
   "version": "3.7.0"
  }
 },
 "nbformat": 4,
 "nbformat_minor": 1
}
