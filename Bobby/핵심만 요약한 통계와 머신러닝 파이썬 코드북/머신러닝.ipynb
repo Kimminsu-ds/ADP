{
 "cells": [
  {
   "cell_type": "markdown",
   "metadata": {},
   "source": [
    "# Project: 제32회 ADP 실기 대비 - 핵심만 요약한 통계와 머신러닝 파이썬 코드북"
   ]
  },
  {
   "cell_type": "markdown",
   "metadata": {},
   "source": [
    "# 1장. 탐색적 데이터 분석(EDA)\n",
    "- EDA는 본격적으로 데이터를 분석하기에 앞서 데이터를 대략적으로 파악하기 위해 진행한다.\n",
    "- 데이터 내 변수의 종류가 질적변수(Qualitative variable)인지 양적변수(Quantitative variable)인지에 따라 데이터를 탐색하는 방법이 다르다.\n",
    "- 질적변수는 명목척도(예: 성별, 국가)와 서열척도(예: 학년, 등급)에 해당하는 개념이며, 도수분포표, 상대도수분포표, 상관계수, 막대 그래프, 파이 그래프 등으로 탐색한다.\n",
    "- 양적변수는 실수와 정수로 표현되는 수치형 데이터로서 등간척도(예: 온도, 시간)와 비율척도(예: 몸무게, 가격)에 해당하는 개념이며, 도수분포표, 상대도수분포표, 대푯값, 산포도, 왜도, 첨도, 상관계수, 줄기잎그림, 히스토그램, 오자이브, 상자그림, 산점도 등으로 탐색한다."
   ]
  },
  {
   "cell_type": "markdown",
   "metadata": {},
   "source": [
    "## 1-1. 공통"
   ]
  },
  {
   "cell_type": "markdown",
   "metadata": {},
   "source": [
    "### 데이터 불러오기\n",
    "- pandas의 read_csv를 통해 csv 파일을 데이터프레임의 형태로 불러올 수 있는데, 이를 print로 출력해보면 데이터의 내용을 확인할 수 있다.\n",
    "- 예제에서는 데이터의 앞 2개 행만 출력하였다. \n",
    "- 변수들을 살펴보면, PassengerId(승객고유번호), Survived(생존여부, 1=생존, 0=사망), Pclass(티켓 클래스, 1=1st, 2=2nd, 3=3rd), Name, Sex, Ticket(티켓 번호), Cabin(객실번호), Embarked(승선항, C=Cherbourg, Q=Queenstown, S=Southampton)는 질적변수로 볼 수 있고, Age, SibSp(동승한 형제자매 및 배우자의 수), Parch(동승한 부모 및 자녀의 수), Fare는 양적변수로 판단할 수 있다."
   ]
  },
  {
   "cell_type": "code",
   "execution_count": 1,
   "metadata": {},
   "outputs": [
    {
     "data": {
      "text/html": [
       "<div>\n",
       "<style scoped>\n",
       "    .dataframe tbody tr th:only-of-type {\n",
       "        vertical-align: middle;\n",
       "    }\n",
       "\n",
       "    .dataframe tbody tr th {\n",
       "        vertical-align: top;\n",
       "    }\n",
       "\n",
       "    .dataframe thead th {\n",
       "        text-align: right;\n",
       "    }\n",
       "</style>\n",
       "<table border=\"1\" class=\"dataframe\">\n",
       "  <thead>\n",
       "    <tr style=\"text-align: right;\">\n",
       "      <th></th>\n",
       "      <th>PassengerId</th>\n",
       "      <th>Survived</th>\n",
       "      <th>Pclass</th>\n",
       "      <th>Name</th>\n",
       "      <th>Sex</th>\n",
       "      <th>Age</th>\n",
       "      <th>SibSp</th>\n",
       "      <th>Parch</th>\n",
       "      <th>Ticket</th>\n",
       "      <th>Fare</th>\n",
       "      <th>Cabin</th>\n",
       "      <th>Embarked</th>\n",
       "    </tr>\n",
       "  </thead>\n",
       "  <tbody>\n",
       "    <tr>\n",
       "      <th>0</th>\n",
       "      <td>1</td>\n",
       "      <td>0</td>\n",
       "      <td>3</td>\n",
       "      <td>Braund, Mr. Owen Harris</td>\n",
       "      <td>male</td>\n",
       "      <td>22.0</td>\n",
       "      <td>1</td>\n",
       "      <td>0</td>\n",
       "      <td>A/5 21171</td>\n",
       "      <td>7.2500</td>\n",
       "      <td>NaN</td>\n",
       "      <td>S</td>\n",
       "    </tr>\n",
       "    <tr>\n",
       "      <th>1</th>\n",
       "      <td>2</td>\n",
       "      <td>1</td>\n",
       "      <td>1</td>\n",
       "      <td>Cumings, Mrs. John Bradley (Florence Briggs Th...</td>\n",
       "      <td>female</td>\n",
       "      <td>38.0</td>\n",
       "      <td>1</td>\n",
       "      <td>0</td>\n",
       "      <td>PC 17599</td>\n",
       "      <td>71.2833</td>\n",
       "      <td>C85</td>\n",
       "      <td>C</td>\n",
       "    </tr>\n",
       "  </tbody>\n",
       "</table>\n",
       "</div>"
      ],
      "text/plain": [
       "   PassengerId  Survived  Pclass  \\\n",
       "0            1         0       3   \n",
       "1            2         1       1   \n",
       "\n",
       "                                                Name     Sex   Age  SibSp  \\\n",
       "0                            Braund, Mr. Owen Harris    male  22.0      1   \n",
       "1  Cumings, Mrs. John Bradley (Florence Briggs Th...  female  38.0      1   \n",
       "\n",
       "   Parch     Ticket     Fare Cabin Embarked  \n",
       "0      0  A/5 21171   7.2500   NaN        S  \n",
       "1      0   PC 17599  71.2833   C85        C  "
      ]
     },
     "execution_count": 1,
     "metadata": {},
     "output_type": "execute_result"
    }
   ],
   "source": [
    "import pandas as pd\n",
    "\n",
    "titanic = pd.read_csv(\"https://raw.githubusercontent.com/algoboni/pythoncodebook1-1/main/1-1_titanic.csv\")\n",
    "titanic.head(2)"
   ]
  },
  {
   "cell_type": "markdown",
   "metadata": {},
   "source": [
    "### 데이터 기본 정보 확인\n",
    "- 데이터프레임 객체에 **`info()`**를 함으로써 변수별 결측치의 개수와 데이터 타입을 확인할 수 있다.\n",
    "- 먼저, 결측치를 살펴보면 Age, Cabin, Embarked는 결측치가 있는 것으로 확인된다."
   ]
  },
  {
   "cell_type": "code",
   "execution_count": 2,
   "metadata": {},
   "outputs": [
    {
     "name": "stdout",
     "output_type": "stream",
     "text": [
      "<class 'pandas.core.frame.DataFrame'>\n",
      "RangeIndex: 891 entries, 0 to 890\n",
      "Data columns (total 12 columns):\n",
      " #   Column       Non-Null Count  Dtype  \n",
      "---  ------       --------------  -----  \n",
      " 0   PassengerId  891 non-null    int64  \n",
      " 1   Survived     891 non-null    int64  \n",
      " 2   Pclass       891 non-null    int64  \n",
      " 3   Name         891 non-null    object \n",
      " 4   Sex          891 non-null    object \n",
      " 5   Age          714 non-null    float64\n",
      " 6   SibSp        891 non-null    int64  \n",
      " 7   Parch        891 non-null    int64  \n",
      " 8   Ticket       891 non-null    object \n",
      " 9   Fare         891 non-null    float64\n",
      " 10  Cabin        204 non-null    object \n",
      " 11  Embarked     889 non-null    object \n",
      "dtypes: float64(2), int64(5), object(5)\n",
      "memory usage: 83.7+ KB\n"
     ]
    }
   ],
   "source": [
    "titanic.info()"
   ]
  },
  {
   "cell_type": "markdown",
   "metadata": {},
   "source": [
    "- Cabin은 결측치가 과반수 이상이기 때문에 특성을 삭제하기로 하며, 이와 더불어 결측치는 없지만 수치적 의미가 없는 것으로 보이는 PassengerId도 삭제한다."
   ]
  },
  {
   "cell_type": "code",
   "execution_count": 3,
   "metadata": {},
   "outputs": [],
   "source": [
    "titanic.drop(['Cabin', 'PassengerId'], axis=1, inplace=True)"
   ]
  },
  {
   "cell_type": "markdown",
   "metadata": {},
   "source": [
    "- Age와 Embarked의 결측치는 별도의 처리를 통해 보충할 수 있는데,이 부분은 <2-1. 결측치 처리>에서 자세히 다루기로 한다.\n",
    "- 다음으로 변수별 데이터 타입을 살펴보면, 수치로 표현된 데이터의 타입은 int64(정수), float64(실수)로, 텍스트로 표현된 데이터의 타입은 object로 되어있는 것을 알 수 있다.\n",
    "- 질적변수임에도 불구하고 양적변수로 표현된 Survived, Pclass와 나머지 질적변수들의 데이터 타입은 아래와 같이 category 타입으로 변경할 수 있다."
   ]
  },
  {
   "cell_type": "code",
   "execution_count": 4,
   "metadata": {},
   "outputs": [
    {
     "name": "stdout",
     "output_type": "stream",
     "text": [
      "<class 'pandas.core.frame.DataFrame'>\n",
      "RangeIndex: 891 entries, 0 to 890\n",
      "Data columns (total 10 columns):\n",
      " #   Column    Non-Null Count  Dtype   \n",
      "---  ------    --------------  -----   \n",
      " 0   Survived  891 non-null    category\n",
      " 1   Pclass    891 non-null    category\n",
      " 2   Name      891 non-null    category\n",
      " 3   Sex       891 non-null    category\n",
      " 4   Age       714 non-null    float64 \n",
      " 5   SibSp     891 non-null    int64   \n",
      " 6   Parch     891 non-null    int64   \n",
      " 7   Ticket    891 non-null    category\n",
      " 8   Fare      891 non-null    float64 \n",
      " 9   Embarked  889 non-null    category\n",
      "dtypes: category(6), float64(2), int64(2)\n",
      "memory usage: 107.6 KB\n"
     ]
    }
   ],
   "source": [
    "qual = ['Survived', 'Pclass', 'Name', 'Sex', 'Ticket', 'Embarked']\n",
    "quan = ['Age', 'SibSp', 'Parch', 'Fare']\n",
    "\n",
    "for col in qual:\n",
    "    titanic[col] = titanic[col].astype('category')\n",
    "    \n",
    "titanic.info()"
   ]
  },
  {
   "cell_type": "markdown",
   "metadata": {},
   "source": [
    "### 기술통계\n",
    "- 데이터프레임 객체에 **`describe()`**를 함으로써 각 데이터 타입 별로 데이터의 기술 통계를 확인할 수 있다.\n",
    "- 질적변수에 대해서는 count(데이터 개수), unique(범주형 변수의 level의 개수), top(빈도가 가장 높은 level), freq(top level의 빈도)라는 정보를 제공한다.\n",
    "- 예를 들어, Embarked라는 질적변수는 889개의 데이터를 가지고 있고, 3개의 level을 가지고 있으며 그 중 빈도가 가장 높은 level은 S인데 그 빈도는 644개라는 의미이다."
   ]
  },
  {
   "cell_type": "markdown",
   "metadata": {},
   "source": [
    "- 양적변수는 count(데이터 개수), mean(평균), std(표준편차), min(최솟값), 25%(1사분위수), 50%(2사분위수 혹은 중앙값), 75%(3사분위수), max(최댓값)라는 정보를 제공한다.\n",
    "- 예를 들어, Age라는 양적변수는 데이터 개수가 714개이고, 평균은 29.69살이며 표준편차는 14.52살이고, 나이의 최솟값은 0.42살이고, 최댓값은 80살인데 1, 2, 3사분위수는 차례로 20.12, 28, 38살이라는 뜻이다.\n",
    "- **`describe()`**의 파라미터 **`include`**를 'all'로 설정하면 모든 데이터 타입의 변수에 대해 기술 통계를 제공하고,  include=['float64', 'int64']와 같이 특정 데이터 타입의 리스트를 입력하면 해당 데이터 타입에 대한 기술 통계만 확인할 수 있다."
   ]
  },
  {
   "cell_type": "code",
   "execution_count": 5,
   "metadata": {},
   "outputs": [
    {
     "data": {
      "text/html": [
       "<div>\n",
       "<style scoped>\n",
       "    .dataframe tbody tr th:only-of-type {\n",
       "        vertical-align: middle;\n",
       "    }\n",
       "\n",
       "    .dataframe tbody tr th {\n",
       "        vertical-align: top;\n",
       "    }\n",
       "\n",
       "    .dataframe thead th {\n",
       "        text-align: right;\n",
       "    }\n",
       "</style>\n",
       "<table border=\"1\" class=\"dataframe\">\n",
       "  <thead>\n",
       "    <tr style=\"text-align: right;\">\n",
       "      <th></th>\n",
       "      <th>Age</th>\n",
       "      <th>SibSp</th>\n",
       "      <th>Parch</th>\n",
       "      <th>Fare</th>\n",
       "    </tr>\n",
       "  </thead>\n",
       "  <tbody>\n",
       "    <tr>\n",
       "      <th>count</th>\n",
       "      <td>714.000000</td>\n",
       "      <td>891.000000</td>\n",
       "      <td>891.000000</td>\n",
       "      <td>891.000000</td>\n",
       "    </tr>\n",
       "    <tr>\n",
       "      <th>mean</th>\n",
       "      <td>29.699118</td>\n",
       "      <td>0.523008</td>\n",
       "      <td>0.381594</td>\n",
       "      <td>32.204208</td>\n",
       "    </tr>\n",
       "    <tr>\n",
       "      <th>std</th>\n",
       "      <td>14.526497</td>\n",
       "      <td>1.102743</td>\n",
       "      <td>0.806057</td>\n",
       "      <td>49.693429</td>\n",
       "    </tr>\n",
       "    <tr>\n",
       "      <th>min</th>\n",
       "      <td>0.420000</td>\n",
       "      <td>0.000000</td>\n",
       "      <td>0.000000</td>\n",
       "      <td>0.000000</td>\n",
       "    </tr>\n",
       "    <tr>\n",
       "      <th>25%</th>\n",
       "      <td>20.125000</td>\n",
       "      <td>0.000000</td>\n",
       "      <td>0.000000</td>\n",
       "      <td>7.910400</td>\n",
       "    </tr>\n",
       "    <tr>\n",
       "      <th>50%</th>\n",
       "      <td>28.000000</td>\n",
       "      <td>0.000000</td>\n",
       "      <td>0.000000</td>\n",
       "      <td>14.454200</td>\n",
       "    </tr>\n",
       "    <tr>\n",
       "      <th>75%</th>\n",
       "      <td>38.000000</td>\n",
       "      <td>1.000000</td>\n",
       "      <td>0.000000</td>\n",
       "      <td>31.000000</td>\n",
       "    </tr>\n",
       "    <tr>\n",
       "      <th>max</th>\n",
       "      <td>80.000000</td>\n",
       "      <td>8.000000</td>\n",
       "      <td>6.000000</td>\n",
       "      <td>512.329200</td>\n",
       "    </tr>\n",
       "  </tbody>\n",
       "</table>\n",
       "</div>"
      ],
      "text/plain": [
       "              Age       SibSp       Parch        Fare\n",
       "count  714.000000  891.000000  891.000000  891.000000\n",
       "mean    29.699118    0.523008    0.381594   32.204208\n",
       "std     14.526497    1.102743    0.806057   49.693429\n",
       "min      0.420000    0.000000    0.000000    0.000000\n",
       "25%     20.125000    0.000000    0.000000    7.910400\n",
       "50%     28.000000    0.000000    0.000000   14.454200\n",
       "75%     38.000000    1.000000    0.000000   31.000000\n",
       "max     80.000000    8.000000    6.000000  512.329200"
      ]
     },
     "execution_count": 5,
     "metadata": {},
     "output_type": "execute_result"
    }
   ],
   "source": [
    "titanic.describe(include=['float64', 'int64'])"
   ]
  },
  {
   "cell_type": "markdown",
   "metadata": {},
   "source": [
    "- 한편, 질적변수 중 Ticket은 681개라는 과도한 level을 가지고 있는 것을 확인하였고, 질적변수로서 분석할 의미가 없다고 판단하여 분석에서 삭제하기로 한다."
   ]
  },
  {
   "cell_type": "code",
   "execution_count": 6,
   "metadata": {},
   "outputs": [
    {
     "data": {
      "text/html": [
       "<div>\n",
       "<style scoped>\n",
       "    .dataframe tbody tr th:only-of-type {\n",
       "        vertical-align: middle;\n",
       "    }\n",
       "\n",
       "    .dataframe tbody tr th {\n",
       "        vertical-align: top;\n",
       "    }\n",
       "\n",
       "    .dataframe thead th {\n",
       "        text-align: right;\n",
       "    }\n",
       "</style>\n",
       "<table border=\"1\" class=\"dataframe\">\n",
       "  <thead>\n",
       "    <tr style=\"text-align: right;\">\n",
       "      <th></th>\n",
       "      <th>Survived</th>\n",
       "      <th>Pclass</th>\n",
       "      <th>Name</th>\n",
       "      <th>Sex</th>\n",
       "      <th>Ticket</th>\n",
       "      <th>Embarked</th>\n",
       "    </tr>\n",
       "  </thead>\n",
       "  <tbody>\n",
       "    <tr>\n",
       "      <th>count</th>\n",
       "      <td>891</td>\n",
       "      <td>891</td>\n",
       "      <td>891</td>\n",
       "      <td>891</td>\n",
       "      <td>891</td>\n",
       "      <td>889</td>\n",
       "    </tr>\n",
       "    <tr>\n",
       "      <th>unique</th>\n",
       "      <td>2</td>\n",
       "      <td>3</td>\n",
       "      <td>891</td>\n",
       "      <td>2</td>\n",
       "      <td>681</td>\n",
       "      <td>3</td>\n",
       "    </tr>\n",
       "    <tr>\n",
       "      <th>top</th>\n",
       "      <td>0</td>\n",
       "      <td>3</td>\n",
       "      <td>van Melkebeke, Mr. Philemon</td>\n",
       "      <td>male</td>\n",
       "      <td>CA. 2343</td>\n",
       "      <td>S</td>\n",
       "    </tr>\n",
       "    <tr>\n",
       "      <th>freq</th>\n",
       "      <td>549</td>\n",
       "      <td>491</td>\n",
       "      <td>1</td>\n",
       "      <td>577</td>\n",
       "      <td>7</td>\n",
       "      <td>644</td>\n",
       "    </tr>\n",
       "  </tbody>\n",
       "</table>\n",
       "</div>"
      ],
      "text/plain": [
       "        Survived  Pclass                         Name   Sex    Ticket Embarked\n",
       "count        891     891                          891   891       891      889\n",
       "unique         2       3                          891     2       681        3\n",
       "top            0       3  van Melkebeke, Mr. Philemon  male  CA. 2343        S\n",
       "freq         549     491                            1   577         7      644"
      ]
     },
     "execution_count": 6,
     "metadata": {},
     "output_type": "execute_result"
    }
   ],
   "source": [
    "titanic.describe(include=['category'])"
   ]
  },
  {
   "cell_type": "markdown",
   "metadata": {},
   "source": [
    "## 1-2. 질적변수"
   ]
  },
  {
   "cell_type": "markdown",
   "metadata": {},
   "source": [
    "### 도수분포표, 상대도수분포표\n",
    "- 질적변수의 데이터들은 **`value_counts(), DataFrame()`**을 사용해서 도수분포표, 상대도수분포표로 나타낼 수 있다.\n",
    "- 특히, value_counts를 사용할 때 normalize=True를 적용하여 간단하게 상대도수를 계산할 수 있다. 다음은 변수 Survived의 예제이다."
   ]
  },
  {
   "cell_type": "code",
   "execution_count": 7,
   "metadata": {},
   "outputs": [
    {
     "data": {
      "text/html": [
       "<div>\n",
       "<style scoped>\n",
       "    .dataframe tbody tr th:only-of-type {\n",
       "        vertical-align: middle;\n",
       "    }\n",
       "\n",
       "    .dataframe tbody tr th {\n",
       "        vertical-align: top;\n",
       "    }\n",
       "\n",
       "    .dataframe thead th {\n",
       "        text-align: right;\n",
       "    }\n",
       "</style>\n",
       "<table border=\"1\" class=\"dataframe\">\n",
       "  <thead>\n",
       "    <tr style=\"text-align: right;\">\n",
       "      <th></th>\n",
       "      <th>Survived</th>\n",
       "    </tr>\n",
       "  </thead>\n",
       "  <tbody>\n",
       "    <tr>\n",
       "      <th>0</th>\n",
       "      <td>549</td>\n",
       "    </tr>\n",
       "    <tr>\n",
       "      <th>1</th>\n",
       "      <td>342</td>\n",
       "    </tr>\n",
       "  </tbody>\n",
       "</table>\n",
       "</div>"
      ],
      "text/plain": [
       "   Survived\n",
       "0       549\n",
       "1       342"
      ]
     },
     "execution_count": 7,
     "metadata": {},
     "output_type": "execute_result"
    }
   ],
   "source": [
    "freq = pd.DataFrame(titanic['Survived'].value_counts())\n",
    "freq"
   ]
  },
  {
   "cell_type": "markdown",
   "metadata": {},
   "source": [
    "#### 상대도수분포표 추가"
   ]
  },
  {
   "cell_type": "code",
   "execution_count": 8,
   "metadata": {},
   "outputs": [
    {
     "data": {
      "text/html": [
       "<div>\n",
       "<style scoped>\n",
       "    .dataframe tbody tr th:only-of-type {\n",
       "        vertical-align: middle;\n",
       "    }\n",
       "\n",
       "    .dataframe tbody tr th {\n",
       "        vertical-align: top;\n",
       "    }\n",
       "\n",
       "    .dataframe thead th {\n",
       "        text-align: right;\n",
       "    }\n",
       "</style>\n",
       "<table border=\"1\" class=\"dataframe\">\n",
       "  <thead>\n",
       "    <tr style=\"text-align: right;\">\n",
       "      <th></th>\n",
       "      <th>도수</th>\n",
       "      <th>상대도수분포표</th>\n",
       "    </tr>\n",
       "  </thead>\n",
       "  <tbody>\n",
       "    <tr>\n",
       "      <th>0</th>\n",
       "      <td>549</td>\n",
       "      <td>0.616162</td>\n",
       "    </tr>\n",
       "    <tr>\n",
       "      <th>1</th>\n",
       "      <td>342</td>\n",
       "      <td>0.383838</td>\n",
       "    </tr>\n",
       "  </tbody>\n",
       "</table>\n",
       "</div>"
      ],
      "text/plain": [
       "    도수   상대도수분포표\n",
       "0  549  0.616162\n",
       "1  342  0.383838"
      ]
     },
     "execution_count": 8,
     "metadata": {},
     "output_type": "execute_result"
    }
   ],
   "source": [
    "freq['상대도수분포표'] = titanic['Survived'].value_counts(normalize=True)\n",
    "freq = freq.rename(columns={'Survived' : '도수'})\n",
    "freq"
   ]
  },
  {
   "cell_type": "markdown",
   "metadata": {},
   "source": [
    "### 상관계수: 스피어만(Spearman) 순위상관계수, 켄달의 타우(Kendall's Tau)\n",
    "- 스피어만의 순위상관계수와 켄달의 타우는 질적변수 중에서도 관측치가 서열척도로 된 변수들 간의 상관관계를 나타낸다.\n",
    "- 상관계수에 대한 자세한 설명은 <7-2. 상관계수>에서 다루기로 한다.\n",
    "- 다음 예제에서 질적변수인 Survived와 Pclass가 음의 상관관계(-0.340, -0.324)를 가지며, 이 상관계수가 통계적으로 유의하다(p-value가 0.05 이하)는 것을 알 수 있다."
   ]
  },
  {
   "cell_type": "code",
   "execution_count": 9,
   "metadata": {},
   "outputs": [
    {
     "name": "stdout",
     "output_type": "stream",
     "text": [
      "스피어만 상관계수: -0.33966793665005257, p-value는 1.6876081409966057e-25\n",
      "켄달타우 상관계수: -0.32353318439409545, p-value는 3.932785644652632e-24\n"
     ]
    }
   ],
   "source": [
    "from scipy.stats import spearmanr, kendalltau\n",
    "\n",
    "corr, p = spearmanr(titanic['Survived'], titanic['Pclass'])\n",
    "print(f\"스피어만 상관계수: {corr}, p-value는 {p}\")\n",
    "\n",
    "corr2, p2 = kendalltau(titanic['Survived'], titanic['Pclass'])\n",
    "print(f\"켄달타우 상관계수: {corr2}, p-value는 {p2}\")"
   ]
  },
  {
   "cell_type": "markdown",
   "metadata": {},
   "source": [
    "### 질적변수 탐색 시각화\n",
    "- 막대 그래프, 파이 그래프 등으로 데이터를 시각화 하기 위해서 Matplotlib 라이브러리를 사용한다.\n",
    "- 그래프를 그리기에 앞서 그래프 환경 설정을 하는데 **`plt.rcParams`**로 그래프 크기, 글꼴, 글꼴 크기, 마이너스 표기 등 각 항목을 설정할 수 있다.\n",
    "- 그래프에 한글을 적용하려면 한글을 지원하는 글꼴로 설정을 해주어야 한다.\n",
    "- Window 환경에서는 'Malgun Gothic', Mac 환경에서는 'AppleGothic'을 적용하면 된다.\n",
    "- 아래 예제에서는 'D2Coding'이라는 글꼴을 별도로 설치하여 그래프에 적용하였다."
   ]
  },
  {
   "cell_type": "markdown",
   "metadata": {},
   "source": [
    "- 막대 그래프의 경우, 히스토그램과 달리 각 계급이 분리되어 있다는 것을 강조하기 위해서 막대가 서로 분리되어 있다.\n",
    "- 파이 그래프의 부채꼴 각도는 각 계급의 상대도수에 대응하는데 아래에서는 0이라는 계급의 상대도수가 0.61이므로 그 부채꼴 각도는 0.61 * 360도 = 219.6도로 나타난다."
   ]
  },
  {
   "cell_type": "code",
   "execution_count": 10,
   "metadata": {},
   "outputs": [
    {
     "data": {
      "text/plain": [
       "<Figure size 1000x500 with 2 Axes>"
      ]
     },
     "metadata": {},
     "output_type": "display_data"
    }
   ],
   "source": [
    "import matplotlib.pyplot as plt\n",
    "\n",
    "plt.rcParams['figure.figsize'] = (5, 5)        # 그래프 크기\n",
    "plt.rcParams['font.family'] = 'Malgun Gothic'  # 글꼴\n",
    "plt.rcParams['font.size'] = 12                 # 글꼴 크기\n",
    "plt.rcParams['axes.unicode_minus'] = False    # 마이너스 표기\n",
    "\n",
    "fig, ax = plt.subplots(1, 2, figsize=(10, 5)) # 그래프 구성\n",
    "\n",
    "# 막대그래프\n",
    "ax[0].set_title(\"Survived 막대 그래프\")\n",
    "freq['도수'].plot.bar(ax=ax[0], color=['yellow', 'purple'])\n",
    "\n",
    "# 파이그래프\n",
    "ax[1].set_title(\"Survived 파이 그래프\")\n",
    "ax[1].pie(freq['도수'].values, labels=freq['도수'].index, autopct=\"%2.f%%\", colors=['yellow', 'purple'])\n",
    "\n",
    "plt.show()"
   ]
  },
  {
   "cell_type": "markdown",
   "metadata": {},
   "source": [
    "## 1-3. 양적변수\n",
    "- 양적변수는 도수분포표, 상대도수분포표, 대푯값, 산포도, 왜도, 첨도, 상관계수, 줄기잎그림, 히스토그램, 오자이브, 상자그림, 산점도 등으로 데이터를 탐색해 볼 수 있다."
   ]
  },
  {
   "cell_type": "markdown",
   "metadata": {},
   "source": [
    "### 도수분포표, 상대도수분포표\n",
    "- 양적변수의 도수분포표를 그리기 위해서는 먼저 계급을 설정해주어야 한다.\n",
    "- 일반적으로 계급의 개수는 5~20개로 사이로 설정하며, 계급의 크기는 (자료의 최댓값 - 최솟값) / (계급의 수)로 구한다.\n",
    "- Pandas 라이브러리의 cut을 사용하면 손쉽게 도수분포표와 상대도수분포표를 생성할 수 있다.\n",
    "- 방법은 두 가지가 있는데, 계급의 개수를 지정하거나 계급의 범위를 지정해서 bins라는 파라미터에 입력함으로써 분포표를 생성하는 방법이다."
   ]
  },
  {
   "cell_type": "markdown",
   "metadata": {},
   "source": [
    "- **`cut()`**을 통해 얻은 결과는 각 데이터가 어떤 계급에 속하는지를 나타내기 떄문에, 해당 데이터에 **`value_counts()`**를 적용하고 **`reset_index()`**로 인덱스를 리셋한 후에 계급과 빈도로 column명을 변경하는 절차를 거쳐 도수분포표를 얻을 수 있다.\n",
    "- 이 때 도수분포표는 빈도수의 내림차순으로 되어 있으므로, 계급을 기준으로 오름차순 정렬을 원하는 경우, **`sort_values(by='계급')`**을 적용해야 한다.\n",
    "- 아래에서는 상대도수를 구하기 위해 **`apply(lambda x:)`**를 사용하여 각 도수들(x)을 도수의 합(sum)으로 나누었다."
   ]
  },
  {
   "cell_type": "code",
   "execution_count": 11,
   "metadata": {},
   "outputs": [
    {
     "data": {
      "text/html": [
       "<div>\n",
       "<style scoped>\n",
       "    .dataframe tbody tr th:only-of-type {\n",
       "        vertical-align: middle;\n",
       "    }\n",
       "\n",
       "    .dataframe tbody tr th {\n",
       "        vertical-align: top;\n",
       "    }\n",
       "\n",
       "    .dataframe thead th {\n",
       "        text-align: right;\n",
       "    }\n",
       "</style>\n",
       "<table border=\"1\" class=\"dataframe\">\n",
       "  <thead>\n",
       "    <tr style=\"text-align: right;\">\n",
       "      <th></th>\n",
       "      <th>계급</th>\n",
       "      <th>도수</th>\n",
       "      <th>상대도수</th>\n",
       "    </tr>\n",
       "  </thead>\n",
       "  <tbody>\n",
       "    <tr>\n",
       "      <th>2</th>\n",
       "      <td>(0.34, 16.336]</td>\n",
       "      <td>100</td>\n",
       "      <td>0.140056</td>\n",
       "    </tr>\n",
       "    <tr>\n",
       "      <th>0</th>\n",
       "      <td>(16.336, 32.252]</td>\n",
       "      <td>346</td>\n",
       "      <td>0.484594</td>\n",
       "    </tr>\n",
       "    <tr>\n",
       "      <th>1</th>\n",
       "      <td>(32.252, 48.168]</td>\n",
       "      <td>188</td>\n",
       "      <td>0.263305</td>\n",
       "    </tr>\n",
       "    <tr>\n",
       "      <th>3</th>\n",
       "      <td>(48.168, 64.084]</td>\n",
       "      <td>69</td>\n",
       "      <td>0.096639</td>\n",
       "    </tr>\n",
       "    <tr>\n",
       "      <th>4</th>\n",
       "      <td>(64.084, 80.0]</td>\n",
       "      <td>11</td>\n",
       "      <td>0.015406</td>\n",
       "    </tr>\n",
       "  </tbody>\n",
       "</table>\n",
       "</div>"
      ],
      "text/plain": [
       "                 계급   도수      상대도수\n",
       "2    (0.34, 16.336]  100  0.140056\n",
       "0  (16.336, 32.252]  346  0.484594\n",
       "1  (32.252, 48.168]  188  0.263305\n",
       "3  (48.168, 64.084]   69  0.096639\n",
       "4    (64.084, 80.0]   11  0.015406"
      ]
     },
     "execution_count": 11,
     "metadata": {},
     "output_type": "execute_result"
    }
   ],
   "source": [
    "result1 = pd.cut(titanic['Age'], bins=5)\n",
    "freq1 = pd.DataFrame(result1.value_counts()).reset_index()\n",
    "freq1 = freq1.rename(columns={'index' : '계급', 'Age' : '도수'}).sort_values(by='계급')\n",
    "\n",
    "# freq1의 상대도수분포표 추가\n",
    "freq1['상대도수'] = freq1['도수'].apply(lambda x: x / freq1['도수'].sum())\n",
    "freq1"
   ]
  },
  {
   "cell_type": "markdown",
   "metadata": {},
   "source": [
    "- bins에서 계급의 범위를 지정할 때 right=True를 지정하면 계급의 범위 중 왼쪽 값 초과 오른쪽 값 이하로 계급의 범위가 설정되고, right=False로 지정하면 왼쪽 값 이상 오른쪽 값 미만으로 계급의 범위가 설정된다.\n",
    "- 예를 들어. right=False로 지정하면 아래와 같이 0 이상 20 미만, 20 이상 40 미만, 40 이상 60 미만, 60 이상으로 계급을 설정하게 된다.\n",
    "- 'inf'는 양의 무한대를 가리킨다."
   ]
  },
  {
   "cell_type": "code",
   "execution_count": 12,
   "metadata": {},
   "outputs": [
    {
     "data": {
      "text/html": [
       "<div>\n",
       "<style scoped>\n",
       "    .dataframe tbody tr th:only-of-type {\n",
       "        vertical-align: middle;\n",
       "    }\n",
       "\n",
       "    .dataframe tbody tr th {\n",
       "        vertical-align: top;\n",
       "    }\n",
       "\n",
       "    .dataframe thead th {\n",
       "        text-align: right;\n",
       "    }\n",
       "</style>\n",
       "<table border=\"1\" class=\"dataframe\">\n",
       "  <thead>\n",
       "    <tr style=\"text-align: right;\">\n",
       "      <th></th>\n",
       "      <th>계급</th>\n",
       "      <th>도수</th>\n",
       "      <th>상대도수</th>\n",
       "    </tr>\n",
       "  </thead>\n",
       "  <tbody>\n",
       "    <tr>\n",
       "      <th>1</th>\n",
       "      <td>[0.0, 20.0)</td>\n",
       "      <td>164</td>\n",
       "      <td>0.229692</td>\n",
       "    </tr>\n",
       "    <tr>\n",
       "      <th>0</th>\n",
       "      <td>[20.0, 40.0)</td>\n",
       "      <td>387</td>\n",
       "      <td>0.542017</td>\n",
       "    </tr>\n",
       "    <tr>\n",
       "      <th>2</th>\n",
       "      <td>[40.0, 60.0)</td>\n",
       "      <td>137</td>\n",
       "      <td>0.191877</td>\n",
       "    </tr>\n",
       "    <tr>\n",
       "      <th>3</th>\n",
       "      <td>[60.0, inf)</td>\n",
       "      <td>26</td>\n",
       "      <td>0.036415</td>\n",
       "    </tr>\n",
       "  </tbody>\n",
       "</table>\n",
       "</div>"
      ],
      "text/plain": [
       "             계급   도수      상대도수\n",
       "1   [0.0, 20.0)  164  0.229692\n",
       "0  [20.0, 40.0)  387  0.542017\n",
       "2  [40.0, 60.0)  137  0.191877\n",
       "3   [60.0, inf)   26  0.036415"
      ]
     },
     "execution_count": 12,
     "metadata": {},
     "output_type": "execute_result"
    }
   ],
   "source": [
    "# 계급의 범위를 지정하여 도수분포표 생성\n",
    "result2 = pd.cut(titanic['Age'], bins=[0, 20, 40, 60, float('inf')], right=False)\n",
    "freq2 = pd.DataFrame(result2.value_counts()).reset_index()\n",
    "freq2 = freq2.rename(columns={'index' : '계급', 'Age' : '도수'}).sort_values(by='계급')\n",
    "\n",
    "# freq2의 상대도수 추가\n",
    "freq2['상대도수'] = freq2['도수'].apply(lambda x: x / freq2['도수'].sum())\n",
    "freq2"
   ]
  },
  {
   "cell_type": "markdown",
   "metadata": {},
   "source": [
    "### 계산적 대푯값\n",
    "- 계산적 대푯값에는 산술평균(Arithmetic mean), 기하평균(Geometric mean), 조화평균(Harmonic mean), 절사평균(Trimmed mean), 평방평균(Quadratic mean) 등이 있다.\n",
    "    - 산술평균: 주어진 수의 합을 수의 개수로 나눈 값\n",
    "    - 기하평균: n개의 양수의 곱의 n 제곱근의 값으로서, 물가 변동률, 경제 성장률, 임금 인상률 등 시간적으로 변화하는 비율의 대푯값\n",
    "    - 조화평균: 역수의 산술평균의 역수로서, 평균 작업 속도, 평균 속도 등 시간적으로 계속 변화하는 속도의 대푯값\n",
    "    - 절사평균: 자료의 총 개수에서 일정 비율만큼 가장 큰 부분과 작은 부분을 제거한 후 산출한 산술평균\n",
    "    - 평방평균: 주어진 수를 각각 제곱하여 산술평균을 구하고 제곱근을 취한 것으로서, 비정상적 관측치의 영향을 부각시킬 때 사용\n",
    "- 동일한 데이터일지라도 대푯값의 종류에 따라 값이 다르게 나온다.\n",
    "- 평방평균의 경우, 라이브러리에서 지원하는 클래스가 없어서 직접 계산하였다.\n",
    "- 리스트 내 각 요소의 제곱을 구하기 위해서 데이터 타입을 리스트에서 어레이로 변경한 후 계산하였다."
   ]
  },
  {
   "cell_type": "code",
   "execution_count": 13,
   "metadata": {},
   "outputs": [
    {
     "name": "stdout",
     "output_type": "stream",
     "text": [
      "산술평균: 4.166666666666667\n",
      "기하평균: 3.2598444275495897\n",
      "조화평균: 2.5174825174825175\n",
      "절사평균: 3.0\n",
      "평방평균: 5.082650227325635\n"
     ]
    }
   ],
   "source": [
    "import numpy as np\n",
    "\n",
    "from scipy.stats.mstats import gmean, hmean, tmean\n",
    "\n",
    "example = [1, 2, 3, 4, 5, 10]\n",
    "\n",
    "print(f\"산술평균: {np.mean(example)}\")\n",
    "print(f\"기하평균: {gmean(example)}\")\n",
    "print(f\"조화평균: {hmean(example)}\")\n",
    "\n",
    "# 1 이상 5 이하의 범위를 벗어나는 값을 제외\n",
    "print(f\"절사평균: {tmean(example, (1, 5))}\")\n",
    "\n",
    "# 평방평균\n",
    "qm = np.sqrt(np.mean(np.array(example)**2)) # list를 array로 변경한 후 계산\n",
    "print(f\"평방평균: {qm}\")"
   ]
  },
  {
   "cell_type": "markdown",
   "metadata": {},
   "source": [
    "### 위치적 대푯값\n",
    "- 위치적 대푯값으로는 중위수(Median), 최빈값(Modes), 사분위수(Quartile), 분위수(Quantile), 백분위수(Percentile)가 있다.\n",
    "- 이 중, 중위수와 2사분위수, 0.5분위수, 50백분위수는 서로 동일한 값을 가리킨다."
   ]
  },
  {
   "cell_type": "code",
   "execution_count": 14,
   "metadata": {},
   "outputs": [
    {
     "name": "stdout",
     "output_type": "stream",
     "text": [
      "중위수: 14.4542\n",
      "최빈값: 8.05\n",
      "1사분위수: 7.9104\n",
      "2사분위수: 14.4542\n",
      "3사분위수: 31.0\n",
      "50백분위수: 14.4542\n",
      "75백분위수: 31.0\n"
     ]
    }
   ],
   "source": [
    "import numpy as np\n",
    "\n",
    "print(f\"중위수: {titanic['Fare'].median()}\")\n",
    "print(f\"최빈값: {titanic['Fare'].mode()[0]}\")\n",
    "print(f\"1사분위수: {titanic['Fare'].quantile(0.25)}\")\n",
    "print(f\"2사분위수: {titanic['Fare'].quantile(0.5)}\")\n",
    "print(f\"3사분위수: {titanic['Fare'].quantile(0.75)}\")\n",
    "print(f\"50백분위수: {np.percentile(titanic['Fare'], 50)}\")\n",
    "print(f\"75백분위수: {np.percentile(titanic['Fare'], 75)}\")"
   ]
  },
  {
   "cell_type": "markdown",
   "metadata": {},
   "source": [
    "### 절대적 산포도\n",
    "- 절대적 산포도로는 범위(Range), 사분위수범위(IQR, Interquartile range), 평균편차(MD, Mean deviation), 사분편차(QD, Quartile deviation), 분산(Variance), 표준편차(SD, Standard deviation)가 있다.\n",
    "    - 범위: 관측값의 최댓값에서 최솟값을 뺀 값\n",
    "    - 사분위수범위: 3사분위에서 1사분위수를 뺀 값\n",
    "    - 평균편차: 편차의 절댓값의 산술평균\n",
    "    - 사분편차: 사분위수범위 / 2\n",
    "    - 분산: 편차의 제곱의 산술평균\n",
    "    - 표준편차: 분산의 양의 제곱근"
   ]
  },
  {
   "cell_type": "markdown",
   "metadata": {},
   "source": [
    "- 다음 예제의 파라미터 ddof는 delta degrees of freedom으로서 자유도(Degree of freedom)를 결정하는 파라미터이다.\n",
    "- ddof=0으로 설정하면 (n-0)을 자유도로, ddof=1로 설정하면 (n-1)을 자유도로 설정하게 된다.\n",
    "- 따라서 ddof=0은 모분산 혹은 모표준편차를 구할 때, ddof=1은 표본분산 혹은 표본표준편차를 구할 때 사용된다."
   ]
  },
  {
   "cell_type": "code",
   "execution_count": 22,
   "metadata": {},
   "outputs": [
    {
     "name": "stdout",
     "output_type": "stream",
     "text": [
      "범위: 512.3292\n",
      "사분위수 범위: 23.0896\n",
      "평균편차: 28.163691848778324\n",
      "사분편차: 11.5448\n",
      "모분산: 2466.6653116850434\n",
      "표본분산: 2469.436845743117\n",
      "모표준편차: 49.66553444477411\n",
      "표본표준편차: 49.693428597180905\n"
     ]
    }
   ],
   "source": [
    "print(f\"범위: {titanic['Fare'].max() - titanic['Fare'].min()}\")\n",
    "\n",
    "iqr = titanic['Fare'].quantile(0.75) - titanic['Fare'].quantile(0.25)\n",
    "print(f\"사분위수 범위: {iqr}\")\n",
    "\n",
    "md = np.mean(np.abs(np.array(titanic['Fare']) - np.mean(titanic['Fare'])))\n",
    "print(f\"평균편차: {md}\")\n",
    "print(f\"사분편차: {iqr/2}\")\n",
    "\n",
    "print(f\"모분산: {titanic['Fare'].var(ddof=0)}\")\n",
    "print(f\"표본분산: {titanic['Fare'].var(ddof=1)}\") # 자유도 n-1을 의미\n",
    "\n",
    "print(f\"모표준편차: {titanic['Fare'].std(ddof=0)}\")\n",
    "print(f\"표본표준편차: {titanic['Fare'].std(ddof=1)}\") # 자유도 n-1을 의미"
   ]
  },
  {
   "cell_type": "markdown",
   "metadata": {},
   "source": [
    "### 상대적 산포도\n",
    "- 상대적 산포도에는 사분위편차계수(CQD, Coefficient of quartile deviation), 평균편차계수(CMD, Coefficient of mean deviation), 변동계수(CV, Coefficient of variance)가 있다.\n",
    "    - 사분위편차계수: 사분편차를 중앙값으로 나눈 값\n",
    "    - 평균편차계수: 평균편차를 산술평균으로 나눈 값\n",
    "    - 변동계수: 표준편차를 산술평균으로 나눈 값. 자료의 단위가 다르거나 평균의 차이가 클 때 평균에 대한 표준편차의 상대적 크기를 비교"
   ]
  },
  {
   "cell_type": "code",
   "execution_count": 25,
   "metadata": {},
   "outputs": [
    {
     "name": "stdout",
     "output_type": "stream",
     "text": [
      "사분위편차계수: 0.7987159441546402\n",
      "평균편차계수: 0.8745345290361098\n",
      "모집단 변동계수: 1.5422063630081684\n",
      "표본집단 변동계수: 1.5430725278408517\n"
     ]
    }
   ],
   "source": [
    "print(f\"사분위편차계수: {iqr/2/titanic['Fare'].median()}\")\n",
    "print(f\"평균편차계수: {md/titanic['Fare'].mean()}\")\n",
    "print(f\"모집단 변동계수: {titanic['Fare'].std(ddof=0) / titanic['Fare'].mean()}\")\n",
    "print(f\"표본집단 변동계수: {titanic['Fare'].std(ddof=1) / titanic['Fare'].mean()}\")"
   ]
  },
  {
   "cell_type": "markdown",
   "metadata": {},
   "source": [
    "### 왜도, 첨도\n",
    "- 왜도(Skewness)는 관측값 분포의 비대칭 정도를 나타낸다. 왜도가 음수일 경우 분포의 왼쪽 부분에 긴 꼬리를 가지며, 왜도가 양수일 경우 오른쪽 부분에 긴 꼬리를 가진다. 정규분포의 왜도는 0이다.\n",
    "- 첨도(Kurtosis)는 관측값 분포의 모양이 얼마나 뾰족한 지를 나타낸다. 극단적인 편차나 이상치가 많을 수록 큰 값을 나타낸다.\n",
    "- 첨도가 3보다 큰 경우 정규분포보다 뾰족하고 꼬리가 얇은 분포를 가지며, 첨도가 3보다 작은 경우 정규분포보다 뾰족하지 않고 꼬리가 두꺼운 분포를 가진다. 정규분포의 첨도는 3이다.\n",
    "- Pandas와 SciPy의 왜도와 첨도는 다소 다르게 나타나는데, Pandas는 bias 수정이 적용되지 않은 상태이고, SciPy는 bias 수정을 적용했기 때문이다. SciPy에서 bias=False로 설정하면 둘은 동일한 결과를 얻게 된다."
   ]
  },
  {
   "cell_type": "code",
   "execution_count": 29,
   "metadata": {},
   "outputs": [
    {
     "name": "stdout",
     "output_type": "stream",
     "text": [
      "왜도: 4.787316519674893, 첨도: 33.39814088089868\n",
      "왜도: 4.787316519674893(4.7792532923723545), 첨도: 33.39814088089869(33.20428925264474)\n"
     ]
    }
   ],
   "source": [
    "print(f\"왜도: {titanic['Fare'].skew()}, 첨도: {titanic['Fare'].kurt()}\")\n",
    "\n",
    "from scipy.stats import skew, kurtosis\n",
    "ssF = skew(titanic['Fare'], bias=False)\n",
    "skF = kurtosis(titanic['Fare'], bias=False)\n",
    "ssT = skew(titanic['Fare'], bias=True)\n",
    "skT = kurtosis(titanic['Fare'], bias=True)\n",
    "\n",
    "print(f\"왜도: {ssF}({ssT}), 첨도: {skF}({skT})\")"
   ]
  },
  {
   "cell_type": "markdown",
   "metadata": {},
   "source": [
    "### 상관계수: 피어슨의 적률상관계수\n",
    "- 피어슨(Pearson)의 적률상관계수는 양적변수의 상관관계를 나타낸다.\n",
    "- 다음 코드에 의하면 Age와 Fare의 상관계수는 0.093인데 이는 상관성이 거의 없다고 볼 수 있다.\n",
    "- 한편, 해당 상관계수의 p-value 0.013을 보면 유의수준 0.05보다 작기 때문에 표본의 상관계수가 모상관계수 0과 차이가 없다는 귀무가설을 기각할 수 있다.\n",
    "- 따라서 해당 상관계수는 통계적으로 유의하다고 본다.\n",
    "- 피어슨 상관계수에 대한 자세한 설명은 <7-2. 상관계수>에서 다룬다."
   ]
  },
  {
   "cell_type": "code",
   "execution_count": 30,
   "metadata": {},
   "outputs": [
    {
     "name": "stdout",
     "output_type": "stream",
     "text": [
      "피어슨 상관계수: 0.09314251789411518, p-value: 0.012904553407042496\n"
     ]
    }
   ],
   "source": [
    "from scipy.stats import pearsonr\n",
    "\n",
    "# PassengerId, Cabin이 없는 titanic에서 추가로 Age의 결측치가 있는 행을 삭제\n",
    "titanic = titanic.dropna(axis=0)\n",
    "corr, p = pearsonr(titanic['Age'], titanic['Fare'])\n",
    "print(f\"피어슨 상관계수: {corr}, p-value: {p}\")"
   ]
  },
  {
   "cell_type": "markdown",
   "metadata": {},
   "source": [
    "### 양적변수 탐색 시각화\n",
    "- 양적변수를 탐색할 때 사용하는 시각화 방법으로는 줄기잎그림, 히스토그램, 오자이브, 상자그림, 산점도 등이 있다.\n",
    "- 줄기잎그림(Stem-and-leaf plot)은 데이터 세로선을 기준으로 줄기와 잎 두 부분으로 나누어 구분함으로써 데이터의 대략적 분포를 확인할 수 있게 한다.\n",
    "- 자료의 개수가 많지 않을 경우에 사용하며, 자료가 많을 경우에는 히스토그램을 사용한다."
   ]
  },
  {
   "cell_type": "code",
   "execution_count": 32,
   "metadata": {},
   "outputs": [
    {
     "name": "stdout",
     "output_type": "stream",
     "text": [
      "Collecting stempgraphic\n"
     ]
    },
    {
     "name": "stderr",
     "output_type": "stream",
     "text": [
      "  Could not find a version that satisfies the requirement stempgraphic (from versions: )\n",
      "No matching distribution found for stempgraphic\n",
      "You are using pip version 10.0.1, however version 24.0 is available.\n",
      "You should consider upgrading via the 'python -m pip install --upgrade pip' command.\n"
     ]
    }
   ],
   "source": [
    "# !pip install stempgraphic --no-deps --user"
   ]
  },
  {
   "cell_type": "code",
   "execution_count": null,
   "metadata": {},
   "outputs": [],
   "source": [
    "import stemgraphic\n",
    "stemgraphic.stem_graphic(titanic['Age'])\n",
    "plt.show()"
   ]
  },
  {
   "cell_type": "markdown",
   "metadata": {},
   "source": [
    "- 히스토그램(Histogram)은 도수분포의 상태를 도수분포표의 계급과 도수를 이용하여 기둥 모양으로 나타낸 그래프이다.\n",
    "- x축에는 연속형 변수의 계급을 표시하고, y축에는 빈도를 표시한다.\n",
    "- 아래에서는 기본 히스토그램, 계급의 개수를 설정한 히스토그램, 계급의 범위를 설정한 히스토그램을 각각 그려보았다."
   ]
  },
  {
   "cell_type": "code",
   "execution_count": 34,
   "metadata": {},
   "outputs": [
    {
     "data": {
      "image/png": "[encoded data removed]",
      "text/plain": [
       "<Figure size 864x288 with 3 Axes>"
      ]
     },
     "metadata": {
      "needs_background": "light"
     },
     "output_type": "display_data"
    }
   ],
   "source": [
    "fig, ax = plt.subplots(1, 3, figsize=(12, 4))\n",
    "ax[0].hist(titanic['Age'])\n",
    "ax[0].set_title(\"기본 히스토그램\")\n",
    "ax[1].hist(titanic['Age'], bins=4) # bin number 설정\n",
    "ax[1].set_title(\"bins=4 설정 히스토그램\")\n",
    "ax[2].hist(titanic['Age'], bins=[i for i in range(0, 90, 10)]) # bin edges 설정\n",
    "ax[2].set_title(\"bins=범위 설정 히스토그램\")\n",
    "plt.show()"
   ]
  },
  {
   "cell_type": "markdown",
   "metadata": {},
   "source": [
    "- 오자이브(Ogive)는 누적도수다각형의 각 계급구간의 누적도수에 대응하는 기둥의 맨 위 중간점들을 직선으로 연결했을 때 나타나는 그래프이다."
   ]
  },
  {
   "cell_type": "code",
   "execution_count": 40,
   "metadata": {},
   "outputs": [
    {
     "data": {
      "text/html": [
       "<div>\n",
       "<style scoped>\n",
       "    .dataframe tbody tr th:only-of-type {\n",
       "        vertical-align: middle;\n",
       "    }\n",
       "\n",
       "    .dataframe tbody tr th {\n",
       "        vertical-align: top;\n",
       "    }\n",
       "\n",
       "    .dataframe thead th {\n",
       "        text-align: right;\n",
       "    }\n",
       "</style>\n",
       "<table border=\"1\" class=\"dataframe\">\n",
       "  <thead>\n",
       "    <tr style=\"text-align: right;\">\n",
       "      <th></th>\n",
       "      <th>계급</th>\n",
       "      <th>도수</th>\n",
       "      <th>누적도수</th>\n",
       "      <th>계급값</th>\n",
       "    </tr>\n",
       "  </thead>\n",
       "  <tbody>\n",
       "    <tr>\n",
       "      <th>4</th>\n",
       "      <td>(0, 10]</td>\n",
       "      <td>64</td>\n",
       "      <td>64</td>\n",
       "      <td>5.0</td>\n",
       "    </tr>\n",
       "    <tr>\n",
       "      <th>2</th>\n",
       "      <td>(10, 20]</td>\n",
       "      <td>115</td>\n",
       "      <td>179</td>\n",
       "      <td>15.0</td>\n",
       "    </tr>\n",
       "    <tr>\n",
       "      <th>0</th>\n",
       "      <td>(20, 30]</td>\n",
       "      <td>230</td>\n",
       "      <td>409</td>\n",
       "      <td>25.0</td>\n",
       "    </tr>\n",
       "    <tr>\n",
       "      <th>1</th>\n",
       "      <td>(30, 40]</td>\n",
       "      <td>154</td>\n",
       "      <td>563</td>\n",
       "      <td>35.0</td>\n",
       "    </tr>\n",
       "    <tr>\n",
       "      <th>3</th>\n",
       "      <td>(40, 50]</td>\n",
       "      <td>86</td>\n",
       "      <td>649</td>\n",
       "      <td>45.0</td>\n",
       "    </tr>\n",
       "    <tr>\n",
       "      <th>5</th>\n",
       "      <td>(50, 60]</td>\n",
       "      <td>42</td>\n",
       "      <td>691</td>\n",
       "      <td>55.0</td>\n",
       "    </tr>\n",
       "    <tr>\n",
       "      <th>6</th>\n",
       "      <td>(60, 70]</td>\n",
       "      <td>16</td>\n",
       "      <td>707</td>\n",
       "      <td>65.0</td>\n",
       "    </tr>\n",
       "    <tr>\n",
       "      <th>7</th>\n",
       "      <td>(70, 80]</td>\n",
       "      <td>5</td>\n",
       "      <td>712</td>\n",
       "      <td>75.0</td>\n",
       "    </tr>\n",
       "  </tbody>\n",
       "</table>\n",
       "</div>"
      ],
      "text/plain": [
       "         계급   도수  누적도수   계급값\n",
       "4   (0, 10]   64    64   5.0\n",
       "2  (10, 20]  115   179  15.0\n",
       "0  (20, 30]  230   409  25.0\n",
       "1  (30, 40]  154   563  35.0\n",
       "3  (40, 50]   86   649  45.0\n",
       "5  (50, 60]   42   691  55.0\n",
       "6  (60, 70]   16   707  65.0\n",
       "7  (70, 80]    5   712  75.0"
      ]
     },
     "execution_count": 40,
     "metadata": {},
     "output_type": "execute_result"
    }
   ],
   "source": [
    "freq1"
   ]
  },
  {
   "cell_type": "code",
   "execution_count": null,
   "metadata": {},
   "outputs": [],
   "source": [
    "# 도수분포표 생성\n",
    "result1 = pd.cut(titanic['Age'], bins=[i for i in range(0, 90, 10)])\n",
    "freq1 = pd.DataFrame(result1.value_counts()).reset_index().rename(columns={'index':'계급', 'Age':'도수'}).sort_values(by='계급')\n",
    "\n",
    "freq1['누적도수'] = freq1['도수'].cumsum() # 누적도수 계산하여 표에 추가\n",
    "freq1['계급값'] = freq1['계급'].apply(lambda x: np.median([x.left, x.right]))\n",
    "print(f\"[도수분포표]\\n{freq1}\")\n",
    "\n",
    "plt.plot(freq1['계급값'], freq1['누적도수'], marker='o')\n",
    "plt.xticks(freq1['계급값'])\n",
    "plt.ylabel('누적도수')\n",
    "plt.xlabel('계급값')\n",
    "plt.title(\"Ogive\")\n",
    "plt.show()"
   ]
  },
  {
   "cell_type": "markdown",
   "metadata": {},
   "source": [
    "- 상자그림(Box plot)은 통계학자 존 튜키가 고안하였는데, 상자수염그림이라고도 하며 5가지 요약 수치인 최솟값, 최댓값, 1, 2, 3사분위수를 통해 데이터의 산포도를 구체적으로 시각화 한다.\n",
    "- 가운데 박스의 왼쪽 변이 1사분위수, 가운데 선이 2사분위수(중위수), 오른쪽 변이 3사분위수를 나타내고, 박스를 벗어난 양 옆의 수염이 각각 최솟값과 최댓값을 나타낸다. 동그라미로 표시된 데이터는 이상치를 가리킨다."
   ]
  },
  {
   "cell_type": "code",
   "execution_count": 45,
   "metadata": {},
   "outputs": [
    {
     "data": {
      "image/png": "[encoded data removed]",
      "text/plain": [
       "<Figure size 432x288 with 1 Axes>"
      ]
     },
     "metadata": {
      "needs_background": "light"
     },
     "output_type": "display_data"
    }
   ],
   "source": [
    "# vert=False는 수평, True는 수직상자그림, medianprops의 color는 중위수 색상\n",
    "titanic[['Age']].boxplot(vert=False, medianprops={'color':'red'})\n",
    "plt.title(\"Box plot\")\n",
    "plt.yticks(ticks=[1], labels=['Age'])\n",
    "plt.show()"
   ]
  },
  {
   "cell_type": "markdown",
   "metadata": {},
   "source": [
    "- 산점도(Scatter plot)는 두 변수의 2차원 데이터를 좌표평면 위에 점으로 나타낸 그래프이다.\n",
    "- 다음 그래프에서 보듯이 변수 Age와 Fare는 선형적 상관관계가 없는 것으로 나타난다.\n",
    "- 반면, Xs, Ys는 산점도에서 선형적 상관관계를 확인할 수 있다."
   ]
  },
  {
   "cell_type": "code",
   "execution_count": 53,
   "metadata": {},
   "outputs": [
    {
     "data": {
      "image/png": "[encoded data removed]",
      "text/plain": [
       "<Figure size 576x288 with 2 Axes>"
      ]
     },
     "metadata": {
      "needs_background": "light"
     },
     "output_type": "display_data"
    }
   ],
   "source": [
    "fig, ax = plt.subplots(1, 2, figsize=(8, 4))\n",
    "\n",
    "plt.subplots_adjust(wspace=0.3)\n",
    "ax[0].scatter(titanic['Age'], titanic['Fare'])\n",
    "ax[0].set_title(f\"Scatter plot (corr, p: {pearsonr(titanic['Age'], titanic['Fare'])}\")\n",
    "ax[0].set_xlabel('Age')\n",
    "ax[0].set_ylabel('Fare')\n",
    "\n",
    "Xs = [1, 3, 5, 7, 9, 15, 20, 10]\n",
    "Ys = [10, 20, 45, 76, 70, 100, 80, 90]\n",
    "ax[1].scatter(Xs, Ys)\n",
    "ax[1].set_title(f'Scatter plot (corr, p : {pearsonr(Xs, Ys)})')\n",
    "ax[1].set_xlabel('Xs')\n",
    "ax[1].set_ylabel('Ys')\n",
    "\n",
    "plt.show()"
   ]
  },
  {
   "cell_type": "markdown",
   "metadata": {},
   "source": [
    "# 2장. 전처리\n",
    "- 본격적인 데이터 분석에 앞서 자료를 탐색적으로 분석하고 전처리(Pre-processing)를 하는 이유는 모델을 성공적으로 학습시키기 위함이다.\n",
    "- 데이터에 결측치, 이상치, 영향치가 있거나 클래스가 불균형한 경우, 모델이 데이터를 올바르게 학습하기 어렵다.\n",
    "- 또한, 학습하려는 모델에 적합하게 변수를 전처리함으로써 모델의 성능을 향상시키고, 유의미한 모델을 생성할 수 있다."
   ]
  },
  {
   "cell_type": "markdown",
   "metadata": {},
   "source": [
    "### 2-1. 결측치 처리\n",
    "- 데이터 결측치 처리 방법으로는 0이나 특정한 상수(Constant)로 대치하는 방법이 있고, 대푯값으로 채우는 방법, 단순확률대치법, 다른 변수들로부터 모델링을 하여 결측값을 예측하는 방법, 결측값 여부를 새로운 특징으로 추출하는 방법 등이 있다.\n",
    "- 시계열 데이터의 경우, 일반적으로 보간법으로 결측치를 처리한다.\n",
    "- 데이터 양에 비해 결측치가 극소수이거나 절대다수인 경우에는, 아예 결측치가 있는 데이터의 행이나 열 자체를 삭제하고 분석을 진행하기도 한다."
   ]
  },
  {
   "cell_type": "markdown",
   "metadata": {},
   "source": [
    "#### 결측치 확인\n",
    "- wine은 세 종류(Class)의 와인들의 특성들(Alcohol, Malicacid, Ash 등)을 측정한 데이터셋이다.\n",
    "- 다음에서 보듯이 해당 데이터는 결측치가 없기 때문에 임의로 결측치가 있는 데이터 'wine_m'을 생성하였다.\n",
    "- 데이터프레임에 **`isna()`**를 하면 결측치가 있는 셀은 True, 없는 셀은 False로 표시가 되는데, 여기서 **`sum()`**을 하면 True는 1, False는 0으로 계산되어 각 컬럼 별로 결측치의 합계를 확인할 수 있다.\n",
    "- 한편, missingno 라이브러리를 활용하면 결측치를 시각화 할 수 있다."
   ]
  },
  {
   "cell_type": "code",
   "execution_count": 13,
   "metadata": {},
   "outputs": [
    {
     "data": {
      "text/plain": [
       "Alcohol      0\n",
       "Malicacid    0\n",
       "Ash          0\n",
       "Magnesium    0\n",
       "Hue          0\n",
       "dtype: int64"
      ]
     },
     "execution_count": 13,
     "metadata": {},
     "output_type": "execute_result"
    }
   ],
   "source": [
    "import pandas as pd\n",
    "import numpy as np\n",
    "\n",
    "wine = pd.read_csv(\"https://raw.githubusercontent.com/algoboni/pythoncodebook1-1/main/2-1_wine.csv\", index_col=0).filter(['Alcohol', 'Malicacid', 'Ash', 'Magnesium', 'Hue'])\n",
    "wine.isna().sum()"
   ]
  },
  {
   "cell_type": "code",
   "execution_count": 14,
   "metadata": {},
   "outputs": [
    {
     "data": {
      "text/plain": [
       "Alcohol      22\n",
       "Malicacid     0\n",
       "Ash          25\n",
       "Magnesium     0\n",
       "Hue           0\n",
       "dtype: int64"
      ]
     },
     "execution_count": 14,
     "metadata": {},
     "output_type": "execute_result"
    }
   ],
   "source": [
    "# 결측치가 없으므로 두 개의 컬럼 Alcohol과 Ash에 임의로 결측치를 입력\n",
    "from numpy.random import randint\n",
    "\n",
    "wine_m = wine.copy()\n",
    "for col in ['Alcohol', 'Ash']:\n",
    "    random_idx = randint(0, len(wine), 25)\n",
    "    wine_m.loc[random_idx, col] = np.nan\n",
    "    \n",
    "wine_m.isna().sum()"
   ]
  },
  {
   "cell_type": "code",
   "execution_count": 20,
   "metadata": {},
   "outputs": [],
   "source": [
    "# plotting 환경 설정\n",
    "import matplotlib.pyplot as plt\n",
    "\n",
    "plt.rcParams['figure.figsize'] = (5, 5)\n",
    "plt.rcParams['font.family'] = 'Malgun Gothic'\n",
    "plt.rcParams['font.size'] = 12\n",
    "plt.rcParams['axes.unicode_minus'] = False"
   ]
  },
  {
   "cell_type": "code",
   "execution_count": 21,
   "metadata": {},
   "outputs": [
    {
     "data": {
      "image/png": "[encoded data removed]",
      "text/plain": [
       "<Figure size 576x288 with 2 Axes>"
      ]
     },
     "metadata": {
      "needs_background": "light"
     },
     "output_type": "display_data"
    }
   ],
   "source": [
    "fig, ax = plt.subplots(1, 2, figsize=(8, 4))\n",
    "plt.subplots_adjust(wspace=0.5)\n",
    "\n",
    "import missingno as msno\n",
    "msno.matrix(df=wine, figsize=(5, 5), fontsize=12, ax=ax[0], sparkline=False)\n",
    "ax[0].set_ylabel('원본 데이터')\n",
    "\n",
    "msno.matrix(df=wine_m, figsize=(5, 5), fontsize=12, ax=ax[1], sparkline=False)\n",
    "ax[1].set_ylabel('결측치 생성 데이터')\n",
    "\n",
    "plt.show()"
   ]
  },
  {
   "cell_type": "markdown",
   "metadata": {},
   "source": [
    "#### Zero imputation & Constant imputation\n",
    "- 결측값을 0이나 특정 상수로 대치하는 방법이다.\n",
    "- Pandas의 데이터프레임 객체에 **`fillna(대치값)`**로 결측치를 간단하게 대치할 수 있다.\n",
    "- 앞서 생성한 결측치가 있는 데이터프레임 wine_m의 앞 10개 행의 데이터를 살펴보면 다음과 같다.\n",
    "- 데이터를 살펴볼 때는 wine_m 데이터 중에서도 결측치가 있는 변수인 'Alcohol'과 'Ash'의 데이터만 확인해 보았다."
   ]
  },
  {
   "cell_type": "code",
   "execution_count": 22,
   "metadata": {},
   "outputs": [
    {
     "data": {
      "text/html": [
       "<div>\n",
       "<style scoped>\n",
       "    .dataframe tbody tr th:only-of-type {\n",
       "        vertical-align: middle;\n",
       "    }\n",
       "\n",
       "    .dataframe tbody tr th {\n",
       "        vertical-align: top;\n",
       "    }\n",
       "\n",
       "    .dataframe thead th {\n",
       "        text-align: right;\n",
       "    }\n",
       "</style>\n",
       "<table border=\"1\" class=\"dataframe\">\n",
       "  <thead>\n",
       "    <tr style=\"text-align: right;\">\n",
       "      <th></th>\n",
       "      <th>Alcohol</th>\n",
       "      <th>Ash</th>\n",
       "    </tr>\n",
       "  </thead>\n",
       "  <tbody>\n",
       "    <tr>\n",
       "      <th>0</th>\n",
       "      <td>14.23</td>\n",
       "      <td>2.43</td>\n",
       "    </tr>\n",
       "    <tr>\n",
       "      <th>1</th>\n",
       "      <td>13.20</td>\n",
       "      <td>2.14</td>\n",
       "    </tr>\n",
       "    <tr>\n",
       "      <th>2</th>\n",
       "      <td>13.16</td>\n",
       "      <td>NaN</td>\n",
       "    </tr>\n",
       "    <tr>\n",
       "      <th>3</th>\n",
       "      <td>14.37</td>\n",
       "      <td>2.50</td>\n",
       "    </tr>\n",
       "    <tr>\n",
       "      <th>4</th>\n",
       "      <td>13.24</td>\n",
       "      <td>2.87</td>\n",
       "    </tr>\n",
       "    <tr>\n",
       "      <th>5</th>\n",
       "      <td>14.20</td>\n",
       "      <td>2.45</td>\n",
       "    </tr>\n",
       "    <tr>\n",
       "      <th>6</th>\n",
       "      <td>14.39</td>\n",
       "      <td>2.45</td>\n",
       "    </tr>\n",
       "    <tr>\n",
       "      <th>7</th>\n",
       "      <td>NaN</td>\n",
       "      <td>2.61</td>\n",
       "    </tr>\n",
       "    <tr>\n",
       "      <th>8</th>\n",
       "      <td>NaN</td>\n",
       "      <td>2.17</td>\n",
       "    </tr>\n",
       "    <tr>\n",
       "      <th>9</th>\n",
       "      <td>NaN</td>\n",
       "      <td>2.27</td>\n",
       "    </tr>\n",
       "  </tbody>\n",
       "</table>\n",
       "</div>"
      ],
      "text/plain": [
       "   Alcohol   Ash\n",
       "0    14.23  2.43\n",
       "1    13.20  2.14\n",
       "2    13.16   NaN\n",
       "3    14.37  2.50\n",
       "4    13.24  2.87\n",
       "5    14.20  2.45\n",
       "6    14.39  2.45\n",
       "7      NaN  2.61\n",
       "8      NaN  2.17\n",
       "9      NaN  2.27"
      ]
     },
     "execution_count": 22,
     "metadata": {},
     "output_type": "execute_result"
    }
   ],
   "source": [
    "# 대치 전: wine_m\n",
    "wine_m[['Alcohol', 'Ash']].head(10)"
   ]
  },
  {
   "cell_type": "code",
   "execution_count": 23,
   "metadata": {},
   "outputs": [
    {
     "data": {
      "text/html": [
       "<div>\n",
       "<style scoped>\n",
       "    .dataframe tbody tr th:only-of-type {\n",
       "        vertical-align: middle;\n",
       "    }\n",
       "\n",
       "    .dataframe tbody tr th {\n",
       "        vertical-align: top;\n",
       "    }\n",
       "\n",
       "    .dataframe thead th {\n",
       "        text-align: right;\n",
       "    }\n",
       "</style>\n",
       "<table border=\"1\" class=\"dataframe\">\n",
       "  <thead>\n",
       "    <tr style=\"text-align: right;\">\n",
       "      <th></th>\n",
       "      <th>Alcohol</th>\n",
       "      <th>Ash</th>\n",
       "    </tr>\n",
       "  </thead>\n",
       "  <tbody>\n",
       "    <tr>\n",
       "      <th>0</th>\n",
       "      <td>14.23</td>\n",
       "      <td>2.43</td>\n",
       "    </tr>\n",
       "    <tr>\n",
       "      <th>1</th>\n",
       "      <td>13.20</td>\n",
       "      <td>2.14</td>\n",
       "    </tr>\n",
       "    <tr>\n",
       "      <th>2</th>\n",
       "      <td>13.16</td>\n",
       "      <td>0.00</td>\n",
       "    </tr>\n",
       "    <tr>\n",
       "      <th>3</th>\n",
       "      <td>14.37</td>\n",
       "      <td>2.50</td>\n",
       "    </tr>\n",
       "    <tr>\n",
       "      <th>4</th>\n",
       "      <td>13.24</td>\n",
       "      <td>2.87</td>\n",
       "    </tr>\n",
       "    <tr>\n",
       "      <th>5</th>\n",
       "      <td>14.20</td>\n",
       "      <td>2.45</td>\n",
       "    </tr>\n",
       "    <tr>\n",
       "      <th>6</th>\n",
       "      <td>14.39</td>\n",
       "      <td>2.45</td>\n",
       "    </tr>\n",
       "    <tr>\n",
       "      <th>7</th>\n",
       "      <td>0.00</td>\n",
       "      <td>2.61</td>\n",
       "    </tr>\n",
       "    <tr>\n",
       "      <th>8</th>\n",
       "      <td>0.00</td>\n",
       "      <td>2.17</td>\n",
       "    </tr>\n",
       "    <tr>\n",
       "      <th>9</th>\n",
       "      <td>0.00</td>\n",
       "      <td>2.27</td>\n",
       "    </tr>\n",
       "  </tbody>\n",
       "</table>\n",
       "</div>"
      ],
      "text/plain": [
       "   Alcohol   Ash\n",
       "0    14.23  2.43\n",
       "1    13.20  2.14\n",
       "2    13.16  0.00\n",
       "3    14.37  2.50\n",
       "4    13.24  2.87\n",
       "5    14.20  2.45\n",
       "6    14.39  2.45\n",
       "7     0.00  2.61\n",
       "8     0.00  2.17\n",
       "9     0.00  2.27"
      ]
     },
     "execution_count": 23,
     "metadata": {},
     "output_type": "execute_result"
    }
   ],
   "source": [
    "# 0으로 대치 후: wine_imp\n",
    "wine_imp = wine_m.fillna(0)\n",
    "wine_imp[['Alcohol', 'Ash']].head(10)"
   ]
  },
  {
   "cell_type": "code",
   "execution_count": 24,
   "metadata": {},
   "outputs": [
    {
     "data": {
      "text/html": [
       "<div>\n",
       "<style scoped>\n",
       "    .dataframe tbody tr th:only-of-type {\n",
       "        vertical-align: middle;\n",
       "    }\n",
       "\n",
       "    .dataframe tbody tr th {\n",
       "        vertical-align: top;\n",
       "    }\n",
       "\n",
       "    .dataframe thead th {\n",
       "        text-align: right;\n",
       "    }\n",
       "</style>\n",
       "<table border=\"1\" class=\"dataframe\">\n",
       "  <thead>\n",
       "    <tr style=\"text-align: right;\">\n",
       "      <th></th>\n",
       "      <th>Alcohol</th>\n",
       "      <th>Ash</th>\n",
       "    </tr>\n",
       "  </thead>\n",
       "  <tbody>\n",
       "    <tr>\n",
       "      <th>0</th>\n",
       "      <td>14.23</td>\n",
       "      <td>2.43</td>\n",
       "    </tr>\n",
       "    <tr>\n",
       "      <th>1</th>\n",
       "      <td>13.20</td>\n",
       "      <td>2.14</td>\n",
       "    </tr>\n",
       "    <tr>\n",
       "      <th>2</th>\n",
       "      <td>13.16</td>\n",
       "      <td>1000.00</td>\n",
       "    </tr>\n",
       "    <tr>\n",
       "      <th>3</th>\n",
       "      <td>14.37</td>\n",
       "      <td>2.50</td>\n",
       "    </tr>\n",
       "    <tr>\n",
       "      <th>4</th>\n",
       "      <td>13.24</td>\n",
       "      <td>2.87</td>\n",
       "    </tr>\n",
       "    <tr>\n",
       "      <th>5</th>\n",
       "      <td>14.20</td>\n",
       "      <td>2.45</td>\n",
       "    </tr>\n",
       "    <tr>\n",
       "      <th>6</th>\n",
       "      <td>14.39</td>\n",
       "      <td>2.45</td>\n",
       "    </tr>\n",
       "    <tr>\n",
       "      <th>7</th>\n",
       "      <td>1000.00</td>\n",
       "      <td>2.61</td>\n",
       "    </tr>\n",
       "    <tr>\n",
       "      <th>8</th>\n",
       "      <td>1000.00</td>\n",
       "      <td>2.17</td>\n",
       "    </tr>\n",
       "    <tr>\n",
       "      <th>9</th>\n",
       "      <td>1000.00</td>\n",
       "      <td>2.27</td>\n",
       "    </tr>\n",
       "  </tbody>\n",
       "</table>\n",
       "</div>"
      ],
      "text/plain": [
       "   Alcohol      Ash\n",
       "0    14.23     2.43\n",
       "1    13.20     2.14\n",
       "2    13.16  1000.00\n",
       "3    14.37     2.50\n",
       "4    13.24     2.87\n",
       "5    14.20     2.45\n",
       "6    14.39     2.45\n",
       "7  1000.00     2.61\n",
       "8  1000.00     2.17\n",
       "9  1000.00     2.27"
      ]
     },
     "execution_count": 24,
     "metadata": {},
     "output_type": "execute_result"
    }
   ],
   "source": [
    "# 1000으로 대치 후: wine_imp\n",
    "wine_imp = wine_m.fillna(1000)\n",
    "wine_imp[['Alcohol', 'Ash']].head(10)"
   ]
  },
  {
   "cell_type": "markdown",
   "metadata": {},
   "source": [
    "#### 대푯값으로 채우는 방법\n",
    "- 해당 변수의 결측되지 않은 다른 값들로 구한 평균값, 중앙값, 최빈값 등의 대푯값으로 결측치를 대치하는 방법이다.\n",
    "- 로그 변환 등을 통해 치우침이 적은 분포로 데이터를 변환한 후 대푯값을 구해 대치하기도 한다."
   ]
  },
  {
   "cell_type": "code",
   "execution_count": 25,
   "metadata": {},
   "outputs": [
    {
     "name": "stdout",
     "output_type": "stream",
     "text": [
      "Alcohol mean: 12.970769230769225, Ash mean: 2.3672549019607843\n"
     ]
    },
    {
     "data": {
      "text/html": [
       "<div>\n",
       "<style scoped>\n",
       "    .dataframe tbody tr th:only-of-type {\n",
       "        vertical-align: middle;\n",
       "    }\n",
       "\n",
       "    .dataframe tbody tr th {\n",
       "        vertical-align: top;\n",
       "    }\n",
       "\n",
       "    .dataframe thead th {\n",
       "        text-align: right;\n",
       "    }\n",
       "</style>\n",
       "<table border=\"1\" class=\"dataframe\">\n",
       "  <thead>\n",
       "    <tr style=\"text-align: right;\">\n",
       "      <th></th>\n",
       "      <th>Alcohol</th>\n",
       "      <th>Ash</th>\n",
       "    </tr>\n",
       "  </thead>\n",
       "  <tbody>\n",
       "    <tr>\n",
       "      <th>0</th>\n",
       "      <td>14.23</td>\n",
       "      <td>2.43</td>\n",
       "    </tr>\n",
       "    <tr>\n",
       "      <th>1</th>\n",
       "      <td>13.20</td>\n",
       "      <td>2.14</td>\n",
       "    </tr>\n",
       "    <tr>\n",
       "      <th>2</th>\n",
       "      <td>13.16</td>\n",
       "      <td>2.37</td>\n",
       "    </tr>\n",
       "    <tr>\n",
       "      <th>3</th>\n",
       "      <td>14.37</td>\n",
       "      <td>2.50</td>\n",
       "    </tr>\n",
       "    <tr>\n",
       "      <th>4</th>\n",
       "      <td>13.24</td>\n",
       "      <td>2.87</td>\n",
       "    </tr>\n",
       "    <tr>\n",
       "      <th>5</th>\n",
       "      <td>14.20</td>\n",
       "      <td>2.45</td>\n",
       "    </tr>\n",
       "    <tr>\n",
       "      <th>6</th>\n",
       "      <td>14.39</td>\n",
       "      <td>2.45</td>\n",
       "    </tr>\n",
       "    <tr>\n",
       "      <th>7</th>\n",
       "      <td>12.97</td>\n",
       "      <td>2.61</td>\n",
       "    </tr>\n",
       "    <tr>\n",
       "      <th>8</th>\n",
       "      <td>12.97</td>\n",
       "      <td>2.17</td>\n",
       "    </tr>\n",
       "    <tr>\n",
       "      <th>9</th>\n",
       "      <td>12.97</td>\n",
       "      <td>2.27</td>\n",
       "    </tr>\n",
       "  </tbody>\n",
       "</table>\n",
       "</div>"
      ],
      "text/plain": [
       "   Alcohol   Ash\n",
       "0    14.23  2.43\n",
       "1    13.20  2.14\n",
       "2    13.16  2.37\n",
       "3    14.37  2.50\n",
       "4    13.24  2.87\n",
       "5    14.20  2.45\n",
       "6    14.39  2.45\n",
       "7    12.97  2.61\n",
       "8    12.97  2.17\n",
       "9    12.97  2.27"
      ]
     },
     "execution_count": 25,
     "metadata": {},
     "output_type": "execute_result"
    }
   ],
   "source": [
    "# 결측치를 대푯값 'mean'으로 대치한 데이터셋: wine_imp1\n",
    "from sklearn.impute import SimpleImputer\n",
    "\n",
    "imputer = SimpleImputer(missing_values=np.nan, strategy='mean') # strategy = 'mean', 'median' or 'most_frequent'\n",
    "wine_imp1 = imputer.fit_transform(wine_m)\n",
    "wine_imp1 = pd.DataFrame(wine_imp1, columns=wine_m.columns)\n",
    "\n",
    "Al_mean = wine_m.Alcohol.mean()\n",
    "As_mean = wine_m.Ash.mean()\n",
    "\n",
    "print(f\"Alcohol mean: {Al_mean}, Ash mean: {As_mean}\")\n",
    "wine_imp1[['Alcohol', 'Ash']].head(10).round(2)"
   ]
  },
  {
   "cell_type": "markdown",
   "metadata": {},
   "source": [
    "#### 단순확률대치법(Single stochastic imputation)\n",
    "- 유사한 데이터 셋에서 랜덤하게 샘플링한 값으로 대치하는 방법이다.\n",
    "- Hot-deck과 Cold-deck 방법이 있다.\n",
    "- Hot-deck 대치법은 현재 진행 중인 연구에서 비슷한 성향을 갖는 데이터들 중 랜덤하게 선택하는 방법이고, Cold-deck 대치법은 외부 출처 혹은 이전의 비슷한 연구에서 대체할 자료를 가져오는 것이다.\n",
    "- 데이터프레임**`sample()`**로 랜덤 샘플링할 수 있다.\n",
    "- 아래에서는 wine 데이터가 wine_m 데이터와 비슷한 성향을 가진 연구중인 데이터라고 가정하고 Hot-deck 대치를 진행하였다."
   ]
  },
  {
   "cell_type": "code",
   "execution_count": 26,
   "metadata": {},
   "outputs": [
    {
     "data": {
      "text/plain": [
       "Alcohol      0\n",
       "Malicacid    0\n",
       "Ash          0\n",
       "Magnesium    0\n",
       "Hue          0\n",
       "dtype: int64"
      ]
     },
     "execution_count": 26,
     "metadata": {},
     "output_type": "execute_result"
    }
   ],
   "source": [
    "# 결측치를 Hot-deck 방법으로 대치한 데이터셋: wine_imp2\n",
    "# wine 데이터가 wine_m 데이터와 비슷한 성향을 가졌다고 가정하고 wine 데이터에서 랜덤하게 데이터를 선택하여 wine_m의 결측치를 대치함\n",
    "wine_imp2 = wine_m.copy()\n",
    "for feat in ['Alcohol', 'Ash']:\n",
    "    missing_idx = wine_imp2[wine_imp2[feat].isna()==True].index\n",
    "    wine_imp2.loc[missing_idx, feat] = wine[feat].sample(len(missing_idx)).values\n",
    "    \n",
    "wine_imp2.isna().sum()"
   ]
  },
  {
   "cell_type": "code",
   "execution_count": 27,
   "metadata": {},
   "outputs": [
    {
     "data": {
      "text/html": [
       "<div>\n",
       "<style scoped>\n",
       "    .dataframe tbody tr th:only-of-type {\n",
       "        vertical-align: middle;\n",
       "    }\n",
       "\n",
       "    .dataframe tbody tr th {\n",
       "        vertical-align: top;\n",
       "    }\n",
       "\n",
       "    .dataframe thead th {\n",
       "        text-align: right;\n",
       "    }\n",
       "</style>\n",
       "<table border=\"1\" class=\"dataframe\">\n",
       "  <thead>\n",
       "    <tr style=\"text-align: right;\">\n",
       "      <th></th>\n",
       "      <th>Alcohol</th>\n",
       "      <th>Malicacid</th>\n",
       "      <th>Ash</th>\n",
       "      <th>Magnesium</th>\n",
       "      <th>Hue</th>\n",
       "    </tr>\n",
       "  </thead>\n",
       "  <tbody>\n",
       "    <tr>\n",
       "      <th>0</th>\n",
       "      <td>14.23</td>\n",
       "      <td>1.71</td>\n",
       "      <td>2.43</td>\n",
       "      <td>127</td>\n",
       "      <td>1.04</td>\n",
       "    </tr>\n",
       "    <tr>\n",
       "      <th>1</th>\n",
       "      <td>13.20</td>\n",
       "      <td>1.78</td>\n",
       "      <td>2.14</td>\n",
       "      <td>100</td>\n",
       "      <td>1.05</td>\n",
       "    </tr>\n",
       "    <tr>\n",
       "      <th>2</th>\n",
       "      <td>13.16</td>\n",
       "      <td>2.36</td>\n",
       "      <td>2.40</td>\n",
       "      <td>101</td>\n",
       "      <td>1.03</td>\n",
       "    </tr>\n",
       "    <tr>\n",
       "      <th>3</th>\n",
       "      <td>14.37</td>\n",
       "      <td>1.95</td>\n",
       "      <td>2.50</td>\n",
       "      <td>113</td>\n",
       "      <td>0.86</td>\n",
       "    </tr>\n",
       "    <tr>\n",
       "      <th>4</th>\n",
       "      <td>13.24</td>\n",
       "      <td>2.59</td>\n",
       "      <td>2.87</td>\n",
       "      <td>118</td>\n",
       "      <td>1.04</td>\n",
       "    </tr>\n",
       "    <tr>\n",
       "      <th>5</th>\n",
       "      <td>14.20</td>\n",
       "      <td>1.76</td>\n",
       "      <td>2.45</td>\n",
       "      <td>112</td>\n",
       "      <td>1.05</td>\n",
       "    </tr>\n",
       "    <tr>\n",
       "      <th>6</th>\n",
       "      <td>14.39</td>\n",
       "      <td>1.87</td>\n",
       "      <td>2.45</td>\n",
       "      <td>96</td>\n",
       "      <td>1.02</td>\n",
       "    </tr>\n",
       "    <tr>\n",
       "      <th>7</th>\n",
       "      <td>13.39</td>\n",
       "      <td>2.15</td>\n",
       "      <td>2.61</td>\n",
       "      <td>121</td>\n",
       "      <td>1.06</td>\n",
       "    </tr>\n",
       "    <tr>\n",
       "      <th>8</th>\n",
       "      <td>14.02</td>\n",
       "      <td>1.64</td>\n",
       "      <td>2.17</td>\n",
       "      <td>97</td>\n",
       "      <td>1.08</td>\n",
       "    </tr>\n",
       "    <tr>\n",
       "      <th>9</th>\n",
       "      <td>13.51</td>\n",
       "      <td>1.35</td>\n",
       "      <td>2.27</td>\n",
       "      <td>98</td>\n",
       "      <td>1.01</td>\n",
       "    </tr>\n",
       "  </tbody>\n",
       "</table>\n",
       "</div>"
      ],
      "text/plain": [
       "   Alcohol  Malicacid   Ash  Magnesium   Hue\n",
       "0    14.23       1.71  2.43        127  1.04\n",
       "1    13.20       1.78  2.14        100  1.05\n",
       "2    13.16       2.36  2.40        101  1.03\n",
       "3    14.37       1.95  2.50        113  0.86\n",
       "4    13.24       2.59  2.87        118  1.04\n",
       "5    14.20       1.76  2.45        112  1.05\n",
       "6    14.39       1.87  2.45         96  1.02\n",
       "7    13.39       2.15  2.61        121  1.06\n",
       "8    14.02       1.64  2.17         97  1.08\n",
       "9    13.51       1.35  2.27         98  1.01"
      ]
     },
     "execution_count": 27,
     "metadata": {},
     "output_type": "execute_result"
    }
   ],
   "source": [
    "wine_imp2.head(10)"
   ]
  },
  {
   "cell_type": "markdown",
   "metadata": {},
   "source": [
    "#### 다른 변수들로 모델링을 하여 결측값을 예측하는 방법\n",
    "- KNN Imputer는 대푯값 대치법보다 정확할 때가 많지만, 전체 데이터셋을 메모리에 올려야 해서 메모리가 많이 필요하고 이상치에 민감하다.\n",
    "- KNN 외에도 기타 회귀 및 분류 알고리즘을 통해 결측값을 예측하는 모델을 만들어 대치에 활용할 수 있다."
   ]
  },
  {
   "cell_type": "code",
   "execution_count": 30,
   "metadata": {},
   "outputs": [
    {
     "data": {
      "text/plain": [
       "Alcohol      0\n",
       "Malicacid    0\n",
       "Ash          0\n",
       "Magnesium    0\n",
       "Hue          0\n",
       "dtype: int64"
      ]
     },
     "execution_count": 30,
     "metadata": {},
     "output_type": "execute_result"
    }
   ],
   "source": [
    "# KNNImputer로 결측치를 대치한 데이터셋: wine_imp3\n",
    "from sklearn.impute import KNNImputer\n",
    "\n",
    "imputer = KNNImputer(n_neighbors=3)\n",
    "wine_imp3 = imputer.fit_transform(wine_m)\n",
    "wine_imp3 = pd.DataFrame(wine_imp3, columns=wine_m.columns)\n",
    "wine_imp3.isna().sum()"
   ]
  },
  {
   "cell_type": "markdown",
   "metadata": {},
   "source": [
    "#### 보간법(Interpolation)\n",
    "- 보간법은 주로 시계열 데이터의 결측치를 대치할 때 사용한다.\n",
    "- 선형(Linear) 보간법, 다항식(Polynomial) 보간법, 스플라인(Spline) 보간법 등이 있다.\n",
    "- Pandas의 데이터프레임 객체에 **`interpolate()`**으로 파라미터에 보간법 종류를 입력함으로써 다양한 방법으로 데이터의 결측치를 대치할 수 있다.\n",
    "- 'linear'는 선형보간, 'zero', 'slinear', 'quadratic', 'cubic'은 0차, 1차, 2차, 3차의 스플라인 보간을 의미한다.\n",
    "- 'spline'과 'polynomial'은 order 파라미터에 차수를 지정하여 사용한다.\n",
    "- 맨 앞의 결측치는 보간이 되지 않기 때문에 단순하게 그 다음 값으로 채우기도 한다."
   ]
  },
  {
   "cell_type": "code",
   "execution_count": 31,
   "metadata": {},
   "outputs": [
    {
     "data": {
      "text/plain": [
       "Alcohol      0\n",
       "Malicacid    0\n",
       "Ash          0\n",
       "Magnesium    0\n",
       "Hue          0\n",
       "dtype: int64"
      ]
     },
     "execution_count": 31,
     "metadata": {},
     "output_type": "execute_result"
    }
   ],
   "source": [
    "# 선형보간법으로 결측치를 대치한 데이터셋: wine_imp4\n",
    "wine_imp4 = wine_m.interpolate(method='linear')\n",
    "wine_imp4.isna().sum()"
   ]
  },
  {
   "cell_type": "markdown",
   "metadata": {},
   "source": [
    "#### 실제값과 대치값의 비교\n",
    "- 앞서 여러 가지 방법으로 구한 대치값들이 실제값과 얼마나 차이가 나는지 MAE와 MSE를 구하여 아래와 같이 비교해 보았다."
   ]
  },
  {
   "cell_type": "code",
   "execution_count": 32,
   "metadata": {},
   "outputs": [
    {
     "data": {
      "text/html": [
       "<div>\n",
       "<style scoped>\n",
       "    .dataframe tbody tr th:only-of-type {\n",
       "        vertical-align: middle;\n",
       "    }\n",
       "\n",
       "    .dataframe tbody tr th {\n",
       "        vertical-align: top;\n",
       "    }\n",
       "\n",
       "    .dataframe thead th {\n",
       "        text-align: right;\n",
       "    }\n",
       "</style>\n",
       "<table border=\"1\" class=\"dataframe\">\n",
       "  <thead>\n",
       "    <tr style=\"text-align: right;\">\n",
       "      <th></th>\n",
       "      <th>실제값</th>\n",
       "      <th>mean 대치</th>\n",
       "      <th>Hot-deck</th>\n",
       "      <th>KNN 대치</th>\n",
       "      <th>선형보간</th>\n",
       "    </tr>\n",
       "  </thead>\n",
       "  <tbody>\n",
       "    <tr>\n",
       "      <th>MAE</th>\n",
       "      <td>0.0</td>\n",
       "      <td>0.094767</td>\n",
       "      <td>0.121629</td>\n",
       "      <td>0.102266</td>\n",
       "      <td>0.046938</td>\n",
       "    </tr>\n",
       "    <tr>\n",
       "      <th>MSE</th>\n",
       "      <td>0.0</td>\n",
       "      <td>0.098814</td>\n",
       "      <td>0.147899</td>\n",
       "      <td>0.121899</td>\n",
       "      <td>0.027735</td>\n",
       "    </tr>\n",
       "  </tbody>\n",
       "</table>\n",
       "</div>"
      ],
      "text/plain": [
       "     실제값   mean 대치  Hot-deck    KNN 대치      선형보간\n",
       "MAE  0.0  0.094767  0.121629  0.102266  0.046938\n",
       "MSE  0.0  0.098814  0.147899  0.121899  0.027735"
      ]
     },
     "execution_count": 32,
     "metadata": {},
     "output_type": "execute_result"
    }
   ],
   "source": [
    "# Alcohol feature 기준으로 결측치를 전처리한 결과를 비교\n",
    "feature = 'Alcohol'\n",
    "report = pd.DataFrame({\n",
    "    '실제값'    : wine[feature],\n",
    "    'mean 대치' : wine_imp1[feature],\n",
    "    'Hot-deck'  : wine_imp2[feature],\n",
    "    'KNN 대치'  : wine_imp3[feature],\n",
    "    '선형보간'  : wine_imp4[feature]    \n",
    "})\n",
    "\n",
    "# 실제값과 대치한 값 사이의 차이를 비교\n",
    "score_report = pd.DataFrame(index=['MAE', 'MSE'])\n",
    "\n",
    "from sklearn.metrics import mean_absolute_error, mean_squared_error\n",
    "for col in report.columns:\n",
    "    mae = mean_absolute_error(report['실제값'], report[col])\n",
    "    mse = mean_squared_error(report['실제값'], report[col])\n",
    "    score_report.loc['MAE', col] = mae\n",
    "    score_report.loc['MSE', col] = mse\n",
    "\n",
    "score_report # 실제값-선형보간대치값의 차이가 가장 작게 나타남"
   ]
  },
  {
   "cell_type": "code",
   "execution_count": 33,
   "metadata": {},
   "outputs": [
    {
     "data": {
      "text/html": [
       "<div>\n",
       "<style scoped>\n",
       "    .dataframe tbody tr th:only-of-type {\n",
       "        vertical-align: middle;\n",
       "    }\n",
       "\n",
       "    .dataframe tbody tr th {\n",
       "        vertical-align: top;\n",
       "    }\n",
       "\n",
       "    .dataframe thead th {\n",
       "        text-align: right;\n",
       "    }\n",
       "</style>\n",
       "<table border=\"1\" class=\"dataframe\">\n",
       "  <thead>\n",
       "    <tr style=\"text-align: right;\">\n",
       "      <th></th>\n",
       "      <th>실제값</th>\n",
       "      <th>mean 대치</th>\n",
       "      <th>Hot-deck</th>\n",
       "      <th>KNN 대치</th>\n",
       "      <th>선형보간</th>\n",
       "    </tr>\n",
       "  </thead>\n",
       "  <tbody>\n",
       "    <tr>\n",
       "      <th>MAE</th>\n",
       "      <td>0.0</td>\n",
       "      <td>0.030639</td>\n",
       "      <td>0.035393</td>\n",
       "      <td>0.032434</td>\n",
       "      <td>0.034298</td>\n",
       "    </tr>\n",
       "    <tr>\n",
       "      <th>MSE</th>\n",
       "      <td>0.0</td>\n",
       "      <td>0.013371</td>\n",
       "      <td>0.014690</td>\n",
       "      <td>0.012066</td>\n",
       "      <td>0.012952</td>\n",
       "    </tr>\n",
       "  </tbody>\n",
       "</table>\n",
       "</div>"
      ],
      "text/plain": [
       "     실제값   mean 대치  Hot-deck    KNN 대치      선형보간\n",
       "MAE  0.0  0.030639  0.035393  0.032434  0.034298\n",
       "MSE  0.0  0.013371  0.014690  0.012066  0.012952"
      ]
     },
     "execution_count": 33,
     "metadata": {},
     "output_type": "execute_result"
    }
   ],
   "source": [
    "# Ash feature 기준으로 결측치를 전처리한 결과를 비교\n",
    "feature = 'Ash'\n",
    "report = pd.DataFrame({\n",
    "    '실제값'    : wine[feature],\n",
    "    'mean 대치' : wine_imp1[feature],\n",
    "    'Hot-deck'  : wine_imp2[feature],\n",
    "    'KNN 대치'  : wine_imp3[feature],\n",
    "    '선형보간'  : wine_imp4[feature]    \n",
    "})\n",
    "\n",
    "# 실제값과 대치한 값 사이의 차이를 비교\n",
    "score_report = pd.DataFrame(index=['MAE', 'MSE'])\n",
    "\n",
    "from sklearn.metrics import mean_absolute_error, mean_squared_error\n",
    "for col in report.columns:\n",
    "    mae = mean_absolute_error(report['실제값'], report[col])\n",
    "    mse = mean_squared_error(report['실제값'], report[col])\n",
    "    score_report.loc['MAE', col] = mae\n",
    "    score_report.loc['MSE', col] = mse\n",
    "\n",
    "score_report # 실제값-mean 대치값의 차이가 가장 작게 나타남"
   ]
  },
  {
   "cell_type": "markdown",
   "metadata": {},
   "source": [
    "## 2-2. 이상치 처리\n",
    "- 특정 데이터가 이상치(Outlier)인지 여부를 진단할 때 다음과 같은 기준을 사용할 수 있다.\n",
    "- 아래의 정상적인 데이터의 범위를 벗어난 데이터들을 이상치로 본다.\n",
    "    1. ESD(Extreme studentized deviation): 평균 - 3 * 표준편차 < normal data < 평균 + 3 * 표준편차\n",
    "    2. 기하평균 - 2.5 * 표준편차 < normal data < 기하평균 + 2.5 * 표준편차\n",
    "    3. **`Q1 - 1.5 * IQR < normal data < Q3 + 1.5 * IQR`**\n",
    "    4. 군집분석을 통한 이상치 진단: scikit-learn의 DBSCAN 군집분석을 통해 -1로 분류되는 값을 이상치로 진단"
   ]
  },
  {
   "cell_type": "markdown",
   "metadata": {},
   "source": [
    "- 이상치는 변수들 사이의 보편적인 관계를 왜곡시키기 때문에 잘못된 학습 결과를 얻게할 수 있다.\n",
    "- 따라서, 적절한 이상치 처리를 한 후 데이터 분석을 실시해야 한다.\n",
    "- 다만, 이상치 탐색이 목적이거나 연구상 이상치를 포함시키는 것이 더 의미가 있다고 판단될 경우에는 이상치를 처리하지 않고 분석을 진행하기도 한다.\n",
    "- 이상치를 처리하는 방법으로는 절단, 조정, 클리핑 등이 있다."
   ]
  },
  {
   "cell_type": "markdown",
   "metadata": {},
   "source": [
    "#### (예1) IQR 기법을 활용한 Wine 데이터 Malicacid 이상치 처리"
   ]
  },
  {
   "cell_type": "code",
   "execution_count": 4,
   "metadata": {},
   "outputs": [
    {
     "data": {
      "text/html": [
       "<div>\n",
       "<style scoped>\n",
       "    .dataframe tbody tr th:only-of-type {\n",
       "        vertical-align: middle;\n",
       "    }\n",
       "\n",
       "    .dataframe tbody tr th {\n",
       "        vertical-align: top;\n",
       "    }\n",
       "\n",
       "    .dataframe thead th {\n",
       "        text-align: right;\n",
       "    }\n",
       "</style>\n",
       "<table border=\"1\" class=\"dataframe\">\n",
       "  <thead>\n",
       "    <tr style=\"text-align: right;\">\n",
       "      <th></th>\n",
       "      <th>Malicacid</th>\n",
       "      <th>Ash</th>\n",
       "      <th>Magnesium</th>\n",
       "    </tr>\n",
       "  </thead>\n",
       "  <tbody>\n",
       "    <tr>\n",
       "      <th>0</th>\n",
       "      <td>1.71</td>\n",
       "      <td>2.43</td>\n",
       "      <td>127</td>\n",
       "    </tr>\n",
       "    <tr>\n",
       "      <th>1</th>\n",
       "      <td>1.78</td>\n",
       "      <td>2.14</td>\n",
       "      <td>100</td>\n",
       "    </tr>\n",
       "    <tr>\n",
       "      <th>2</th>\n",
       "      <td>2.36</td>\n",
       "      <td>2.67</td>\n",
       "      <td>101</td>\n",
       "    </tr>\n",
       "  </tbody>\n",
       "</table>\n",
       "</div>"
      ],
      "text/plain": [
       "   Malicacid   Ash  Magnesium\n",
       "0       1.71  2.43        127\n",
       "1       1.78  2.14        100\n",
       "2       2.36  2.67        101"
      ]
     },
     "execution_count": 4,
     "metadata": {},
     "output_type": "execute_result"
    }
   ],
   "source": [
    "import pandas as pd\n",
    "\n",
    "wine = pd.read_csv(\"https://raw.githubusercontent.com/algoboni/pythoncodebook1-1/main/2-1_wine.csv\", index_col=0).filter(['Alchol', 'Malicacid', 'Ash', 'Magnesium', \"Hue'\"])\n",
    "wine.head(3)"
   ]
  },
  {
   "cell_type": "code",
   "execution_count": 8,
   "metadata": {},
   "outputs": [
    {
     "name": "stdout",
     "output_type": "stream",
     "text": [
      "이상치(Outlier) 인덱스: [123, 137, 173]\n"
     ]
    }
   ],
   "source": [
    "import numpy as np\n",
    "\n",
    "q1, q3 = np.quantile(wine.Malicacid, 0.25), np.quantile(wine.Malicacid, 0.75)\n",
    "iqr = q3 - q1\n",
    "\n",
    "upper_bound = q3 + iqr * 1.5\n",
    "lower_bound = q1 - iqr * 1.5\n",
    "\n",
    "# upper_bound 보다 크고 lower_bound 보다 작은 데이터의 인덱스를 찾음\n",
    "outlier_idx = wine.loc[\n",
    "    (wine.Malicacid >= upper_bound) |\n",
    "    (wine.Malicacid <= lower_bound)\n",
    "].index\n",
    "\n",
    "print(f\"이상치(Outlier) 인덱스: {outlier_idx.tolist()}\")"
   ]
  },
  {
   "cell_type": "markdown",
   "metadata": {},
   "source": [
    "### 절단 (Trim or Truncation)\n",
    "- 경계값 너머의 이상치들을 제거하는 방법이다.\n",
    "- 앞서 찾은 이상치들의 인덱스를 아래와 같이 데이터에서 **`drop()`** 함으로써 절단할 수 있다.\n",
    "- wine 데이터의 Malicacid의 이상치를 처리한 결과, 다음과 같이 3개의 이상치가 발견되어 절단 처리되었다.\n",
    "- 다만, 이상치를 절단한 후에 데이터의 분포가 달라짐에 따라, 이상치가 아니었던 데이터가 새로운 이상치로 진단되기도 한다.\n",
    "- 이를 추가적으로 이상치 처리할 지 여부는 분석가가 상황에 맞게 결정하면 된다."
   ]
  },
  {
   "cell_type": "code",
   "execution_count": 14,
   "metadata": {},
   "outputs": [
    {
     "data": {
      "image/png": "[encoded data removed]",
      "text/plain": [
       "<Figure size 720x360 with 2 Axes>"
      ]
     },
     "metadata": {
      "needs_background": "light"
     },
     "output_type": "display_data"
    }
   ],
   "source": [
    "# 절단\n",
    "wine_trim = wine[['Malicacid']].drop(outlier_idx, axis=0)\n",
    "\n",
    "# 전/후 시각화\n",
    "import matplotlib.pyplot as plt\n",
    "\n",
    "plt.rcParams['figure.figsize'] = (10, 5)\n",
    "plt.rcParams['font.size'] = 12\n",
    "plt.rcParams['axes.unicode_minus'] = False\n",
    "\n",
    "fig, axes = plt.subplots(1, 2)\n",
    "\n",
    "for data, ax, title in zip([wine[['Malicacid']], wine_trim], axes, ['Before', 'After']):\n",
    "    data.boxplot(ax=ax)\n",
    "    ax.set_title(f\"{title}, {len(data)}\")\n",
    "    \n",
    "plt.show()"
   ]
  },
  {
   "cell_type": "markdown",
   "metadata": {},
   "source": [
    "### 조정 (Winsorizing)\n",
    "- 이상치를 이상치의 상한과 하한선 값으로 보정하는 방법이다.\n",
    "- 앞서 사용한 이상치 진단 기준에 의해 정해진 상한과 하한선 값으로 아래와 같이 이상치를 조정하였다.\n",
    "- 그 결과, 절단과는 달리 전체 데이터의 소실이 없기 때문에 이상치 조정 전/후의 데이터 크기가 동일하며, 이상치는 사라진 것으로 나타난다."
   ]
  },
  {
   "cell_type": "code",
   "execution_count": 18,
   "metadata": {},
   "outputs": [
    {
     "data": {
      "image/png": "[encoded data removed]",
      "text/plain": [
       "<Figure size 720x360 with 2 Axes>"
      ]
     },
     "metadata": {
      "needs_background": "light"
     },
     "output_type": "display_data"
    }
   ],
   "source": [
    "wine_winsor = wine[['Malicacid']].clip(lower_bound, upper_bound)\n",
    "\n",
    "# 전/후 시각화\n",
    "import matplotlib.pyplot as plt\n",
    "\n",
    "plt.rcParams['figure.figsize'] = (10, 5)\n",
    "plt.rcParams['font.size'] = 12\n",
    "plt.rcParams['axes.unicode_minus'] = False\n",
    "\n",
    "fig, axes = plt.subplots(1, 2)\n",
    "\n",
    "for data, ax, title in zip([wine[['Malicacid']], wine_winsor], axes, ['Before', 'After']):\n",
    "    data.boxplot(ax=ax)\n",
    "    ax.set_title(f\"{title}, {len(data)}\")\n",
    "    \n",
    "plt.show()"
   ]
  },
  {
   "cell_type": "markdown",
   "metadata": {},
   "source": [
    "### 클리핑 (Clipping)\n",
    "- 이상치의 상한값과 하한값을 특정 값으로 지정해서 해당 범위를 벗어나는 값을 상한값과 하한값으로 조정하는 방법이다.\n",
    "- 이상치 경계값에 대한 확실한 정보를 가지고 있거나, 데이터릍 특정 경계값으로 제한하고 싶을 때 사용한다.\n",
    "- 아래는 상한값을 5, 하한값을 1로 지정하여 클리핑한 결과이다."
   ]
  },
  {
   "cell_type": "code",
   "execution_count": 17,
   "metadata": {},
   "outputs": [
    {
     "data": {
      "image/png": "[encoded data removed]",
      "text/plain": [
       "<Figure size 720x360 with 2 Axes>"
      ]
     },
     "metadata": {
      "needs_background": "light"
     },
     "output_type": "display_data"
    }
   ],
   "source": [
    "wine_clip = wine[['Malicacid']].clip(1, 5)\n",
    "\n",
    "# 전/후 시각화\n",
    "import matplotlib.pyplot as plt\n",
    "\n",
    "plt.rcParams['figure.figsize'] = (10, 5)\n",
    "plt.rcParams['font.size'] = 12\n",
    "plt.rcParams['axes.unicode_minus'] = False\n",
    "\n",
    "fig, axes = plt.subplots(1, 2)\n",
    "\n",
    "for data, ax, title in zip([wine[['Malicacid']], wine_clip], axes, ['Before', 'After']):\n",
    "    data.boxplot(ax=ax)\n",
    "    ax.set_title(f\"{title}, {len(data)}\")\n",
    "    \n",
    "plt.show()"
   ]
  },
  {
   "cell_type": "markdown",
   "metadata": {},
   "source": [
    "### 2-3. 클래스 불균형 처리\n",
    "- 클래스 불균형이란, 전체 데이터에서 타겟변수의 클래스 별 비율이 유사하지 않고 불균형한 상태를 뜻한다.\n",
    "- 예를 들어, 0과 1의 클래스로 구성된 데이터 100개 중 10개가 1이고 90개가 0인 경우이다.\n",
    "- 실제로 현실 세계의 데이터들은 이처럼 클래스가 불균형한 경향이 있다.\n",
    "- 이 때문에 데이터 수가 적은 클래스의 분포를 적절히 학습하지 못하고 다수 클래스에 과대적합 되어 대부분의 데이터를 다수 클래스로 분류하는 문제가 발생하기도 한다.\n",
    "- 이러한 문제를 해결하기 위해 오버샘플링 혹은 언더샘플링으로 클래스 불균형을 조정하는 방법이 있다.\n",
    "- 클래스 불균형 데이터는 소수 클래스의 데이터 수가 부족한 경우가 많기 때문에 언더샘플링 보다는 주로 오버샘플링을 실시한다.\n",
    "- 오버샘플링 및 언더샘플링을 위해 imbalanced-learn 라이브러리의 아래와 같은 함수들을 사용한다.\n",
    "    - 오버샘플링: RandomOverSampler, SMOTE, BorderlineSMOTE, KMeansSMOTE, SVMSMOTE, ADASYN 등\n",
    "    - 언더샘플링: RandomUnderSampler, ClusterCentroids, CondensedNearestNeighbour, AllKNN등"
   ]
  },
  {
   "cell_type": "markdown",
   "metadata": {},
   "source": [
    "#### 클래스 불균형 데이터 생성하기\n",
    "- scikit-learn에서 제공하는 데이터셋 중 'breast cancer' 데이터를 불러와서 클래스 불균형 데이터를 생성하고, 각종 방법으로 오버샘플링 해보고자 한다.\n",
    "- 'breast cancer' 데이터는 환자들의 특성 데이터로서, 유방암에 걸린 환자를 1, 유방암이 아닌 환자를 0으로 분류한 데이터이다.\n",
    "- 전체 특성이 너무 많으므로 편의상 그 중 일부 특성만 골라 사용하기로 한다.\n",
    "- 원본 데이터는 클래스 0과 1의 비율이 비교적 균형을 이루고 있는데, 이를 클래스 0이 소수인 데이터가 되도록 클래스 별로 불균형하게 랜덤 샘플링하여 다음과 같이 연결하였다."
   ]
  },
  {
   "cell_type": "code",
   "execution_count": 34,
   "metadata": {},
   "outputs": [
    {
     "data": {
      "text/html": [
       "<div>\n",
       "<style scoped>\n",
       "    .dataframe tbody tr th:only-of-type {\n",
       "        vertical-align: middle;\n",
       "    }\n",
       "\n",
       "    .dataframe tbody tr th {\n",
       "        vertical-align: top;\n",
       "    }\n",
       "\n",
       "    .dataframe thead th {\n",
       "        text-align: right;\n",
       "    }\n",
       "</style>\n",
       "<table border=\"1\" class=\"dataframe\">\n",
       "  <thead>\n",
       "    <tr style=\"text-align: right;\">\n",
       "      <th></th>\n",
       "      <th>mean radius</th>\n",
       "      <th>mean texture</th>\n",
       "      <th>mean area</th>\n",
       "      <th>target</th>\n",
       "    </tr>\n",
       "  </thead>\n",
       "  <tbody>\n",
       "    <tr>\n",
       "      <th>0</th>\n",
       "      <td>17.99</td>\n",
       "      <td>10.38</td>\n",
       "      <td>1001.0</td>\n",
       "      <td>0.0</td>\n",
       "    </tr>\n",
       "    <tr>\n",
       "      <th>1</th>\n",
       "      <td>20.57</td>\n",
       "      <td>17.77</td>\n",
       "      <td>1326.0</td>\n",
       "      <td>0.0</td>\n",
       "    </tr>\n",
       "    <tr>\n",
       "      <th>2</th>\n",
       "      <td>19.69</td>\n",
       "      <td>21.25</td>\n",
       "      <td>1203.0</td>\n",
       "      <td>0.0</td>\n",
       "    </tr>\n",
       "  </tbody>\n",
       "</table>\n",
       "</div>"
      ],
      "text/plain": [
       "   mean radius  mean texture  mean area  target\n",
       "0        17.99         10.38     1001.0     0.0\n",
       "1        20.57         17.77     1326.0     0.0\n",
       "2        19.69         21.25     1203.0     0.0"
      ]
     },
     "execution_count": 34,
     "metadata": {},
     "output_type": "execute_result"
    }
   ],
   "source": [
    "import pandas as pd\n",
    "import numpy as np\n",
    "\n",
    "from sklearn.datasets import load_breast_cancer\n",
    "from collections import Counter\n",
    "\n",
    "# sklearn의 데이터 불러오기\n",
    "data = load_breast_cancer()\n",
    "df = pd.DataFrame(np.c_[data['data'], data['target']], columns=list(data.feature_names) + ['target'])\n",
    "\n",
    "# 3개의 feature와 target을 추출\n",
    "df = df.filter(['mean radius', 'mean texture', 'mean area', 'target'])\n",
    "df.head(3)"
   ]
  },
  {
   "cell_type": "code",
   "execution_count": 35,
   "metadata": {},
   "outputs": [
    {
     "name": "stdout",
     "output_type": "stream",
     "text": [
      "Original data의 class 분포: Counter({1.0: 357, 0.0: 212})\n"
     ]
    }
   ],
   "source": [
    "print(f\"Original data의 class 분포: {Counter(df['target'])}\")"
   ]
  },
  {
   "cell_type": "code",
   "execution_count": 36,
   "metadata": {},
   "outputs": [
    {
     "name": "stdout",
     "output_type": "stream",
     "text": [
      "Imbalanced data의 class 분포: Counter({1.0: 250, 0.0: 50})\n"
     ]
    }
   ],
   "source": [
    "# 클래스 불균형한 imb_df 생성\n",
    "df1 = df[df['target']==0].sample(50)\n",
    "df2 = df[df['target']==1].sample(250)\n",
    "\n",
    "imb_df = pd.concat([df1, df2]).reset_index(drop=True)\n",
    "print(f\"Imbalanced data의 class 분포: {Counter(imb_df['target'])}\")"
   ]
  },
  {
   "cell_type": "markdown",
   "metadata": {},
   "source": [
    "#### 랜덤 오버샘플링\n",
    "- 기존에 존재하는 소수의 클래스를 단순 복제하여 클래스가 불균형 하지 않도록 비율을 맞춰주는 방법이다.\n",
    "- 분포의 변화는 없으나 소수 클래스인 데이터가 많아지면서 해당 클래스에 대한 가중치가 높아지게 된다.\n",
    "- 한편, 단순히 동일한 데이터의 개수가 늘어난 것이기 때문에 과적합 될 수 있다는 단점이 있다.\n",
    "- 다음과 같이 RandomOverSampler를 통해 랜덤 오버샘플링 된 데이터 포인트들은 산점도에 겹쳐져서 찍히기 때문에 원본보다 색상이 진하게 나타난다."
   ]
  },
  {
   "cell_type": "code",
   "execution_count": 39,
   "metadata": {},
   "outputs": [],
   "source": [
    "import warnings\n",
    "warnings.filterwarnings(action='ignore')"
   ]
  },
  {
   "cell_type": "code",
   "execution_count": 49,
   "metadata": {},
   "outputs": [
    {
     "name": "stdout",
     "output_type": "stream",
     "text": [
      "Imbalanced data의 Class 분포: Counter({1.0: 250, 0.0: 50})\n",
      "Oversampled data의 Class 분포: Counter({0.0: 250, 1.0: 250})\n"
     ]
    },
    {
     "data": {
      "image/png": "[encoded data removed]",
      "text/plain": [
       "<Figure size 720x360 with 2 Axes>"
      ]
     },
     "metadata": {
      "needs_background": "light"
     },
     "output_type": "display_data"
    }
   ],
   "source": [
    "import matplotlib.pyplot as plt\n",
    "import seaborn as sns\n",
    "\n",
    "from imblearn.over_sampling import RandomOverSampler\n",
    "\n",
    "features = imb_df.drop('target', axis=1)\n",
    "target = imb_df['target']\n",
    "\n",
    "os = RandomOverSampler(random_state=0)\n",
    "bal_features, bal_target = os.fit_resample(features, target)\n",
    "\n",
    "print(f\"Imbalanced data의 Class 분포: {Counter(target)}\")\n",
    "print(f\"Oversampled data의 Class 분포: {Counter(bal_target)}\")\n",
    "\n",
    "over_df1 = pd.DataFrame(np.c_[bal_features, bal_target], columns=imb_df.columns)\n",
    "\n",
    "fig, ax = plt.subplots(1, 2, figsize=(10, 5))\n",
    "ax[0].set_title('imbalanced')\n",
    "sns.scatterplot(x='mean radius', y='mean texture', hue='target', data=imb_df, ax=ax[0], alpha=0.5, style='target', markers=['s', '>'])\n",
    "\n",
    "ax[1].set_title('oversampled')\n",
    "sns.scatterplot(x='mean radius', y='mean texture', hue='target', data=over_df1, ax=ax[1], alpha=0.5, style='target', markers=['s', '>'])\n",
    "plt.show()"
   ]
  },
  {
   "cell_type": "markdown",
   "metadata": {},
   "source": [
    "#### SMOTE(Synthetic minority oversampling technique)\n",
    "- 임의의 소수 클래스 데이터로부터 인근 소수 클래스 사이에 새로운 데이터를 생성하는 방법이다.\n",
    "- 임의의 소수 클래스에 해당하는 x를 잡고 그로부터 가장 가까운 k개의 이웃을 찾은 다음, 이 k개의 이웃과 x 사이에 임의의 새로운 데이터 x'를 생성한다."
   ]
  },
  {
   "cell_type": "code",
   "execution_count": 48,
   "metadata": {},
   "outputs": [
    {
     "name": "stdout",
     "output_type": "stream",
     "text": [
      "Imbalanced data의 Class 분포: Counter({1.0: 250, 0.0: 50})\n",
      "Oversampled data의 Class 분포: Counter({0.0: 250, 1.0: 250})\n"
     ]
    },
    {
     "data": {
      "image/png": "[encoded data removed]",
      "text/plain": [
       "<Figure size 720x360 with 2 Axes>"
      ]
     },
     "metadata": {
      "needs_background": "light"
     },
     "output_type": "display_data"
    }
   ],
   "source": [
    "from imblearn.over_sampling import SMOTE\n",
    "\n",
    "os = SMOTE(random_state=0, k_neighbors=3)\n",
    "bal_features, bal_target = os.fit_resample(features, target)\n",
    "\n",
    "print(f\"Imbalanced data의 Class 분포: {Counter(target)}\")\n",
    "print(f\"Oversampled data의 Class 분포: {Counter(bal_target)}\")\n",
    "\n",
    "over_df2 = pd.DataFrame(np.c_[bal_features, bal_target], columns=imb_df.columns)\n",
    "\n",
    "fig, ax = plt.subplots(1, 2, figsize=(10, 5))\n",
    "ax[0].set_title('imbalanced')\n",
    "sns.scatterplot(x='mean radius', y='mean texture', hue='target', data=imb_df, ax=ax[0], alpha=0.5, style='target', markers=['s', '>'])\n",
    "\n",
    "ax[1].set_title('oversampled')\n",
    "sns.scatterplot(x='mean radius', y='mean texture', hue='target', data=over_df2, ax=ax[1], alpha=0.5, style='target', markers=['s', '>'])\n",
    "plt.show()"
   ]
  },
  {
   "cell_type": "markdown",
   "metadata": {},
   "source": [
    "#### Borderline SMOTE\n",
    "- 다수의 클래스와 소수의 클래스를 구분하는 선을 그을 때 서로 인접해 있는 경계선에 있는 소수 클래스의 데이터에 대해서 SMOTE를 적용하는 방법이다.\n",
    "- 먼저, 임의의 소수 클래스 데이터 x와 근접하는 데이터들의 클래스를 살펴보고 여기에 소수와 다수 클래스가 모두 존재하면 이 데이터 x를 경계 데이터로 분류한다.\n",
    "- 그렇지 않은 경우의 소수 클래스 데이터 x는 고려하지 않는다.\n",
    "- Borderline SMOTE는 이러한 경계 데이터만 사용하여 SMOTE를 적용하고 새로운 데이터들을 생성한다."
   ]
  },
  {
   "cell_type": "code",
   "execution_count": 47,
   "metadata": {},
   "outputs": [
    {
     "name": "stdout",
     "output_type": "stream",
     "text": [
      "Imbalanced data의 Class 분포: Counter({1.0: 250, 0.0: 50})\n",
      "Oversampled data의 Class 분포: Counter({0.0: 250, 1.0: 250})\n"
     ]
    },
    {
     "data": {
      "image/png": "[encoded data removed]",
      "text/plain": [
       "<Figure size 720x360 with 2 Axes>"
      ]
     },
     "metadata": {
      "needs_background": "light"
     },
     "output_type": "display_data"
    }
   ],
   "source": [
    "from imblearn.over_sampling import BorderlineSMOTE\n",
    "\n",
    "os = BorderlineSMOTE(random_state=0, k_neighbors=3)\n",
    "bal_features, bal_target = os.fit_resample(features, target)\n",
    "\n",
    "print(f\"Imbalanced data의 Class 분포: {Counter(target)}\")\n",
    "print(f\"Oversampled data의 Class 분포: {Counter(bal_target)}\")\n",
    "\n",
    "over_df3 = pd.DataFrame(np.c_[bal_features, bal_target], columns=imb_df.columns)\n",
    "\n",
    "fig, ax = plt.subplots(1, 2, figsize=(10, 5))\n",
    "ax[0].set_title('imbalanced')\n",
    "sns.scatterplot(x='mean radius', y='mean texture', hue='target', data=imb_df, ax=ax[0], alpha=0.5, style='target', markers=['s', '>'])\n",
    "\n",
    "ax[1].set_title('oversampled')\n",
    "sns.scatterplot(x='mean radius', y='mean texture', hue='target', data=over_df3, ax=ax[1], alpha=0.5, style='target', markers=['s', '>'])\n",
    "plt.show()"
   ]
  },
  {
   "cell_type": "markdown",
   "metadata": {},
   "source": [
    "#### K-means SMOTE\n",
    "- K-means 클러스터링 알고리즘을 사용하여 전체 데이터를 클러스터링하고, 소수 클래스 샘플이 적게 포함된 군집에 소수 클래스 샘플을 추가하는 방법이다."
   ]
  },
  {
   "cell_type": "code",
   "execution_count": 54,
   "metadata": {},
   "outputs": [
    {
     "name": "stdout",
     "output_type": "stream",
     "text": [
      "Imbalanced data의 Class 분포: Counter({1.0: 250, 0.0: 50})\n",
      "Oversampled data의 Class 분포: Counter({0.0: 252, 1.0: 250})\n"
     ]
    },
    {
     "data": {
      "image/png": "[encoded data removed]",
      "text/plain": [
       "<Figure size 720x360 with 2 Axes>"
      ]
     },
     "metadata": {
      "needs_background": "light"
     },
     "output_type": "display_data"
    }
   ],
   "source": [
    "from imblearn.over_sampling import KMeansSMOTE\n",
    "\n",
    "os = KMeansSMOTE(random_state=0, k_neighbors=3)\n",
    "bal_features, bal_target = os.fit_resample(features, target)\n",
    "\n",
    "print(f\"Imbalanced data의 Class 분포: {Counter(target)}\")\n",
    "print(f\"Oversampled data의 Class 분포: {Counter(bal_target)}\")\n",
    "\n",
    "over_df4 = pd.DataFrame(np.c_[bal_features, bal_target], columns=imb_df.columns)\n",
    "\n",
    "fig, ax = plt.subplots(1, 2, figsize=(10, 5))\n",
    "ax[0].set_title('imbalanced')\n",
    "sns.scatterplot(x='mean radius', y='mean texture', hue='target', data=imb_df, ax=ax[0], alpha=0.5, style='target', markers=['s', '>'])\n",
    "\n",
    "ax[1].set_title('oversampled')\n",
    "sns.scatterplot(x='mean radius', y='mean texture', hue='target', data=over_df4, ax=ax[1], alpha=0.5, style='target', markers=['s', '>'])\n",
    "plt.show()"
   ]
  },
  {
   "cell_type": "markdown",
   "metadata": {},
   "source": [
    "#### SVM SMOTE\n",
    "- SVM(Support vector machines) 알고리즘으로 데이터를 학습함으로써 생성되는 support vector를 활용한다.\n",
    "- 소수 클래스인 support vector 데이터들을 경계 데이터로 삼고 SMOTE를 적용하는 방법이다."
   ]
  },
  {
   "cell_type": "code",
   "execution_count": 55,
   "metadata": {},
   "outputs": [
    {
     "name": "stdout",
     "output_type": "stream",
     "text": [
      "Imbalanced data의 Class 분포: Counter({1.0: 250, 0.0: 50})\n",
      "Oversampled data의 Class 분포: Counter({0.0: 250, 1.0: 250})\n"
     ]
    },
    {
     "data": {
      "image/png": "[encoded data removed]",
      "text/plain": [
       "<Figure size 720x360 with 2 Axes>"
      ]
     },
     "metadata": {
      "needs_background": "light"
     },
     "output_type": "display_data"
    }
   ],
   "source": [
    "from imblearn.over_sampling import SVMSMOTE\n",
    "\n",
    "os = SVMSMOTE(random_state=0, k_neighbors=3)\n",
    "bal_features, bal_target = os.fit_resample(features, target)\n",
    "\n",
    "print(f\"Imbalanced data의 Class 분포: {Counter(target)}\")\n",
    "print(f\"Oversampled data의 Class 분포: {Counter(bal_target)}\")\n",
    "\n",
    "over_df5 = pd.DataFrame(np.c_[bal_features, bal_target], columns=imb_df.columns)\n",
    "\n",
    "fig, ax = plt.subplots(1, 2, figsize=(10, 5))\n",
    "ax[0].set_title('imbalanced')\n",
    "sns.scatterplot(x='mean radius', y='mean texture', hue='target', data=imb_df, ax=ax[0], alpha=0.5, style='target', markers=['s', '>'])\n",
    "\n",
    "ax[1].set_title('oversampled')\n",
    "sns.scatterplot(x='mean radius', y='mean texture', hue='target', data=over_df5, ax=ax[1], alpha=0.5, style='target', markers=['s', '>'])\n",
    "plt.show()"
   ]
  },
  {
   "cell_type": "markdown",
   "metadata": {},
   "source": [
    "#### ADASYN(Adaptive synthetic sampling)\n",
    "- 가중치를 통해 SMOTE를 적용시키는 방식이다.\n",
    "- 인접한 데이터의 소수 클래스와 다수 클래스의 비율에 따라 생성되는 샘플의 개수가 정해진다.\n",
    "- 생성되는 샘플의 개수는 소수 클래스의 밀도에 반비례한다."
   ]
  },
  {
   "cell_type": "code",
   "execution_count": 57,
   "metadata": {},
   "outputs": [
    {
     "name": "stdout",
     "output_type": "stream",
     "text": [
      "Imbalanced data의 Class 분포: Counter({1.0: 250, 0.0: 50})\n",
      "Oversampled data의 Class 분포: Counter({0.0: 253, 1.0: 250})\n"
     ]
    },
    {
     "data": {
      "image/png": "[encoded data removed]",
      "text/plain": [
       "<Figure size 720x360 with 2 Axes>"
      ]
     },
     "metadata": {
      "needs_background": "light"
     },
     "output_type": "display_data"
    }
   ],
   "source": [
    "from imblearn.over_sampling import ADASYN\n",
    "\n",
    "os = ADASYN(random_state=0, n_neighbors=3)\n",
    "bal_features, bal_target = os.fit_resample(features, target)\n",
    "\n",
    "print(f\"Imbalanced data의 Class 분포: {Counter(target)}\")\n",
    "print(f\"Oversampled data의 Class 분포: {Counter(bal_target)}\")\n",
    "\n",
    "over_df6 = pd.DataFrame(np.c_[bal_features, bal_target], columns=imb_df.columns)\n",
    "\n",
    "fig, ax = plt.subplots(1, 2, figsize=(10, 5))\n",
    "ax[0].set_title('imbalanced')\n",
    "sns.scatterplot(x='mean radius', y='mean texture', hue='target', data=imb_df, ax=ax[0], alpha=0.5, style='target', markers=['s', '>'])\n",
    "\n",
    "ax[1].set_title('oversampled')\n",
    "sns.scatterplot(x='mean radius', y='mean texture', hue='target', data=over_df6, ax=ax[1], alpha=0.5, style='target', markers=['s', '>'])\n",
    "plt.show()"
   ]
  },
  {
   "cell_type": "markdown",
   "metadata": {},
   "source": [
    "#### 오버샘플링된 데이터로 분류 학습 및 결과 비교\n",
    "- 불균형 데이터와 각종 방법으로 오버샘플링된 데이터들로 각각 로지스틱 회귀 모델링을 하고, 정확도 및 F1-score를 계산하였다.\n",
    "- 그 결과, Test F1-score를 기준으로 K-means SMOTE 데이터로 학습한 모델이 가장 높은 분류 성능을 나타냈다.\n",
    "- 이는 불균형 데이터로 학습한 모델보다 개선된 성능을 나타낸 것이다.\n",
    "- 반면, Borderline SMOTE 데이터로 학습한 모델은 가장 낮은 분류 성능을 나타냈다."
   ]
  },
  {
   "cell_type": "code",
   "execution_count": 60,
   "metadata": {},
   "outputs": [
    {
     "data": {
      "text/html": [
       "<div>\n",
       "<style scoped>\n",
       "    .dataframe tbody tr th:only-of-type {\n",
       "        vertical-align: middle;\n",
       "    }\n",
       "\n",
       "    .dataframe tbody tr th {\n",
       "        vertical-align: top;\n",
       "    }\n",
       "\n",
       "    .dataframe thead th {\n",
       "        text-align: right;\n",
       "    }\n",
       "</style>\n",
       "<table border=\"1\" class=\"dataframe\">\n",
       "  <thead>\n",
       "    <tr style=\"text-align: right;\">\n",
       "      <th></th>\n",
       "      <th>no oversampling</th>\n",
       "      <th>RandomOverSampler</th>\n",
       "      <th>SMOTE</th>\n",
       "      <th>BorderlineSMOTE</th>\n",
       "      <th>KMeansSMOTE</th>\n",
       "      <th>SVMSMOTE</th>\n",
       "      <th>ADASYN</th>\n",
       "    </tr>\n",
       "  </thead>\n",
       "  <tbody>\n",
       "    <tr>\n",
       "      <th>Train acc</th>\n",
       "      <td>0.928889</td>\n",
       "      <td>0.890667</td>\n",
       "      <td>0.885333</td>\n",
       "      <td>0.896</td>\n",
       "      <td>0.946809</td>\n",
       "      <td>0.858667</td>\n",
       "      <td>0.798408</td>\n",
       "    </tr>\n",
       "    <tr>\n",
       "      <th>Test acc</th>\n",
       "      <td>0.933333</td>\n",
       "      <td>0.808</td>\n",
       "      <td>0.832</td>\n",
       "      <td>0.912</td>\n",
       "      <td>0.960317</td>\n",
       "      <td>0.832</td>\n",
       "      <td>0.857143</td>\n",
       "    </tr>\n",
       "    <tr>\n",
       "      <th>Train F1</th>\n",
       "      <td>0.957447</td>\n",
       "      <td>0.895141</td>\n",
       "      <td>0.88946</td>\n",
       "      <td>0.892562</td>\n",
       "      <td>0.94709</td>\n",
       "      <td>0.867168</td>\n",
       "      <td>0.809045</td>\n",
       "    </tr>\n",
       "    <tr>\n",
       "      <th>Test F1</th>\n",
       "      <td>0.962406</td>\n",
       "      <td>0.809524</td>\n",
       "      <td>0.829268</td>\n",
       "      <td>0.907563</td>\n",
       "      <td>0.96124</td>\n",
       "      <td>0.829268</td>\n",
       "      <td>0.85</td>\n",
       "    </tr>\n",
       "  </tbody>\n",
       "</table>\n",
       "</div>"
      ],
      "text/plain": [
       "          no oversampling RandomOverSampler     SMOTE BorderlineSMOTE  \\\n",
       "Train acc        0.928889          0.890667  0.885333           0.896   \n",
       "Test acc         0.933333             0.808     0.832           0.912   \n",
       "Train F1         0.957447          0.895141   0.88946        0.892562   \n",
       "Test F1          0.962406          0.809524  0.829268        0.907563   \n",
       "\n",
       "          KMeansSMOTE  SVMSMOTE    ADASYN  \n",
       "Train acc    0.946809  0.858667  0.798408  \n",
       "Test acc     0.960317     0.832  0.857143  \n",
       "Train F1      0.94709  0.867168  0.809045  \n",
       "Test F1       0.96124  0.829268      0.85  "
      ]
     },
     "execution_count": 60,
     "metadata": {},
     "output_type": "execute_result"
    }
   ],
   "source": [
    "from sklearn.linear_model import LogisticRegression\n",
    "from sklearn.model_selection import train_test_split\n",
    "from sklearn.metrics import f1_score, accuracy_score\n",
    "\n",
    "data = [imb_df, over_df1, over_df2, over_df3, over_df4, over_df5, over_df6]\n",
    "data_title = ['no oversampling', 'RandomOverSampler', 'SMOTE', 'BorderlineSMOTE', 'KMeansSMOTE', 'SVMSMOTE', 'ADASYN']\n",
    "\n",
    "scores = pd.DataFrame(index=['Train acc', 'Test acc', 'Train F1', 'Test F1'], columns=data_title)\n",
    "\n",
    "for df, title in zip(data, data_title):\n",
    "    features = df.drop('target', axis=1)\n",
    "    target = df['target']\n",
    "    \n",
    "    X_train, X_test, y_train, y_test = train_test_split(features, target)\n",
    "    \n",
    "    lr = LogisticRegression(max_iter=300)\n",
    "    lr.fit(X_train, y_train)\n",
    "    \n",
    "    pred_train = lr.predict(X_train)\n",
    "    pred_test = lr.predict(X_test)\n",
    "    \n",
    "    scores.loc['Train acc', title] = accuracy_score(y_train, pred_train)\n",
    "    scores.loc['Test acc', title] = accuracy_score(y_test, pred_test)\n",
    "    scores.loc['Train F1', title] = f1_score(y_train, pred_train)\n",
    "    scores.loc['Test F1', title] = f1_score(y_test, pred_test)\n",
    "    \n",
    "scores"
   ]
  },
  {
   "cell_type": "markdown",
   "metadata": {},
   "source": [
    "### 2-4. 변수변환(Feature scaling)\n",
    "- 특성(Feature)의 척도(Scale)를 바꾸는 것을 의미하며, 일반적으로 각 특성에 대해 개별적으로 수행한다.\n",
    "- 회귀분석 모델의 경우, 특성의 관측치의 범위가 크거나 특성들의 척도가 크게 상이하면 회귀계수가 왜곡되기 쉽다.\n",
    "- 신경망 모델의 경우에도, 특성들 간의 값의 척도가 크게 다르면 학습이 잘 진행되지 않는다.\n",
    "- 거리 기반 모델들도 마찬가지이다. 이처럼 사용하려는 모델이 특성의 척도에 민감하다면 데이터 학습 전에 반드시 변수변환을 진행해야 한다.\n",
    "- 반면, 트리 기반 모델들은 특성의 척도에서 자유롭기 때문에 변수변환이 필수적이지 않다."
   ]
  },
  {
   "cell_type": "markdown",
   "metadata": {},
   "source": [
    "#### 2-4-1. 수치형 변수 변환\n",
    "- 크게 선형변환(표준화, 최소-최대 스케일링, Robust scaling, Quantile scaling 등)과 비선형변환(로그 변환, Box-cox, Yeo-Johnson 등)으로 나눌 수 있으며 이외에도 구간분할(Binning), 순위로 변환 등이 있다.\n",
    "- 수치형 변수변환 예제를 위해 다음과 같이 'diabetes' 데이터셋을 불러왔다.\n",
    "- 'diabetes'는 환자의 특성들과 당뇨병 여부를 포함하는 분류 데이터이다. 여러 특성들 중에서 편의상 4개의 특성만 사용하기로 한다."
   ]
  },
  {
   "cell_type": "code",
   "execution_count": 64,
   "metadata": {},
   "outputs": [
    {
     "name": "stdout",
     "output_type": "stream",
     "text": [
      "특성:\n",
      "    Pregnancies  BloodPressure   BMI  Age\n",
      "0            6             72  33.6   50\n",
      "타겟:\n",
      " 0    1\n",
      "Name: Outcome, dtype: int64\n"
     ]
    }
   ],
   "source": [
    "diabetes = pd.read_csv(\"https://raw.githubusercontent.com/algoboni/pythoncodebook1-1/main/2-4_diabetes.csv\")\n",
    "\n",
    "X = diabetes.filter(['Pregnancies', 'BloodPressure', 'BMI', 'Age']) # 4개 특성\n",
    "y = diabetes['Outcome']\n",
    "\n",
    "print(\"특성:\\n\", X.head(1))\n",
    "print(\"타겟:\\n\", y.head(1))"
   ]
  },
  {
   "cell_type": "markdown",
   "metadata": {},
   "source": [
    "#### 표준화(Standardization)\n",
    "- 각 특성별로 표준점수(Z-score)를 구하는 변수변환 방법으로서 (각 데이터 포인트 - 데이터의 평균) / 데이터의 표준편차로 계산한다.\n",
    "- 이를 통해 각 특성의 평균을 0, 분산을 1로 변경하여 모든 특성이 같은 크기를 가지게 한다.\n",
    "- 표준점수인 z는 원수치인 x가 평균에서 얼마나 떨어져 있는지를 나타낸다.\n",
    "- z값이 음수이면 평균 이하, 양수이면 평균 이상이다.\n",
    "- 그러나 이 방법은 특성의 최솟값과 최댓값의 크기를 제한하지는 않는다.\n",
    "- 다음의 예제 코드를 통해 표준화 스케일링의 결과를 확인할 수 있다.\n",
    "- 스케일링 전, 특성들의 데이터는 저마다 다른 평균과 범위를 가지고 분포되어 있다.\n",
    "- 표준화 스케일링을 통해 각 특성들은 0에 가까운 평균을 가지게 되었으며, 대등하게 비교할 수 있는 스케일을 갖게 되었다."
   ]
  },
  {
   "cell_type": "code",
   "execution_count": 68,
   "metadata": {},
   "outputs": [
    {
     "name": "stdout",
     "output_type": "stream",
     "text": [
      "[Before] feature 별 데이터 분포 확인:\n",
      "      Pregnancies  BloodPressure        BMI        Age\n",
      "mean     3.845052      69.105469  31.992578  33.240885\n",
      "std      3.369578      19.355807   7.884160  11.760232\n",
      "max     17.000000     122.000000  67.100000  81.000000\n",
      "min      0.000000       0.000000   0.000000  21.000000 \n",
      "\n",
      "[After] feature 별 데이터 분포 확인:\n",
      "       Pregnancies  BloodPressure           BMI           Age\n",
      "mean  2.544261e-17  -1.327244e-17  2.295979e-16  1.857600e-16\n",
      "std   1.000652e+00   1.000652e+00  1.000652e+00  1.000652e+00\n",
      "max   3.906578e+00   2.734528e+00  4.455807e+00  4.063716e+00\n",
      "min  -1.141852e+00  -3.572597e+00 -4.060474e+00 -1.041549e+00\n"
     ]
    }
   ],
   "source": [
    "print(\"[Before] feature 별 데이터 분포 확인:\")\n",
    "print(X.describe().loc[['mean', 'std', 'max', 'min'], :], '\\n')\n",
    "\n",
    "# sklearn의 StandardScaler로 feature scaling\n",
    "from sklearn.preprocessing import StandardScaler\n",
    "\n",
    "ss = StandardScaler()\n",
    "ss_X = ss.fit_transform(X)\n",
    "ss_X = pd.DataFrame(ss_X, columns=X.columns)\n",
    "\n",
    "print(\"[After] feature 별 데이터 분포 확인:\")\n",
    "print(ss_X.describe().loc[['mean', 'std', 'max', 'min'], :])"
   ]
  },
  {
   "cell_type": "code",
   "execution_count": 71,
   "metadata": {},
   "outputs": [
    {
     "data": {
      "image/png": "[encoded data removed]",
      "text/plain": [
       "<Figure size 1080x360 with 2 Axes>"
      ]
     },
     "metadata": {
      "needs_background": "light"
     },
     "output_type": "display_data"
    }
   ],
   "source": [
    "# scaling 전후 데이터 분포 비교 시각화\n",
    "import matplotlib.pyplot as plt\n",
    "import seaborn as sns\n",
    "\n",
    "fig, ax = plt.subplots(1, 2, figsize=(15, 5))\n",
    "for col, a in zip(X.columns, [0.02, 0.1, 0.6, 1]):\n",
    "    sns.kdeplot(X[col], alpha=a, legend=True, ax=ax[0], shade=True, color='r')\n",
    "\n",
    "ax[0].legend(X.columns)\n",
    "ax[0].set_xlabel('features')\n",
    "ax[0].set_title('Before scaling')\n",
    "\n",
    "for col, a in zip(ss_X.columns, [0.02, 0.2, 0.6, 1]):\n",
    "    sns.kdeplot(ss_X[col], alpha=a, legend=True, ax=ax[1], shade=True, color='r')\n",
    "    \n",
    "ax[1].legend(ss_X.columns)\n",
    "ax[1].set_xlabel('features')\n",
    "ax[1].set_title('After scaling')\n",
    "\n",
    "plt.show()"
   ]
  },
  {
   "cell_type": "markdown",
   "metadata": {},
   "source": [
    "#### 최소-최대 스케일링(Min-Max scaling)\n",
    "- 모든 특성이 정확하게 0과 1 사이에 위치하도록 데이터를 변경하는 것이다.\n",
    "- (데이터값 - 최솟값) / (최댓값 - 최솟값)으로 계산한다.\n",
    "- 이미지 데이터의 픽셀값과 같이 처음부터 0~255로 범위가 정해진 변수는 최소-최대 스케일링을 이용하는게 자연스러울 수 있다.\n",
    "- 반면, 변환 후의 평균이 정확히 0이 되지 않고, 이상치의 악영향을 받기 쉽다는 단점이 있어서 이 방법보다는 표준화 방법이 더 자주 쓰인다."
   ]
  },
  {
   "cell_type": "code",
   "execution_count": 73,
   "metadata": {},
   "outputs": [
    {
     "name": "stdout",
     "output_type": "stream",
     "text": [
      "[Before] feature 별 데이터 분포 확인:\n",
      "      Pregnancies  BloodPressure        BMI        Age\n",
      "mean     3.845052      69.105469  31.992578  33.240885\n",
      "std      3.369578      19.355807   7.884160  11.760232\n",
      "max     17.000000     122.000000  67.100000  81.000000\n",
      "min      0.000000       0.000000   0.000000  21.000000 \n",
      "\n",
      "[After] feature 별 데이터 분포 확인:\n",
      "      Pregnancies  BloodPressure       BMI       Age\n",
      "mean      0.22618       0.566438  0.476790  0.204015\n",
      "std       0.19821       0.158654  0.117499  0.196004\n",
      "max       1.00000       1.000000  1.000000  1.000000\n",
      "min       0.00000       0.000000  0.000000  0.000000\n"
     ]
    }
   ],
   "source": [
    "print(\"[Before] feature 별 데이터 분포 확인:\")\n",
    "print(X.describe().loc[['mean', 'std', 'max', 'min'], :], '\\n')\n",
    "\n",
    "# sklearn의 MinMaxScaler feature scaling\n",
    "from sklearn.preprocessing import MinMaxScaler\n",
    "\n",
    "mm = MinMaxScaler()\n",
    "mm_X = mm.fit_transform(X)\n",
    "mm_X = pd.DataFrame(mm_X, columns=X.columns)\n",
    "\n",
    "print(\"[After] feature 별 데이터 분포 확인:\")\n",
    "print(mm_X.describe().loc[['mean', 'std', 'max', 'min'], :])"
   ]
  },
  {
   "cell_type": "code",
   "execution_count": 74,
   "metadata": {},
   "outputs": [
    {
     "data": {
      "image/png": "[encoded data removed]",
      "text/plain": [
       "<Figure size 1080x360 with 2 Axes>"
      ]
     },
     "metadata": {
      "needs_background": "light"
     },
     "output_type": "display_data"
    }
   ],
   "source": [
    "fig, ax = plt.subplots(1, 2, figsize=(15, 5))\n",
    "for col, a in zip(X.columns, [0.02, 0.1, 0.6, 1]):\n",
    "    sns.kdeplot(X[col], alpha=a, legend=True, ax=ax[0], shade=True, color='r')\n",
    "\n",
    "ax[0].legend(X.columns)\n",
    "ax[0].set_xlabel('features')\n",
    "ax[0].set_title('Before scaling')\n",
    "\n",
    "for col, a in zip(mm_X.columns, [0.02, 0.2, 0.6, 1]):\n",
    "    sns.kdeplot(mm_X[col], alpha=a, legend=True, ax=ax[1], shade=True, color='r')\n",
    "    \n",
    "ax[1].legend(mm_X.columns)\n",
    "ax[1].set_xlabel('features')\n",
    "ax[1].set_title('After scaling')\n",
    "\n",
    "plt.show()"
   ]
  },
  {
   "cell_type": "markdown",
   "metadata": {},
   "source": [
    "#### Robust scaling\n",
    "- 특성들이 같은 스케일을 갖게 된다는 통계적 측면에서는 표준화 스케일링과 비슷하지만 평균과 분산 대신 중앙값과 사분위수를 사용한다는 점에서 차이가 있다.\n",
    "- 이 덕분에 Robust scaling은 이상치의 영향을 받지 않는다.\n",
    "- (데이터값 - 중앙값) / (3사분위수 - 1사분위수)로 계산한다."
   ]
  },
  {
   "cell_type": "code",
   "execution_count": 75,
   "metadata": {},
   "outputs": [
    {
     "name": "stdout",
     "output_type": "stream",
     "text": [
      "[Before] feature 별 데이터 분포 확인:\n",
      "      Pregnancies  BloodPressure        BMI        Age\n",
      "mean     3.845052      69.105469  31.992578  33.240885\n",
      "std      3.369578      19.355807   7.884160  11.760232\n",
      "max     17.000000     122.000000  67.100000  81.000000\n",
      "min      0.000000       0.000000   0.000000  21.000000 \n",
      "\n",
      "[After] feature 별 데이터 분포 확인:\n",
      "      Pregnancies  BloodPressure       BMI       Age\n",
      "mean     0.169010      -0.160807 -0.000798  0.249464\n",
      "std      0.673916       1.075323  0.847759  0.691778\n",
      "max      2.800000       2.777778  3.774194  3.058824\n",
      "min     -0.600000      -4.000000 -3.440860 -0.470588\n"
     ]
    }
   ],
   "source": [
    "print(\"[Before] feature 별 데이터 분포 확인:\")\n",
    "print(X.describe().loc[['mean', 'std', 'max', 'min'], :], '\\n')\n",
    "\n",
    "# sklearn의 RobustScaler feature scaling\n",
    "from sklearn.preprocessing import RobustScaler\n",
    "\n",
    "rs = RobustScaler()\n",
    "rs_X = rs.fit_transform(X)\n",
    "rs_X = pd.DataFrame(rs_X, columns=X.columns)\n",
    "\n",
    "print(\"[After] feature 별 데이터 분포 확인:\")\n",
    "print(rs_X.describe().loc[['mean', 'std', 'max', 'min'], :])"
   ]
  },
  {
   "cell_type": "code",
   "execution_count": 76,
   "metadata": {},
   "outputs": [
    {
     "data": {
      "image/png": "[encoded data removed]",
      "text/plain": [
       "<Figure size 1080x360 with 2 Axes>"
      ]
     },
     "metadata": {
      "needs_background": "light"
     },
     "output_type": "display_data"
    }
   ],
   "source": [
    "fig, ax = plt.subplots(1, 2, figsize=(15, 5))\n",
    "for col, a in zip(X.columns, [0.02, 0.1, 0.6, 1]):\n",
    "    sns.kdeplot(X[col], alpha=a, legend=True, ax=ax[0], shade=True, color='r')\n",
    "\n",
    "ax[0].legend(X.columns)\n",
    "ax[0].set_xlabel('features')\n",
    "ax[0].set_title('Before scaling')\n",
    "\n",
    "for col, a in zip(rs_X.columns, [0.02, 0.2, 0.6, 1]):\n",
    "    sns.kdeplot(rs_X[col], alpha=a, legend=True, ax=ax[1], shade=True, color='r')\n",
    "    \n",
    "ax[1].legend(rs_X.columns)\n",
    "ax[1].set_xlabel('features')\n",
    "ax[1].set_title('After scaling')\n",
    "\n",
    "plt.show()"
   ]
  },
  {
   "cell_type": "markdown",
   "metadata": {},
   "source": [
    "#### Quantile scaling\n",
    "- 분위수를 사용하여 스케일링하는 방법이다.\n",
    "- scikit-learn에서 제공하는 QuantileTransformer의 파라미터 output_distribution을 'uniform' 혹은 'normal'로 설정함으로써 균등 분포 혹은 정규 분포에 가깝게 데이터를 변환할 수 있다.\n",
    "- QuantileTransformer의 균등 분포 방법은 데이터의 1000개의 분위를 사용하여 분포를 재배치하는 것이다.\n",
    "    - 이 방법은 Robust scaling과 마찬가지로 이상치에 민감하지 않으며 전체 데이터를 0과 1 사이로 압축한다.\n",
    "    - 몇 개의 분위를 사용할지는 n_quantiles 매개변수에서 설정할 수 있으며 기본값은 1000이다.\n",
    "    - 기본값보다 작은 크기의 데이터가 입력될 경우, 데이터의 개수대로 n_quantiles의 값이 설정된다.\n",
    "- QuantileTransformer의 정규 분포 방법은 Rank Gauss 방법으로서 수치형 변수를 순위로 변환한 뒤 순서를 유지한 채 정규분포가 되도록 변환하는 방법이다. 전체 데이터를 -5와 5 사이로 압축한다."
   ]
  },
  {
   "cell_type": "code",
   "execution_count": 77,
   "metadata": {},
   "outputs": [
    {
     "name": "stdout",
     "output_type": "stream",
     "text": [
      "[Before] feature 별 데이터 분포 확인:\n",
      "      Pregnancies  BloodPressure        BMI        Age\n",
      "mean     3.845052      69.105469  31.992578  33.240885\n",
      "std      3.369578      19.355807   7.884160  11.760232\n",
      "max     17.000000     122.000000  67.100000  81.000000\n",
      "min      0.000000       0.000000   0.000000  21.000000 \n",
      "\n",
      "[After] feature 별 데이터 분포 확인:\n",
      "      Pregnancies  BloodPressure       BMI       Age\n",
      "mean     0.489773       0.499110  0.499972  0.496769\n",
      "std      0.303331       0.290718  0.289391  0.294365\n",
      "max      1.000000       1.000000  1.000000  1.000000\n",
      "min      0.000000       0.000000  0.000000  0.000000\n"
     ]
    }
   ],
   "source": [
    "print(\"[Before] feature 별 데이터 분포 확인:\")\n",
    "print(X.describe().loc[['mean', 'std', 'max', 'min'], :], '\\n')\n",
    "\n",
    "# sklearn의 QuantileTransformer feature scaling\n",
    "from sklearn.preprocessing import QuantileTransformer\n",
    "\n",
    "qtu = QuantileTransformer(output_distribution='uniform', n_quantiles=len(X))\n",
    "qtu_X = qtu.fit_transform(X)\n",
    "qtu_X = pd.DataFrame(qtu_X, columns=X.columns)\n",
    "\n",
    "print(\"[After] feature 별 데이터 분포 확인:\")\n",
    "print(qtu_X.describe().loc[['mean', 'std', 'max', 'min'], :])"
   ]
  },
  {
   "cell_type": "code",
   "execution_count": 78,
   "metadata": {},
   "outputs": [
    {
     "data": {
      "image/png": "[encoded data removed]",
      "text/plain": [
       "<Figure size 1080x360 with 2 Axes>"
      ]
     },
     "metadata": {
      "needs_background": "light"
     },
     "output_type": "display_data"
    }
   ],
   "source": [
    "fig, ax = plt.subplots(1, 2, figsize=(15, 5))\n",
    "for col, a in zip(X.columns, [0.02, 0.1, 0.6, 1]):\n",
    "    sns.kdeplot(X[col], alpha=a, legend=True, ax=ax[0], shade=True, color='r')\n",
    "\n",
    "ax[0].legend(X.columns)\n",
    "ax[0].set_xlabel('features')\n",
    "ax[0].set_title('Before scaling')\n",
    "\n",
    "for col, a in zip(qtu_X.columns, [0.02, 0.2, 0.6, 1]):\n",
    "    sns.kdeplot(qtu_X[col], alpha=a, legend=True, ax=ax[1], shade=True, color='r')\n",
    "    \n",
    "ax[1].legend(qtu_X.columns)\n",
    "ax[1].set_xlabel('features')\n",
    "ax[1].set_title('After scaling')\n",
    "\n",
    "plt.show()"
   ]
  },
  {
   "cell_type": "code",
   "execution_count": 79,
   "metadata": {},
   "outputs": [
    {
     "name": "stdout",
     "output_type": "stream",
     "text": [
      "[Before] feature 별 데이터 분포 확인:\n",
      "      Pregnancies  BloodPressure        BMI        Age\n",
      "mean     3.845052      69.105469  31.992578  33.240885\n",
      "std      3.369578      19.355807   7.884160  11.760232\n",
      "max     17.000000     122.000000  67.100000  81.000000\n",
      "min      0.000000       0.000000   0.000000  21.000000 \n",
      "\n",
      "[After] feature 별 데이터 분포 확인:\n",
      "      Pregnancies  BloodPressure       BMI       Age\n",
      "mean    -0.518602      -0.137647 -0.034803 -0.270105\n",
      "std      2.066619       1.426041  1.150110  1.696606\n",
      "max      5.199338       5.199338  5.199338  5.199338\n",
      "min     -5.199338      -5.199338 -5.199338 -5.199338\n"
     ]
    }
   ],
   "source": [
    "print(\"[Before] feature 별 데이터 분포 확인:\")\n",
    "print(X.describe().loc[['mean', 'std', 'max', 'min'], :], '\\n')\n",
    "\n",
    "# sklearn의 QuantileTransformer feature scaling\n",
    "from sklearn.preprocessing import QuantileTransformer\n",
    "\n",
    "qtn = QuantileTransformer(output_distribution='normal', n_quantiles=len(X))\n",
    "qtn_X = qtn.fit_transform(X)\n",
    "qtn_X = pd.DataFrame(qtn_X, columns=X.columns)\n",
    "\n",
    "print(\"[After] feature 별 데이터 분포 확인:\")\n",
    "print(qtn_X.describe().loc[['mean', 'std', 'max', 'min'], :])"
   ]
  },
  {
   "cell_type": "code",
   "execution_count": 80,
   "metadata": {},
   "outputs": [
    {
     "data": {
      "image/png": "[encoded data removed]",
      "text/plain": [
       "<Figure size 1080x360 with 2 Axes>"
      ]
     },
     "metadata": {
      "needs_background": "light"
     },
     "output_type": "display_data"
    }
   ],
   "source": [
    "fig, ax = plt.subplots(1, 2, figsize=(15, 5))\n",
    "for col, a in zip(X.columns, [0.02, 0.1, 0.6, 1]):\n",
    "    sns.kdeplot(X[col], alpha=a, legend=True, ax=ax[0], shade=True, color='r')\n",
    "\n",
    "ax[0].legend(X.columns)\n",
    "ax[0].set_xlabel('features')\n",
    "ax[0].set_title('Before scaling')\n",
    "\n",
    "for col, a in zip(qtn_X.columns, [0.02, 0.2, 0.6, 1]):\n",
    "    sns.kdeplot(qtn_X[col], alpha=a, legend=True, ax=ax[1], shade=True, color='r')\n",
    "    \n",
    "ax[1].legend(qtn_X.columns)\n",
    "ax[1].set_xlabel('features')\n",
    "ax[1].set_title('After scaling')\n",
    "\n",
    "plt.show()"
   ]
  },
  {
   "cell_type": "markdown",
   "metadata": {},
   "source": [
    "#### Feature scaling한 데이터로 로지스틱 회귀 분석 및 결과 비교\n",
    "- 각종 방법으로 특성에 대해 변수 변환을 한 데이터와 스케일링을 하지 않은 데이터로 로지스틱 회귀 분석을 실시하고 결과를 비교해 보았다.\n",
    "- 그 결과, Test F1-score를 기준으로 분류 성능을 비교할 때 균등 분포의 Quantile scaling을 한 데이터로 학습한 모델의 성능이 가장 높게 나타났다."
   ]
  },
  {
   "cell_type": "code",
   "execution_count": 85,
   "metadata": {},
   "outputs": [
    {
     "data": {
      "text/html": [
       "<div>\n",
       "<style scoped>\n",
       "    .dataframe tbody tr th:only-of-type {\n",
       "        vertical-align: middle;\n",
       "    }\n",
       "\n",
       "    .dataframe tbody tr th {\n",
       "        vertical-align: top;\n",
       "    }\n",
       "\n",
       "    .dataframe thead th {\n",
       "        text-align: right;\n",
       "    }\n",
       "</style>\n",
       "<table border=\"1\" class=\"dataframe\">\n",
       "  <thead>\n",
       "    <tr style=\"text-align: right;\">\n",
       "      <th></th>\n",
       "      <th>no scaling</th>\n",
       "      <th>StandardScaler</th>\n",
       "      <th>MinMaxScaler</th>\n",
       "      <th>RobustScaler</th>\n",
       "      <th>QuantileUniform</th>\n",
       "      <th>QuantileNormal</th>\n",
       "    </tr>\n",
       "  </thead>\n",
       "  <tbody>\n",
       "    <tr>\n",
       "      <th>Train acc</th>\n",
       "      <td>0.6875</td>\n",
       "      <td>0.689236</td>\n",
       "      <td>0.682292</td>\n",
       "      <td>0.689236</td>\n",
       "      <td>0.701389</td>\n",
       "      <td>0.680556</td>\n",
       "    </tr>\n",
       "    <tr>\n",
       "      <th>Test acc</th>\n",
       "      <td>0.692708</td>\n",
       "      <td>0.692708</td>\n",
       "      <td>0.682292</td>\n",
       "      <td>0.692708</td>\n",
       "      <td>0.692708</td>\n",
       "      <td>0.697917</td>\n",
       "    </tr>\n",
       "    <tr>\n",
       "      <th>Train F1</th>\n",
       "      <td>0.470588</td>\n",
       "      <td>0.471976</td>\n",
       "      <td>0.403909</td>\n",
       "      <td>0.471976</td>\n",
       "      <td>0.50289</td>\n",
       "      <td>0.468208</td>\n",
       "    </tr>\n",
       "    <tr>\n",
       "      <th>Test F1</th>\n",
       "      <td>0.40404</td>\n",
       "      <td>0.40404</td>\n",
       "      <td>0.26506</td>\n",
       "      <td>0.40404</td>\n",
       "      <td>0.427184</td>\n",
       "      <td>0.395833</td>\n",
       "    </tr>\n",
       "  </tbody>\n",
       "</table>\n",
       "</div>"
      ],
      "text/plain": [
       "          no scaling StandardScaler MinMaxScaler RobustScaler QuantileUniform  \\\n",
       "Train acc     0.6875       0.689236     0.682292     0.689236        0.701389   \n",
       "Test acc    0.692708       0.692708     0.682292     0.692708        0.692708   \n",
       "Train F1    0.470588       0.471976     0.403909     0.471976         0.50289   \n",
       "Test F1      0.40404        0.40404      0.26506      0.40404        0.427184   \n",
       "\n",
       "          QuantileNormal  \n",
       "Train acc       0.680556  \n",
       "Test acc        0.697917  \n",
       "Train F1        0.468208  \n",
       "Test F1         0.395833  "
      ]
     },
     "execution_count": 85,
     "metadata": {},
     "output_type": "execute_result"
    }
   ],
   "source": [
    "from sklearn.linear_model import LogisticRegression\n",
    "from sklearn.model_selection import train_test_split\n",
    "from sklearn.metrics import f1_score, accuracy_score\n",
    "\n",
    "data = [X, ss_X, mm_X, rs_X, qtu_X, qtn_X]\n",
    "y = diabetes['Outcome']\n",
    "data_title = ['no scaling', 'StandardScaler', 'MinMaxScaler', 'RobustScaler', 'QuantileUniform', 'QuantileNormal']\n",
    "\n",
    "scores = pd.DataFrame(index=['Train acc', 'Test acc', 'Train F1', 'Test F1'], columns=data_title)\n",
    "coeffs = pd.DataFrame(index=data_title, columns=X.columns)\n",
    "\n",
    "for df, title in zip(data, data_title):\n",
    "    X_train, X_test, y_train, y_test = train_test_split(df, y, random_state=0)\n",
    "\n",
    "    lr = LogisticRegression(max_iter=300)\n",
    "    lr.fit(X_train, y_train)\n",
    "    \n",
    "    pred_train = lr.predict(X_train)\n",
    "    pred_test = lr.predict(X_test)\n",
    "    \n",
    "    scores.loc['Train acc', title] = accuracy_score(y_train, pred_train)\n",
    "    scores.loc['Test acc', title] = accuracy_score(y_test, pred_test)\n",
    "    scores.loc['Train F1', title] = f1_score(y_train, pred_train)\n",
    "    scores.loc['Test F1', title] = f1_score(y_test, pred_test)\n",
    "    coeffs.loc[title, :] = lr.coef_\n",
    "    \n",
    "scores"
   ]
  },
  {
   "cell_type": "markdown",
   "metadata": {},
   "source": [
    "- 한편, 변수 변환을 한 데이터와 하지 않은 데이터로 학습한 모델들이 얻은 회귀계수를 살펴보면 다음과 같다.\n",
    "- 변수 변환을 하지 않은 데이터에 비해서, 변수 변환을 한 데이터들로 얻은 회귀계수들은 특성들의 영향력을 더 구별하기 쉽다.\n",
    "- 각 회귀계수들은 BMI, Age, Pregnancies 순으로 당뇨병 여부에 영향을 미친다는 동일한 결론을 냈다."
   ]
  },
  {
   "cell_type": "code",
   "execution_count": 86,
   "metadata": {},
   "outputs": [
    {
     "data": {
      "image/png": "[encoded data removed]",
      "text/plain": [
       "<Figure size 720x360 with 1 Axes>"
      ]
     },
     "metadata": {
      "needs_background": "light"
     },
     "output_type": "display_data"
    }
   ],
   "source": [
    "import matplotlib.pyplot as plt\n",
    "\n",
    "fig, ax = plt.subplots(1, 1, figsize=(10, 5))\n",
    "ax.set_title('scaling 별 회귀계수 비교')\n",
    "\n",
    "for i, marker in enumerate(['s', 'o', 'x', '+', '.', '*']):\n",
    "    coeffs.T.iloc[:, i].plot(ax=ax, marker=marker, ms=10)\n",
    "    \n",
    "ax.legend()\n",
    "plt.show()"
   ]
  },
  {
   "cell_type": "markdown",
   "metadata": {},
   "source": [
    "#### 로그 변환\n",
    "- 로그함수는 큰 수의 범위를 압축하고 작은 수의 범위를 확장하는 기능을 한다.\n",
    "- log(x)에서 x=[1, 10]의 범위를 log(x)=[0, 1] 범위로, x=[10, 100] 범위를 log(x) = [1, 2] 범위로 변환하는 것이다.\n",
    "- 덕분에 두꺼운 꼬리 분포(Heavy-tailed distribution)를 가지는 양수로 된 데이터를 로그 변환으로 효과적으로 다룰수 있다.\n",
    "- 이번 예제에서 사용할 'realestate'는 인도의 벵갈루루 부동산 가격과 관련된 특성들과 부동산 가격으로 구성된 회귀용 데이터이다.\n",
    "- 로그 변환은 타겟 변수인 부동산 가격에 적용함으로써 타겟 스케일링을 진행한다."
   ]
  },
  {
   "cell_type": "code",
   "execution_count": 89,
   "metadata": {},
   "outputs": [
    {
     "data": {
      "text/html": [
       "<div>\n",
       "<style scoped>\n",
       "    .dataframe tbody tr th:only-of-type {\n",
       "        vertical-align: middle;\n",
       "    }\n",
       "\n",
       "    .dataframe tbody tr th {\n",
       "        vertical-align: top;\n",
       "    }\n",
       "\n",
       "    .dataframe thead th {\n",
       "        text-align: right;\n",
       "    }\n",
       "</style>\n",
       "<table border=\"1\" class=\"dataframe\">\n",
       "  <thead>\n",
       "    <tr style=\"text-align: right;\">\n",
       "      <th></th>\n",
       "      <th>area_type</th>\n",
       "      <th>availability</th>\n",
       "      <th>location</th>\n",
       "      <th>size</th>\n",
       "      <th>society</th>\n",
       "      <th>total_sqft</th>\n",
       "      <th>bath</th>\n",
       "      <th>balcony</th>\n",
       "      <th>price</th>\n",
       "    </tr>\n",
       "  </thead>\n",
       "  <tbody>\n",
       "    <tr>\n",
       "      <th>0</th>\n",
       "      <td>Super built-up  Area</td>\n",
       "      <td>19-Dec</td>\n",
       "      <td>Electronic City Phase II</td>\n",
       "      <td>2 BHK</td>\n",
       "      <td>Coomee</td>\n",
       "      <td>1056</td>\n",
       "      <td>2.0</td>\n",
       "      <td>1.0</td>\n",
       "      <td>39.07</td>\n",
       "    </tr>\n",
       "    <tr>\n",
       "      <th>1</th>\n",
       "      <td>Plot  Area</td>\n",
       "      <td>Ready To Move</td>\n",
       "      <td>Chikka Tirupathi</td>\n",
       "      <td>4 Bedroom</td>\n",
       "      <td>Theanmp</td>\n",
       "      <td>2600</td>\n",
       "      <td>5.0</td>\n",
       "      <td>3.0</td>\n",
       "      <td>120.00</td>\n",
       "    </tr>\n",
       "    <tr>\n",
       "      <th>2</th>\n",
       "      <td>Super built-up  Area</td>\n",
       "      <td>Ready To Move</td>\n",
       "      <td>Lingadheeranahalli</td>\n",
       "      <td>3 BHK</td>\n",
       "      <td>Soiewre</td>\n",
       "      <td>1521</td>\n",
       "      <td>3.0</td>\n",
       "      <td>1.0</td>\n",
       "      <td>95.00</td>\n",
       "    </tr>\n",
       "  </tbody>\n",
       "</table>\n",
       "</div>"
      ],
      "text/plain": [
       "              area_type   availability                  location       size  \\\n",
       "0  Super built-up  Area         19-Dec  Electronic City Phase II      2 BHK   \n",
       "1            Plot  Area  Ready To Move          Chikka Tirupathi  4 Bedroom   \n",
       "2  Super built-up  Area  Ready To Move        Lingadheeranahalli      3 BHK   \n",
       "\n",
       "   society total_sqft  bath  balcony   price  \n",
       "0  Coomee        1056   2.0      1.0   39.07  \n",
       "1  Theanmp       2600   5.0      3.0  120.00  \n",
       "2  Soiewre       1521   3.0      1.0   95.00  "
      ]
     },
     "execution_count": 89,
     "metadata": {},
     "output_type": "execute_result"
    }
   ],
   "source": [
    "realestate = pd.read_csv(\"https://raw.githubusercontent.com/algoboni/pythoncodebook1-1/main/2-4_BHP.csv\").dropna().reset_index(drop=True)\n",
    "\n",
    "X = realestate[['bath', 'balcony']]\n",
    "y = realestate[['price']]\n",
    "\n",
    "realestate.head(3)"
   ]
  },
  {
   "cell_type": "markdown",
   "metadata": {},
   "source": [
    "- 로그 변환은 NumPy 라이브러리를 통해서 간단하게 변환할 수 있다.\n",
    "- 상용로그, 자연로그, 데이터가 0인 경우 음의 무한대가 되는 것을 방지하기 위해 데이터에 1을 더한 후 자연로그를 적용하는 방법, 데이터의 절댓값에 자연로그 변환을 한 후 데이터의 원래 부호를 붙이는 방법 등이 있다."
   ]
  },
  {
   "cell_type": "code",
   "execution_count": 97,
   "metadata": {},
   "outputs": [
    {
     "name": "stdout",
     "output_type": "stream",
     "text": [
      "원본 데이터: 39.07\n",
      "상용로그: 1.5918434112247846 <---> 39.07000000000001\n",
      "자연로그: 3.6653549090669792 <---> 39.07\n",
      "자연로그1p: 3.6906279246480533 <---> 39.07000000000001\n",
      "절대값 +자연로그+부호: 3.6653549090669792 <---> 39.07\n"
     ]
    }
   ],
   "source": [
    "import numpy as np\n",
    "\n",
    "example_y = 39.07\n",
    "print(f\"원본 데이터: {example_y}\")\n",
    "\n",
    "# 상용로그\n",
    "y_log = np.log10(example_y)\n",
    "y_log_inv = 10**(y_log) # 변환 전 값으로 되돌리기\n",
    "print(f\"상용로그: {y_log} <---> {y_log_inv}\")\n",
    "\n",
    "# 자연로그\n",
    "y_log2 = np.log(example_y)\n",
    "y_log2_inv = np.exp(y_log2) # 변환 전 값으로 되돌리기\n",
    "print(f\"자연로그: {y_log2} <---> {y_log2_inv}\")\n",
    "\n",
    "# 데이터에 1을 더한(plus) 후 자연로그\n",
    "y_log3 = np.log1p(example_y)\n",
    "y_log3_inv = np.expm1(y_log3)\n",
    "print(f\"자연로그1p: {y_log3} <---> {y_log3_inv}\")\n",
    "\n",
    "# 데이터의 절대값에 자연로그 변환을 한 후 데이터의 원래 부호 붙임\n",
    "y_log4 = np.sign(example_y) * np.log(np.abs(example_y))\n",
    "y_log4_inv = np.sign(y_log4) * np.exp(np.abs(y_log4))\n",
    "print(f\"절대값 +자연로그+부호: {y_log4} <---> {y_log4_inv}\")"
   ]
  },
  {
   "cell_type": "markdown",
   "metadata": {},
   "source": [
    "#### 거듭제곱변환\n",
    "- 로그 변환을 일반화한 것으로서, 분산 안정화 변환이라고도 한다.\n",
    "- scikit-learn에서 제공하는 PowerTransformer를 통해 변환할 수 있으며 Box-cox 방법과 Yeo-Johnson 방법이 있다.\n",
    "    - Box-cox: 주된 용도는 데이터를 정규분포에 가깝게 만들거나 데이터의 분산을 안정화 하는 것으로, 정규성을 가정하는 분석법이나 정상성을 요구하는 분석법을 사용하기에 앞서 데이터의 전처리에 사용한다. 양수인 데이터에만 적용할 수 있다.\n",
    "    - Yeo-Johnson: Box-cox와 마찬가지로 데이터의 분산을 안정화하는 방법이며, Box-cox와 달리 음수를 포함하는 실수 전체에 대해 적용할 수 있다."
   ]
  },
  {
   "cell_type": "markdown",
   "metadata": {},
   "source": [
    "- PowerTransformer를 통해 타겟 데이터를 변환한 상태에서 모델을 학습하고 예측값을 얻었다면, 얻은 예측값에 inverse_transform()을 적용함으로써 원본 데이터와 동일한 스케일로 되돌릴 수 있다."
   ]
  },
  {
   "cell_type": "code",
   "execution_count": 99,
   "metadata": {},
   "outputs": [
    {
     "name": "stdout",
     "output_type": "stream",
     "text": [
      "원본: [[39.07]]\n",
      "box-cox 변환: [[-1.06667465]]\n",
      "box-cox 변환 되돌리기: [[39.07]]\n"
     ]
    }
   ],
   "source": [
    "from sklearn.preprocessing import PowerTransformer\n",
    "\n",
    "PTB = PowerTransformer(method='box-cox')\n",
    "PTY = PowerTransformer(method='yeo-johnson')\n",
    "\n",
    "y_ptb = pd.DataFrame(PTB.fit_transform(y), columns=y.columns)\n",
    "y_pty = pd.DataFrame(PTY.fit_transform(y), columns=y.columns)\n",
    "y_ptb_inv = pd.DataFrame(PTB.inverse_transform(y_ptb), columns=y.columns)\n",
    "\n",
    "print(f\"원본: {y.head(1).values}\")\n",
    "print(f\"box-cox 변환: {y_ptb.head(1).values}\")\n",
    "print(f\"box-cox 변환 되돌리기: {y_ptb_inv.head(1).values}\")"
   ]
  },
  {
   "cell_type": "markdown",
   "metadata": {},
   "source": [
    "#### Target scaling한 데이터로 시각화, 선형 회귀 분석 및 결과 비교\n",
    "- 다음의 시각화 결과를 통해 타겟 스케일링 전과 스케일링(log10, log, Box-cox) 후의 차이를 볼 수 있다.\n",
    "- log와 log1p, sign+abs+log의 변환 결과가 유사하고, Box-cox와 Yeo-johnson의 변환 결과가 유사하기 때문에 일부 변환 값은 시각화에서 생략하였다."
   ]
  },
  {
   "cell_type": "code",
   "execution_count": 104,
   "metadata": {},
   "outputs": [
    {
     "data": {
      "image/png": "[encoded data removed]",
      "text/plain": [
       "<Figure size 1080x360 with 2 Axes>"
      ]
     },
     "metadata": {
      "needs_background": "light"
     },
     "output_type": "display_data"
    }
   ],
   "source": [
    "noscaling, log10, log, boxcox = y, np.log10(y), np.log(y), y_ptb\n",
    "\n",
    "data = [noscaling, log10, log, boxcox]\n",
    "data_title = ['no scaling', 'log10', 'log', 'box-cox']\n",
    "\n",
    "alphas = [0.1, 0.02, 0.2, 1]\n",
    "fig, ax = plt.subplots(1, 2, figsize=(15, 5))\n",
    "\n",
    "for i, df, a in zip(range(len(data)), data, alphas):\n",
    "    if i==0:\n",
    "        sns.kdeplot(df['price'], ax=ax[0], alpha=a, shade=True, color='red')\n",
    "        ax[0].legend(data_title[0])\n",
    "        ax[0].set_title('Before scaling')\n",
    "    else:\n",
    "        sns.kdeplot(df['price'], ax=ax[1], alpha=a, shade=True, color='red')\n",
    "        ax[1].legend(data_title[1:])\n",
    "        ax[1].set_title('After scaling')\n",
    "        \n",
    "plt.show()"
   ]
  },
  {
   "cell_type": "markdown",
   "metadata": {},
   "source": [
    "- 각기 다르게 타겟 스케일링한 데이터로 학습한 선형 회귀 모델들의 성능을 비교해 보면, Test R^2 기준으로 원본 데이터에 비해 스케일링한 데이터들의 결정계수 값이 더 높은 것을 확인할 수 있다."
   ]
  },
  {
   "cell_type": "code",
   "execution_count": 106,
   "metadata": {},
   "outputs": [
    {
     "data": {
      "text/html": [
       "<div>\n",
       "<style scoped>\n",
       "    .dataframe tbody tr th:only-of-type {\n",
       "        vertical-align: middle;\n",
       "    }\n",
       "\n",
       "    .dataframe tbody tr th {\n",
       "        vertical-align: top;\n",
       "    }\n",
       "\n",
       "    .dataframe thead th {\n",
       "        text-align: right;\n",
       "    }\n",
       "</style>\n",
       "<table border=\"1\" class=\"dataframe\">\n",
       "  <thead>\n",
       "    <tr style=\"text-align: right;\">\n",
       "      <th></th>\n",
       "      <th>no scaling</th>\n",
       "      <th>log10</th>\n",
       "      <th>log</th>\n",
       "      <th>log1p</th>\n",
       "      <th>sign+abs+log</th>\n",
       "      <th>box-cox</th>\n",
       "      <th>yeo-johnson</th>\n",
       "    </tr>\n",
       "  </thead>\n",
       "  <tbody>\n",
       "    <tr>\n",
       "      <th>Train R2</th>\n",
       "      <td>0.354048</td>\n",
       "      <td>0.548043</td>\n",
       "      <td>0.548043</td>\n",
       "      <td>0.548732</td>\n",
       "      <td>0.548043</td>\n",
       "      <td>0.521241</td>\n",
       "      <td>0.521324</td>\n",
       "    </tr>\n",
       "    <tr>\n",
       "      <th>Test R2</th>\n",
       "      <td>0.352965</td>\n",
       "      <td>0.547998</td>\n",
       "      <td>0.547998</td>\n",
       "      <td>0.548598</td>\n",
       "      <td>0.547998</td>\n",
       "      <td>0.524295</td>\n",
       "      <td>0.524158</td>\n",
       "    </tr>\n",
       "  </tbody>\n",
       "</table>\n",
       "</div>"
      ],
      "text/plain": [
       "         no scaling     log10       log     log1p sign+abs+log   box-cox  \\\n",
       "Train R2   0.354048  0.548043  0.548043  0.548732     0.548043  0.521241   \n",
       "Test R2    0.352965  0.547998  0.547998  0.548598     0.547998  0.524295   \n",
       "\n",
       "         yeo-johnson  \n",
       "Train R2    0.521324  \n",
       "Test R2     0.524158  "
      ]
     },
     "execution_count": 106,
     "metadata": {},
     "output_type": "execute_result"
    }
   ],
   "source": [
    "# Target scaling한 데이터로 선형 회귀 분석한 결과 비교\n",
    "noscaling, log10, log, log1p, sblog, bc, yj = y, np.log10(y), np.log(y), np.log1p(y), np.sign(y)*np.log(np.abs(y)), y_ptb, y_pty\n",
    "\n",
    "data = [noscaling, log10, log, log1p, sblog, bc, yj]\n",
    "data_title = ['no scaling', 'log10', 'log', 'log1p', 'sign+abs+log', 'box-cox', 'yeo-johnson']\n",
    "\n",
    "from sklearn.model_selection import train_test_split\n",
    "from sklearn.linear_model import LinearRegression\n",
    "\n",
    "scores = pd.DataFrame(index=['Train R2', 'Test R2'], columns=data_title)\n",
    "for df, title in zip(data, data_title):\n",
    "    X_train, X_test, y_train, y_test = train_test_split(X, df, random_state=0)\n",
    "    lr = LinearRegression()\n",
    "    lr.fit(X_train, y_train)\n",
    "    \n",
    "    scores.loc['Train R2', title] = lr.score(X_train, y_train)\n",
    "    scores.loc['Test R2', title] = lr.score(X_test, y_test)\n",
    "    \n",
    "scores"
   ]
  },
  {
   "cell_type": "markdown",
   "metadata": {},
   "source": [
    "#### 순위로 변환\n",
    "- 수치형 변수를 순위로 변환하는 방법이다.\n",
    "- 데이터를 순위로 변환한 후 순위를 전체 데이터의 개수로 나누면 모든 데이터 값이 0부터 1의 범위에 들어가기 때문에 다루기 쉬워진다.\n",
    "- 다만, 이 방법으로 데이터를 변환하면 수치의 크기나 간격 정보는 소실된다.\n",
    "- 이 방법은 Pandas의 데이터프레임 객체에 .rank()를 적용함으로써 간단하게 구현할 수 있다.\n",
    "- 기본적으로 ascending=True로 되어있기 때문에 오름차순으로 순위를 매겨서 값이 클수록 순위값이 크다.\n",
    "- 가장 큰 값이 1위가 되도록 하려면 ascending=False를 설정함으로써 역순으로 순위를 매기면 된다.\n",
    "- 값이 동일한 데이터 포인트들은 그들의 평균 순위로 동일한 순위 값을 갖게 된다."
   ]
  },
  {
   "cell_type": "code",
   "execution_count": 107,
   "metadata": {},
   "outputs": [
    {
     "name": "stdout",
     "output_type": "stream",
     "text": [
      "[Before] feature별 데이터 분포 확인:\n",
      "          bath   balcony\n",
      "mean  2.458378  1.629936\n",
      "std   0.881128  0.780127\n",
      "max   9.000000  3.000000\n",
      "min   1.000000  0.000000 \n",
      "\n",
      "[After] feature별 데이터 분포 확인:\n",
      "             bath     balcony\n",
      "mean  3748.500000  3748.50000\n",
      "std   1926.118911  2010.62683\n",
      "max   7282.500000  7295.50000\n",
      "min      2.000000   503.00000\n"
     ]
    }
   ],
   "source": [
    "print(f\"[Before] feature별 데이터 분포 확인:\")\n",
    "print(X.describe().loc[['mean', 'std', 'max', 'min'], :], '\\n')\n",
    "\n",
    "rank_X = X.rank(ascending=False)\n",
    "print(f\"[After] feature별 데이터 분포 확인:\")\n",
    "print(rank_X.describe().loc[['mean', 'std', 'max', 'min'], :],)"
   ]
  },
  {
   "cell_type": "markdown",
   "metadata": {},
   "source": [
    "#### 구간 분할(Binning)\n",
    "- 수치형 변수를 구간 별로 나누어 범주형 변수로 변환하는 방법이다.\n",
    "- 구간 분할을 하면 순서가 있는 범주형 변수가 되므로 순서를 수치화해 사용하거나, 범주형 변수로서 원핫 인코딩 등을 적용할 수도 있다.\n",
    "- 구간 분할 방법으로는 같은 간격으로 분할하는 방법, 구간을 지정하여 분할하는 방법 등이 있다.\n",
    "- Pandas의 cut이나 scikit-learn의 KBinsDiscretizer를 사용하여 간단히 구간 분할 할 수 있다.\n",
    "    - cut: bins 파라미터에 bin 수를 지정하거나 bin의 범위를 지정하여 구간 분할 한다.\n",
    "    - KBinsDiscretizer: n_bins 파라미터에 구간의 수를 지정하여, 각 구간을 하나의 특성으로 삼는 원핫 인코딩을 적용한다. 해당 데이터 행이 특정 구간에 속하는 경우 나머지 열은 0, 속하는 열은 1로 표시하는 희소 행렬을 반환한다."
   ]
  },
  {
   "cell_type": "code",
   "execution_count": 110,
   "metadata": {},
   "outputs": [
    {
     "name": "stdout",
     "output_type": "stream",
     "text": [
      "bin수 지정:\n",
      "              계급    빈도\n",
      "0  (0.992, 3.0]  6774\n",
      "1    (3.0, 5.0]   642\n",
      "2    (5.0, 7.0]    77\n",
      "3    (7.0, 9.0]     3 \n",
      "\n",
      "bin범위 지정:\n",
      "            계급    빈도\n",
      "2  [0.0, 2.0)   428\n",
      "0  [2.0, 4.0)  6346\n",
      "1  [4.0, 6.0)   642\n",
      "3  [6.0, inf)    80 \n",
      "\n"
     ]
    }
   ],
   "source": [
    "# pd.cut으로 구간분할\n",
    "binned = pd.cut(X['bath'], 4) # bin 수 지정\n",
    "\n",
    "freq_df = pd.DataFrame(binned.value_counts()).reset_index().rename(columns={'index':'계급', 'bath':'빈도'}).sort_values(by='계급', ascending=True)\n",
    "print(\"bin수 지정:\\n\", freq_df, '\\n')\n",
    "\n",
    "bin_edges = [0, 2, 4, 6, float('inf')]\n",
    "\n",
    "# right=False: 0이상~2미만, 2이상~4미만, 4이상~6미만, 6이상~\n",
    "binned2 = pd.cut(X['bath'], bin_edges, right=False) # bin의 범위 지정\n",
    "freq_df2 = pd.DataFrame(binned2.value_counts()).reset_index().rename(columns={'index':'계급', 'bath':'빈도'}).sort_values(by='계급', ascending=True)\n",
    "\n",
    "print(\"bin범위 지정:\\n\", freq_df2, '\\n')"
   ]
  },
  {
   "cell_type": "code",
   "execution_count": 115,
   "metadata": {},
   "outputs": [
    {
     "name": "stdout",
     "output_type": "stream",
     "text": [
      "bin edges: [1. 2. 3. 9.]\n"
     ]
    },
    {
     "data": {
      "text/html": [
       "<div>\n",
       "<style scoped>\n",
       "    .dataframe tbody tr th:only-of-type {\n",
       "        vertical-align: middle;\n",
       "    }\n",
       "\n",
       "    .dataframe tbody tr th {\n",
       "        vertical-align: top;\n",
       "    }\n",
       "\n",
       "    .dataframe thead th {\n",
       "        text-align: right;\n",
       "    }\n",
       "</style>\n",
       "<table border=\"1\" class=\"dataframe\">\n",
       "  <thead>\n",
       "    <tr style=\"text-align: right;\">\n",
       "      <th></th>\n",
       "      <th>(1, 2)</th>\n",
       "      <th>(2, 3)</th>\n",
       "      <th>(3, 9)</th>\n",
       "    </tr>\n",
       "  </thead>\n",
       "  <tbody>\n",
       "    <tr>\n",
       "      <th>0</th>\n",
       "      <td>0.0</td>\n",
       "      <td>1.0</td>\n",
       "      <td>0.0</td>\n",
       "    </tr>\n",
       "    <tr>\n",
       "      <th>1</th>\n",
       "      <td>0.0</td>\n",
       "      <td>0.0</td>\n",
       "      <td>1.0</td>\n",
       "    </tr>\n",
       "    <tr>\n",
       "      <th>2</th>\n",
       "      <td>0.0</td>\n",
       "      <td>0.0</td>\n",
       "      <td>1.0</td>\n",
       "    </tr>\n",
       "  </tbody>\n",
       "</table>\n",
       "</div>"
      ],
      "text/plain": [
       "   (1, 2)  (2, 3)  (3, 9)\n",
       "0     0.0     1.0     0.0\n",
       "1     0.0     0.0     1.0\n",
       "2     0.0     0.0     1.0"
      ]
     },
     "execution_count": 115,
     "metadata": {},
     "output_type": "execute_result"
    }
   ],
   "source": [
    "# sklearn.preprocessing.KBinsDiscretizer로 구간 분할\n",
    "from sklearn.preprocessing import KBinsDiscretizer\n",
    "\n",
    "kb = KBinsDiscretizer(n_bins=3, strategy='quantile')\n",
    "kb.fit(np.array(X['bath']).reshape(-1, 1)) # reshape 필요\n",
    "print(f\"bin edges: {kb.bin_edges_[0]}\") # 3개의 bin 구간이 생김\n",
    "\n",
    "kbbin = kb.bin_edges_[0]\n",
    "bin_edges = [] # 구간 리스트인 bin_edges를 만듬\n",
    "for i in range(len(kbbin)):\n",
    "    if len(kbbin)-1 != i:\n",
    "        tup = (int(kbbin[i]), int(kbbin[i+1]))\n",
    "        bin_edges.append(tup)\n",
    "        \n",
    "kbbined = kb.transform(np.array(X['bath']).reshape(-1, 1))\n",
    "result = pd.DataFrame(kbbined.toarray(), columns=bin_edges)\n",
    "result.head(3)"
   ]
  },
  {
   "cell_type": "markdown",
   "metadata": {},
   "source": [
    "#### 2-4-2. 범주형 변수 변환\n",
    "- 범주형 변수 변환 방법에는 원-핫인코딩(One-hot-encoding), 더미코딩(Dummy coding), 숫자로 표현된 범주형 특성 변환, 레이블 인코딩(Label encoding, Ordinal encoding), 특징 해싱(Feature hashing), 빈도 인코딩(Frequency encoding) 등이 있다.\n",
    "- 예제는 앞서 사용한 'realestate'를 계속해서 사용한다."
   ]
  },
  {
   "cell_type": "code",
   "execution_count": 15,
   "metadata": {},
   "outputs": [
    {
     "name": "stdout",
     "output_type": "stream",
     "text": [
      "<class 'pandas.core.frame.DataFrame'>\n",
      "RangeIndex: 7496 entries, 0 to 7495\n",
      "Data columns (total 9 columns):\n",
      " #   Column        Non-Null Count  Dtype  \n",
      "---  ------        --------------  -----  \n",
      " 0   area_type     7496 non-null   object \n",
      " 1   availability  7496 non-null   object \n",
      " 2   location      7496 non-null   object \n",
      " 3   size          7496 non-null   object \n",
      " 4   society       7496 non-null   object \n",
      " 5   total_sqft    7496 non-null   object \n",
      " 6   bath          7496 non-null   float64\n",
      " 7   balcony       7496 non-null   float64\n",
      " 8   price         7496 non-null   float64\n",
      "dtypes: float64(3), object(6)\n",
      "memory usage: 527.2+ KB\n"
     ]
    }
   ],
   "source": [
    "import pandas as pd\n",
    "\n",
    "realestate = pd.read_csv(\"https://raw.githubusercontent.com/algoboni/pythoncodebook1-1/main/2-4_BHP.csv\").dropna().reset_index(drop=True)\n",
    "realestate.info()"
   ]
  },
  {
   "cell_type": "code",
   "execution_count": 16,
   "metadata": {},
   "outputs": [
    {
     "name": "stdout",
     "output_type": "stream",
     "text": [
      "범주형 변수 기술 통계:\n"
     ]
    },
    {
     "data": {
      "text/html": [
       "<div>\n",
       "<style scoped>\n",
       "    .dataframe tbody tr th:only-of-type {\n",
       "        vertical-align: middle;\n",
       "    }\n",
       "\n",
       "    .dataframe tbody tr th {\n",
       "        vertical-align: top;\n",
       "    }\n",
       "\n",
       "    .dataframe thead th {\n",
       "        text-align: right;\n",
       "    }\n",
       "</style>\n",
       "<table border=\"1\" class=\"dataframe\">\n",
       "  <thead>\n",
       "    <tr style=\"text-align: right;\">\n",
       "      <th></th>\n",
       "      <th>area_type</th>\n",
       "      <th>availability</th>\n",
       "      <th>location</th>\n",
       "      <th>size</th>\n",
       "      <th>society</th>\n",
       "      <th>total_sqft</th>\n",
       "    </tr>\n",
       "  </thead>\n",
       "  <tbody>\n",
       "    <tr>\n",
       "      <th>count</th>\n",
       "      <td>7496</td>\n",
       "      <td>7496</td>\n",
       "      <td>7496</td>\n",
       "      <td>7496</td>\n",
       "      <td>7496</td>\n",
       "      <td>7496</td>\n",
       "    </tr>\n",
       "    <tr>\n",
       "      <th>unique</th>\n",
       "      <td>4</td>\n",
       "      <td>74</td>\n",
       "      <td>634</td>\n",
       "      <td>15</td>\n",
       "      <td>2592</td>\n",
       "      <td>1682</td>\n",
       "    </tr>\n",
       "    <tr>\n",
       "      <th>top</th>\n",
       "      <td>Super built-up  Area</td>\n",
       "      <td>Ready To Move</td>\n",
       "      <td>Whitefield</td>\n",
       "      <td>2 BHK</td>\n",
       "      <td>GrrvaGr</td>\n",
       "      <td>1200</td>\n",
       "    </tr>\n",
       "    <tr>\n",
       "      <th>freq</th>\n",
       "      <td>6017</td>\n",
       "      <td>5709</td>\n",
       "      <td>397</td>\n",
       "      <td>3411</td>\n",
       "      <td>80</td>\n",
       "      <td>172</td>\n",
       "    </tr>\n",
       "  </tbody>\n",
       "</table>\n",
       "</div>"
      ],
      "text/plain": [
       "                   area_type   availability    location   size  society  \\\n",
       "count                   7496           7496        7496   7496     7496   \n",
       "unique                     4             74         634     15     2592   \n",
       "top     Super built-up  Area  Ready To Move  Whitefield  2 BHK  GrrvaGr   \n",
       "freq                    6017           5709         397   3411       80   \n",
       "\n",
       "       total_sqft  \n",
       "count        7496  \n",
       "unique       1682  \n",
       "top          1200  \n",
       "freq          172  "
      ]
     },
     "execution_count": 16,
     "metadata": {},
     "output_type": "execute_result"
    }
   ],
   "source": [
    "print(\"범주형 변수 기술 통계:\")\n",
    "realestate.describe(include='object')"
   ]
  },
  {
   "cell_type": "markdown",
   "metadata": {},
   "source": [
    "#### 원-핫 인코딩 (One-hot encoding)\n",
    "- 범주형 변수의 모든 수준(Level)들을 각각 새로운 특성으로 삼아서 0 또는 1의 값을 가지도록 데이터를 변환하는 것이다.\n",
    "- 통계학의 더미코딩(Dummy coding)과 유사하지만, 더미코딩은 모든 수준 중에서 한 가지 수준은 제외하고 나머지 수준들로 새로운 특성을 삼는다는 점에서 차이가 있다.\n",
    "- 다음은 데이터의 변수들 중에서도 area_type 특성의 데이터를 원-핫 인코딩한 결과이다.\n",
    "- 원본 데이터의 area_type과 일치하는 컬럼의 데이터가 1로 표시되고 나머지 컬럼들은 0으로 표시된다."
   ]
  },
  {
   "cell_type": "code",
   "execution_count": 17,
   "metadata": {},
   "outputs": [
    {
     "name": "stdout",
     "output_type": "stream",
     "text": [
      "범주형 변수의 수준 개수:  area_type    4\n",
      "dtype: int64\n"
     ]
    },
    {
     "data": {
      "text/html": [
       "<div>\n",
       "<style scoped>\n",
       "    .dataframe tbody tr th:only-of-type {\n",
       "        vertical-align: middle;\n",
       "    }\n",
       "\n",
       "    .dataframe tbody tr th {\n",
       "        vertical-align: top;\n",
       "    }\n",
       "\n",
       "    .dataframe thead th {\n",
       "        text-align: right;\n",
       "    }\n",
       "</style>\n",
       "<table border=\"1\" class=\"dataframe\">\n",
       "  <thead>\n",
       "    <tr style=\"text-align: right;\">\n",
       "      <th></th>\n",
       "      <th>area_type</th>\n",
       "    </tr>\n",
       "  </thead>\n",
       "  <tbody>\n",
       "    <tr>\n",
       "      <th>0</th>\n",
       "      <td>Super built-up  Area</td>\n",
       "    </tr>\n",
       "    <tr>\n",
       "      <th>1</th>\n",
       "      <td>Plot  Area</td>\n",
       "    </tr>\n",
       "    <tr>\n",
       "      <th>2</th>\n",
       "      <td>Super built-up  Area</td>\n",
       "    </tr>\n",
       "    <tr>\n",
       "      <th>3</th>\n",
       "      <td>Super built-up  Area</td>\n",
       "    </tr>\n",
       "    <tr>\n",
       "      <th>4</th>\n",
       "      <td>Plot  Area</td>\n",
       "    </tr>\n",
       "  </tbody>\n",
       "</table>\n",
       "</div>"
      ],
      "text/plain": [
       "              area_type\n",
       "0  Super built-up  Area\n",
       "1            Plot  Area\n",
       "2  Super built-up  Area\n",
       "3  Super built-up  Area\n",
       "4            Plot  Area"
      ]
     },
     "execution_count": 17,
     "metadata": {},
     "output_type": "execute_result"
    }
   ],
   "source": [
    "# 원본 데이터\n",
    "print(\"범주형 변수의 수준 개수: \", realestate[['area_type']].nunique())\n",
    "realestate[['area_type']].head()"
   ]
  },
  {
   "cell_type": "code",
   "execution_count": 18,
   "metadata": {},
   "outputs": [
    {
     "name": "stdout",
     "output_type": "stream",
     "text": [
      "원-핫 인코딩 결과 feature의 개수:  4\n"
     ]
    },
    {
     "data": {
      "text/html": [
       "<div>\n",
       "<style scoped>\n",
       "    .dataframe tbody tr th:only-of-type {\n",
       "        vertical-align: middle;\n",
       "    }\n",
       "\n",
       "    .dataframe tbody tr th {\n",
       "        vertical-align: top;\n",
       "    }\n",
       "\n",
       "    .dataframe thead th {\n",
       "        text-align: right;\n",
       "    }\n",
       "</style>\n",
       "<table border=\"1\" class=\"dataframe\">\n",
       "  <thead>\n",
       "    <tr style=\"text-align: right;\">\n",
       "      <th></th>\n",
       "      <th>x0_Built-up  Area</th>\n",
       "      <th>x0_Carpet  Area</th>\n",
       "      <th>x0_Plot  Area</th>\n",
       "      <th>x0_Super built-up  Area</th>\n",
       "    </tr>\n",
       "  </thead>\n",
       "  <tbody>\n",
       "    <tr>\n",
       "      <th>0</th>\n",
       "      <td>0.0</td>\n",
       "      <td>0.0</td>\n",
       "      <td>0.0</td>\n",
       "      <td>1.0</td>\n",
       "    </tr>\n",
       "    <tr>\n",
       "      <th>1</th>\n",
       "      <td>0.0</td>\n",
       "      <td>0.0</td>\n",
       "      <td>1.0</td>\n",
       "      <td>0.0</td>\n",
       "    </tr>\n",
       "    <tr>\n",
       "      <th>2</th>\n",
       "      <td>0.0</td>\n",
       "      <td>0.0</td>\n",
       "      <td>0.0</td>\n",
       "      <td>1.0</td>\n",
       "    </tr>\n",
       "    <tr>\n",
       "      <th>3</th>\n",
       "      <td>0.0</td>\n",
       "      <td>0.0</td>\n",
       "      <td>0.0</td>\n",
       "      <td>1.0</td>\n",
       "    </tr>\n",
       "    <tr>\n",
       "      <th>4</th>\n",
       "      <td>0.0</td>\n",
       "      <td>0.0</td>\n",
       "      <td>1.0</td>\n",
       "      <td>0.0</td>\n",
       "    </tr>\n",
       "  </tbody>\n",
       "</table>\n",
       "</div>"
      ],
      "text/plain": [
       "   x0_Built-up  Area  x0_Carpet  Area  x0_Plot  Area  x0_Super built-up  Area\n",
       "0                0.0              0.0            0.0                      1.0\n",
       "1                0.0              0.0            1.0                      0.0\n",
       "2                0.0              0.0            0.0                      1.0\n",
       "3                0.0              0.0            0.0                      1.0\n",
       "4                0.0              0.0            1.0                      0.0"
      ]
     },
     "execution_count": 18,
     "metadata": {},
     "output_type": "execute_result"
    }
   ],
   "source": [
    "# 원-핫 인코딩한 데이터\n",
    "from sklearn.preprocessing import OneHotEncoder\n",
    "ohe = OneHotEncoder()\n",
    "\n",
    "result = pd.DataFrame(ohe.fit_transform(realestate[['area_type']]).toarray(), columns=ohe.get_feature_names())\n",
    "print(\"원-핫 인코딩 결과 feature의 개수: \", result.shape[1])\n",
    "result.head()"
   ]
  },
  {
   "cell_type": "markdown",
   "metadata": {},
   "source": [
    "#### 더미코딩 (Dummy coding)\n",
    "- 범주형 변수의 수준이 n개일 때 가변수를 n개 만들어버리면 다중 공선성이 생기므로 이를 방지하기 위해 n-1개의 가변수를 만드는 방법이다.\n",
    "- Pandas의 get_dummies를 사용하고, 파라미터를 drop_first=True로 설정함으로써 간단하게 더미코딩 할 수 있다.\n",
    "- 범주형 변수의 수준의 개수가 너무 많을 경우, 특징의 개수도 덩달아 증가하기 때문에 정보가 적은 특징이 대량 생산될 수 있다.\n",
    "- 이 경우 학습 시간이나 메모리가 급증할 수 있으므로, 범주형 변수의 수준이 너무 많을 때는 다른 인코딩 방법을 검토하거나, 범주형 변수의 수준의 개수를 줄이는 방법을 생각해볼 수 있다."
   ]
  },
  {
   "cell_type": "code",
   "execution_count": 19,
   "metadata": {},
   "outputs": [
    {
     "name": "stdout",
     "output_type": "stream",
     "text": [
      "범주형 변수의 수준 개수:  area_type    4\n",
      "dtype: int64\n"
     ]
    },
    {
     "data": {
      "text/html": [
       "<div>\n",
       "<style scoped>\n",
       "    .dataframe tbody tr th:only-of-type {\n",
       "        vertical-align: middle;\n",
       "    }\n",
       "\n",
       "    .dataframe tbody tr th {\n",
       "        vertical-align: top;\n",
       "    }\n",
       "\n",
       "    .dataframe thead th {\n",
       "        text-align: right;\n",
       "    }\n",
       "</style>\n",
       "<table border=\"1\" class=\"dataframe\">\n",
       "  <thead>\n",
       "    <tr style=\"text-align: right;\">\n",
       "      <th></th>\n",
       "      <th>area_type</th>\n",
       "    </tr>\n",
       "  </thead>\n",
       "  <tbody>\n",
       "    <tr>\n",
       "      <th>0</th>\n",
       "      <td>Super built-up  Area</td>\n",
       "    </tr>\n",
       "    <tr>\n",
       "      <th>1</th>\n",
       "      <td>Plot  Area</td>\n",
       "    </tr>\n",
       "    <tr>\n",
       "      <th>2</th>\n",
       "      <td>Super built-up  Area</td>\n",
       "    </tr>\n",
       "    <tr>\n",
       "      <th>3</th>\n",
       "      <td>Super built-up  Area</td>\n",
       "    </tr>\n",
       "    <tr>\n",
       "      <th>4</th>\n",
       "      <td>Plot  Area</td>\n",
       "    </tr>\n",
       "  </tbody>\n",
       "</table>\n",
       "</div>"
      ],
      "text/plain": [
       "              area_type\n",
       "0  Super built-up  Area\n",
       "1            Plot  Area\n",
       "2  Super built-up  Area\n",
       "3  Super built-up  Area\n",
       "4            Plot  Area"
      ]
     },
     "execution_count": 19,
     "metadata": {},
     "output_type": "execute_result"
    }
   ],
   "source": [
    "# 원본 데이터\n",
    "print(\"범주형 변수의 수준 개수: \", realestate[['area_type']].nunique())\n",
    "realestate[['area_type']].head()"
   ]
  },
  {
   "cell_type": "code",
   "execution_count": 20,
   "metadata": {},
   "outputs": [
    {
     "name": "stdout",
     "output_type": "stream",
     "text": [
      "더미코딩 결과 feature의 개수:  3\n"
     ]
    },
    {
     "data": {
      "text/html": [
       "<div>\n",
       "<style scoped>\n",
       "    .dataframe tbody tr th:only-of-type {\n",
       "        vertical-align: middle;\n",
       "    }\n",
       "\n",
       "    .dataframe tbody tr th {\n",
       "        vertical-align: top;\n",
       "    }\n",
       "\n",
       "    .dataframe thead th {\n",
       "        text-align: right;\n",
       "    }\n",
       "</style>\n",
       "<table border=\"1\" class=\"dataframe\">\n",
       "  <thead>\n",
       "    <tr style=\"text-align: right;\">\n",
       "      <th></th>\n",
       "      <th>area_type_Carpet  Area</th>\n",
       "      <th>area_type_Plot  Area</th>\n",
       "      <th>area_type_Super built-up  Area</th>\n",
       "    </tr>\n",
       "  </thead>\n",
       "  <tbody>\n",
       "    <tr>\n",
       "      <th>0</th>\n",
       "      <td>0</td>\n",
       "      <td>0</td>\n",
       "      <td>1</td>\n",
       "    </tr>\n",
       "    <tr>\n",
       "      <th>1</th>\n",
       "      <td>0</td>\n",
       "      <td>1</td>\n",
       "      <td>0</td>\n",
       "    </tr>\n",
       "    <tr>\n",
       "      <th>2</th>\n",
       "      <td>0</td>\n",
       "      <td>0</td>\n",
       "      <td>1</td>\n",
       "    </tr>\n",
       "    <tr>\n",
       "      <th>3</th>\n",
       "      <td>0</td>\n",
       "      <td>0</td>\n",
       "      <td>1</td>\n",
       "    </tr>\n",
       "    <tr>\n",
       "      <th>4</th>\n",
       "      <td>0</td>\n",
       "      <td>1</td>\n",
       "      <td>0</td>\n",
       "    </tr>\n",
       "  </tbody>\n",
       "</table>\n",
       "</div>"
      ],
      "text/plain": [
       "   area_type_Carpet  Area  area_type_Plot  Area  \\\n",
       "0                       0                     0   \n",
       "1                       0                     1   \n",
       "2                       0                     0   \n",
       "3                       0                     0   \n",
       "4                       0                     1   \n",
       "\n",
       "   area_type_Super built-up  Area  \n",
       "0                               1  \n",
       "1                               0  \n",
       "2                               1  \n",
       "3                               1  \n",
       "4                               0  "
      ]
     },
     "execution_count": 20,
     "metadata": {},
     "output_type": "execute_result"
    }
   ],
   "source": [
    "# 더미코딩한 데이터\n",
    "result2 = pd.get_dummies(realestate[['area_type']], drop_first=True)\n",
    "print(\"더미코딩 결과 feature의 개수: \", result2.shape[1])\n",
    "result2.head()"
   ]
  },
  {
   "cell_type": "markdown",
   "metadata": {},
   "source": [
    "#### 숫자로 표현된 범주형 특성 변환\n",
    "- 숫자로 기재된 범주형 변수의 경우, 데이터를 불러오면 일반적으로 수치형 변수로 인식한다.\n",
    "- 하지만 명목척도인 변수임에도 불구하고 데이터 작성 규칙에 따라 단순히 숫자로 입력되어 있는 경우라면, 이 변수는 연속형 변수로 다루면 안된다.\n",
    "- 이러한 변수들을 범주형 변수로 다루기 위해서는 해당 특성의 데이터 타입을 범주형으로 변경하는 방법을 사용할 수 있다."
   ]
  },
  {
   "cell_type": "code",
   "execution_count": 21,
   "metadata": {},
   "outputs": [
    {
     "data": {
      "text/plain": [
       "array(['Super built-up  Area', 'Plot  Area', 'Built-up  Area',\n",
       "       'Carpet  Area'], dtype=object)"
      ]
     },
     "execution_count": 21,
     "metadata": {},
     "output_type": "execute_result"
    }
   ],
   "source": [
    "realestate.area_type.unique()"
   ]
  },
  {
   "cell_type": "code",
   "execution_count": 22,
   "metadata": {},
   "outputs": [
    {
     "name": "stdout",
     "output_type": "stream",
     "text": [
      "<class 'pandas.core.frame.DataFrame'>\n",
      "RangeIndex: 7496 entries, 0 to 7495\n",
      "Data columns (total 9 columns):\n",
      " #   Column        Non-Null Count  Dtype  \n",
      "---  ------        --------------  -----  \n",
      " 0   area_type     7496 non-null   int64  \n",
      " 1   availability  7496 non-null   object \n",
      " 2   location      7496 non-null   object \n",
      " 3   size          7496 non-null   object \n",
      " 4   society       7496 non-null   object \n",
      " 5   total_sqft    7496 non-null   object \n",
      " 6   bath          7496 non-null   float64\n",
      " 7   balcony       7496 non-null   float64\n",
      " 8   price         7496 non-null   float64\n",
      "dtypes: float64(3), int64(1), object(5)\n",
      "memory usage: 527.2+ KB\n",
      "None\n"
     ]
    },
    {
     "data": {
      "text/html": [
       "<div>\n",
       "<style scoped>\n",
       "    .dataframe tbody tr th:only-of-type {\n",
       "        vertical-align: middle;\n",
       "    }\n",
       "\n",
       "    .dataframe tbody tr th {\n",
       "        vertical-align: top;\n",
       "    }\n",
       "\n",
       "    .dataframe thead th {\n",
       "        text-align: right;\n",
       "    }\n",
       "</style>\n",
       "<table border=\"1\" class=\"dataframe\">\n",
       "  <thead>\n",
       "    <tr style=\"text-align: right;\">\n",
       "      <th></th>\n",
       "      <th>area_type</th>\n",
       "    </tr>\n",
       "  </thead>\n",
       "  <tbody>\n",
       "    <tr>\n",
       "      <th>count</th>\n",
       "      <td>7496.000000</td>\n",
       "    </tr>\n",
       "    <tr>\n",
       "      <th>mean</th>\n",
       "      <td>0.365662</td>\n",
       "    </tr>\n",
       "    <tr>\n",
       "      <th>std</th>\n",
       "      <td>0.763294</td>\n",
       "    </tr>\n",
       "    <tr>\n",
       "      <th>min</th>\n",
       "      <td>0.000000</td>\n",
       "    </tr>\n",
       "    <tr>\n",
       "      <th>25%</th>\n",
       "      <td>0.000000</td>\n",
       "    </tr>\n",
       "    <tr>\n",
       "      <th>50%</th>\n",
       "      <td>0.000000</td>\n",
       "    </tr>\n",
       "    <tr>\n",
       "      <th>75%</th>\n",
       "      <td>0.000000</td>\n",
       "    </tr>\n",
       "    <tr>\n",
       "      <th>max</th>\n",
       "      <td>3.000000</td>\n",
       "    </tr>\n",
       "  </tbody>\n",
       "</table>\n",
       "</div>"
      ],
      "text/plain": [
       "         area_type\n",
       "count  7496.000000\n",
       "mean      0.365662\n",
       "std       0.763294\n",
       "min       0.000000\n",
       "25%       0.000000\n",
       "50%       0.000000\n",
       "75%       0.000000\n",
       "max       3.000000"
      ]
     },
     "execution_count": 22,
     "metadata": {},
     "output_type": "execute_result"
    }
   ],
   "source": [
    "# area_type의 데이터값이 숫자로 되어있다고 가정\n",
    "realestate['area_type'] = realestate['area_type'].map({\n",
    "    'Super built-up  Area' : 0,\n",
    "    'Plot  Area' : 1,\n",
    "    'Built-up  Area' : 2,\n",
    "    'Carpet  Area' : 3\n",
    "})\n",
    "\n",
    "print(realestate.info())\n",
    "realestate[['area_type']].describe(include='all') # area_type의 0, 1, 2, 3은 서열의 의미가 없는데 수치형 변수로 해석된다."
   ]
  },
  {
   "cell_type": "code",
   "execution_count": 23,
   "metadata": {},
   "outputs": [
    {
     "data": {
      "text/html": [
       "<div>\n",
       "<style scoped>\n",
       "    .dataframe tbody tr th:only-of-type {\n",
       "        vertical-align: middle;\n",
       "    }\n",
       "\n",
       "    .dataframe tbody tr th {\n",
       "        vertical-align: top;\n",
       "    }\n",
       "\n",
       "    .dataframe thead th {\n",
       "        text-align: right;\n",
       "    }\n",
       "</style>\n",
       "<table border=\"1\" class=\"dataframe\">\n",
       "  <thead>\n",
       "    <tr style=\"text-align: right;\">\n",
       "      <th></th>\n",
       "      <th>area_type</th>\n",
       "    </tr>\n",
       "  </thead>\n",
       "  <tbody>\n",
       "    <tr>\n",
       "      <th>count</th>\n",
       "      <td>7496</td>\n",
       "    </tr>\n",
       "    <tr>\n",
       "      <th>unique</th>\n",
       "      <td>4</td>\n",
       "    </tr>\n",
       "    <tr>\n",
       "      <th>top</th>\n",
       "      <td>0</td>\n",
       "    </tr>\n",
       "    <tr>\n",
       "      <th>freq</th>\n",
       "      <td>6017</td>\n",
       "    </tr>\n",
       "  </tbody>\n",
       "</table>\n",
       "</div>"
      ],
      "text/plain": [
       "        area_type\n",
       "count        7496\n",
       "unique          4\n",
       "top             0\n",
       "freq         6017"
      ]
     },
     "execution_count": 23,
     "metadata": {},
     "output_type": "execute_result"
    }
   ],
   "source": [
    "# 데이터 타입을 category로 변경: 수치형이지만 범주형 변수로 해석된다.\n",
    "realestate['area_type'] = realestate['area_type'].astype('category')\n",
    "realestate[['area_type']].describe(include='all')"
   ]
  },
  {
   "cell_type": "markdown",
   "metadata": {},
   "source": [
    "#### 레이블 인코딩\n",
    "- 15개의 수준이 있는 범주형 변수는 레이블 인코딩(Label encoding)을 통해 각 수준을 0~14까지의 수치로 라벨링하게 된다.\n",
    "- 레이블 인코딩은 Pandas 시리즈에 replace 혹은 map을 적용하거나 scikit-learn의 LabelEncoder를 활용할 수 있다.\n",
    "- 범주형 변수가 서열척도라면 순서의 정보를 가지는 수치형 레이블을 그대로 사용할 수 있지만, 명목척도라면 각 수준의 레이블의 수치는 의미가 없다.\n",
    "- 따라서 이런 경우에는 처음부터 원-핫 인코딩이나 더미코딩과 같은 변수 변환을 하는 것이 낫다."
   ]
  },
  {
   "cell_type": "markdown",
   "metadata": {},
   "source": [
    "- 다음 예제에서는 15개의 수준을 가지고 있는 size 변수를 부동산의 크기에 대응하도록 레이블 인코딩하였다.\n",
    "- 직접 범주들의 값을 확인하여 부동산 사이즈가 가장 작은 '1RK'부터 가장 큰 '11BHK'까지 0에서 15로 각각 인코딩한 것이다.\n",
    "- scikit-learn의 경우, 범주명을 오름차순으로 정렬하여 자동으로 레이블의 수치를 매기기 때문에 수준의 서열과 대응하고 있는지 classes_로 확인이 필요하다."
   ]
  },
  {
   "cell_type": "code",
   "execution_count": 25,
   "metadata": {},
   "outputs": [
    {
     "name": "stdout",
     "output_type": "stream",
     "text": [
      "['1 BHK', '1 RK', '11 BHK', '2 BHK', '2 Bedroom', '3 BHK', '3 Bedroom', '4 BHK', '4 Bedroom', '5 BHK', '5 Bedroom', '6 BHK', '6 Bedroom', '7 BHK', '9 BHK']\n",
      "        size\n",
      "0      2 BHK\n",
      "1  4 Bedroom\n",
      "2      3 BHK\n",
      "3      2 BHK\n",
      "4  4 Bedroom\n"
     ]
    }
   ],
   "source": [
    "# 변수 'size'의 수준들을 확인: B(Bedroom), H(Hall), K(Kitchen), R(Room)을 의미\n",
    "print(sorted(realestate['size'].unique()))\n",
    "print(realestate[['size']].head())"
   ]
  },
  {
   "cell_type": "code",
   "execution_count": 32,
   "metadata": {},
   "outputs": [
    {
     "name": "stdout",
     "output_type": "stream",
     "text": [
      "[3 6 5 3 6]\n"
     ]
    }
   ],
   "source": [
    "# Pandas의 Series에 .replace() 혹은 .map()을 사용\n",
    "case1 = realestate['size'].replace({'1 RK':0, '1 BHK':1, '2 Bedroom':2, '2 BHK':3, '3 Bedroom':4, '3 BHK':5, '4 Bedroom':6, '4 BHK':7,  '5 Bedroom':8, '5 BHK':9, '6 Bedroom':10, '6 BHK':11,  '7 BHK':12, '9 BHK':13, '11 BHK':14})\n",
    "print(case1.values[:5])"
   ]
  },
  {
   "cell_type": "code",
   "execution_count": 26,
   "metadata": {},
   "outputs": [
    {
     "name": "stdout",
     "output_type": "stream",
     "text": [
      "[3 8 5 3 8]\n",
      "['1 BHK' '1 RK' '11 BHK' '2 BHK' '2 Bedroom' '3 BHK' '3 Bedroom' '4 BHK'\n",
      " '4 Bedroom' '5 BHK' '5 Bedroom' '6 BHK' '6 Bedroom' '7 BHK' '9 BHK']\n"
     ]
    }
   ],
   "source": [
    "# sklearn의 LabelEncoder\n",
    "from sklearn.preprocessing import LabelEncoder\n",
    "\n",
    "le = LabelEncoder()\n",
    "case2 = le.fit_transform(realestate['size'])\n",
    "print(case2[:5])\n",
    "print(le.classes_)"
   ]
  },
  {
   "cell_type": "markdown",
   "metadata": {},
   "source": [
    "#### 특징 해싱(Feature hashing)\n",
    "- 범주의 수준이 많은 변수를 원-핫인코딩이나 더미 코딩으로 데이터를 변환하게 되면 너무 많은 특징을 갖게 된다.\n",
    "- 특징 해싱은 늘어날 특징의 개수를 한정하면서 변수 변환을 하는 방법이다. Hasing trick이라고도 한다.\n",
    "- 특징 해싱은 변환 후의 특징의 개수를 사전에 정하고, 해시 함수를 이용하여 수준별로 1로 표시할 위치를 결정한다.\n",
    "- 원-핫 인코딩에서는 수준마다 서로 다른 위치에 1을 표시하지만, 특징 해싱에서는 해시 함수에 따른 계산에 의해 다른 수준에서도 같은 위치에 1을 표시할 수 있다. 결과는 희소행렬로 반환된다.\n",
    "- 모델 학습 비용을 줄이고, 회귀 범주 처리를 쉽게 한다는 장점이 있다.\n",
    "- 반면, 선형 또는 커널 모델에만 적합하고 해시된 특징은 해석이 불가하다는 단점이 있다.\n",
    "- 변수 size에 특징 해싱을 하게되면 15개의 범주를 5개의 특징으로 변환할 수 있다."
   ]
  },
  {
   "cell_type": "code",
   "execution_count": 28,
   "metadata": {},
   "outputs": [
    {
     "name": "stdout",
     "output_type": "stream",
     "text": [
      "feature_0  feature_1  feature_2  feature_3  feature_4\n",
      "-1.0       1.0         0.0       0.0        1.0          3412\n",
      " 0.0       0.0         0.0       0.0        1.0          3024\n",
      "-1.0       0.0        -1.0       0.0        1.0           700\n",
      " 1.0       1.0        -1.0       2.0        2.0           193\n",
      " 2.0       1.0         0.0       2.0        2.0           139\n",
      " 1.0       2.0         0.0       2.0        2.0            16\n",
      "-1.0       0.0         0.0       0.0        1.0            10\n",
      "                                 1.0        1.0             1\n",
      "                      -2.0       0.0        1.0             1\n",
      "dtype: int64\n",
      "2 BHK        3411\n",
      "3 BHK        3012\n",
      "1 BHK         353\n",
      "4 BHK         347\n",
      "4 Bedroom     193\n",
      "3 Bedroom     120\n",
      "5 Bedroom      16\n",
      "2 Bedroom      16\n",
      "1 RK           10\n",
      "5 BHK           9\n",
      "6 BHK           3\n",
      "6 Bedroom       3\n",
      "7 BHK           1\n",
      "11 BHK          1\n",
      "9 BHK           1\n",
      "Name: size, dtype: int64\n"
     ]
    }
   ],
   "source": [
    "from sklearn.feature_extraction import FeatureHasher\n",
    "\n",
    "fh = FeatureHasher(n_features=5, input_type='string') # 변환 후 특징 개수 5개\n",
    "hash_df = fh.transform(realestate['size'].values)\n",
    "hash_df = pd.DataFrame(hash_df.todense(), columns=[f'feature_{i}' for i in range(5)])\n",
    "print(hash_df.value_counts())\n",
    "print(realestate['size'].value_counts())"
   ]
  },
  {
   "cell_type": "markdown",
   "metadata": {},
   "source": [
    "#### 빈도 인코딩(Frequency encoding)\n",
    "- 각 수준의 빈도로 범주형 변수를 대체하는 방법이다.\n",
    "- 각 수준의 출현 빈도와 타겟변수 간에 관련성이 있을 때 유효하다.\n",
    "- 동일한 값이 발생할 수 있으니 주의해야 하며, 학습 데이터와 검증용 데이터에 대해 동일한 기준으로 빈도 인코딩해야 한다."
   ]
  },
  {
   "cell_type": "code",
   "execution_count": 29,
   "metadata": {},
   "outputs": [
    {
     "name": "stderr",
     "output_type": "stream",
     "text": [
      "C:\\Users\\kimmi\\Anaconda3\\lib\\site-packages\\ipykernel_launcher.py:5: SettingWithCopyWarning: \n",
      "A value is trying to be set on a copy of a slice from a DataFrame.\n",
      "Try using .loc[row_indexer,col_indexer] = value instead\n",
      "\n",
      "See the caveats in the documentation: https://pandas.pydata.org/pandas-docs/stable/user_guide/indexing.html#returning-a-view-versus-a-copy\n",
      "  \"\"\"\n"
     ]
    },
    {
     "data": {
      "text/html": [
       "<div>\n",
       "<style scoped>\n",
       "    .dataframe tbody tr th:only-of-type {\n",
       "        vertical-align: middle;\n",
       "    }\n",
       "\n",
       "    .dataframe tbody tr th {\n",
       "        vertical-align: top;\n",
       "    }\n",
       "\n",
       "    .dataframe thead th {\n",
       "        text-align: right;\n",
       "    }\n",
       "</style>\n",
       "<table border=\"1\" class=\"dataframe\">\n",
       "  <thead>\n",
       "    <tr style=\"text-align: right;\">\n",
       "      <th></th>\n",
       "      <th>availability</th>\n",
       "      <th>society</th>\n",
       "      <th>total_sqft</th>\n",
       "    </tr>\n",
       "  </thead>\n",
       "  <tbody>\n",
       "    <tr>\n",
       "      <th>0</th>\n",
       "      <td>157</td>\n",
       "      <td>5</td>\n",
       "      <td>11</td>\n",
       "    </tr>\n",
       "    <tr>\n",
       "      <th>1</th>\n",
       "      <td>5709</td>\n",
       "      <td>11</td>\n",
       "      <td>10</td>\n",
       "    </tr>\n",
       "    <tr>\n",
       "      <th>2</th>\n",
       "      <td>5709</td>\n",
       "      <td>22</td>\n",
       "      <td>4</td>\n",
       "    </tr>\n",
       "    <tr>\n",
       "      <th>3</th>\n",
       "      <td>5709</td>\n",
       "      <td>1</td>\n",
       "      <td>27</td>\n",
       "    </tr>\n",
       "    <tr>\n",
       "      <th>4</th>\n",
       "      <td>5709</td>\n",
       "      <td>6</td>\n",
       "      <td>1</td>\n",
       "    </tr>\n",
       "  </tbody>\n",
       "</table>\n",
       "</div>"
      ],
      "text/plain": [
       "   availability  society  total_sqft\n",
       "0           157        5          11\n",
       "1          5709       11          10\n",
       "2          5709       22           4\n",
       "3          5709        1          27\n",
       "4          5709        6           1"
      ]
     },
     "execution_count": 29,
     "metadata": {},
     "output_type": "execute_result"
    }
   ],
   "source": [
    "# 반복문으로 value_counts, map을 사용하여 빈도 인코딩\n",
    "fe = realestate[['availability', 'society', 'total_sqft']]\n",
    "for col in ['availability', 'society', 'total_sqft']:\n",
    "    freq = fe[col].value_counts()\n",
    "    fe[col] = fe[col].map(freq)\n",
    "    \n",
    "fe.head()"
   ]
  },
  {
   "cell_type": "code",
   "execution_count": 30,
   "metadata": {},
   "outputs": [
    {
     "data": {
      "text/html": [
       "<div>\n",
       "<style scoped>\n",
       "    .dataframe tbody tr th:only-of-type {\n",
       "        vertical-align: middle;\n",
       "    }\n",
       "\n",
       "    .dataframe tbody tr th {\n",
       "        vertical-align: top;\n",
       "    }\n",
       "\n",
       "    .dataframe thead th {\n",
       "        text-align: right;\n",
       "    }\n",
       "</style>\n",
       "<table border=\"1\" class=\"dataframe\">\n",
       "  <thead>\n",
       "    <tr style=\"text-align: right;\">\n",
       "      <th></th>\n",
       "      <th>availability</th>\n",
       "      <th>society</th>\n",
       "      <th>total_sqft</th>\n",
       "    </tr>\n",
       "  </thead>\n",
       "  <tbody>\n",
       "    <tr>\n",
       "      <th>0</th>\n",
       "      <td>19-Dec</td>\n",
       "      <td>Coomee</td>\n",
       "      <td>1056</td>\n",
       "    </tr>\n",
       "    <tr>\n",
       "      <th>1</th>\n",
       "      <td>Ready To Move</td>\n",
       "      <td>Theanmp</td>\n",
       "      <td>2600</td>\n",
       "    </tr>\n",
       "    <tr>\n",
       "      <th>2</th>\n",
       "      <td>Ready To Move</td>\n",
       "      <td>Soiewre</td>\n",
       "      <td>1521</td>\n",
       "    </tr>\n",
       "    <tr>\n",
       "      <th>3</th>\n",
       "      <td>Ready To Move</td>\n",
       "      <td>DuenaTa</td>\n",
       "      <td>1170</td>\n",
       "    </tr>\n",
       "    <tr>\n",
       "      <th>4</th>\n",
       "      <td>Ready To Move</td>\n",
       "      <td>Prrry M</td>\n",
       "      <td>2785</td>\n",
       "    </tr>\n",
       "  </tbody>\n",
       "</table>\n",
       "</div>"
      ],
      "text/plain": [
       "    availability  society total_sqft\n",
       "0         19-Dec  Coomee        1056\n",
       "1  Ready To Move  Theanmp       2600\n",
       "2  Ready To Move  Soiewre       1521\n",
       "3  Ready To Move  DuenaTa       1170\n",
       "4  Ready To Move  Prrry M       2785"
      ]
     },
     "execution_count": 30,
     "metadata": {},
     "output_type": "execute_result"
    }
   ],
   "source": [
    "realestate[['availability', 'society', 'total_sqft']].head()"
   ]
  },
  {
   "cell_type": "code",
   "execution_count": 31,
   "metadata": {},
   "outputs": [
    {
     "data": {
      "text/plain": [
       "Ready To Move    5709\n",
       "18-Dec            180\n",
       "18-May            171\n",
       "19-Dec            157\n",
       "18-Apr            148\n",
       "                 ... \n",
       "16-Mar              1\n",
       "16-Oct              1\n",
       "14-Jul              1\n",
       "20-Feb              1\n",
       "22-Jan              1\n",
       "Name: availability, Length: 74, dtype: int64"
      ]
     },
     "execution_count": 31,
     "metadata": {},
     "output_type": "execute_result"
    }
   ],
   "source": [
    "# availability 변수의 수준별 빈도 확인: 19-Dec(157건), Ready To Move(5709건)\n",
    "realestate['availability'].value_counts()"
   ]
  },
  {
   "cell_type": "markdown",
   "metadata": {},
   "source": [
    "# 3장. 표본추출, 데이터 분할, 교차검증"
   ]
  },
  {
   "cell_type": "markdown",
   "metadata": {},
   "source": [
    "## 3-1. 표본추출\n",
    "- 표본추출 방법으로는 단순랜덤추출법, 계통추출법, 집략추출법, 층화추출법이 있다."
   ]
  },
  {
   "cell_type": "markdown",
   "metadata": {},
   "source": [
    "### 단순랜덤추출법 (Simple random sampling)\n",
    "- 각 샘플에 번호를 부여하여 임의의 n개를 추출하는 방법으로 각 샘플은 선택된 확률이 동일하다.\n",
    "- 추출한 요소(Element)를 다시 집어 넣어 추출하면 복원 추출, 다시 집어넣지 않고 추출하면 비복원 추출이다.\n",
    "- 단순랜덤추출을 하기 위해 Pandas, random, Numpy를 사용할 수 있다.\n",
    "- 다음에서 scikit-learn의 내장 데이터 'iris'에 대해 여러가지 방법으로 단순랜덤추출을 해보고자 한다."
   ]
  },
  {
   "cell_type": "code",
   "execution_count": 2,
   "metadata": {},
   "outputs": [
    {
     "data": {
      "text/html": [
       "<div>\n",
       "<style scoped>\n",
       "    .dataframe tbody tr th:only-of-type {\n",
       "        vertical-align: middle;\n",
       "    }\n",
       "\n",
       "    .dataframe tbody tr th {\n",
       "        vertical-align: top;\n",
       "    }\n",
       "\n",
       "    .dataframe thead th {\n",
       "        text-align: right;\n",
       "    }\n",
       "</style>\n",
       "<table border=\"1\" class=\"dataframe\">\n",
       "  <thead>\n",
       "    <tr style=\"text-align: right;\">\n",
       "      <th></th>\n",
       "      <th>sepal length</th>\n",
       "      <th>sepal width</th>\n",
       "      <th>petal length</th>\n",
       "      <th>petal width</th>\n",
       "      <th>target</th>\n",
       "    </tr>\n",
       "  </thead>\n",
       "  <tbody>\n",
       "    <tr>\n",
       "      <th>0</th>\n",
       "      <td>5.1</td>\n",
       "      <td>3.5</td>\n",
       "      <td>1.4</td>\n",
       "      <td>0.2</td>\n",
       "      <td>0.0</td>\n",
       "    </tr>\n",
       "    <tr>\n",
       "      <th>1</th>\n",
       "      <td>4.9</td>\n",
       "      <td>3.0</td>\n",
       "      <td>1.4</td>\n",
       "      <td>0.2</td>\n",
       "      <td>0.0</td>\n",
       "    </tr>\n",
       "    <tr>\n",
       "      <th>2</th>\n",
       "      <td>4.7</td>\n",
       "      <td>3.2</td>\n",
       "      <td>1.3</td>\n",
       "      <td>0.2</td>\n",
       "      <td>0.0</td>\n",
       "    </tr>\n",
       "    <tr>\n",
       "      <th>3</th>\n",
       "      <td>4.6</td>\n",
       "      <td>3.1</td>\n",
       "      <td>1.5</td>\n",
       "      <td>0.2</td>\n",
       "      <td>0.0</td>\n",
       "    </tr>\n",
       "    <tr>\n",
       "      <th>4</th>\n",
       "      <td>5.0</td>\n",
       "      <td>3.6</td>\n",
       "      <td>1.4</td>\n",
       "      <td>0.2</td>\n",
       "      <td>0.0</td>\n",
       "    </tr>\n",
       "  </tbody>\n",
       "</table>\n",
       "</div>"
      ],
      "text/plain": [
       "   sepal length  sepal width  petal length  petal width  target\n",
       "0           5.1          3.5           1.4          0.2     0.0\n",
       "1           4.9          3.0           1.4          0.2     0.0\n",
       "2           4.7          3.2           1.3          0.2     0.0\n",
       "3           4.6          3.1           1.5          0.2     0.0\n",
       "4           5.0          3.6           1.4          0.2     0.0"
      ]
     },
     "execution_count": 2,
     "metadata": {},
     "output_type": "execute_result"
    }
   ],
   "source": [
    "# scikit-learn의 내장 데이터 iris 불러오기\n",
    "import pandas as pd\n",
    "import numpy as np\n",
    "\n",
    "from sklearn.datasets import load_iris\n",
    "\n",
    "data = load_iris()\n",
    "iris_cols = list(data['feature_names']) + ['target']\n",
    "\n",
    "iris = pd.DataFrame(np.c_[data['data'], data['target']], columns=[col.replace(\" (cm)\", \"\") for col in iris_cols])\n",
    "iris.head()"
   ]
  },
  {
   "cell_type": "code",
   "execution_count": 3,
   "metadata": {},
   "outputs": [
    {
     "data": {
      "text/html": [
       "<div>\n",
       "<style scoped>\n",
       "    .dataframe tbody tr th:only-of-type {\n",
       "        vertical-align: middle;\n",
       "    }\n",
       "\n",
       "    .dataframe tbody tr th {\n",
       "        vertical-align: top;\n",
       "    }\n",
       "\n",
       "    .dataframe thead th {\n",
       "        text-align: right;\n",
       "    }\n",
       "</style>\n",
       "<table border=\"1\" class=\"dataframe\">\n",
       "  <thead>\n",
       "    <tr style=\"text-align: right;\">\n",
       "      <th></th>\n",
       "      <th>sepal length</th>\n",
       "      <th>sepal width</th>\n",
       "      <th>petal length</th>\n",
       "      <th>petal width</th>\n",
       "      <th>target</th>\n",
       "    </tr>\n",
       "  </thead>\n",
       "  <tbody>\n",
       "    <tr>\n",
       "      <th>106</th>\n",
       "      <td>4.9</td>\n",
       "      <td>2.5</td>\n",
       "      <td>4.5</td>\n",
       "      <td>1.7</td>\n",
       "      <td>2.0</td>\n",
       "    </tr>\n",
       "    <tr>\n",
       "      <th>15</th>\n",
       "      <td>5.7</td>\n",
       "      <td>4.4</td>\n",
       "      <td>1.5</td>\n",
       "      <td>0.4</td>\n",
       "      <td>0.0</td>\n",
       "    </tr>\n",
       "    <tr>\n",
       "      <th>45</th>\n",
       "      <td>4.8</td>\n",
       "      <td>3.0</td>\n",
       "      <td>1.4</td>\n",
       "      <td>0.3</td>\n",
       "      <td>0.0</td>\n",
       "    </tr>\n",
       "  </tbody>\n",
       "</table>\n",
       "</div>"
      ],
      "text/plain": [
       "     sepal length  sepal width  petal length  petal width  target\n",
       "106           4.9          2.5           4.5          1.7     2.0\n",
       "15            5.7          4.4           1.5          0.4     0.0\n",
       "45            4.8          3.0           1.4          0.3     0.0"
      ]
     },
     "execution_count": 3,
     "metadata": {},
     "output_type": "execute_result"
    }
   ],
   "source": [
    "# 복원하지 않고 3개를 랜덤추출\n",
    "iris.sample(n=3, replace=False)"
   ]
  },
  {
   "cell_type": "code",
   "execution_count": 4,
   "metadata": {},
   "outputs": [
    {
     "data": {
      "text/html": [
       "<div>\n",
       "<style scoped>\n",
       "    .dataframe tbody tr th:only-of-type {\n",
       "        vertical-align: middle;\n",
       "    }\n",
       "\n",
       "    .dataframe tbody tr th {\n",
       "        vertical-align: top;\n",
       "    }\n",
       "\n",
       "    .dataframe thead th {\n",
       "        text-align: right;\n",
       "    }\n",
       "</style>\n",
       "<table border=\"1\" class=\"dataframe\">\n",
       "  <thead>\n",
       "    <tr style=\"text-align: right;\">\n",
       "      <th></th>\n",
       "      <th>sepal length</th>\n",
       "      <th>sepal width</th>\n",
       "      <th>petal length</th>\n",
       "      <th>petal width</th>\n",
       "      <th>target</th>\n",
       "    </tr>\n",
       "  </thead>\n",
       "  <tbody>\n",
       "    <tr>\n",
       "      <th>0</th>\n",
       "      <td>5.1</td>\n",
       "      <td>3.5</td>\n",
       "      <td>1.4</td>\n",
       "      <td>0.2</td>\n",
       "      <td>0.0</td>\n",
       "    </tr>\n",
       "    <tr>\n",
       "      <th>85</th>\n",
       "      <td>6.0</td>\n",
       "      <td>3.4</td>\n",
       "      <td>4.5</td>\n",
       "      <td>1.6</td>\n",
       "      <td>1.0</td>\n",
       "    </tr>\n",
       "    <tr>\n",
       "      <th>1</th>\n",
       "      <td>4.9</td>\n",
       "      <td>3.0</td>\n",
       "      <td>1.4</td>\n",
       "      <td>0.2</td>\n",
       "      <td>0.0</td>\n",
       "    </tr>\n",
       "    <tr>\n",
       "      <th>44</th>\n",
       "      <td>5.1</td>\n",
       "      <td>3.8</td>\n",
       "      <td>1.9</td>\n",
       "      <td>0.4</td>\n",
       "      <td>0.0</td>\n",
       "    </tr>\n",
       "  </tbody>\n",
       "</table>\n",
       "</div>"
      ],
      "text/plain": [
       "    sepal length  sepal width  petal length  petal width  target\n",
       "0            5.1          3.5           1.4          0.2     0.0\n",
       "85           6.0          3.4           4.5          1.6     1.0\n",
       "1            4.9          3.0           1.4          0.2     0.0\n",
       "44           5.1          3.8           1.9          0.4     0.0"
      ]
     },
     "execution_count": 4,
     "metadata": {},
     "output_type": "execute_result"
    }
   ],
   "source": [
    "# frac 파라미터로 전체 데이터의 3%를 랜덤추출\n",
    "iris.sample(frac=0.03)"
   ]
  },
  {
   "cell_type": "code",
   "execution_count": 5,
   "metadata": {},
   "outputs": [
    {
     "data": {
      "text/html": [
       "<div>\n",
       "<style scoped>\n",
       "    .dataframe tbody tr th:only-of-type {\n",
       "        vertical-align: middle;\n",
       "    }\n",
       "\n",
       "    .dataframe tbody tr th {\n",
       "        vertical-align: top;\n",
       "    }\n",
       "\n",
       "    .dataframe thead th {\n",
       "        text-align: right;\n",
       "    }\n",
       "</style>\n",
       "<table border=\"1\" class=\"dataframe\">\n",
       "  <thead>\n",
       "    <tr style=\"text-align: right;\">\n",
       "      <th></th>\n",
       "      <th>petal length</th>\n",
       "      <th>sepal length</th>\n",
       "      <th>petal width</th>\n",
       "    </tr>\n",
       "  </thead>\n",
       "  <tbody>\n",
       "    <tr>\n",
       "      <th>0</th>\n",
       "      <td>1.4</td>\n",
       "      <td>5.1</td>\n",
       "      <td>0.2</td>\n",
       "    </tr>\n",
       "    <tr>\n",
       "      <th>1</th>\n",
       "      <td>1.4</td>\n",
       "      <td>4.9</td>\n",
       "      <td>0.2</td>\n",
       "    </tr>\n",
       "    <tr>\n",
       "      <th>2</th>\n",
       "      <td>1.3</td>\n",
       "      <td>4.7</td>\n",
       "      <td>0.2</td>\n",
       "    </tr>\n",
       "  </tbody>\n",
       "</table>\n",
       "</div>"
      ],
      "text/plain": [
       "   petal length  sepal length  petal width\n",
       "0           1.4           5.1          0.2\n",
       "1           1.4           4.9          0.2\n",
       "2           1.3           4.7          0.2"
      ]
     },
     "execution_count": 5,
     "metadata": {},
     "output_type": "execute_result"
    }
   ],
   "source": [
    "# 3개의 열(axis=1)을 랜덤 추출\n",
    "iris.sample(3, axis=1).head(3)"
   ]
  },
  {
   "cell_type": "code",
   "execution_count": 6,
   "metadata": {},
   "outputs": [
    {
     "name": "stdout",
     "output_type": "stream",
     "text": [
      "random.sample: ['c', 2, 5, 'b']\n",
      "np.random.choice: ['b' '4' 'a' '5']\n"
     ]
    }
   ],
   "source": [
    "# 리스트에서 단순랜덤추출하기\n",
    "import random\n",
    "import numpy as np\n",
    "\n",
    "data_list = [1, 2, 3, 4, 5, 'a', 'b', 'c']\n",
    "\n",
    "print(f\"random.sample: {random.sample(data_list, 4)}\")\n",
    "print(f\"np.random.choice: {np.random.choice(data_list, 4, replace=True)}\")"
   ]
  },
  {
   "cell_type": "code",
   "execution_count": 7,
   "metadata": {},
   "outputs": [
    {
     "name": "stdout",
     "output_type": "stream",
     "text": [
      "0~10 사이의 정수 중 3개의 난수 생성: [1 5 3]\n",
      "0~1 사이의 실수를 2*2 배열로 생성: [[0.40840573 0.96917132]\n",
      " [0.57826461 0.89113295]]\n"
     ]
    }
   ],
   "source": [
    "# [참고] 난수 생성하기\n",
    "print(f\"0~10 사이의 정수 중 3개의 난수 생성: {np.random.randint(0, 10, 3)}\")\n",
    "print(f\"0~1 사이의 실수를 2*2 배열로 생성: {np.random.rand(2, 2)}\")"
   ]
  },
  {
   "cell_type": "markdown",
   "metadata": {},
   "source": [
    "### 계통추출법 (Systematic sampling)\n",
    "- 먼저, 번호를 부여한 샘플을 나열한다.\n",
    "- 총 N(30)개의 모집단에서 n(5)개의 샘플을 추출하기 위해서 N/n으로 구간을 나눈다.\n",
    "- 이 경우, 각 구간에 들어있는 샘플의 수는 K(6)가 된다.\n",
    "- K(6)개의 샘플이 들어있는 첫 구간에서 임의로 샘플을 하나 선택하고, K(6)개씩 띄어서 각 구간에서 하나씩 샘플을 추출한다."
   ]
  },
  {
   "cell_type": "code",
   "execution_count": 9,
   "metadata": {},
   "outputs": [
    {
     "name": "stdout",
     "output_type": "stream",
     "text": [
      "N: 150\n",
      "n: 8\n",
      "K: 18\n"
     ]
    },
    {
     "data": {
      "text/html": [
       "<div>\n",
       "<style scoped>\n",
       "    .dataframe tbody tr th:only-of-type {\n",
       "        vertical-align: middle;\n",
       "    }\n",
       "\n",
       "    .dataframe tbody tr th {\n",
       "        vertical-align: top;\n",
       "    }\n",
       "\n",
       "    .dataframe thead th {\n",
       "        text-align: right;\n",
       "    }\n",
       "</style>\n",
       "<table border=\"1\" class=\"dataframe\">\n",
       "  <thead>\n",
       "    <tr style=\"text-align: right;\">\n",
       "      <th></th>\n",
       "      <th>sepal length</th>\n",
       "      <th>sepal width</th>\n",
       "      <th>petal length</th>\n",
       "      <th>petal width</th>\n",
       "      <th>target</th>\n",
       "    </tr>\n",
       "  </thead>\n",
       "  <tbody>\n",
       "    <tr>\n",
       "      <th>5</th>\n",
       "      <td>5.4</td>\n",
       "      <td>3.9</td>\n",
       "      <td>1.7</td>\n",
       "      <td>0.4</td>\n",
       "      <td>0.0</td>\n",
       "    </tr>\n",
       "    <tr>\n",
       "      <th>23</th>\n",
       "      <td>5.1</td>\n",
       "      <td>3.3</td>\n",
       "      <td>1.7</td>\n",
       "      <td>0.5</td>\n",
       "      <td>0.0</td>\n",
       "    </tr>\n",
       "    <tr>\n",
       "      <th>41</th>\n",
       "      <td>4.5</td>\n",
       "      <td>2.3</td>\n",
       "      <td>1.3</td>\n",
       "      <td>0.3</td>\n",
       "      <td>0.0</td>\n",
       "    </tr>\n",
       "    <tr>\n",
       "      <th>59</th>\n",
       "      <td>5.2</td>\n",
       "      <td>2.7</td>\n",
       "      <td>3.9</td>\n",
       "      <td>1.4</td>\n",
       "      <td>1.0</td>\n",
       "    </tr>\n",
       "    <tr>\n",
       "      <th>77</th>\n",
       "      <td>6.7</td>\n",
       "      <td>3.0</td>\n",
       "      <td>5.0</td>\n",
       "      <td>1.7</td>\n",
       "      <td>1.0</td>\n",
       "    </tr>\n",
       "    <tr>\n",
       "      <th>95</th>\n",
       "      <td>5.7</td>\n",
       "      <td>3.0</td>\n",
       "      <td>4.2</td>\n",
       "      <td>1.2</td>\n",
       "      <td>1.0</td>\n",
       "    </tr>\n",
       "    <tr>\n",
       "      <th>113</th>\n",
       "      <td>5.7</td>\n",
       "      <td>2.5</td>\n",
       "      <td>5.0</td>\n",
       "      <td>2.0</td>\n",
       "      <td>2.0</td>\n",
       "    </tr>\n",
       "    <tr>\n",
       "      <th>131</th>\n",
       "      <td>7.9</td>\n",
       "      <td>3.8</td>\n",
       "      <td>6.4</td>\n",
       "      <td>2.0</td>\n",
       "      <td>2.0</td>\n",
       "    </tr>\n",
       "  </tbody>\n",
       "</table>\n",
       "</div>"
      ],
      "text/plain": [
       "     sepal length  sepal width  petal length  petal width  target\n",
       "5             5.4          3.9           1.7          0.4     0.0\n",
       "23            5.1          3.3           1.7          0.5     0.0\n",
       "41            4.5          2.3           1.3          0.3     0.0\n",
       "59            5.2          2.7           3.9          1.4     1.0\n",
       "77            6.7          3.0           5.0          1.7     1.0\n",
       "95            5.7          3.0           4.2          1.2     1.0\n",
       "113           5.7          2.5           5.0          2.0     2.0\n",
       "131           7.9          3.8           6.4          2.0     2.0"
      ]
     },
     "execution_count": 9,
     "metadata": {},
     "output_type": "execute_result"
    }
   ],
   "source": [
    "# 계통추출법으로 표본추출\n",
    "data, n = iris, 8 # 모집단 데이터프레임, 추출할 샘플 수\n",
    "N = len(data) # 모집단 데이터 크기\n",
    "K = N // n # 구간 내 샘플 수\n",
    "\n",
    "index = data[:K].sample(1).index # 첫 구간에서 임의로 선택한 샘플 인덱스\n",
    "\n",
    "# 첫 샘플로부터 K개씩 띄어서 각 구간에서 하나씩 샘플을 추출\n",
    "sys_df = pd.DataFrame()\n",
    "\n",
    "while len(sys_df) < n:\n",
    "    sys_df = sys_df.append(data.loc[index, :])\n",
    "    index += K\n",
    "    \n",
    "print(f\"N: {N}\")\n",
    "print(f\"n: {n}\")\n",
    "print(f\"K: {K}\")\n",
    "sys_df"
   ]
  },
  {
   "cell_type": "markdown",
   "metadata": {},
   "source": [
    "### 집략추출법 (Cluster random sampling)\n",
    "- 군집별로 랜덤추출법을 수행하여 표본을 얻는 방법이다.\n",
    "- 지역표본추출과 다단계표본추출이 이에 해당한다.\n",
    "- 이 경우, 군집 내 요소들은 상이하지만, 군집과 군집은 비교적 유사한 특성을 띈다.\n",
    "- 아래 층화추출법에서 층을 집략으로 대치하면 된다."
   ]
  },
  {
   "cell_type": "markdown",
   "metadata": {},
   "source": [
    "### 층화추출법 (Stratified random sampling)\n",
    "- 계층별로 랜덤추출법을 수행하여 표본을 얻는 방법이다.\n",
    "- 비례층화추출법과 불비례층화추출법이 이에 해당한다.\n",
    "- 각 층(Stratum) 내 요소들은 유사하지만, 층과 층의 요소들은 상이하다."
   ]
  },
  {
   "cell_type": "code",
   "execution_count": 10,
   "metadata": {},
   "outputs": [
    {
     "data": {
      "text/plain": [
       "2.0    50\n",
       "1.0    50\n",
       "0.0    50\n",
       "Name: target, dtype: int64"
      ]
     },
     "execution_count": 10,
     "metadata": {},
     "output_type": "execute_result"
    }
   ],
   "source": [
    "# target을 층 혹은 집략이라고 가정\n",
    "# 원본 데이터의 분포 확인\n",
    "\n",
    "iris['target'].value_counts()"
   ]
  },
  {
   "cell_type": "code",
   "execution_count": 12,
   "metadata": {},
   "outputs": [
    {
     "data": {
      "text/html": [
       "<div>\n",
       "<style scoped>\n",
       "    .dataframe tbody tr th:only-of-type {\n",
       "        vertical-align: middle;\n",
       "    }\n",
       "\n",
       "    .dataframe tbody tr th {\n",
       "        vertical-align: top;\n",
       "    }\n",
       "\n",
       "    .dataframe thead th {\n",
       "        text-align: right;\n",
       "    }\n",
       "</style>\n",
       "<table border=\"1\" class=\"dataframe\">\n",
       "  <thead>\n",
       "    <tr style=\"text-align: right;\">\n",
       "      <th></th>\n",
       "      <th>sepal length</th>\n",
       "      <th>sepal width</th>\n",
       "      <th>petal length</th>\n",
       "      <th>petal width</th>\n",
       "      <th>target</th>\n",
       "    </tr>\n",
       "  </thead>\n",
       "  <tbody>\n",
       "    <tr>\n",
       "      <th>17</th>\n",
       "      <td>5.1</td>\n",
       "      <td>3.5</td>\n",
       "      <td>1.4</td>\n",
       "      <td>0.3</td>\n",
       "      <td>0.0</td>\n",
       "    </tr>\n",
       "    <tr>\n",
       "      <th>46</th>\n",
       "      <td>5.1</td>\n",
       "      <td>3.8</td>\n",
       "      <td>1.6</td>\n",
       "      <td>0.2</td>\n",
       "      <td>0.0</td>\n",
       "    </tr>\n",
       "    <tr>\n",
       "      <th>20</th>\n",
       "      <td>5.4</td>\n",
       "      <td>3.4</td>\n",
       "      <td>1.7</td>\n",
       "      <td>0.2</td>\n",
       "      <td>0.0</td>\n",
       "    </tr>\n",
       "    <tr>\n",
       "      <th>55</th>\n",
       "      <td>5.7</td>\n",
       "      <td>2.8</td>\n",
       "      <td>4.5</td>\n",
       "      <td>1.3</td>\n",
       "      <td>1.0</td>\n",
       "    </tr>\n",
       "    <tr>\n",
       "      <th>57</th>\n",
       "      <td>4.9</td>\n",
       "      <td>2.4</td>\n",
       "      <td>3.3</td>\n",
       "      <td>1.0</td>\n",
       "      <td>1.0</td>\n",
       "    </tr>\n",
       "    <tr>\n",
       "      <th>68</th>\n",
       "      <td>6.2</td>\n",
       "      <td>2.2</td>\n",
       "      <td>4.5</td>\n",
       "      <td>1.5</td>\n",
       "      <td>1.0</td>\n",
       "    </tr>\n",
       "    <tr>\n",
       "      <th>135</th>\n",
       "      <td>7.7</td>\n",
       "      <td>3.0</td>\n",
       "      <td>6.1</td>\n",
       "      <td>2.3</td>\n",
       "      <td>2.0</td>\n",
       "    </tr>\n",
       "    <tr>\n",
       "      <th>129</th>\n",
       "      <td>7.2</td>\n",
       "      <td>3.0</td>\n",
       "      <td>5.8</td>\n",
       "      <td>1.6</td>\n",
       "      <td>2.0</td>\n",
       "    </tr>\n",
       "    <tr>\n",
       "      <th>134</th>\n",
       "      <td>6.1</td>\n",
       "      <td>2.6</td>\n",
       "      <td>5.6</td>\n",
       "      <td>1.4</td>\n",
       "      <td>2.0</td>\n",
       "    </tr>\n",
       "  </tbody>\n",
       "</table>\n",
       "</div>"
      ],
      "text/plain": [
       "     sepal length  sepal width  petal length  petal width  target\n",
       "17            5.1          3.5           1.4          0.3     0.0\n",
       "46            5.1          3.8           1.6          0.2     0.0\n",
       "20            5.4          3.4           1.7          0.2     0.0\n",
       "55            5.7          2.8           4.5          1.3     1.0\n",
       "57            4.9          2.4           3.3          1.0     1.0\n",
       "68            6.2          2.2           4.5          1.5     1.0\n",
       "135           7.7          3.0           6.1          2.3     2.0\n",
       "129           7.2          3.0           5.8          1.6     2.0\n",
       "134           6.1          2.6           5.6          1.4     2.0"
      ]
     },
     "execution_count": 12,
     "metadata": {},
     "output_type": "execute_result"
    }
   ],
   "source": [
    "# 데이터, 층/집략 정보를 가진 컬럼명, 추출표본 개수\n",
    "data, stratum, sampling_no = iris, 'target', 9\n",
    "\n",
    "# 비례층화추출법: 원본 데이터의 비율대로 추출\n",
    "levels = data[stratum].unique()\n",
    "total = data[stratum].value_counts().sum()\n",
    "prop_val = data[stratum].value_counts() / total\n",
    "no = prop_val * sampling_no\n",
    "\n",
    "result = pd.DataFrame()\n",
    "for level in levels:\n",
    "    temp_df = data[data[stratum]==level].sample(int(no[level]))\n",
    "    result = pd.concat([result, temp_df])\n",
    "    \n",
    "result"
   ]
  },
  {
   "cell_type": "code",
   "execution_count": 13,
   "metadata": {},
   "outputs": [
    {
     "data": {
      "text/html": [
       "<div>\n",
       "<style scoped>\n",
       "    .dataframe tbody tr th:only-of-type {\n",
       "        vertical-align: middle;\n",
       "    }\n",
       "\n",
       "    .dataframe tbody tr th {\n",
       "        vertical-align: top;\n",
       "    }\n",
       "\n",
       "    .dataframe thead th {\n",
       "        text-align: right;\n",
       "    }\n",
       "</style>\n",
       "<table border=\"1\" class=\"dataframe\">\n",
       "  <thead>\n",
       "    <tr style=\"text-align: right;\">\n",
       "      <th></th>\n",
       "      <th>sepal length</th>\n",
       "      <th>sepal width</th>\n",
       "      <th>petal length</th>\n",
       "      <th>petal width</th>\n",
       "      <th>target</th>\n",
       "    </tr>\n",
       "  </thead>\n",
       "  <tbody>\n",
       "    <tr>\n",
       "      <th>17</th>\n",
       "      <td>5.1</td>\n",
       "      <td>3.5</td>\n",
       "      <td>1.4</td>\n",
       "      <td>0.3</td>\n",
       "      <td>0.0</td>\n",
       "    </tr>\n",
       "    <tr>\n",
       "      <th>41</th>\n",
       "      <td>4.5</td>\n",
       "      <td>2.3</td>\n",
       "      <td>1.3</td>\n",
       "      <td>0.3</td>\n",
       "      <td>0.0</td>\n",
       "    </tr>\n",
       "    <tr>\n",
       "      <th>71</th>\n",
       "      <td>6.1</td>\n",
       "      <td>2.8</td>\n",
       "      <td>4.0</td>\n",
       "      <td>1.3</td>\n",
       "      <td>1.0</td>\n",
       "    </tr>\n",
       "    <tr>\n",
       "      <th>91</th>\n",
       "      <td>6.1</td>\n",
       "      <td>3.0</td>\n",
       "      <td>4.6</td>\n",
       "      <td>1.4</td>\n",
       "      <td>1.0</td>\n",
       "    </tr>\n",
       "    <tr>\n",
       "      <th>62</th>\n",
       "      <td>6.0</td>\n",
       "      <td>2.2</td>\n",
       "      <td>4.0</td>\n",
       "      <td>1.0</td>\n",
       "      <td>1.0</td>\n",
       "    </tr>\n",
       "    <tr>\n",
       "      <th>52</th>\n",
       "      <td>6.9</td>\n",
       "      <td>3.1</td>\n",
       "      <td>4.9</td>\n",
       "      <td>1.5</td>\n",
       "      <td>1.0</td>\n",
       "    </tr>\n",
       "    <tr>\n",
       "      <th>53</th>\n",
       "      <td>5.5</td>\n",
       "      <td>2.3</td>\n",
       "      <td>4.0</td>\n",
       "      <td>1.3</td>\n",
       "      <td>1.0</td>\n",
       "    </tr>\n",
       "    <tr>\n",
       "      <th>139</th>\n",
       "      <td>6.9</td>\n",
       "      <td>3.1</td>\n",
       "      <td>5.4</td>\n",
       "      <td>2.1</td>\n",
       "      <td>2.0</td>\n",
       "    </tr>\n",
       "    <tr>\n",
       "      <th>130</th>\n",
       "      <td>7.4</td>\n",
       "      <td>2.8</td>\n",
       "      <td>6.1</td>\n",
       "      <td>1.9</td>\n",
       "      <td>2.0</td>\n",
       "    </tr>\n",
       "    <tr>\n",
       "      <th>137</th>\n",
       "      <td>6.4</td>\n",
       "      <td>3.1</td>\n",
       "      <td>5.5</td>\n",
       "      <td>1.8</td>\n",
       "      <td>2.0</td>\n",
       "    </tr>\n",
       "  </tbody>\n",
       "</table>\n",
       "</div>"
      ],
      "text/plain": [
       "     sepal length  sepal width  petal length  petal width  target\n",
       "17            5.1          3.5           1.4          0.3     0.0\n",
       "41            4.5          2.3           1.3          0.3     0.0\n",
       "71            6.1          2.8           4.0          1.3     1.0\n",
       "91            6.1          3.0           4.6          1.4     1.0\n",
       "62            6.0          2.2           4.0          1.0     1.0\n",
       "52            6.9          3.1           4.9          1.5     1.0\n",
       "53            5.5          2.3           4.0          1.3     1.0\n",
       "139           6.9          3.1           5.4          2.1     2.0\n",
       "130           7.4          2.8           6.1          1.9     2.0\n",
       "137           6.4          3.1           5.5          1.8     2.0"
      ]
     },
     "execution_count": 13,
     "metadata": {},
     "output_type": "execute_result"
    }
   ],
   "source": [
    "# 불비례층화추출법: 임의로 정한 특정 비율대로 샘플링\n",
    "# 데이터, 총/집략 정보를 가진 컬럼명, 추출표본 개수, 각 층/집략의 비율\n",
    "data, stratum, sampling_no, proportion = iris, 'target', 10, {0:0.2, 1:0.5, 2:0.3}\n",
    "\n",
    "levels = list(proportion.keys())\n",
    "prop_val = np.array(list(proportion.values()))\n",
    "total = sum(prop_val)\n",
    "\n",
    "no = prop_val * sampling_no\n",
    "\n",
    "result = pd.DataFrame()\n",
    "for level in levels:\n",
    "    temp_df = data[data[stratum]==level].sample(int(no[level]))\n",
    "    result = pd.concat([result, temp_df])\n",
    "    \n",
    "result"
   ]
  },
  {
   "cell_type": "markdown",
   "metadata": {},
   "source": [
    "## 3-2. 데이터 분할\n",
    "- 데이터를 학습용과 시험용으로 분할하여 학습하고 검증하는 이유는, 과적합을 피함으로써 일반화된 성능을 확보하기 위함이다.\n",
    "- 데이터 분할 방법에는 일반적인 데이터 분할 및 홀드아웃방법이 있고, Shuffle split, K-fold, 층화 K-fold, Group K-fold, Stratified Group K-fold 등이 있다."
   ]
  },
  {
   "cell_type": "markdown",
   "metadata": {},
   "source": [
    "### 일반적 데이터 분할 및 홀드아웃 방법\n",
    "- 일반적으로는 학습용(Train set) 70%, 검증용(Test set) 30%의 비율에 따라 랜덤으로 데이터를 분할하여 모델 학습에 사용한다.\n",
    "- 여기서 홀드아웃(Hold-out) 방법이란, 학습용과 검증용의 비율을 50:50으로 하는 것을 말한다.\n",
    "- scikit-learn의 train_test_split의 파라미터 test_size에서 test set의 비율을 지정함으로써 간단하게 데이터를 분할할 수 있다.\n",
    "- random_state에 상수를 입력하지 않으면, 코드를 실행할 때마다 다른 구성으로 데이터가 분할되며, 상수를 입력하면 매번 동일한 구성으로 데이터가 분할된다."
   ]
  },
  {
   "cell_type": "code",
   "execution_count": 16,
   "metadata": {},
   "outputs": [
    {
     "name": "stdout",
     "output_type": "stream",
     "text": [
      "X_train(y_train): (105, 105), X_test(y_test): (45, 45)\n",
      "X_train의 비율: 0.7, X_test의 비율: 0.3\n"
     ]
    }
   ],
   "source": [
    "from sklearn.model_selection import train_test_split\n",
    "\n",
    "X = iris.drop('target', axis=1)\n",
    "y = iris.filter(['target'])\n",
    "\n",
    "# 일반적 데이터 분할\n",
    "X_train, X_test, y_train, y_test = train_test_split(X, y, test_size=0.3)\n",
    "print(f\"X_train(y_train): {len(X_train), len(y_train)}, X_test(y_test): {len(X_test), len(y_test)}\")\n",
    "print(f\"X_train의 비율: {len(X_train) / len(X)}, X_test의 비율: {len(X_test) / len(X)}\")"
   ]
  },
  {
   "cell_type": "code",
   "execution_count": 17,
   "metadata": {},
   "outputs": [
    {
     "name": "stdout",
     "output_type": "stream",
     "text": [
      "X_train(y_train): (75, 75), X_test(y_test): (75, 75)\n",
      "X_train의 비율: 0.5, X_test의 비율: 0.5\n"
     ]
    }
   ],
   "source": [
    "# 일반적 데이터 분할\n",
    "X_train, X_test, y_train, y_test = train_test_split(X, y, test_size=0.5)\n",
    "print(f\"X_train(y_train): {len(X_train), len(y_train)}, X_test(y_test): {len(X_test), len(y_test)}\")\n",
    "print(f\"X_train의 비율: {len(X_train) / len(X)}, X_test의 비율: {len(X_test) / len(X)}\")"
   ]
  },
  {
   "cell_type": "markdown",
   "metadata": {},
   "source": [
    "### Shuffle split\n",
    "- 무작위 순열 교차 검증(Random permutation cross-validate)에 사용한다.\n",
    "- 데이터 크기가 작은 경우, 분할 샘플들이 유사할 수도 있다.\n",
    "- scikit-learn의 ShuffleSplit을 사용해서 간단하게 무작위 순열 교차 검증을 진행할 수 있다.\n",
    "- 파라미터 train_size와 test_size에 전체 데이터 대비 학습용 데이터와 검증용 데이터의 비율을 입력함으로써 각 데이터의 크기를 설정하고, n_splits로 샘플 분할 횟수를 지정한다."
   ]
  },
  {
   "cell_type": "code",
   "execution_count": 28,
   "metadata": {},
   "outputs": [
    {
     "name": "stdout",
     "output_type": "stream",
     "text": [
      "Sample 0 ==> train_index: [108   2  84], test_index: [ 96 110  65]\n",
      "\tX_train의 비율: 0.5, X_test의 비율: 0.5\n",
      "\ty_train의 타겟 구성: Counter({0.0: 31, 2.0: 23, 1.0: 21})\n",
      "\ty_test의 타겟 구성: Counter({1.0: 29, 2.0: 27, 0.0: 19})\n",
      "Sample 1 ==> train_index: [115   1  68], test_index: [ 58 112 133]\n",
      "\tX_train의 비율: 0.5, X_test의 비율: 0.5\n",
      "\ty_train의 타겟 구성: Counter({0.0: 33, 2.0: 22, 1.0: 20})\n",
      "\ty_test의 타겟 구성: Counter({1.0: 30, 2.0: 28, 0.0: 17})\n",
      "Sample 2 ==> train_index: [26 16 54], test_index: [ 46 138  70]\n",
      "\tX_train의 비율: 0.5, X_test의 비율: 0.5\n",
      "\ty_train의 타겟 구성: Counter({0.0: 27, 1.0: 26, 2.0: 22})\n",
      "\ty_test의 타겟 구성: Counter({2.0: 28, 1.0: 24, 0.0: 23})\n",
      "Sample 3 ==> train_index: [125  82 118], test_index: [20  5 94]\n",
      "\tX_train의 비율: 0.5, X_test의 비율: 0.5\n",
      "\ty_train의 타겟 구성: Counter({2.0: 26, 1.0: 26, 0.0: 23})\n",
      "\ty_test의 타겟 구성: Counter({0.0: 27, 1.0: 24, 2.0: 24})\n"
     ]
    }
   ],
   "source": [
    "from sklearn.model_selection import ShuffleSplit\n",
    "from collections import Counter\n",
    "\n",
    "ss = ShuffleSplit(test_size=0.5, train_size=0.5, n_splits=4)\n",
    "for i, (train_index, test_index) in enumerate(ss.split(X)):\n",
    "    print(f\"Sample {i} ==> train_index: {train_index[:3]}, test_index: {test_index[:3]}\")\n",
    "    X_train, X_test, y_train, y_test = X.iloc[train_index], X.iloc[test_index], y.iloc[train_index], y.iloc[test_index]\n",
    "    print(f\"\\tX_train의 비율: {len(X_train) / len(X)}, X_test의 비율: {len(X_test) / len(X)}\")\n",
    "    print(f\"\\ty_train의 타겟 구성: {Counter(y_train['target'])}\")\n",
    "    print(f\"\\ty_test의 타겟 구성: {Counter(y_test['target'])}\")"
   ]
  },
  {
   "cell_type": "markdown",
   "metadata": {},
   "source": [
    "### K-fold 분할\n",
    "- 데이터를 K개의 집단으로 분할한 뒤 (K-1)개의 집단의 데이터를 학습용 데이터로 삼고, 나머지 1개 집단의 데이터를 검증용 데이터로 삼는 방법이다.\n",
    "- 이 과정을 K번 반복하여 모든 데이터가 학습과 검증에 사용될 수 있도록 하고, 이 과정에서 얻은 여러 평균제곱오차(MSE)들의 평균을 해당 모델의 MSE 값으로 사용한다.\n",
    "- 학습용 데이터와 검증용 데이터의 크기는 fold를 몇 개로 정하는지에 따라 정해진다.\n",
    "- 5-fold이면, 학습용은 전체 데이터의 4/5, 검증용 데이터는 전체 데이터의 1/5이 되고, 10-fold이면, 학습용은 전체 데이터의 9/10, 검증용 데이터는 전체 데이터의 1/10이 된다."
   ]
  },
  {
   "cell_type": "code",
   "execution_count": 29,
   "metadata": {},
   "outputs": [
    {
     "name": "stdout",
     "output_type": "stream",
     "text": [
      "Sample 0 ==> train_index: [38 39 40], test_index: [0 1 2]\n",
      "\tX_train의 비율: 0.7466666666666667, X_test의 비율: 0.25333333333333335\n",
      "\ty_train의 타겟 구성: Counter({1.0: 50, 2.0: 50, 0.0: 12})\n",
      "\ty_test의 타겟 구성: Counter({0.0: 38})\n",
      "Sample 1 ==> train_index: [0 1 2], test_index: [38 39 40]\n",
      "\tX_train의 비율: 0.7466666666666667, X_test의 비율: 0.25333333333333335\n",
      "\ty_train의 타겟 구성: Counter({2.0: 50, 0.0: 38, 1.0: 24})\n",
      "\ty_test의 타겟 구성: Counter({1.0: 26, 0.0: 12})\n",
      "Sample 2 ==> train_index: [0 1 2], test_index: [76 77 78]\n",
      "\tX_train의 비율: 0.7533333333333333, X_test의 비율: 0.24666666666666667\n",
      "\ty_train의 타겟 구성: Counter({0.0: 50, 2.0: 37, 1.0: 26})\n",
      "\ty_test의 타겟 구성: Counter({1.0: 24, 2.0: 13})\n",
      "Sample 3 ==> train_index: [0 1 2], test_index: [113 114 115]\n",
      "\tX_train의 비율: 0.7533333333333333, X_test의 비율: 0.24666666666666667\n",
      "\ty_train의 타겟 구성: Counter({0.0: 50, 1.0: 50, 2.0: 13})\n",
      "\ty_test의 타겟 구성: Counter({2.0: 37})\n"
     ]
    }
   ],
   "source": [
    "from sklearn.model_selection import KFold\n",
    "from collections import Counter\n",
    "\n",
    "# n_splits=fold의 개수, shuffle=데이터 분할 전 shuffle 여부\n",
    "kf = KFold(n_splits=4, shuffle=False)\n",
    "for i, (train_index, test_index) in enumerate(kf.split(X)):\n",
    "    print(f\"Sample {i} ==> train_index: {train_index[:3]}, test_index: {test_index[:3]}\")\n",
    "    X_train, X_test, y_train, y_test = X.iloc[train_index], X.iloc[test_index], y.iloc[train_index], y.iloc[test_index]\n",
    "    print(f\"\\tX_train의 비율: {len(X_train) / len(X)}, X_test의 비율: {len(X_test) / len(X)}\")\n",
    "    print(f\"\\ty_train의 타겟 구성: {Counter(y_train['target'])}\")\n",
    "    print(f\"\\ty_test의 타겟 구성: {Counter(y_test['target'])}\")"
   ]
  },
  {
   "cell_type": "markdown",
   "metadata": {},
   "source": [
    "### Stratified K-fold 분할\n",
    "- K-fold 방법으로 분류용 데이터를 분할하는 과정에서, 어떤 분할에서는 학습용 데이터나 검증용 데이터에 타겟 변수의 일부 클래스가 포함되지 않거나 클래스 불균형인 채로 분할되는 경우가 생길 수 있다.\n",
    "- 이를 방지하기 위해 데이터를 K개의 집단으로 나눌 때, 타겟 변수의 클래스들이 각 fold 별로 일정한 비율로 배치되도록 하는 것이 Stratified K-fold 분할 방법이다.\n",
    "- 앞서 살펴 본 K-fold 예제 속 샘플들의 타겟 구성은 불균형인 반면, 다음의 Stratified K-fold 샘플들의 타겟 구성은 비교적 균형 잡힌 것을 볼 수 있다."
   ]
  },
  {
   "cell_type": "code",
   "execution_count": 30,
   "metadata": {},
   "outputs": [
    {
     "name": "stdout",
     "output_type": "stream",
     "text": [
      "Sample 0 ==> train_index: [13 14 15], test_index: [0 1 2]\n",
      "\tX_train의 비율: 0.7466666666666667, X_test의 비율: 0.25333333333333335\n",
      "\ty_train의 타겟 구성: Counter({1.0: 38, 0.0: 37, 2.0: 37})\n",
      "\ty_test의 타겟 구성: Counter({0.0: 13, 2.0: 13, 1.0: 12})\n",
      "Sample 1 ==> train_index: [0 1 2], test_index: [13 14 15]\n",
      "\tX_train의 비율: 0.7466666666666667, X_test의 비율: 0.25333333333333335\n",
      "\ty_train의 타겟 구성: Counter({1.0: 38, 0.0: 37, 2.0: 37})\n",
      "\ty_test의 타겟 구성: Counter({0.0: 13, 2.0: 13, 1.0: 12})\n",
      "Sample 2 ==> train_index: [0 1 2], test_index: [26 27 28]\n",
      "\tX_train의 비율: 0.7533333333333333, X_test의 비율: 0.24666666666666667\n",
      "\ty_train의 타겟 구성: Counter({0.0: 38, 2.0: 38, 1.0: 37})\n",
      "\ty_test의 타겟 구성: Counter({1.0: 13, 0.0: 12, 2.0: 12})\n",
      "Sample 3 ==> train_index: [0 1 2], test_index: [38 39 40]\n",
      "\tX_train의 비율: 0.7533333333333333, X_test의 비율: 0.24666666666666667\n",
      "\ty_train의 타겟 구성: Counter({0.0: 38, 2.0: 38, 1.0: 37})\n",
      "\ty_test의 타겟 구성: Counter({1.0: 13, 0.0: 12, 2.0: 12})\n"
     ]
    }
   ],
   "source": [
    "from sklearn.model_selection import StratifiedKFold\n",
    "\n",
    "skf = StratifiedKFold(n_splits=4)\n",
    "\n",
    "# 분할 시 y를 고려해야 하기 때문에 split에 y를 입력\n",
    "for i, (train_index, test_index) in enumerate(skf.split(X, y)):\n",
    "    print(f\"Sample {i} ==> train_index: {train_index[:3]}, test_index: {test_index[:3]}\")\n",
    "    X_train, X_test, y_train, y_test = X.iloc[train_index], X.iloc[test_index], y.iloc[train_index], y.iloc[test_index]\n",
    "    print(f\"\\tX_train의 비율: {len(X_train) / len(X)}, X_test의 비율: {len(X_test) / len(X)}\")\n",
    "    print(f\"\\ty_train의 타겟 구성: {Counter(y_train['target'])}\")\n",
    "    print(f\"\\ty_test의 타겟 구성: {Counter(y_test['target'])}\")"
   ]
  },
  {
   "cell_type": "markdown",
   "metadata": {},
   "source": [
    "### Group K-fold 분할\n",
    "- 범주형 변수인 group의 수준별 데이터들을 각 분할마다 검증용 데이터로 사용하도록 K-fold를 진행하는 방법이다.\n",
    "- 이 때문에 group의 수준의 개수는 fold의 개수와 같거나 fold 개수보다 커야 한다.\n",
    "- 다음 예제에서 4개의 수준을 가지는 group 변수를 임의로 생성하여 Group K-fold 분할을 진행하였다.\n",
    "- 각 검증용 데이터는 1종류의 그룹으로 구성됨을 알 수 있다."
   ]
  },
  {
   "cell_type": "code",
   "execution_count": 32,
   "metadata": {},
   "outputs": [
    {
     "name": "stdout",
     "output_type": "stream",
     "text": [
      "Counter({'g1': 44, 'g2': 38, 'g3': 37, 'g0': 31})\n"
     ]
    },
    {
     "data": {
      "text/html": [
       "<div>\n",
       "<style scoped>\n",
       "    .dataframe tbody tr th:only-of-type {\n",
       "        vertical-align: middle;\n",
       "    }\n",
       "\n",
       "    .dataframe tbody tr th {\n",
       "        vertical-align: top;\n",
       "    }\n",
       "\n",
       "    .dataframe thead th {\n",
       "        text-align: right;\n",
       "    }\n",
       "</style>\n",
       "<table border=\"1\" class=\"dataframe\">\n",
       "  <thead>\n",
       "    <tr style=\"text-align: right;\">\n",
       "      <th></th>\n",
       "      <th>sepal length</th>\n",
       "      <th>sepal width</th>\n",
       "      <th>petal length</th>\n",
       "      <th>petal width</th>\n",
       "      <th>target</th>\n",
       "      <th>group</th>\n",
       "    </tr>\n",
       "  </thead>\n",
       "  <tbody>\n",
       "    <tr>\n",
       "      <th>0</th>\n",
       "      <td>5.1</td>\n",
       "      <td>3.5</td>\n",
       "      <td>1.4</td>\n",
       "      <td>0.2</td>\n",
       "      <td>0.0</td>\n",
       "      <td>g2</td>\n",
       "    </tr>\n",
       "    <tr>\n",
       "      <th>1</th>\n",
       "      <td>4.9</td>\n",
       "      <td>3.0</td>\n",
       "      <td>1.4</td>\n",
       "      <td>0.2</td>\n",
       "      <td>0.0</td>\n",
       "      <td>g3</td>\n",
       "    </tr>\n",
       "    <tr>\n",
       "      <th>2</th>\n",
       "      <td>4.7</td>\n",
       "      <td>3.2</td>\n",
       "      <td>1.3</td>\n",
       "      <td>0.2</td>\n",
       "      <td>0.0</td>\n",
       "      <td>g0</td>\n",
       "    </tr>\n",
       "  </tbody>\n",
       "</table>\n",
       "</div>"
      ],
      "text/plain": [
       "   sepal length  sepal width  petal length  petal width  target group\n",
       "0           5.1          3.5           1.4          0.2     0.0    g2\n",
       "1           4.9          3.0           1.4          0.2     0.0    g3\n",
       "2           4.7          3.2           1.3          0.2     0.0    g0"
      ]
     },
     "execution_count": 32,
     "metadata": {},
     "output_type": "execute_result"
    }
   ],
   "source": [
    "# group 변수가 있는 데이터를 생성\n",
    "## group의 수준은 g0, g1, g2, g3의 4종류가 있다.\n",
    "iris2 = iris.copy()\n",
    "iris2['group'] = iris2['target'].apply(lambda x: f\"g{int(np.random.randint(0, 4, 1))}\")\n",
    "print(Counter(iris2['group']))\n",
    "iris2.head(3)"
   ]
  },
  {
   "cell_type": "code",
   "execution_count": 37,
   "metadata": {},
   "outputs": [
    {
     "name": "stdout",
     "output_type": "stream",
     "text": [
      "Sample 0 ==> train_index: [0 1 2], test_index: [ 6  7 10]\n",
      "\tX_train의 비율: 0.7066666666666667, X_test의 비율: 0.29333333333333333\n",
      "\ty_train의 타겟 구성: Counter({1.0: 38, 2.0: 38, 0.0: 30})\n",
      "\ty_test의 타겟 구성: Counter({0.0: 20, 1.0: 12, 2.0: 12})\n",
      "\ty_train의 그룹 구성: Counter({'g2': 38, 'g3': 37, 'g0': 31})\n",
      "\ty_test의 그룹 구성: Counter({'g1': 44})\n",
      "Sample 1 ==> train_index: [1 2 3], test_index: [ 0  9 11]\n",
      "\tX_train의 비율: 0.7466666666666667, X_test의 비율: 0.25333333333333335\n",
      "\ty_train의 타겟 구성: Counter({2.0: 42, 0.0: 37, 1.0: 33})\n",
      "\ty_test의 타겟 구성: Counter({1.0: 17, 0.0: 13, 2.0: 8})\n",
      "\ty_train의 그룹 구성: Counter({'g1': 44, 'g3': 37, 'g0': 31})\n",
      "\ty_test의 그룹 구성: Counter({'g2': 38})\n",
      "Sample 2 ==> train_index: [0 2 3], test_index: [ 1  8 15]\n",
      "\tX_train의 비율: 0.7533333333333333, X_test의 비율: 0.24666666666666667\n",
      "\ty_train의 타겟 구성: Counter({0.0: 42, 1.0: 37, 2.0: 34})\n",
      "\ty_test의 타겟 구성: Counter({2.0: 16, 1.0: 13, 0.0: 8})\n",
      "\ty_train의 그룹 구성: Counter({'g1': 44, 'g2': 38, 'g0': 31})\n",
      "\ty_test의 그룹 구성: Counter({'g3': 37})\n",
      "Sample 3 ==> train_index: [0 1 6], test_index: [2 3 4]\n",
      "\tX_train의 비율: 0.7933333333333333, X_test의 비율: 0.20666666666666667\n",
      "\ty_train의 타겟 구성: Counter({1.0: 42, 0.0: 41, 2.0: 36})\n",
      "\ty_test의 타겟 구성: Counter({2.0: 14, 0.0: 9, 1.0: 8})\n",
      "\ty_train의 그룹 구성: Counter({'g1': 44, 'g2': 38, 'g3': 37})\n",
      "\ty_test의 그룹 구성: Counter({'g0': 31})\n"
     ]
    }
   ],
   "source": [
    "from sklearn.model_selection import GroupKFold\n",
    "X = iris2.drop(['target', 'group'], axis=1)\n",
    "y = iris2.filter(['target'])\n",
    "\n",
    "group = iris2.filter(['group'])\n",
    "gkf = GroupKFold(n_splits=4)\n",
    "\n",
    "# 분할 시 group을 고려해야 하기 때문에 split에 group를 입력\n",
    "for i, (train_index, test_index) in enumerate(gkf.split(X, y, group)):\n",
    "    print(f\"Sample {i} ==> train_index: {train_index[:3]}, test_index: {test_index[:3]}\")\n",
    "    X_train, X_test, y_train, y_test = X.iloc[train_index], X.iloc[test_index], y.iloc[train_index], y.iloc[test_index]\n",
    "    print(f\"\\tX_train의 비율: {len(X_train) / len(X)}, X_test의 비율: {len(X_test) / len(X)}\")\n",
    "    print(f\"\\ty_train의 타겟 구성: {Counter(y_train['target'])}\")\n",
    "    print(f\"\\ty_test의 타겟 구성: {Counter(y_test['target'])}\")\n",
    "    print(f\"\\ty_train의 그룹 구성: {Counter(group.iloc[train_index]['group'])}\")\n",
    "    print(f\"\\ty_test의 그룹 구성: {Counter(group.iloc[test_index]['group'])}\")"
   ]
  },
  {
   "cell_type": "markdown",
   "metadata": {},
   "source": [
    "### 3-3. 교차 검증\n",
    "- 특정한 학습용 데이터와 검증용 데이터에만 최적화되도록 모델을 만들어가면 해당 데이터 세트에만 잘 동작하는 모델이 만들어질 수 있다.\n",
    "- 따라서 학습용 데이터와 검증용 데이터를 앞서 언급한 분할 방법들로 다양하게 분할하고, 여러 파라미터 조건 하에 학습하여 교차 검증함으로써 최적화된 일반화 모델을 완성할 수 있다."
   ]
  },
  {
   "cell_type": "markdown",
   "metadata": {},
   "source": [
    "#### 분할 샘플들로 교차 검증\n",
    "- 데이터 구성이 다른 샘플들을 통해 교차 검증(Cross validation)을 할 수 있다.\n",
    "- scikit-learn의 cross_validate을 사용하면 각 케이스의 적합 소요 시간, 검증 소요 시간, 테스트셋 스코어, 트레인셋 스코어가 반환된다."
   ]
  },
  {
   "cell_type": "code",
   "execution_count": 39,
   "metadata": {},
   "outputs": [
    {
     "data": {
      "text/html": [
       "<div>\n",
       "<style scoped>\n",
       "    .dataframe tbody tr th:only-of-type {\n",
       "        vertical-align: middle;\n",
       "    }\n",
       "\n",
       "    .dataframe tbody tr th {\n",
       "        vertical-align: top;\n",
       "    }\n",
       "\n",
       "    .dataframe thead th {\n",
       "        text-align: right;\n",
       "    }\n",
       "</style>\n",
       "<table border=\"1\" class=\"dataframe\">\n",
       "  <thead>\n",
       "    <tr style=\"text-align: right;\">\n",
       "      <th></th>\n",
       "      <th>fit_time</th>\n",
       "      <th>score_time</th>\n",
       "      <th>test_score</th>\n",
       "      <th>train_score</th>\n",
       "    </tr>\n",
       "  </thead>\n",
       "  <tbody>\n",
       "    <tr>\n",
       "      <th>0</th>\n",
       "      <td>0.012039</td>\n",
       "      <td>0.002026</td>\n",
       "      <td>0.894737</td>\n",
       "      <td>0.955357</td>\n",
       "    </tr>\n",
       "    <tr>\n",
       "      <th>1</th>\n",
       "      <td>0.008023</td>\n",
       "      <td>0.001006</td>\n",
       "      <td>0.947368</td>\n",
       "      <td>0.964286</td>\n",
       "    </tr>\n",
       "    <tr>\n",
       "      <th>2</th>\n",
       "      <td>0.022615</td>\n",
       "      <td>0.000000</td>\n",
       "      <td>0.945946</td>\n",
       "      <td>0.955752</td>\n",
       "    </tr>\n",
       "    <tr>\n",
       "      <th>3</th>\n",
       "      <td>0.011974</td>\n",
       "      <td>0.001001</td>\n",
       "      <td>1.000000</td>\n",
       "      <td>0.938053</td>\n",
       "    </tr>\n",
       "  </tbody>\n",
       "</table>\n",
       "</div>"
      ],
      "text/plain": [
       "   fit_time  score_time  test_score  train_score\n",
       "0  0.012039    0.002026    0.894737     0.955357\n",
       "1  0.008023    0.001006    0.947368     0.964286\n",
       "2  0.022615    0.000000    0.945946     0.955752\n",
       "3  0.011974    0.001001    1.000000     0.938053"
      ]
     },
     "execution_count": 39,
     "metadata": {},
     "output_type": "execute_result"
    }
   ],
   "source": [
    "from sklearn.model_selection import cross_validate, StratifiedKFold\n",
    "from sklearn.linear_model import LogisticRegression\n",
    "\n",
    "X = iris.drop('target', axis=1)\n",
    "y = iris['target']\n",
    "\n",
    "LOGREG = LogisticRegression(max_iter=300, C=0.1) # 학습 모델 정의\n",
    "SKF = StratifiedKFold(n_splits=4) # 데이터 분할 방법 정의\n",
    "\n",
    "result = cross_validate(LOGREG, X, y, cv=SKF, return_train_score=True) # 교차 검증\n",
    "pd.DataFrame(result)"
   ]
  },
  {
   "cell_type": "markdown",
   "metadata": {},
   "source": [
    "### 파라미터 후보들로 교차 검증\n",
    "- 분할된 샘플들뿐만 아니라 파라미터 후보들을 포함하여 교차 검증을 진행할 수도 있다.\n",
    "- 파라미터 별 평균 적합시간, 적합 시간 편차, 분할별 테스트 스코어, 평균 테스트 스코어, 테스트 스코어 편차, 테스트 스코어 랭킹 등을 반환한다.\n",
    "- 최적의 매개변수 조합은 best_params_를 통해 확인할 수 있다."
   ]
  },
  {
   "cell_type": "code",
   "execution_count": 41,
   "metadata": {},
   "outputs": [
    {
     "name": "stdout",
     "output_type": "stream",
     "text": [
      "최상의 교차 검증 정수: 0.9733285917496444\n",
      "최적의 매개 변수: {'C': 1, 'solver': 'lbfgs'}\n"
     ]
    },
    {
     "data": {
      "text/html": [
       "<div>\n",
       "<style scoped>\n",
       "    .dataframe tbody tr th:only-of-type {\n",
       "        vertical-align: middle;\n",
       "    }\n",
       "\n",
       "    .dataframe tbody tr th {\n",
       "        vertical-align: top;\n",
       "    }\n",
       "\n",
       "    .dataframe thead th {\n",
       "        text-align: right;\n",
       "    }\n",
       "</style>\n",
       "<table border=\"1\" class=\"dataframe\">\n",
       "  <thead>\n",
       "    <tr style=\"text-align: right;\">\n",
       "      <th></th>\n",
       "      <th>mean_fit_time</th>\n",
       "      <th>std_fit_time</th>\n",
       "      <th>mean_score_time</th>\n",
       "      <th>std_score_time</th>\n",
       "      <th>param_C</th>\n",
       "      <th>param_solver</th>\n",
       "      <th>params</th>\n",
       "      <th>split0_test_score</th>\n",
       "      <th>split1_test_score</th>\n",
       "      <th>split2_test_score</th>\n",
       "      <th>split3_test_score</th>\n",
       "      <th>mean_test_score</th>\n",
       "      <th>std_test_score</th>\n",
       "      <th>rank_test_score</th>\n",
       "    </tr>\n",
       "  </thead>\n",
       "  <tbody>\n",
       "    <tr>\n",
       "      <th>0</th>\n",
       "      <td>0.008624</td>\n",
       "      <td>0.001441</td>\n",
       "      <td>0.001130</td>\n",
       "      <td>0.000217</td>\n",
       "      <td>0.01</td>\n",
       "      <td>lbfgs</td>\n",
       "      <td>{'C': 0.01, 'solver': 'lbfgs'}</td>\n",
       "      <td>0.815789</td>\n",
       "      <td>0.894737</td>\n",
       "      <td>0.783784</td>\n",
       "      <td>0.945946</td>\n",
       "      <td>0.860064</td>\n",
       "      <td>0.063947</td>\n",
       "      <td>4</td>\n",
       "    </tr>\n",
       "    <tr>\n",
       "      <th>1</th>\n",
       "      <td>0.001504</td>\n",
       "      <td>0.000347</td>\n",
       "      <td>0.000908</td>\n",
       "      <td>0.000207</td>\n",
       "      <td>0.01</td>\n",
       "      <td>liblinear</td>\n",
       "      <td>{'C': 0.01, 'solver': 'liblinear'}</td>\n",
       "      <td>0.684211</td>\n",
       "      <td>0.684211</td>\n",
       "      <td>0.648649</td>\n",
       "      <td>0.648649</td>\n",
       "      <td>0.666430</td>\n",
       "      <td>0.017781</td>\n",
       "      <td>6</td>\n",
       "    </tr>\n",
       "    <tr>\n",
       "      <th>2</th>\n",
       "      <td>0.008232</td>\n",
       "      <td>0.001398</td>\n",
       "      <td>0.000788</td>\n",
       "      <td>0.000457</td>\n",
       "      <td>0.1</td>\n",
       "      <td>lbfgs</td>\n",
       "      <td>{'C': 0.1, 'solver': 'lbfgs'}</td>\n",
       "      <td>0.894737</td>\n",
       "      <td>0.947368</td>\n",
       "      <td>0.945946</td>\n",
       "      <td>1.000000</td>\n",
       "      <td>0.947013</td>\n",
       "      <td>0.037221</td>\n",
       "      <td>3</td>\n",
       "    </tr>\n",
       "    <tr>\n",
       "      <th>3</th>\n",
       "      <td>0.001058</td>\n",
       "      <td>0.000099</td>\n",
       "      <td>0.001023</td>\n",
       "      <td>0.000043</td>\n",
       "      <td>0.1</td>\n",
       "      <td>liblinear</td>\n",
       "      <td>{'C': 0.1, 'solver': 'liblinear'}</td>\n",
       "      <td>0.815789</td>\n",
       "      <td>0.842105</td>\n",
       "      <td>0.837838</td>\n",
       "      <td>0.783784</td>\n",
       "      <td>0.819879</td>\n",
       "      <td>0.023109</td>\n",
       "      <td>5</td>\n",
       "    </tr>\n",
       "    <tr>\n",
       "      <th>4</th>\n",
       "      <td>0.010795</td>\n",
       "      <td>0.005790</td>\n",
       "      <td>0.000409</td>\n",
       "      <td>0.000429</td>\n",
       "      <td>1</td>\n",
       "      <td>lbfgs</td>\n",
       "      <td>{'C': 1, 'solver': 'lbfgs'}</td>\n",
       "      <td>0.973684</td>\n",
       "      <td>0.973684</td>\n",
       "      <td>0.945946</td>\n",
       "      <td>1.000000</td>\n",
       "      <td>0.973329</td>\n",
       "      <td>0.019114</td>\n",
       "      <td>1</td>\n",
       "    </tr>\n",
       "    <tr>\n",
       "      <th>5</th>\n",
       "      <td>0.001755</td>\n",
       "      <td>0.000432</td>\n",
       "      <td>0.000126</td>\n",
       "      <td>0.000219</td>\n",
       "      <td>1</td>\n",
       "      <td>liblinear</td>\n",
       "      <td>{'C': 1, 'solver': 'liblinear'}</td>\n",
       "      <td>1.000000</td>\n",
       "      <td>0.947368</td>\n",
       "      <td>0.864865</td>\n",
       "      <td>1.000000</td>\n",
       "      <td>0.953058</td>\n",
       "      <td>0.055266</td>\n",
       "      <td>2</td>\n",
       "    </tr>\n",
       "  </tbody>\n",
       "</table>\n",
       "</div>"
      ],
      "text/plain": [
       "   mean_fit_time  std_fit_time  mean_score_time  std_score_time param_C  \\\n",
       "0       0.008624      0.001441         0.001130        0.000217    0.01   \n",
       "1       0.001504      0.000347         0.000908        0.000207    0.01   \n",
       "2       0.008232      0.001398         0.000788        0.000457     0.1   \n",
       "3       0.001058      0.000099         0.001023        0.000043     0.1   \n",
       "4       0.010795      0.005790         0.000409        0.000429       1   \n",
       "5       0.001755      0.000432         0.000126        0.000219       1   \n",
       "\n",
       "  param_solver                              params  split0_test_score  \\\n",
       "0        lbfgs      {'C': 0.01, 'solver': 'lbfgs'}           0.815789   \n",
       "1    liblinear  {'C': 0.01, 'solver': 'liblinear'}           0.684211   \n",
       "2        lbfgs       {'C': 0.1, 'solver': 'lbfgs'}           0.894737   \n",
       "3    liblinear   {'C': 0.1, 'solver': 'liblinear'}           0.815789   \n",
       "4        lbfgs         {'C': 1, 'solver': 'lbfgs'}           0.973684   \n",
       "5    liblinear     {'C': 1, 'solver': 'liblinear'}           1.000000   \n",
       "\n",
       "   split1_test_score  split2_test_score  split3_test_score  mean_test_score  \\\n",
       "0           0.894737           0.783784           0.945946         0.860064   \n",
       "1           0.684211           0.648649           0.648649         0.666430   \n",
       "2           0.947368           0.945946           1.000000         0.947013   \n",
       "3           0.842105           0.837838           0.783784         0.819879   \n",
       "4           0.973684           0.945946           1.000000         0.973329   \n",
       "5           0.947368           0.864865           1.000000         0.953058   \n",
       "\n",
       "   std_test_score  rank_test_score  \n",
       "0        0.063947                4  \n",
       "1        0.017781                6  \n",
       "2        0.037221                3  \n",
       "3        0.023109                5  \n",
       "4        0.019114                1  \n",
       "5        0.055266                2  "
      ]
     },
     "execution_count": 41,
     "metadata": {},
     "output_type": "execute_result"
    }
   ],
   "source": [
    "from sklearn.model_selection import GridSearchCV\n",
    "\n",
    "LOGREG = LogisticRegression(max_iter=300) # 학습 모델 정의\n",
    "param_grid = {'C' : [0.01, 0.1, 1], 'solver' : ['lbfgs', 'liblinear']} # 파라미터 후보 정의\n",
    "SKF = StratifiedKFold(n_splits=4) # 데이터 분할 방법 정의\n",
    "\n",
    "grid = GridSearchCV(LOGREG, param_grid, cv=SKF) # 굧 ㅏ검증\n",
    "grid.fit(X, y)\n",
    "\n",
    "print(f\"최상의 교차 검증 정수: {grid.best_score_}\")\n",
    "print(f\"최적의 매개 변수: {grid.best_params_}\")\n",
    "pd.DataFrame(grid.cv_results_)"
   ]
  }
 ],
 "metadata": {
  "kernelspec": {
   "display_name": "Python 3",
   "language": "python",
   "name": "python3"
  },
  "language_info": {
   "codemirror_mode": {
    "name": "ipython",
    "version": 3
   },
   "file_extension": ".py",
   "mimetype": "text/x-python",
   "name": "python",
   "nbconvert_exporter": "python",
   "pygments_lexer": "ipython3",
   "version": "3.7.0"
  }
 },
 "nbformat": 4,
 "nbformat_minor": 2
}
