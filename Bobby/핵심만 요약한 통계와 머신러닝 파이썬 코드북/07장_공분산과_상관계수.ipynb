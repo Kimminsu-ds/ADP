{
 "cells": [
  {
   "cell_type": "markdown",
   "metadata": {},
   "source": [
    "# 제32회 ADP 실기 대비 - 핵심만 요약한 통계와 머신러닝 파이썬 코드북"
   ]
  },
  {
   "cell_type": "code",
   "execution_count": 1,
   "metadata": {},
   "outputs": [],
   "source": [
    "import pandas as pd\n",
    "import numpy as np\n",
    "\n",
    "import matplotlib.pyplot as plt\n",
    "import seaborn as sns\n",
    "\n",
    "# 시각화 설정\n",
    "plt.rcParams['font.family'] = 'Malgun Gothic' # 한글 폰트 설정\n",
    "plt.rcParams['axes.unicode_minus'] = False # 마이너스 부호 설정\n",
    "\n",
    "# Colab 한글 폰트 설정\n",
    "# !sudo apt-get install -y fonts-nanum\n",
    "# !sudo fc-cache -fv\n",
    "# !rm ~/.cache/matplotlib -rf\n",
    "# plt.rcParams['font.family'] = 'NanumBarunGothic'"
   ]
  },
  {
   "cell_type": "markdown",
   "metadata": {},
   "source": [
    "# 7장. 공분산과 상관계수"
   ]
  },
  {
   "cell_type": "markdown",
   "metadata": {},
   "source": [
    "## 7-1. 공분산(Covariance)\n",
    "- 공분산은 X변수가 얼마만큼 변할 때 다른 변수 Y가 얼만큼 변하는지를 나타내는 값이다.\n",
    "- 공분산이 양수이면 X와 Y는 양의 선형관계를 갖고, 음수이면 음의 선형관계를 가지며, 두 변수가 서로 독립이면 공분산은 0이 된다.\n",
    "- 한편, 공분산이 0이라고 해도 두 변수가 반드시 서로 독립인 것은 아니다. 비선형적 연관성이 있을 수 있기 때문이다."
   ]
  },
  {
   "cell_type": "code",
   "execution_count": 2,
   "metadata": {},
   "outputs": [
    {
     "name": "stdout",
     "output_type": "stream",
     "text": [
      "16.8 16.8\n"
     ]
    }
   ],
   "source": [
    "X = np.array([4, 6, 6, 8, 8, 9, 9, 10, 12, 12])\n",
    "Y = np.array([39, 42, 45, 47, 50, 50, 52, 55, 57, 60])\n",
    "\n",
    "Xm = np.mean(X)\n",
    "Ym = np.mean(Y)\n",
    "n = len(X)\n",
    "\n",
    "# 공분산을 계산하는 두 가지 방법\n",
    "cov1 = (np.sum(X * Y) - n * Xm * Ym) / (n-1)\n",
    "cov2 = sum((X - Xm) * (Y - Ym)) / (n-1)\n",
    "\n",
    "print(f\"{round(cov1, 2)} {round(cov2, 2)}\")"
   ]
  },
  {
   "cell_type": "code",
   "execution_count": 3,
   "metadata": {},
   "outputs": [
    {
     "name": "stdout",
     "output_type": "stream",
     "text": [
      "           X          Y\n",
      "X   6.711111  16.800000\n",
      "Y  16.800000  44.011111\n",
      "X-Y의 공분산: 16.8\n"
     ]
    }
   ],
   "source": [
    "cov3 = np.cov(X, Y) # numpy는 공분산 행렬을 반환해줌\n",
    "\n",
    "print(pd.DataFrame(cov3, columns=['X', 'Y'], index=['X', 'Y']))\n",
    "print(f\"X-Y의 공분산: {round(cov3[0][1], 2)}\")"
   ]
  },
  {
   "cell_type": "markdown",
   "metadata": {},
   "source": [
    "## 7-2. 상관계수(Correlation coefficient)\n",
    "- 공분산은 변수의 측정 단위의 영향을 받기 때문에 그 값 자체로는 연관성이 얼마나 높은지 가늠하기 어렵다.\n",
    "- 이런 단점을 해결하기 위해 공분산을 각 변수의 표준편차로 나눈 상관계수를 사용한다.\n",
    "- 상관계수는 변수의 특성에 따라 피어슨 상관계수, 스피어만 순위상관계수, 켄달의 타우가 있다.\n",
    "- 이 외에도 명목척도로 된 범주형 데이터 간의 연관성을 나타내는 크라메르의 연관계수도 있다."
   ]
  },
  {
   "cell_type": "markdown",
   "metadata": {},
   "source": [
    "### 피어슨 상관계수(Pearson correlation coefficient)\n",
    "- 피어슨 상관계수는 표본상관계수, 적률상관계수라고도 한다.\n",
    "- 연속형 변수(등간척도, 비율척도)로 측정된 변수들 사이의 선형관계를 나타내며, 확률분포가 정규분포를 따른다고 가정한다.\n",
    "- 상관계수의 범위는 -1 ~ 1이며, -1에 가까울수록 음의 상관성, 1에 가까울수록 양의 상관성, 0에 가까울수록 상관관계가 없다고 본다.\n",
    "- Z분포를 사용하여 모상관계수의 신뢰구간을 추정할 수 있고, t분포 또는 Z분포를 사용하여 모상관계수($p$)가 0인지 아닌지 여부를 검정(무상관 검정)할 수 있다.\n",
    "- 표본상관계수가 아닌 모집단의 상관계수는 표본공분산과 표본편차 대신 모공분산과 모표준편차를 대입하여 계산한다."
   ]
  },
  {
   "cell_type": "code",
   "execution_count": 4,
   "metadata": {},
   "outputs": [
    {
     "name": "stdout",
     "output_type": "stream",
     "text": [
      "0.98 0.98\n"
     ]
    }
   ],
   "source": [
    "# 피어슨 상관계수 (= 표본상관계수)\n",
    "X = np.array([4, 6, 6, 8, 8, 9, 9, 10, 12, 12])\n",
    "Y = np.array([39, 42, 45, 47, 50, 50, 52, 55, 57, 60])\n",
    "\n",
    "# 표본상관계수 계산하는 두 가지 방법\n",
    "Xm = np.mean(X)\n",
    "Ym = np.mean(Y)\n",
    "n = len(X)\n",
    "\n",
    "corr1 = (np.sum(X * Y) - n * Xm * Ym) / np.sqrt(sum((X - Xm)**2) * sum((Y - Ym)**2))\n",
    "\n",
    "Sx = np.sqrt(sum((X - Xm)**2) / (n-1)) # X 표본표준편차\n",
    "Sy = np.sqrt(sum((Y - Ym)**2) / (n-1)) # Y 표본표준편차\n",
    "cov1 = (np.sum(X * Y) - n * Xm * Ym) / (n-1) # X, Y의 공분산\n",
    "corr2 = cov1 / (Sx * Sy) # 공분산을 X, Y의 표본표준편차들로 나누어서 구한다.\n",
    "print(f\"{round(corr1, 2)} {round(corr2, 2)}\")"
   ]
  },
  {
   "cell_type": "code",
   "execution_count": 5,
   "metadata": {},
   "outputs": [
    {
     "name": "stdout",
     "output_type": "stream",
     "text": [
      "0.98, 0.98 (p-value: 0.0)\n"
     ]
    }
   ],
   "source": [
    "corr3 = np.corrcoef(X, Y)[0][1]\n",
    "\n",
    "from scipy.stats import pearsonr\n",
    "corr4, pval = pearsonr(X, Y) # 피어슨 상관계수와 유의확률을 반환해 줌\n",
    "\n",
    "print(f\"{round(corr3, 2)}, {round(corr4, 2)} (p-value: {round(pval, 2)})\")"
   ]
  },
  {
   "cell_type": "code",
   "execution_count": 6,
   "metadata": {},
   "outputs": [
    {
     "name": "stdout",
     "output_type": "stream",
     "text": [
      "[추정]\n",
      " 점   추정량: 0.978\n",
      " 구간 추정량: 0.905 ~ 0.995\n"
     ]
    }
   ],
   "source": [
    "# 모상관계수의 점추정량과 신뢰구간 계산: Z분포 사용\n",
    "from scipy.stats import norm\n",
    "\n",
    "conf_a = 0.05\n",
    "conf_z = norm.ppf(1 - conf_a / 2) # or 1.96\n",
    "\n",
    "r1 = corr1 # 위에서 계산한 표본상관계수 corr1\n",
    "n = len(X) # 표본의 개수\n",
    "a = 1/2 * np.log((1+r1) / (1-r1)) - conf_z / np.sqrt(n-3)\n",
    "b = 1/2 * np.log((1+r1) / (1-r1)) + conf_z / np.sqrt(n-3)\n",
    "\n",
    "conf1 = (np.exp(2*a)-1) / (np.exp(2*a)+1) # = np.tanh(a)\n",
    "conf2 = (np.exp(2*b)-1) / (np.exp(2*b)+1) # = np.tanh(b)\n",
    "\n",
    "print(\"[추정]\")\n",
    "print(f\" 점   추정량: {round(r1, 3)}\")\n",
    "print(f\" 구간 추정량: {round(conf1, 3)} ~ {round(conf2, 3)}\")"
   ]
  },
  {
   "cell_type": "code",
   "execution_count": 7,
   "metadata": {},
   "outputs": [
    {
     "name": "stdout",
     "output_type": "stream",
     "text": [
      "[검정]\n",
      " 임계값: +/- 2.306, 검정통계량: 13.117\n",
      " 유의수준: 0.05, 유의확률: 0.0\n"
     ]
    }
   ],
   "source": [
    "# 모상관계수의 가설검정: t분포를 사용하며, 표본이 충분히 큰 경우에는 Z분포 사용\n",
    "# 귀무가설(H0): 모상관계수는 0이다.\n",
    "# 대립가설(H1): 모상관계수는 0이 아니다. (통계적으로 유의하다)\n",
    "from scipy.stats import t\n",
    "\n",
    "r0 = 0 # 귀무가설의 모상관계수\n",
    "r1 = corr1 # 위에서 계산한 표본상관계수 corr1\n",
    "n = len(X) # 표본의 개수\n",
    "df = n-2 # 자유도\n",
    "\n",
    "tstat = np.sqrt(df) * (r1 - r0) / np.sqrt(1 - r1**2) # 검정통계량 t\n",
    "# zstat = 1/2 * np.log((1+r1) / (1-r1)) # 검정통계량 Z\n",
    "test_a = 0.05\n",
    "\n",
    "sp = (1- t.cdf(np.abs(tstat), df)) * 2 # 양측검정\n",
    "cv = t.ppf(1 - test_a / 2, df)\n",
    "cv = f\"+/- {round(cv, 3)}\"\n",
    "\n",
    "print(\"[검정]\")\n",
    "print(f\" 임계값: {cv}, 검정통계량: {round(tstat, 3)}\")\n",
    "print(f\" 유의수준: {round(test_a, 3)}, 유의확률: {round(sp, 3)}\")"
   ]
  },
  {
   "cell_type": "code",
   "execution_count": 8,
   "metadata": {},
   "outputs": [
    {
     "name": "stdout",
     "output_type": "stream",
     "text": [
      "상관계수: 0.978, p-value: 0.0\n"
     ]
    }
   ],
   "source": [
    "from scipy.stats import pearsonr\n",
    "corr, p = pearsonr(X, Y)\n",
    "\n",
    "# 검정결과 대립가설을 채택하여 모상관계수가 0이 아니기 때문에 구해진 상관계수는 통계적으로 유의하다는 결론을 얻었다.\n",
    "print(f\"상관계수: {round(corr, 3)}, p-value: {round(p, 3)}\") "
   ]
  },
  {
   "cell_type": "markdown",
   "metadata": {},
   "source": [
    "### 스피어만 순위상관계수(Spearman's Rank correlation coefficient)\n",
    "- 수치형 관측치의 분포가 극단적인 분포를 보이거나, 관측치가 서열척도로 되어 있을 때 스피어만의 순위상관계수로 변수들의 상관관계를 나타낼 수 있다.\n",
    "- 확률분포에 대한 정보가 없어도 되는 비모수적 상관분석이다.\n",
    "- 순위로 된 데이터 내에 같은 순위가 없다면, 스피어만 순위상관계수는 이 순위 값으로 구한 피어슨 상관계수와 일치한다.\n",
    "- 스피어만 순위상관계수의 범위는 -1 ~ 1이며, -1에 가까울수록 음의 상관성, 1에 가까울수록 양의 상관성, 0에 가까울수록 상관관계가 없다고 본다."
   ]
  },
  {
   "cell_type": "code",
   "execution_count": 9,
   "metadata": {},
   "outputs": [
    {
     "name": "stdout",
     "output_type": "stream",
     "text": [
      "표본 내 동일한 데이터가 없는 경우: 0.661\n"
     ]
    }
   ],
   "source": [
    "# 표본 내 같은 순위가 없는 경우\n",
    "X = np.array([1, 2, 3, 4, 5, 6, 7, 8, 9, 10])\n",
    "Y = np.array([4, 3, 5, 2, 6, 1, 10, 7, 8, 9])\n",
    "\n",
    "rtable = pd.DataFrame({\"X\":X, \"Y\":Y})\n",
    "rtable['Xr'] = rtable['X'].rank(ascending=False)\n",
    "rtable['Yr'] = rtable['Y'].rank(ascending=False)\n",
    "corr1 = 1 - 6 * sum((rtable['Xr'] - rtable['Yr']) ** 2) / len(X) / (len(X)**2-1)\n",
    "\n",
    "print(f\"표본 내 동일한 데이터가 없는 경우: {round(corr1, 3)}\")"
   ]
  },
  {
   "cell_type": "code",
   "execution_count": 10,
   "metadata": {},
   "outputs": [
    {
     "name": "stdout",
     "output_type": "stream",
     "text": [
      "표본 내 동일한 데이터가 없는 경우: 0.661, p-value: 0.038\n"
     ]
    }
   ],
   "source": [
    "from scipy.stats import spearmanr\n",
    "\n",
    "corr2, p = spearmanr(X, Y)\n",
    "print(f\"표본 내 동일한 데이터가 없는 경우: {round(corr2, 3)}, p-value: {round(p, 3)}\")"
   ]
  },
  {
   "cell_type": "code",
   "execution_count": 11,
   "metadata": {},
   "outputs": [
    {
     "name": "stdout",
     "output_type": "stream",
     "text": [
      "표본 내 동일한 데이터가 있는 경우 -0.318\n"
     ]
    }
   ],
   "source": [
    "# 표본 내 같은 순위가 있는 경우\n",
    "X2 = np.array([10, 9, 9, 8, 8, 8])\n",
    "Y2 = np.array([6, 7, 8, 8, 7, 6.5])\n",
    "\n",
    "rtable = pd.DataFrame({\"X2\":X2, 'Y2':Y2})\n",
    "rtable['X2r'] = rtable['X2'].rank(ascending=False)\n",
    "rtable['Y2r'] = rtable['Y2'].rank(ascending=False)\n",
    "\n",
    "# C: 같은 순위에 포함된 데이터 개수\n",
    "# Clist: C들이 포함된 리스트\n",
    "Cxlist = pd.DataFrame(rtable['X2r'].value_counts()).query(\"X2r >= 2\").values.ravel()\n",
    "Cylist = pd.DataFrame(rtable['Y2r'].value_counts()).query(\"Y2r >= 2\").values.ravel()\n",
    "\n",
    "# Cx와 Cy 구하기\n",
    "Cx = 0\n",
    "Cy = 0\n",
    "\n",
    "for cx, cy in zip(Cxlist, Cylist):\n",
    "    Cx += cx*(cx**2-1)\n",
    "    Cy += cy*(cy**2-1)\n",
    "\n",
    "# Tx와 Ty 구하기\n",
    "Tx = 1/12 * (len(X2)*(len(X2)**2-1) - Cx)\n",
    "Ty = 1/12 * (len(Y2)*(len(Y2)**2-1) - Cy)\n",
    "\n",
    "corr3 = (Tx+Ty-sum((rtable['X2r']-rtable['Y2r'])**2)) / (2* np.sqrt(Tx*Ty))\n",
    "print(f\"표본 내 동일한 데이터가 있는 경우 {round(corr3, 3)}\")"
   ]
  },
  {
   "cell_type": "code",
   "execution_count": 12,
   "metadata": {},
   "outputs": [
    {
     "name": "stdout",
     "output_type": "stream",
     "text": [
      "표본 내 동일한 데이터가 있는 경우 -0.318, p-value: 0.539\n"
     ]
    }
   ],
   "source": [
    "from scipy.stats import spearmanr\n",
    "\n",
    "# 유의수준 0.05 기준으로 해당 상관계수는 통계적으로 유의하다고 보기 어렵다.\n",
    "corr4, p = spearmanr(X2, Y2)\n",
    "print(f\"표본 내 동일한 데이터가 있는 경우 {round(corr4, 3)}, p-value: {round(p, 3)}\".format(corr4, p))"
   ]
  },
  {
   "cell_type": "markdown",
   "metadata": {},
   "source": [
    "### 켄달의 타우(Kendall's Tau)\n",
    "- 수치형 관측치의 분포가 극단적인 분포를 보이거나, 관측치가 서열척도로 되어있을 때 사용하는 비모수적 상관계수이다.\n",
    "- 상관계수의 범위는 -1 ~ 1이며, -1에 가까울수록 음의 상관성, 1에 가까울수록 양의 상관성, 0에 가까울수록 상관관계가 없다고 본다."
   ]
  },
  {
   "cell_type": "code",
   "execution_count": 13,
   "metadata": {},
   "outputs": [
    {
     "name": "stdout",
     "output_type": "stream",
     "text": [
      "표본 내 동일한 데이터가 없는 경우 0.722\n"
     ]
    }
   ],
   "source": [
    "# 표본 내 같은 순위가 없는 경우\n",
    "def combi(x, y):\n",
    "    from math import factorial as fact\n",
    "    return fact(x) / fact(x-y) / fact(y)\n",
    "\n",
    "X = np.array([80, 70, 60, 50, 95, 85, 77, 55, 65])\n",
    "Y = np.array([6, 3, 2, 1, 8, 9, 7, 4,5])\n",
    "\n",
    "One = 0\n",
    "mOne = 0\n",
    "for i in range(0, len(X)):\n",
    "    for j in range(i, len(X)):\n",
    "        if (X[i] - X[j]) * (Y[i] - Y[j]) > 0:\n",
    "            One += 1\n",
    "        elif (X[i] - X[j]) * (Y[i] - Y[j]) < 0:\n",
    "            mOne += 1\n",
    "\n",
    "corr1 = (1 * One -1 * mOne) / combi(len(X), 2)\n",
    "print(f\"표본 내 동일한 데이터가 없는 경우 {round(corr1, 3)}\")"
   ]
  },
  {
   "cell_type": "code",
   "execution_count": 14,
   "metadata": {},
   "outputs": [
    {
     "name": "stdout",
     "output_type": "stream",
     "text": [
      "표본 내 동일한 데이터가 없는 경우 0.722, p-value: 0.006\n"
     ]
    }
   ],
   "source": [
    "from scipy.stats import kendalltau\n",
    "\n",
    "corr2, p = kendalltau(X, Y)\n",
    "print(f\"표본 내 동일한 데이터가 없는 경우 {round(corr2, 3)}, p-value: {round(p, 3)}\")"
   ]
  },
  {
   "cell_type": "code",
   "execution_count": 15,
   "metadata": {},
   "outputs": [
    {
     "name": "stdout",
     "output_type": "stream",
     "text": [
      "표본 내 동일한 데이터가 있는 경우 -0.251\n"
     ]
    }
   ],
   "source": [
    "# 표본 내 같은 순위가 있는 경우\n",
    "def combi(x, y):\n",
    "    from math import factorial as fact\n",
    "    return fact(x) / fact(x-y) / fact(y)\n",
    "\n",
    "X2 = np.array([10, 9, 9, 8, 8, 8])\n",
    "Y2 = np.array([6, 7, 8, 8, 7, 6.5])\n",
    "\n",
    "One = 0\n",
    "mOne = 0\n",
    "for i in range(0, len(X2)):\n",
    "    for j in range(i, len(X2)):\n",
    "        if (X2[i] - X2[j]) * (Y2[i] - Y2[j]) > 0:\n",
    "            One += 1\n",
    "        elif (X2[i] - X2[j]) * (Y2[i] - Y2[j]) < 0:\n",
    "            mOne += 1\n",
    "            \n",
    "#Cx, Cy:같은 순위에 포함된 데이터 개수\n",
    "rtable = pd.DataFrame({\"X2\":X2, 'Y2':Y2})\n",
    "rtable['X2r'] = rtable['X2'].rank(ascending=False)\n",
    "rtable['Y2r'] = rtable['Y2'].rank(ascending=False)\n",
    "\n",
    "#Clist: C들이 포함된 리스트\n",
    "Cxlist = pd.DataFrame(rtable['X2r'].value_counts()).query(\"X2r>=2\").values.ravel()\n",
    "Cylist = pd.DataFrame(rtable['Y2r'].value_counts()).query(\"Y2r>=2\").values.ravel()\n",
    "\n",
    "#Cx와 Cy 구하기\n",
    "Cx = 0\n",
    "Cy = 0\n",
    "for cx, cy in zip(Cxlist, Cylist):\n",
    "    Cx += 1 / 2 * cx * (cx-1)\n",
    "    Cy += 1 / 2 * cy * (cy-1)\n",
    "\n",
    "#Tx와 Ty 구하기\n",
    "Tx = combi(len(X2), 2) - Cx\n",
    "Ty = combi(len(X2), 2) - Cy\n",
    "    \n",
    "corr3 = (1 * One -1 * mOne) / np.sqrt(Tx * Ty)\n",
    "print(f\"표본 내 동일한 데이터가 있는 경우 {round(corr3, 3)}\")"
   ]
  },
  {
   "cell_type": "code",
   "execution_count": 16,
   "metadata": {},
   "outputs": [
    {
     "name": "stdout",
     "output_type": "stream",
     "text": [
      "표본 내 동일한 데이터가 있는 경우: -0.251, p-value: 0.524\n"
     ]
    }
   ],
   "source": [
    "from scipy.stats import kendalltau\n",
    "\n",
    "corr4, p = kendalltau(X2, Y2)\n",
    "print(f\"표본 내 동일한 데이터가 있는 경우: {round(corr4, 3)}, p-value: {round(p, 3)}\")"
   ]
  },
  {
   "cell_type": "markdown",
   "metadata": {},
   "source": [
    "### 크라메르의 연관계수 (Cramer's coefficient of association)\n",
    "- 크라메르의 연관계수는 범주형 데이터의 교차표를 통해 카이제곱 독립성 검정의 효과의 크기를 측정한다.\n",
    "- 즉, 두 범주형 데이터가 얼마나 연관성이 있는지를 나타낸다.\n",
    "- 연관계수의 범위는 0~1이다. 0.2 이하인 경우 연관성이 약하고, 0.6 이상인 경우 연관성이 높다고 본다."
   ]
  },
  {
   "cell_type": "code",
   "execution_count": 17,
   "metadata": {},
   "outputs": [
    {
     "data": {
      "text/html": [
       "<div>\n",
       "<style scoped>\n",
       "    .dataframe tbody tr th:only-of-type {\n",
       "        vertical-align: middle;\n",
       "    }\n",
       "\n",
       "    .dataframe tbody tr th {\n",
       "        vertical-align: top;\n",
       "    }\n",
       "\n",
       "    .dataframe thead th {\n",
       "        text-align: right;\n",
       "    }\n",
       "</style>\n",
       "<table border=\"1\" class=\"dataframe\">\n",
       "  <thead>\n",
       "    <tr style=\"text-align: right;\">\n",
       "      <th></th>\n",
       "      <th>안경O</th>\n",
       "      <th>안경X</th>\n",
       "    </tr>\n",
       "    <tr>\n",
       "      <th>성별</th>\n",
       "      <th></th>\n",
       "      <th></th>\n",
       "    </tr>\n",
       "  </thead>\n",
       "  <tbody>\n",
       "    <tr>\n",
       "      <th>남자</th>\n",
       "      <td>10</td>\n",
       "      <td>40</td>\n",
       "    </tr>\n",
       "    <tr>\n",
       "      <th>여자</th>\n",
       "      <td>30</td>\n",
       "      <td>20</td>\n",
       "    </tr>\n",
       "  </tbody>\n",
       "</table>\n",
       "</div>"
      ],
      "text/plain": [
       "    안경O  안경X\n",
       "성별          \n",
       "남자   10   40\n",
       "여자   30   20"
      ]
     },
     "execution_count": 17,
     "metadata": {},
     "output_type": "execute_result"
    }
   ],
   "source": [
    "table = pd.DataFrame({\n",
    "    \"성별\" : ['남자', '여자'],\n",
    "    '안경O' : [10, 30],\n",
    "    '안경X' : [40, 20]\n",
    "}).set_index('성별')\n",
    "\n",
    "table"
   ]
  },
  {
   "cell_type": "code",
   "execution_count": 18,
   "metadata": {},
   "outputs": [
    {
     "name": "stdout",
     "output_type": "stream",
     "text": [
      "연관계수: 0.408\n"
     ]
    }
   ],
   "source": [
    "n = table.sum().sum() # 전체 데이터 개수\n",
    "exp = []\n",
    "\n",
    "r = table.sum(axis=1).values\n",
    "c = table.sum(axis=0).values\n",
    "\n",
    "for R in r:\n",
    "    for C in c:\n",
    "        exp.append(R * C / n)\n",
    "        \n",
    "obs = table.values.ravel()\n",
    "chistat = np.sum((obs - exp)**2 / exp)\n",
    "\n",
    "k, l = table.shape[0], table.shape[1] # 각 변수의 범주의 개수\n",
    "V = np.sqrt(chistat / (np.minimum(k, l)-1) / n)\n",
    "\n",
    "print(f\"연관계수: {round(V, 3)}\")"
   ]
  },
  {
   "cell_type": "code",
   "execution_count": 19,
   "metadata": {},
   "outputs": [
    {
     "name": "stdout",
     "output_type": "stream",
     "text": [
      "연관계수: 0.408\n"
     ]
    }
   ],
   "source": [
    "from scipy.stats.contingency import association\n",
    "\n",
    "V2 = association(table.values, method='cramer')\n",
    "print(f\"연관계수: {round(V2, 3)}\")"
   ]
  },
  {
   "cell_type": "markdown",
   "metadata": {},
   "source": [
    "## 연습문제"
   ]
  },
  {
   "cell_type": "markdown",
   "metadata": {},
   "source": [
    "#### 1.\n",
    "- 어느 고등학교에서 임의로 추출한 9명의 학생들의 수학과 영어 성적이 다음과 같다.\n",
    "- 다음 학생들의 성적에 대한 피어슨 상관계수와 스피어만 순위상관계수를 구하고, 각 상관계수가 통계적으로 유의한지 여부를 확인하시오. (유의수준 0.05)\n",
    "- 또한, 해당 피어슨 상관계수의 신뢰수준 90%의 신뢰구간을 계산하시오."
   ]
  },
  {
   "cell_type": "code",
   "execution_count": 20,
   "metadata": {},
   "outputs": [
    {
     "name": "stdout",
     "output_type": "stream",
     "text": [
      "피어슨   상관계수: 0.75 (p-value 0.02)\n",
      "스피어만 상관계수: 0.82 (p-value 0.01)\n"
     ]
    }
   ],
   "source": [
    "math = [96, 93, 63, 89, 85, 84, 66, 62, 90]\n",
    "eng = [98, 90, 74, 84, 69, 69, 73, 61, 98]\n",
    "\n",
    "from scipy.stats import pearsonr, spearmanr\n",
    "pr, p1 = pearsonr(math, eng)\n",
    "sr, p2 = spearmanr(math, eng)\n",
    "\n",
    "# 두 상관계수 모두 유의확률이 유의수준 0.05보다 작기 때문에 통계적으로 유의하다.\n",
    "print(f\"피어슨   상관계수: {round(pr, 2)} (p-value {round(p1, 2)})\")\n",
    "print(f\"스피어만 상관계수: {round(sr, 2)} (p-value {round(p2, 2)})\")"
   ]
  },
  {
   "cell_type": "code",
   "execution_count": 21,
   "metadata": {},
   "outputs": [
    {
     "name": "stdout",
     "output_type": "stream",
     "text": [
      "구간 추정량: 0.283 ~ 0.927\n"
     ]
    }
   ],
   "source": [
    "# 피어슨 상관계수의 신뢰구간 계산\n",
    "\n",
    "from scipy.stats import norm\n",
    "conf_a = 0.1 # 신뢰수준 90%\n",
    "conf_z = norm.ppf(1 - conf_a / 2)\n",
    "\n",
    "r1 = pr # 위에서 계산한 표본상관계수 pr을 사용\n",
    "n = 9 # 표본의 개수\n",
    "a = 1/2 * np.log((1+r1) / (1-r1)) - conf_z / np.sqrt(n-3)\n",
    "b = 1/2 * np.log((1+r1) / (1-r1)) + conf_z / np.sqrt(n-3)\n",
    "\n",
    "conf1 = (np.exp(2*a)-1) / (np.exp(2*a)+1)\n",
    "conf2 = (np.exp(2*b)-1) / (np.exp(2*b)+1)\n",
    "print(f\"구간 추정량: {round(conf1, 3)} ~ {round(conf2, 3)}\".format(conf1, conf2))"
   ]
  },
  {
   "cell_type": "markdown",
   "metadata": {},
   "source": [
    "#### 2.\n",
    "- 두 변수 X와 Y의 표준편차는 각각 4, 5이고 공분산이 4인 경우, 두 변수의 상관계수를 구하시오."
   ]
  },
  {
   "cell_type": "code",
   "execution_count": 22,
   "metadata": {},
   "outputs": [
    {
     "data": {
      "text/plain": [
       "0.2"
      ]
     },
     "execution_count": 22,
     "metadata": {},
     "output_type": "execute_result"
    }
   ],
   "source": [
    "Xs, Ys = 4, 5\n",
    "cov = 4\n",
    "cov / (Xs * Ys)"
   ]
  }
 ],
 "metadata": {
  "kernelspec": {
   "display_name": "Python 3",
   "language": "python",
   "name": "python3"
  },
  "language_info": {
   "codemirror_mode": {
    "name": "ipython",
    "version": 3
   },
   "file_extension": ".py",
   "mimetype": "text/x-python",
   "name": "python",
   "nbconvert_exporter": "python",
   "pygments_lexer": "ipython3",
   "version": "3.7.0"
  }
 },
 "nbformat": 4,
 "nbformat_minor": 2
}
