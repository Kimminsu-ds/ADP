{
 "cells": [
  {
   "cell_type": "markdown",
   "metadata": {},
   "source": [
    "# 제32회 ADP 실기 대비 - 핵심만 요약한 통계와 머신러닝 파이썬 코드북"
   ]
  },
  {
   "cell_type": "code",
   "execution_count": 2,
   "metadata": {},
   "outputs": [],
   "source": [
    "import pandas as pd\n",
    "import numpy as np\n",
    "\n",
    "import matplotlib.pyplot as plt\n",
    "import seaborn as sns\n",
    "\n",
    "# 시각화 설정\n",
    "plt.rcParams['font.family'] = 'Malgun Gothic' # 한글 폰트 설정\n",
    "plt.rcParams['axes.unicode_minus'] = False # 마이너스 부호 설정\n",
    "\n",
    "# Colab 한글 폰트 설정\n",
    "# !sudo apt-get install -y fonts-nanum\n",
    "# !sudo fc-cache -fv\n",
    "# !rm ~/.cache/matplotlib -rf\n",
    "# plt.rcParams['font.family'] = 'NanumBarunGothic'"
   ]
  },
  {
   "cell_type": "markdown",
   "metadata": {},
   "source": [
    "# 8장. 회귀 분석\n",
    "- 회귀 분석 방법은 예측 변수와 회귀계수의 선형 결합으로 종속변수를 표현할 수 있는지 여부에 따라 선형 회귀와 비선형 회귀로 나누어진다.\n",
    "- 선형 회귀에는 단순 선형 회귀, 다중 선형 회귀, 규제 선형 회귀, 일반화 선형 회귀, 이상치에 강한 선형 회귀 등이 있다.\n",
    "- 비선형 회귀에는 다항 회귀, 스플라인 회귀, GAM 등이 있다."
   ]
  },
  {
   "cell_type": "markdown",
   "metadata": {},
   "source": [
    "## 8-1. 선형 회귀(Linear regression)\n",
    "- 선형 회귀는 가장 간단하고 오래된 회귀용 선형 알고리즘이다.\n",
    "- 입력변수에 대한 선형 함수 즉, 기울기와 절편으로 이루어진 직선의 방정식을 만들어 예측을 수행한다.\n",
    "- 선형 회귀는 예측과 타겟 사이의 평균제곱오차(MSE, Mean Squared Error)를 최소화하는 회귀계수인 w(기울기 혹은 가중치)와 b(절편)를 찾는다.\n",
    "- 잔차제곱합을 최소화하는 최소제곱법(OLS, Ordinary Least Squares)에 따른 회귀방법이기 때문에 특이값에 민감하다.\n",
    "- 단순 선형 회귀는 직선의 형태이고, 다중 선형 회귀는 직선의 형태는 아니지만 각 계수와 그 변수들 사이의 관계는 여전히 선형이기 때문에 선형모형이다.\n",
    "- 선형 회귀모델을 적합한 후에는 잔차 분석을 통해 해당 모델이 선형 회귀의 가정을 위배하지 않는 유효한 모델인지 확인해야 한다."
   ]
  },
  {
   "cell_type": "markdown",
   "metadata": {},
   "source": [
    "[용어정리]\n",
    "- X: 예측변수 = 설명변수 = 입력변수 = 독립변수 = feature\n",
    "- Y: 결과변수 = 반응변수 = 출력변수 = 종속변수 = target\n",
    "- $\\hat{Y}$: Y hat = 적합값 = 예측값 = predicted value\n",
    "- w: 회귀계수 = 기울기 = 가중치 = coefficient\n",
    "- b: 회귀계수 = 절편 = 상수항 = intercept = constant\n",
    "- 오차(Error): 관측치와 모회귀선과의 편차\n",
    "- 잔차(Residual): 관측치와 표본회귀선과의 편차"
   ]
  },
  {
   "cell_type": "markdown",
   "metadata": {},
   "source": [
    "[선형 회귀의 가정]\n",
    "- 정규성: 잔차가 정규분포의 형태를 띈다.\n",
    "- 등분산성: 독립변수와 무관하게 잔차의 분산이 일정하다.\n",
    "- 선형성: 종속변수는 예측 변수와 회귀계수의 선형 결합(Linear combination)으로 표현할 수 있다.\n",
    "- 독립성: 잔차들은 서로 독립이다. 또한, 독립변수들은 서로 선형적으로 독립이다."
   ]
  },
  {
   "cell_type": "markdown",
   "metadata": {},
   "source": [
    "[회귀 분석의 전처리]\n",
    "- 일반적인 데이터 전처리: 결측치, 이상치 등은 본 책의 <2-1. 결측치 처리>와 <2-2. 이상치 처리>를 참고한다.\n",
    "- 범주형 변수 처리: 범주형 변수는 회귀를 위해 수치형 변수로 변환해야 한다. 범주의 개수가 n개인 범주형 변수를 처리하는 가장 흔한 방법은 (n-1)개의 가변수를 가지도록 더미코딩하는 것이다. n개의 특성으로 변환하는 원-핫 인코딩은 다중공선성의 문제가 있기 때문에 회귀에서 사용하지 않는다. 순서를 갖는 범주형 변수의 경우, 순서에 따른 수치형 변수로 변환하여 사용할 수 있다. <2-4-2. 범주형 변수 변환>을 참고한다.\n",
    "- 영향치(Influential value) 처리: 영향치는 회귀모형에서 제외됐을 때 회귀식에 중요한 변화를 가져오는 특정 데이터이다. 회귀 분석에서 잔차가 크다고 해서 모두 이런 값이 되는 것은 아니다. 잔차가 크든 작든, 회귀 결과에 큰 영향을 미치는 경우 회귀에 대해 높은 레버리지(Leverage)를 갖는다고 한다. 레버리지를 측정하는 척도로는 Leverage H, Cook's distance, DFBETAS, DFFITS 등이 있다.\n",
    "- 다중공선성(Multicolinearity) 처리: 다중공선성은 독립변수들 간에 강한 상관관계가 나타나는 문제이다. 이는 선형 회귀의 가정인 독립성을 위배하는 것으로서, 회귀계수의 분산이 비정상적으로 커져 회귀방정식의 계수 추정에 불안정성을 유발할 수 있다. 다중공선성 문제를 해결하기 위한 방법으로는, 사전 지식이나 직관을 활용하여 상관관계가 높은 독립변수들 중 일부를 제거하는 방법, 변수 선택법, 분산팽창요인(VIF, Variance Inflation Factor)을 계산하여 일부 변수를 제거하는 방법 등이 있다.\n",
    "- 종속변수 스케일링: 잔차 분석 결과 등분산성이나 정규성 가정을 위반하는 경우, 종속변수에 Box-cox 변환, 로그 변환 등을 시도할 수 있다 <2-4-1. 수치형 변수 변환>을 참고할 수 있다."
   ]
  },
  {
   "cell_type": "markdown",
   "metadata": {},
   "source": [
    "[잔차 분석]\n",
    "- 적합(fitting)한 모델의 잔차 분석 결과가 선형 회귀의 가정을 위반하는 경우, 위에서 언급한 전처리 과정을 다시 거치거나 데이터를 리샘플링함으로써 통계적으로 유효한 모델을 적합해야 한다."
   ]
  },
  {
   "cell_type": "markdown",
   "metadata": {},
   "source": [
    "### 8-1-1. 단순 선형 회귀(Simple Linear Regression)\n",
    "- 독립변수 X와 종속변수 Y의 정보를 가지고, 일차 방정식의 계수 w, b를 찾는 과정이 단순 선형 회귀 알고리즘이다."
   ]
  },
  {
   "cell_type": "markdown",
   "metadata": {},
   "source": [
    "[용어 정리]\n",
    "- SSR(Sum of squares regression) = ESS(Explained sum of squares)\n",
    "- SSE(Sum of squares residual error) = RSS(Residual sum of squares)\n",
    "- SST(Sum of squares total) = TSS(Total sum of squares)"
   ]
  },
  {
   "cell_type": "code",
   "execution_count": 5,
   "metadata": {},
   "outputs": [
    {
     "name": "stdout",
     "output_type": "stream",
     "text": [
      "데이터 확인: [ 0.06169621 -0.05147406  0.04445121], [151.  75. 141.]\n"
     ]
    }
   ],
   "source": [
    "from sklearn.datasets import load_diabetes\n",
    "\n",
    "# 데이터 불러오기\n",
    "data = load_diabetes() \n",
    "Xa = data['data']\n",
    "ya = data['target']\n",
    "\n",
    "diabetes = pd.DataFrame(np.c_[Xa, ya], columns=data['feature_names'] + ['target'])\n",
    "\n",
    "# 단순 선형 회귀 적합을 위해 전체 데이터에서 1개의 설명변수와 1개의 종속변수를 추출\n",
    "X = np.array(diabetes.filter(['bmi'])).ravel() # numpy로 계산하기 위해 데이터 형태 변환\n",
    "Y = np.array(diabetes.filter(['target'])).ravel()\n",
    "\n",
    "print(f\"데이터 확인: {X[:3]}, {Y[:3]}\")"
   ]
  },
  {
   "cell_type": "code",
   "execution_count": 6,
   "metadata": {},
   "outputs": [
    {
     "name": "stdout",
     "output_type": "stream",
     "text": [
      "기울기 점추정량: 949.435\n",
      "절편   점추정량: 152.133\n",
      "표본 회귀식: Y = 152.133 + 949.435 * X\n"
     ]
    }
   ],
   "source": [
    "Xm = np.mean(X)\n",
    "Ym = np.mean(Y)\n",
    "w = sum((X-Xm) * (Y-Ym)) / sum((X-Xm)**2) # 기울기\n",
    "b = Ym - w * Xm # 절편\n",
    "\n",
    "print(f\"기울기 점추정량: {round(w, 3)}\")\n",
    "print(f\"절편   점추정량: {round(b, 3)}\")\n",
    "print(f\"표본 회귀식: Y = {round(b, 3)} + {round(w, 3)} * X\")"
   ]
  },
  {
   "cell_type": "code",
   "execution_count": 10,
   "metadata": {},
   "outputs": [
    {
     "name": "stdout",
     "output_type": "stream",
     "text": [
      "결정계수(=R2): 0.344(=0.344)\n",
      "상관계수(=R) : 0.586(=0.586)\n"
     ]
    }
   ],
   "source": [
    "# 기울기, 절편 추정량으로 구한 예측값\n",
    "Ypred = b + X*w\n",
    "\n",
    "SSR = sum((Ym - Ypred)**2)\n",
    "SSE = sum((Y - Ypred)**2)\n",
    "SST = sum((Y - Ym) ** 2)\n",
    "\n",
    "R2 = SSR / SST\n",
    "R = np.corrcoef(X, Y)[0][1] # X, Y의 상관계수\n",
    "\n",
    "# X, Y의 상관계수의 제곱은 X, Y로 적합한 단순 선형회귀 모델의 결정계수와 같다.\n",
    "print(f\"결정계수(=R2): {round(R2, 3)}(={round(R**2, 3)})\")\n",
    "print(f\"상관계수(=R) : {round(R, 3)}(={round(np.sqrt(R2), 3)})\")"
   ]
  },
  {
   "cell_type": "code",
   "execution_count": 12,
   "metadata": {},
   "outputs": [
    {
     "name": "stdout",
     "output_type": "stream",
     "text": [
      "MSE: 3908.14, MSR: 901427.314, F-통계량: 230.654\n",
      "가설검정: F(1, 440) p-value: 0.0\n"
     ]
    }
   ],
   "source": [
    "# 회귀계수의 가설검정 (F검정, 유의수준 5%)\n",
    "# 귀무가설(H0): 모든 회귀계수는 0이다.\n",
    "# 대립가설(H1): 적어도 하나의 회귀계수는 0이 아니다.\n",
    "\n",
    "from scipy.stats import f\n",
    "treat_df = 1 # 처리의 자유도 (설명변수의 개수)\n",
    "resid_df = len(X) - treat_df - 1 # 잔차의 자유도 (전체 데이터의 개수 - 설명변수의 개수 -1)\n",
    "\n",
    "MSR = SSR / treat_df\n",
    "MSE = SSE / resid_df\n",
    "\n",
    "fstat = MSR / MSE\n",
    "print(f\"MSE: {round(MSE, 3)}, MSR: {round(MSR, 3)}, F-통계량: {round(fstat, 3)}\")\n",
    "print(f\"가설검정: F({treat_df}, {resid_df}) p-value: {round(1-f.cdf(fstat, treat_df, resid_df), 3)}\")"
   ]
  },
  {
   "cell_type": "code",
   "execution_count": 13,
   "metadata": {},
   "outputs": [
    {
     "data": {
      "text/html": [
       "<table class=\"simpletable\">\n",
       "<caption>OLS Regression Results</caption>\n",
       "<tr>\n",
       "  <th>Dep. Variable:</th>         <td>target</td>      <th>  R-squared:         </th> <td>   0.344</td>\n",
       "</tr>\n",
       "<tr>\n",
       "  <th>Model:</th>                   <td>OLS</td>       <th>  Adj. R-squared:    </th> <td>   0.342</td>\n",
       "</tr>\n",
       "<tr>\n",
       "  <th>Method:</th>             <td>Least Squares</td>  <th>  F-statistic:       </th> <td>   230.7</td>\n",
       "</tr>\n",
       "<tr>\n",
       "  <th>Date:</th>             <td>Sun, 14 Apr 2024</td> <th>  Prob (F-statistic):</th> <td>3.47e-42</td>\n",
       "</tr>\n",
       "<tr>\n",
       "  <th>Time:</th>                 <td>16:16:36</td>     <th>  Log-Likelihood:    </th> <td> -2454.0</td>\n",
       "</tr>\n",
       "<tr>\n",
       "  <th>No. Observations:</th>      <td>   442</td>      <th>  AIC:               </th> <td>   4912.</td>\n",
       "</tr>\n",
       "<tr>\n",
       "  <th>Df Residuals:</th>          <td>   440</td>      <th>  BIC:               </th> <td>   4920.</td>\n",
       "</tr>\n",
       "<tr>\n",
       "  <th>Df Model:</th>              <td>     1</td>      <th>                     </th>     <td> </td>   \n",
       "</tr>\n",
       "<tr>\n",
       "  <th>Covariance Type:</th>      <td>nonrobust</td>    <th>                     </th>     <td> </td>   \n",
       "</tr>\n",
       "</table>\n",
       "<table class=\"simpletable\">\n",
       "<tr>\n",
       "    <td></td>       <th>coef</th>     <th>std err</th>      <th>t</th>      <th>P>|t|</th>  <th>[0.025</th>    <th>0.975]</th>  \n",
       "</tr>\n",
       "<tr>\n",
       "  <th>const</th> <td>  152.1335</td> <td>    2.974</td> <td>   51.162</td> <td> 0.000</td> <td>  146.289</td> <td>  157.978</td>\n",
       "</tr>\n",
       "<tr>\n",
       "  <th>bmi</th>   <td>  949.4353</td> <td>   62.515</td> <td>   15.187</td> <td> 0.000</td> <td>  826.570</td> <td> 1072.301</td>\n",
       "</tr>\n",
       "</table>\n",
       "<table class=\"simpletable\">\n",
       "<tr>\n",
       "  <th>Omnibus:</th>       <td>11.674</td> <th>  Durbin-Watson:     </th> <td>   1.848</td>\n",
       "</tr>\n",
       "<tr>\n",
       "  <th>Prob(Omnibus):</th> <td> 0.003</td> <th>  Jarque-Bera (JB):  </th> <td>   7.310</td>\n",
       "</tr>\n",
       "<tr>\n",
       "  <th>Skew:</th>          <td> 0.156</td> <th>  Prob(JB):          </th> <td>  0.0259</td>\n",
       "</tr>\n",
       "<tr>\n",
       "  <th>Kurtosis:</th>      <td> 2.453</td> <th>  Cond. No.          </th> <td>    21.0</td>\n",
       "</tr>\n",
       "</table><br/><br/>Notes:<br/>[1] Standard Errors assume that the covariance matrix of the errors is correctly specified."
      ],
      "text/plain": [
       "<class 'statsmodels.iolib.summary.Summary'>\n",
       "\"\"\"\n",
       "                            OLS Regression Results                            \n",
       "==============================================================================\n",
       "Dep. Variable:                 target   R-squared:                       0.344\n",
       "Model:                            OLS   Adj. R-squared:                  0.342\n",
       "Method:                 Least Squares   F-statistic:                     230.7\n",
       "Date:                Sun, 14 Apr 2024   Prob (F-statistic):           3.47e-42\n",
       "Time:                        16:16:36   Log-Likelihood:                -2454.0\n",
       "No. Observations:                 442   AIC:                             4912.\n",
       "Df Residuals:                     440   BIC:                             4920.\n",
       "Df Model:                           1                                         \n",
       "Covariance Type:            nonrobust                                         \n",
       "==============================================================================\n",
       "                 coef    std err          t      P>|t|      [0.025      0.975]\n",
       "------------------------------------------------------------------------------\n",
       "const        152.1335      2.974     51.162      0.000     146.289     157.978\n",
       "bmi          949.4353     62.515     15.187      0.000     826.570    1072.301\n",
       "==============================================================================\n",
       "Omnibus:                       11.674   Durbin-Watson:                   1.848\n",
       "Prob(Omnibus):                  0.003   Jarque-Bera (JB):                7.310\n",
       "Skew:                           0.156   Prob(JB):                       0.0259\n",
       "Kurtosis:                       2.453   Cond. No.                         21.0\n",
       "==============================================================================\n",
       "\n",
       "Notes:\n",
       "[1] Standard Errors assume that the covariance matrix of the errors is correctly specified.\n",
       "\"\"\""
      ]
     },
     "execution_count": 13,
     "metadata": {},
     "output_type": "execute_result"
    }
   ],
   "source": [
    "# statsmodel 방법\n",
    "import statsmodels.api as sm\n",
    "\n",
    "X = diabetes.filter(['bmi'])\n",
    "Y = diabetes.filter(['target'])\n",
    "\n",
    "Xc = sm.add_constant(X) # 절편 추가\n",
    "model = sm.OLS(Y, Xc)\n",
    "\n",
    "fitted = model.fit()\n",
    "resid = fitted.resid # 모델의 잔차 추출\n",
    "fitted.summary() # 모델 결과 요약"
   ]
  },
  {
   "cell_type": "code",
   "execution_count": 14,
   "metadata": {},
   "outputs": [
    {
     "name": "stdout",
     "output_type": "stream",
     "text": [
      "회귀계수: [[949.43526038]]\n",
      "절편: [152.13348416]\n",
      "결정계수: 0.344\n"
     ]
    }
   ],
   "source": [
    "# sklearn 방법\n",
    "from sklearn.linear_model import LinearRegression\n",
    "X = diabetes.filter(['bmi'])\n",
    "Y = diabetes.filter(['target'])\n",
    "\n",
    "LR = LinearRegression()\n",
    "LR.fit(X, Y)\n",
    "\n",
    "pred = LR.predict(X) # 회귀모델로 X값에 대한 예측값 생성\n",
    "\n",
    "print(f\"회귀계수: {LR.coef_}\")\n",
    "print(f\"절편: {LR.intercept_}\")\n",
    "print(f\"결정계수: {round(LR.score(X, Y), 3)}\")"
   ]
  },
  {
   "cell_type": "code",
   "execution_count": 15,
   "metadata": {},
   "outputs": [
    {
     "name": "stdout",
     "output_type": "stream",
     "text": [
      "[추정과 검정]\n",
      "잔차 표준오차: 62.515(= 62.515)\n"
     ]
    }
   ],
   "source": [
    "# 기울기, 절편, Y의 평균값에 대한 추정과 검정\n",
    "print(\"[추정과 검정]\")\n",
    "X = np.array(diabetes.filter(['bmi'])).ravel() #numpy로 계산하기 위해 데이터 형태 변환\n",
    "Y = np.array(diabetes.filter(['target'])).ravel()\n",
    "\n",
    "# resid_std를 계산하여 세가지 추정과 검정에 사용\n",
    "resid_std = np.sqrt(MSE)\n",
    "resid_std2 = np.std(fitted.resid, ddof=2)\n",
    "print(f\"잔차 표준오차: {round(resid_std, 3)}(= {round(resid_std2, 3)})\")"
   ]
  },
  {
   "cell_type": "markdown",
   "metadata": {},
   "source": [
    "#### 기울기의 추정과 검정"
   ]
  },
  {
   "cell_type": "code",
   "execution_count": 19,
   "metadata": {},
   "outputs": [
    {
     "name": "stdout",
     "output_type": "stream",
     "text": [
      "기울기 점추정량: 949.435\n",
      "기울기 점추정량의 표준오차: 62.515\n",
      "기울기 신뢰구간: 826.57 ~ 1072.301\n",
      "검정통계량 15.187, p-value 0.0\n"
     ]
    }
   ],
   "source": [
    "from scipy.stats import t\n",
    "\n",
    "print(f\"기울기 점추정량: {round(w, 3)}\")\n",
    "\n",
    "SE = resid_std / np.sqrt(sum((X - Xm)**2)) # 잔차표준편차 / X편차의 제곱합\n",
    "print(f\"기울기 점추정량의 표준오차: {round(SE, 3)}\")\n",
    "\n",
    "conf_a = 0.05\n",
    "start = w + t.ppf(conf_a / 2, resid_df) * SE \n",
    "end = w + t.ppf(1-conf_a / 2, resid_df) * SE\n",
    "print(f\"기울기 신뢰구간: {round(start, 3)} ~ {round(end, 3)}\")\n",
    "\n",
    "# 기울기의 가설검정 (t검정, 유의수준 5%)\n",
    "# 귀무가설(H0): 기울기 w0는 0이다\n",
    "# 대립가설(H1): 기울기 w0는 0이 아니다.\n",
    "test_a = 0.05\n",
    "w0 = 0\n",
    "tstat = (w - w0) / SE\n",
    "print(f\"검정통계량 {round(tstat, 3)}, p-value {round(1-t.cdf(tstat, resid_df)**2, 3)}\")"
   ]
  },
  {
   "cell_type": "markdown",
   "metadata": {},
   "source": [
    "#### 절편의 추정과 검정"
   ]
  },
  {
   "cell_type": "code",
   "execution_count": 21,
   "metadata": {},
   "outputs": [
    {
     "name": "stdout",
     "output_type": "stream",
     "text": [
      "점추정량: 152.133\n",
      "점추정량의 표준오차: 2.974\n",
      "점추정량의 신뢰구간: 146.289 ~ 157.978\n",
      "검정통계량 51.162, p-value 0.0\n"
     ]
    }
   ],
   "source": [
    "Xi = 0\n",
    "Y1 = b + w * Xi\n",
    "print(f\"점추정량: {round(Y1, 3)}\") # 절편의 기댓값\n",
    "\n",
    "SE2 = resid_std * np.sqrt(1 / len(X) + (Xi - Xm) **2 / sum((X -Xm)**2))\n",
    "print(f\"점추정량의 표준오차: {round(SE2, 3)}\")\n",
    "\n",
    "start2 = Y1 + t.ppf(conf_a / 2, resid_df) * SE2 \n",
    "end2 = Y1 + t.ppf(1-conf_a / 2, resid_df) * SE2\n",
    "print(f\"점추정량의 신뢰구간: {round(start2, 3)} ~ {round(end2, 3)}\")\n",
    "\n",
    "# 절편의 가설검정 (t검정, 유의수준 5%)\n",
    "# 귀무가설(H0): 절편 b0는 0이다\n",
    "# 대립가설(H1): 절편 b0는 0이 아니다.\n",
    "\n",
    "test_a = 0.05\n",
    "b0 = 0\n",
    "tstat2 = (b-b0) / SE2\n",
    "print(f\"검정통계량 {round(tstat2, 3)}, p-value {round((1-t.cdf(np.abs(tstat2), resid_df))*2, 3)}\")"
   ]
  },
  {
   "cell_type": "markdown",
   "metadata": {},
   "source": [
    "#### 특정한 X값(0.15) 추정과 검정"
   ]
  },
  {
   "cell_type": "code",
   "execution_count": 23,
   "metadata": {},
   "outputs": [
    {
     "name": "stdout",
     "output_type": "stream",
     "text": [
      "점추정량: 294.549\n",
      "점추정량의 표준오차: 9.837\n",
      "신뢰구간: 275.215 ~ 313.883\n",
      "검정통계량 29.942, p-value 0.0\n"
     ]
    }
   ],
   "source": [
    "# Y의 평균값의 추정\n",
    "Xi = 0.15 # X값 입력\n",
    "Y2 = b + w * Xi\n",
    "print(f\"점추정량: {round(Y2, 3)}\")\n",
    "\n",
    "SE3 = resid_std * np.sqrt(1 / len(X) + (Xi - Xm)**2 / sum((X - Xm)**2))\n",
    "print(f\"점추정량의 표준오차: {round(SE3, 3)}\")\n",
    "\n",
    "start3 = Y2 + t.ppf(conf_a / 2, resid_df) * SE3 \n",
    "end3 = Y2 + t.ppf(1-conf_a / 2, resid_df) * SE3\n",
    "print(f\"신뢰구간: {round(start3, 3)} ~ {round(end3, 3)}\".format(start3, end3))\n",
    "\n",
    "# Y 평균값의 가설검정 (t검정, 유의수준 5%)\n",
    "# 귀무가설(H0): Y2_0는 0이다\n",
    "# 대립가설(H1): Y2_0는 0이 아니다\n",
    "test_a = 0.05\n",
    "Y2_0 = 0\n",
    "tstat3 = (Y2 - Y2_0) / SE3\n",
    "print(f\"검정통계량 {round(tstat3, 3)}, p-value {round((1-t.cdf(np.abs(tstat3), resid_df))*2, 3)}\")"
   ]
  },
  {
   "cell_type": "code",
   "execution_count": 24,
   "metadata": {},
   "outputs": [
    {
     "data": {
      "image/png": "[encoded data removed]",
      "text/plain": [
       "<Figure size 432x288 with 1 Axes>"
      ]
     },
     "metadata": {
      "needs_background": "light"
     },
     "output_type": "display_data"
    }
   ],
   "source": [
    "# 회귀직선의 신뢰대 (각 X값에 대한 Y 평균값들의 신뢰구간) 시각화\n",
    "fig, ax = plt.subplots(1, 1)\n",
    "sns.regplot(x=X, y=Y, ax=ax)\n",
    "ax.vlines(x=0.15, ymin=start3, ymax=end3, color='red')\n",
    "ax.text(-0.01, 310, f\"X가 {Xi}일 때 y의 신뢰구간\", color='red', size=15)\n",
    "plt.show()"
   ]
  },
  {
   "cell_type": "markdown",
   "metadata": {},
   "source": [
    "### 8-1-2. 다중 선형 회귀"
   ]
  },
  {
   "cell_type": "code",
   "execution_count": 27,
   "metadata": {},
   "outputs": [
    {
     "data": {
      "text/html": [
       "<table class=\"simpletable\">\n",
       "<caption>OLS Regression Results</caption>\n",
       "<tr>\n",
       "  <th>Dep. Variable:</th>         <td>target</td>      <th>  R-squared:         </th> <td>   0.400</td>\n",
       "</tr>\n",
       "<tr>\n",
       "  <th>Model:</th>                   <td>OLS</td>       <th>  Adj. R-squared:    </th> <td>   0.395</td>\n",
       "</tr>\n",
       "<tr>\n",
       "  <th>Method:</th>             <td>Least Squares</td>  <th>  F-statistic:       </th> <td>   72.91</td>\n",
       "</tr>\n",
       "<tr>\n",
       "  <th>Date:</th>             <td>Sun, 14 Apr 2024</td> <th>  Prob (F-statistic):</th> <td>2.70e-47</td>\n",
       "</tr>\n",
       "<tr>\n",
       "  <th>Time:</th>                 <td>16:38:55</td>     <th>  Log-Likelihood:    </th> <td> -2434.2</td>\n",
       "</tr>\n",
       "<tr>\n",
       "  <th>No. Observations:</th>      <td>   442</td>      <th>  AIC:               </th> <td>   4878.</td>\n",
       "</tr>\n",
       "<tr>\n",
       "  <th>Df Residuals:</th>          <td>   437</td>      <th>  BIC:               </th> <td>   4899.</td>\n",
       "</tr>\n",
       "<tr>\n",
       "  <th>Df Model:</th>              <td>     4</td>      <th>                     </th>     <td> </td>   \n",
       "</tr>\n",
       "<tr>\n",
       "  <th>Covariance Type:</th>      <td>nonrobust</td>    <th>                     </th>     <td> </td>   \n",
       "</tr>\n",
       "</table>\n",
       "<table class=\"simpletable\">\n",
       "<tr>\n",
       "    <td></td>       <th>coef</th>     <th>std err</th>      <th>t</th>      <th>P>|t|</th>  <th>[0.025</th>    <th>0.975]</th>  \n",
       "</tr>\n",
       "<tr>\n",
       "  <th>const</th> <td>  152.1335</td> <td>    2.853</td> <td>   53.329</td> <td> 0.000</td> <td>  146.527</td> <td>  157.740</td>\n",
       "</tr>\n",
       "<tr>\n",
       "  <th>bmi</th>   <td>  787.1793</td> <td>   65.424</td> <td>   12.032</td> <td> 0.000</td> <td>  658.594</td> <td>  915.764</td>\n",
       "</tr>\n",
       "<tr>\n",
       "  <th>age</th>   <td>   37.2412</td> <td>   64.117</td> <td>    0.581</td> <td> 0.562</td> <td>  -88.776</td> <td>  163.258</td>\n",
       "</tr>\n",
       "<tr>\n",
       "  <th>sex</th>   <td> -106.5775</td> <td>   62.125</td> <td>   -1.716</td> <td> 0.087</td> <td> -228.679</td> <td>   15.524</td>\n",
       "</tr>\n",
       "<tr>\n",
       "  <th>bp</th>    <td>  416.6738</td> <td>   69.495</td> <td>    5.996</td> <td> 0.000</td> <td>  280.088</td> <td>  553.259</td>\n",
       "</tr>\n",
       "</table>\n",
       "<table class=\"simpletable\">\n",
       "<tr>\n",
       "  <th>Omnibus:</th>       <td> 9.858</td> <th>  Durbin-Watson:     </th> <td>   1.933</td>\n",
       "</tr>\n",
       "<tr>\n",
       "  <th>Prob(Omnibus):</th> <td> 0.007</td> <th>  Jarque-Bera (JB):  </th> <td>   6.464</td>\n",
       "</tr>\n",
       "<tr>\n",
       "  <th>Skew:</th>          <td> 0.146</td> <th>  Prob(JB):          </th> <td>  0.0395</td>\n",
       "</tr>\n",
       "<tr>\n",
       "  <th>Kurtosis:</th>      <td> 2.485</td> <th>  Cond. No.          </th> <td>    28.4</td>\n",
       "</tr>\n",
       "</table><br/><br/>Notes:<br/>[1] Standard Errors assume that the covariance matrix of the errors is correctly specified."
      ],
      "text/plain": [
       "<class 'statsmodels.iolib.summary.Summary'>\n",
       "\"\"\"\n",
       "                            OLS Regression Results                            \n",
       "==============================================================================\n",
       "Dep. Variable:                 target   R-squared:                       0.400\n",
       "Model:                            OLS   Adj. R-squared:                  0.395\n",
       "Method:                 Least Squares   F-statistic:                     72.91\n",
       "Date:                Sun, 14 Apr 2024   Prob (F-statistic):           2.70e-47\n",
       "Time:                        16:38:55   Log-Likelihood:                -2434.2\n",
       "No. Observations:                 442   AIC:                             4878.\n",
       "Df Residuals:                     437   BIC:                             4899.\n",
       "Df Model:                           4                                         \n",
       "Covariance Type:            nonrobust                                         \n",
       "==============================================================================\n",
       "                 coef    std err          t      P>|t|      [0.025      0.975]\n",
       "------------------------------------------------------------------------------\n",
       "const        152.1335      2.853     53.329      0.000     146.527     157.740\n",
       "bmi          787.1793     65.424     12.032      0.000     658.594     915.764\n",
       "age           37.2412     64.117      0.581      0.562     -88.776     163.258\n",
       "sex         -106.5775     62.125     -1.716      0.087    -228.679      15.524\n",
       "bp           416.6738     69.495      5.996      0.000     280.088     553.259\n",
       "==============================================================================\n",
       "Omnibus:                        9.858   Durbin-Watson:                   1.933\n",
       "Prob(Omnibus):                  0.007   Jarque-Bera (JB):                6.464\n",
       "Skew:                           0.146   Prob(JB):                       0.0395\n",
       "Kurtosis:                       2.485   Cond. No.                         28.4\n",
       "==============================================================================\n",
       "\n",
       "Notes:\n",
       "[1] Standard Errors assume that the covariance matrix of the errors is correctly specified.\n",
       "\"\"\""
      ]
     },
     "execution_count": 27,
     "metadata": {},
     "output_type": "execute_result"
    }
   ],
   "source": [
    "from sklearn.datasets import load_diabetes\n",
    "\n",
    "# 데이터 불러오기\n",
    "data = load_diabetes() \n",
    "Xa = data['data']\n",
    "ya = data['target']\n",
    "\n",
    "diabetes = pd.DataFrame(np.c_[Xa, ya], columns = data['feature_names'] + ['target'])\n",
    "\n",
    "# 다중 선형 회귀 적합을 위해 전체 데이터에서 4개의 설명변수와 1개의 종속변수를 추출\n",
    "X = diabetes.filter(['bmi', 'age', 'sex', 'bp'])\n",
    "y = diabetes.filter(['target'])\n",
    "\n",
    "# 회귀 분석 fitted객체, 요약결과 반환하는 함수 정의\n",
    "def multiR_fitted(X, y): # return fitted, summary\n",
    "    X_ = sm.add_constant(X)\n",
    "    model = sm.OLS(y, X_)\n",
    "    fitted = model.fit()\n",
    "    return fitted, fitted.summary()\n",
    "\n",
    "fitted, summary = multiR_fitted(X, y)\n",
    "summary"
   ]
  },
  {
   "cell_type": "markdown",
   "metadata": {},
   "source": [
    "#### 영향치 판단\n",
    "- p는 예측변수의 개수, n은 데이터의 크기를 의미하며, 아래는 영향치를 판단하는 척도들이다.\n",
    "    - Cook's distance: 레버리지와 잔차의 크기를 합쳐서 영향력을 판단한다.\n",
    "        - 4 / (n-p-1) 보다 크면 영향력이 높다고 본다. 쿡의 거리가 기준값이 1보다 클 경우 영향치로 간주한다.\n",
    "    - DFBETAS: 값이 커지면 관측치가 영향치 혹은 이상치일 가능성이 높다. 기준값은 2나 $2/\\sqrt{n}$을 사용하며 기준값보다 클 경우 영향치로 간주한다.\n",
    "    - DFFITS: 특정 관측치 제외 시 종속변수 예측치의 변화 정도를 측정한 값이다. 기준값인 $2\\sqrt{(p+1)/n}$보다 클수록 영향치일 가능성이 높다고 본다.\n",
    "    - Leverage H: 2(p+1)/n 이상의 값들은 레버리지가 높은 데이터 값이다."
   ]
  },
  {
   "cell_type": "code",
   "execution_count": 30,
   "metadata": {},
   "outputs": [
    {
     "data": {
      "text/html": [
       "<div>\n",
       "<style scoped>\n",
       "    .dataframe tbody tr th:only-of-type {\n",
       "        vertical-align: middle;\n",
       "    }\n",
       "\n",
       "    .dataframe tbody tr th {\n",
       "        vertical-align: top;\n",
       "    }\n",
       "\n",
       "    .dataframe thead th {\n",
       "        text-align: right;\n",
       "    }\n",
       "</style>\n",
       "<table border=\"1\" class=\"dataframe\">\n",
       "  <thead>\n",
       "    <tr style=\"text-align: right;\">\n",
       "      <th></th>\n",
       "      <th>cooks_distance</th>\n",
       "      <th>dfbetas</th>\n",
       "      <th>dffits</th>\n",
       "      <th>leverageH</th>\n",
       "    </tr>\n",
       "  </thead>\n",
       "  <tbody>\n",
       "    <tr>\n",
       "      <th>0</th>\n",
       "      <td>0.001516</td>\n",
       "      <td>-0.043867</td>\n",
       "      <td>-0.087061</td>\n",
       "      <td>0.008908</td>\n",
       "    </tr>\n",
       "    <tr>\n",
       "      <th>1</th>\n",
       "      <td>0.000350</td>\n",
       "      <td>-0.024198</td>\n",
       "      <td>-0.041811</td>\n",
       "      <td>0.006743</td>\n",
       "    </tr>\n",
       "    <tr>\n",
       "      <th>2</th>\n",
       "      <td>0.001478</td>\n",
       "      <td>-0.033422</td>\n",
       "      <td>-0.085965</td>\n",
       "      <td>0.014950</td>\n",
       "    </tr>\n",
       "    <tr>\n",
       "      <th>3</th>\n",
       "      <td>0.003736</td>\n",
       "      <td>0.061662</td>\n",
       "      <td>0.136681</td>\n",
       "      <td>0.011133</td>\n",
       "    </tr>\n",
       "    <tr>\n",
       "      <th>4</th>\n",
       "      <td>0.000003</td>\n",
       "      <td>-0.002047</td>\n",
       "      <td>-0.003823</td>\n",
       "      <td>0.007869</td>\n",
       "    </tr>\n",
       "    <tr>\n",
       "      <th>...</th>\n",
       "      <td>...</td>\n",
       "      <td>...</td>\n",
       "      <td>...</td>\n",
       "      <td>...</td>\n",
       "    </tr>\n",
       "    <tr>\n",
       "      <th>437</th>\n",
       "      <td>0.000049</td>\n",
       "      <td>-0.008507</td>\n",
       "      <td>-0.015638</td>\n",
       "      <td>0.007629</td>\n",
       "    </tr>\n",
       "    <tr>\n",
       "      <th>438</th>\n",
       "      <td>0.000002</td>\n",
       "      <td>-0.001460</td>\n",
       "      <td>-0.003347</td>\n",
       "      <td>0.011865</td>\n",
       "    </tr>\n",
       "    <tr>\n",
       "      <th>439</th>\n",
       "      <td>0.000045</td>\n",
       "      <td>-0.008745</td>\n",
       "      <td>-0.015040</td>\n",
       "      <td>0.006677</td>\n",
       "    </tr>\n",
       "    <tr>\n",
       "      <th>440</th>\n",
       "      <td>0.000531</td>\n",
       "      <td>0.026808</td>\n",
       "      <td>0.051509</td>\n",
       "      <td>0.008339</td>\n",
       "    </tr>\n",
       "    <tr>\n",
       "      <th>441</th>\n",
       "      <td>0.000031</td>\n",
       "      <td>-0.005440</td>\n",
       "      <td>-0.012411</td>\n",
       "      <td>0.011747</td>\n",
       "    </tr>\n",
       "  </tbody>\n",
       "</table>\n",
       "<p>442 rows × 4 columns</p>\n",
       "</div>"
      ],
      "text/plain": [
       "     cooks_distance   dfbetas    dffits  leverageH\n",
       "0          0.001516 -0.043867 -0.087061   0.008908\n",
       "1          0.000350 -0.024198 -0.041811   0.006743\n",
       "2          0.001478 -0.033422 -0.085965   0.014950\n",
       "3          0.003736  0.061662  0.136681   0.011133\n",
       "4          0.000003 -0.002047 -0.003823   0.007869\n",
       "..              ...       ...       ...        ...\n",
       "437        0.000049 -0.008507 -0.015638   0.007629\n",
       "438        0.000002 -0.001460 -0.003347   0.011865\n",
       "439        0.000045 -0.008745 -0.015040   0.006677\n",
       "440        0.000531  0.026808  0.051509   0.008339\n",
       "441        0.000031 -0.005440 -0.012411   0.011747\n",
       "\n",
       "[442 rows x 4 columns]"
      ]
     },
     "execution_count": 30,
     "metadata": {},
     "output_type": "execute_result"
    }
   ],
   "source": [
    "# 각 데이터의 영향치 판단값 계산\n",
    "def get_influence(fitted):\n",
    "    cook = fitted.get_influence().cooks_distance[0]\n",
    "    dfb = fitted.get_influence().dfbetas[:, 0]\n",
    "    dff = fitted.get_influence().dffits_internal[0]\n",
    "    lev = fitted.get_influence().hat_matrix_diag\n",
    "    df = pd.DataFrame({\"cooks_distance\":cook, 'dfbetas':dfb, 'dffits':dff, 'leverageH':lev})\n",
    "    return df\n",
    "\n",
    "influ_df = get_influence(fitted)  \n",
    "influ_df"
   ]
  },
  {
   "cell_type": "code",
   "execution_count": 31,
   "metadata": {},
   "outputs": [
    {
     "name": "stdout",
     "output_type": "stream",
     "text": [
      "Cook's distance 기준 영향치:  [  9  78  92 102 117 141 147 152 204 211 256 289 328 336 343 380 417]\n"
     ]
    }
   ],
   "source": [
    "# 영향치로 판단되는 데이터 추출하기\n",
    "def find_idx_cooks(fitted):\n",
    "    cook = fitted.get_influence().cooks_distance[0]\n",
    "    P = fitted.get_influence().k_vars #변수의 개수\n",
    "    score = 4 / (len(y) - P - 1)\n",
    "    if score <= 1:\n",
    "        idx = np.where(cook > score)[0]\n",
    "    else:\n",
    "        idx = np.where(cook > 1)[0]\n",
    "    return idx\n",
    "\n",
    "idx = find_idx_cooks(fitted) # 영향치의 인덱스\n",
    "print(\"Cook's distance 기준 영향치: \", idx)"
   ]
  },
  {
   "cell_type": "code",
   "execution_count": 32,
   "metadata": {},
   "outputs": [
    {
     "name": "stdout",
     "output_type": "stream",
     "text": [
      "DFBETAS 기준 영향치:  [  9  37  78 102 141 152 190 218 359 364]\n"
     ]
    }
   ],
   "source": [
    "def find_idx_dfbetas(fitted):\n",
    "    dfb = fitted.get_influence().dfbetas[:,0]\n",
    "    n = fitted.df_resid + fitted.df_model + 1\n",
    "    score = 2/np.sqrt(n)\n",
    "    if score <= 2:\n",
    "        idx = np.where(dfb > score)[0]\n",
    "    else:\n",
    "        idx = np.where(dfb > 2)[0]\n",
    "    return idx\n",
    "idx2 = find_idx_dfbetas(fitted)\n",
    "print(\"DFBETAS 기준 영향치: \", idx2)"
   ]
  },
  {
   "cell_type": "code",
   "execution_count": 33,
   "metadata": {},
   "outputs": [
    {
     "name": "stdout",
     "output_type": "stream",
     "text": [
      "DFFITS 기준 영향치:  [  9 102 117 141 256]\n"
     ]
    }
   ],
   "source": [
    "def find_idx_dffits(fitted):\n",
    "    dff = fitted.get_influence().dffits_internal[0]\n",
    "    P = fitted.get_influence().k_vars\n",
    "    n = fitted.df_resid + fitted.df_model + 1\n",
    "    score = 2*np.sqrt((P+1)/n)\n",
    "    idx = np.where(dff > score)[0]\n",
    "    return idx\n",
    "idx3 = find_idx_dffits(fitted)\n",
    "print(\"DFFITS 기준 영향치: \", idx3)"
   ]
  },
  {
   "cell_type": "code",
   "execution_count": 34,
   "metadata": {},
   "outputs": [
    {
     "name": "stdout",
     "output_type": "stream",
     "text": [
      "Leverage H 기준 영향치:  [130 145 256 261 340 366 367 408]\n"
     ]
    }
   ],
   "source": [
    "def find_idx_leverageH(fitted):\n",
    "    lh = fitted.get_influence().hat_matrix_diag\n",
    "    P = fitted.get_influence().k_vars\n",
    "    n = fitted.df_resid + fitted.df_model + 1\n",
    "    score = 2*(P+1)/n\n",
    "    idx = np.where(lh > score)[0]\n",
    "    return idx\n",
    "idx4 = find_idx_leverageH(fitted)\n",
    "print(\"Leverage H 기준 영향치: \", idx4)"
   ]
  },
  {
   "cell_type": "markdown",
   "metadata": {},
   "source": [
    "#### 분산팽창요인(VIF, Variance Inflation Factor) 계산\n",
    "- 분산팽창요인은 선형 회귀에 변수들이 추가되는 경우 매개변수 추정의 분산 증가에 대한 측정치로서 다중공선성(Multicolinearity)의 척도이다.\n",
    "- VIF가 10 이상일 때, 설명변수들이 높은 상관성(Collinear)을 가진다고 본다.\n",
    "- 한편, 범주형 변수가 다중 선형 회귀에 포함되어 있을 경우, 더미코딩을 통해 다중공선성 문제를 피할 수 있다. \n",
    "- 회귀모형에 일반적으로 절편이 포함되기 때문에 p-1개의 이진변수의 값을 정의하고 나면, p번째 값을 알 수 있고, 따라서 p번째 값까지 넣게 되면 이러한 중복성이 문제가 될 수 있다.\n",
    "- 따라서 p번째 열을 추가하지 않음으로써 다중공선성 오류를 피할 수 있다."
   ]
  },
  {
   "cell_type": "code",
   "execution_count": 38,
   "metadata": {},
   "outputs": [
    {
     "data": {
      "text/html": [
       "<div>\n",
       "<style scoped>\n",
       "    .dataframe tbody tr th:only-of-type {\n",
       "        vertical-align: middle;\n",
       "    }\n",
       "\n",
       "    .dataframe tbody tr th {\n",
       "        vertical-align: top;\n",
       "    }\n",
       "\n",
       "    .dataframe thead th {\n",
       "        text-align: right;\n",
       "    }\n",
       "</style>\n",
       "<table border=\"1\" class=\"dataframe\">\n",
       "  <thead>\n",
       "    <tr style=\"text-align: right;\">\n",
       "      <th></th>\n",
       "      <th>feature</th>\n",
       "      <th>VIF</th>\n",
       "    </tr>\n",
       "  </thead>\n",
       "  <tbody>\n",
       "    <tr>\n",
       "      <th>4</th>\n",
       "      <td>bp</td>\n",
       "      <td>1.343</td>\n",
       "    </tr>\n",
       "    <tr>\n",
       "      <th>1</th>\n",
       "      <td>bmi</td>\n",
       "      <td>1.19</td>\n",
       "    </tr>\n",
       "    <tr>\n",
       "      <th>2</th>\n",
       "      <td>age</td>\n",
       "      <td>1.143</td>\n",
       "    </tr>\n",
       "    <tr>\n",
       "      <th>3</th>\n",
       "      <td>sex</td>\n",
       "      <td>1.073</td>\n",
       "    </tr>\n",
       "  </tbody>\n",
       "</table>\n",
       "</div>"
      ],
      "text/plain": [
       "  feature    VIF\n",
       "4      bp  1.343\n",
       "1     bmi   1.19\n",
       "2     age  1.143\n",
       "3     sex  1.073"
      ]
     },
     "execution_count": 38,
     "metadata": {},
     "output_type": "execute_result"
    }
   ],
   "source": [
    "import statsmodels.api as sm\n",
    "from statsmodels.stats.outliers_influence import variance_inflation_factor as VIF\n",
    "\n",
    "def check_vif(X, y):\n",
    "    X = sm.add_constant(X)\n",
    "    model = sm.OLS(y, X)\n",
    "    model.fit()\n",
    "    vif_df = pd.DataFrame(columns=['feature', 'VIF'])\n",
    "    for i in range(1, len(model.exog_names)):\n",
    "        vif_df.loc[i, 'feature'] = model.exog_names[i]\n",
    "        vif_df.loc[i, 'VIF'] = round(VIF(model.exog, i), 3)\n",
    "    return vif_df.sort_values('VIF', ascending=False)\n",
    "\n",
    "# 모든 feature들의 VIF가 10 미만이기 때문에 다중공선성이 없다고 볼 수 있다.\n",
    "check_vif(X, y)"
   ]
  },
  {
   "cell_type": "markdown",
   "metadata": {},
   "source": [
    "#### 변수 선택과 가능도\n",
    "- 변수 선택법은 AIC를 최소로 하거나 수정 결정계수를 최대로 하는 변수의 조합을 가지는 최적 회귀 방정식을 찾는 방법이다.\n",
    "- 단계적 방법(Stepwise method), 전진선택법(Forward selection), 후진제거법(Backward elmination)이 있다."
   ]
  },
  {
   "cell_type": "markdown",
   "metadata": {},
   "source": [
    "[변수를 선택하는 기준들]\n",
    "- p는 설명변수의 개수, n은 데이터의 개수, SST는 전체 제곱합, SSE는 잔차 제곱합, MSE는 잔차 제곱합의 평균, $\\log_{L_i}$는 로그 가능도의 최댓값\n",
    "- 수정 결정계수(Adjusted R squared): 모델에 변수를 추가할수록 기존의 결정계수에 불이익을 주며 모형의 적합도를 판단하는 척도이다.\n",
    "    - $Adjusted\\ R^2=1-(1-R^2)(n-1)/(n-p-1)$\n",
    "- AIC(Akaike's Information Criteria): 모델에 변수를 추가할수록 불이익을 주는 오차 측정법이다.\n",
    "    - $AIC = -2\\log{L_i}+2(p+1)$ : 절편이 있는 경우 p+1, 없으면 p\n",
    "- BIC(Bayesian Information Criteria): AIC와 비슷하지만 변수 추가에 대해 더 강한 벌점을 준다.\n",
    "    - $BIC = -2\\log{L_i}+\\log(n)(p+1)$: 절편이 있는 경우 p+1, 없으면 p\n",
    "- Mallows $C_p$: Colin Lingwood Mallows가 제안한 AIC의 변형이다. $C_p$값이 작고, (p+상수의 개수)와 비슷할 수록 편향이 작고 우수한 모델이라고 판단한다. 후보 설명변수들로 적합한 모델의 $SSE_p$와 전체 설명변수로 적합했을 때의 $MSE_full$로 아래와 같이 $C_p$를 구한다.\n",
    "    - $C_p=\\frac{SSE_p}{MSE_{full}}-n+2(p+1)$"
   ]
  },
  {
   "cell_type": "markdown",
   "metadata": {},
   "source": [
    "[가능도]\n",
    "- 가능도(=우도, likelihood)는 확률분포의 모수가 어떤 확률변수의 표집값과 일관되는 정도를 나타내는 값이다.\n",
    "- 주어진 표집값에 대한 모수의 가능도는 이 모수를 따르는 분포가 주어진 관측값에 대하여 부여하는 확률이다.\n",
    "- 즉, 어떤 모델의 가능도가 높을수록 모델의 추정량이 실제 모수 값에 가깝다고 할 수 있다.\n",
    "- 가능도 함수는 확률분포가 아니며, 합한 값이 1이 되지 않을 수도 있다.\n",
    "- 로그 가능도(log likelihood)는 가능도 함수에 로그를 씌운 것인데, 확률분포함수가 곱셈꼴로 나올 때 미분 계산의 편의성을 위해 가능도 함수 대신 사용한다.\n",
    "- 로그함수는 단조증가하기 때문에 가능도 함수에서 최댓값을 갖는 위치와 로그 가능도에서 최댓값을 가지는 위치는 동일하다.\n",
    "- 선형 회귀에서 잔차는 서로 독립이고, 평균은 0, 모분산은 $\\sigma^2$인 정규분포를 따른다는 가정이 있다.\n",
    "- 이에 따라 아래와 같이 잔차($=y_i-(\\beta_0+\\beta_1x_i))$의 가정을 활용하여, 모수인 회귀계수$(B_0,B_1)$와 모분산$(\\sigma^2)$에 대해 가능도를 계산할 수 있다.\n",
    "- 각 관측값$(x_i)$에 대하여 모수가 $B_0, B_1, \\sigma^2$일 때 $y_i$일 확률값을 계산하고, 이 확률값들은 서로 독립이기에 모두 곱하여 가능도 값을 얻는다.\n",
    "- 실제로는 아직 모수값을 모르기 때문에 그 추정값인 $b_0,b_1,s^2$을 사용한다."
   ]
  },
  {
   "cell_type": "code",
   "execution_count": 39,
   "metadata": {},
   "outputs": [
    {
     "name": "stdout",
     "output_type": "stream",
     "text": [
      "full model = const, bp, bmi, age, sex\n",
      "수정 결정계수: 0.395\n",
      "AIC: 4878.4(= 4878.4)\n",
      "BIC: 4898.8(= 4898.8)\n",
      "Cp 5.0 -> 변수 + 상수 개수의 합 5.0\n"
     ]
    }
   ],
   "source": [
    "# 모든 변수를 포함한 full model\n",
    "print(\"full model = const, bp, bmi, age, sex\")\n",
    "fitted, summary = multiR_fitted(X, y)\n",
    "R2 = fitted.rsquared\n",
    "n = fitted.nobs # number of observations\n",
    "p = fitted.df_model # 설명변수의 개수\n",
    "constant = 'const' in fitted.params.keys() # 절편 유무\n",
    "\n",
    "SSE = sum((fitted.resid)**2) # full model의 잔차제곱합\n",
    "MSE_full = SSE / (n-p-1) # fitted.mse_resid (MSE)\n",
    "adj_R2 = 1- (1-R2)*(n-1)/(n-p-1)\n",
    "print(f\"수정 결정계수: {round(adj_R2, 3)}\")\n",
    "\n",
    "# 수기계산 및 라이브러리 계산\n",
    "llf = -n / 2 * np.log(2 * np.pi) - n / 2 * np.log(SSE / n) - n / 2 #로그 가능도 값 (=fitted.llf)\n",
    "aic = -2 * llf + 2 * (p + constant) # fitted.aic와 동일\n",
    "bic = -2 * llf + np.log(n)*(p + constant) # fitted.bic와 동일\n",
    "print(f\"AIC: {round(aic, 1)}(= {round(fitted.aic, 1)})\")\n",
    "print(f\"BIC: {round(bic, 1)}(= {round(fitted.bic, 1)})\")\n",
    "\n",
    "cp = SSE / MSE_full - n + 2 * (p+1)\n",
    "print(f\"Cp {round(cp, 1)} -> 변수 + 상수 개수의 합 {p+constant}\")"
   ]
  },
  {
   "cell_type": "code",
   "execution_count": 40,
   "metadata": {},
   "outputs": [
    {
     "name": "stdout",
     "output_type": "stream",
     "text": [
      "후보 model = const, bp, bmi\n",
      " 수정 결정계수: 0.398\n",
      " AIC: 4877.5(= 4877.5)\n",
      " BIC: 4889.8(= 4889.8)\n",
      " Cp 4.1 -> 변수+상수 개수의 합 3.0\n"
     ]
    }
   ],
   "source": [
    "# 일부 변수만 포함한 후보 model\n",
    "print(\"후보 model = const, bp, bmi\")\n",
    "fitted2, summary2 = multiR_fitted(X.filter(['bp', 'bmi']), y)\n",
    "n = fitted2.nobs #number of observations\n",
    "p = fitted2.df_model #설명변수의 개수\n",
    "constant = 'const' in fitted2.params.keys() #절편 유무\n",
    "SSE2 = sum((fitted2.resid)**2) #후보 model의 잔차제곱합\n",
    "adj_R2 = 1- (1-R2)*(n-1)/(n-p-1)\n",
    "print(\" 수정 결정계수: {:.3f}\".format(adj_R2))\n",
    "\n",
    "#수기계산 및 라이브러리 계산\n",
    "llf = -n/2*np.log(2*np.pi) - n/2*np.log(SSE2 / n) - n/2 #로그 가능도 값\n",
    "aic = -2*llf + 2*(p + constant)\n",
    "bic = -2*llf + np.log(n)*(p + constant)\n",
    "print(\" AIC: {:.1f}(= {:.1f})\".format(aic, fitted2.aic))\n",
    "print(\" BIC: {:.1f}(= {:.1f})\".format(bic, fitted2.bic))\n",
    "\n",
    "cp = SSE2/MSE_full - n + 2*(p+1) # 비교모델의 MSE가 아닌 위에서 구한 full모델의 MSE\n",
    "print(\" Cp {:.1f} -> 변수+상수 개수의 합 {}\".format(cp, p+constant))"
   ]
  },
  {
   "cell_type": "code",
   "execution_count": 41,
   "metadata": {},
   "outputs": [],
   "source": [
    "## 단계적 선택법\n",
    "import statsmodels.api as sm\n",
    "from itertools import combinations\n",
    "\n",
    "def stepwise_method(X, y, criterion='AIC'): #'BIC', 'CP', 'adj_R2'\n",
    "    result = pd.DataFrame()\n",
    "    feature_combis = [] #변수 조합의 모든 경우의 수\n",
    "    for i in range(1, len(X.columns)+1):\n",
    "        feature_combis += list(combinations(X.columns, i))\n",
    "    feature_combis.reverse() #p개수 내림차순\n",
    "    \n",
    "    for j, feature_combi in enumerate(feature_combis):\n",
    "        X_ = X.filter(feature_combi)\n",
    "        X_ = sm.add_constant(X_) #절편 추가\n",
    "        model = sm.OLS(y, X_)\n",
    "        fitted = model.fit() #모델 적합\n",
    "        n = fitted.nobs #number of observations\n",
    "        p = fitted.df_model #설명변수의 개수\n",
    "        if j==0:\n",
    "            MSE_full = fitted.mse_resid # full모델의 MSE\n",
    "        \n",
    "        #각 기준값 계산\n",
    "        aic = fitted.aic\n",
    "        bic = fitted.bic\n",
    "        cp = sum((fitted.resid)**2)/MSE_full - (n-2*(p+1))\n",
    "        adj_R2 = fitted.rsquared_adj\n",
    "        \n",
    "        #각 기준값 입력\n",
    "        result.loc[j, 'feature_combi'] = \", \".join(list(fitted.params.keys()))\n",
    "        result.loc[j, 'AIC'] = aic\n",
    "        result.loc[j, 'BIC'] = bic\n",
    "        result.loc[j, 'CP'] = cp\n",
    "        result.loc[j, 'adj_R2'] = adj_R2\n",
    "        \n",
    "        if criterion in ['AIC', 'BIC']: #낮을수록 Best\n",
    "            result = result.sort_values(by=criterion, ascending = True)\n",
    "            best = result.iloc[0, 0]\n",
    "        elif criterion in ['adj_R2']: #높을수록 Best\n",
    "            result = result.sort_values(by=criterion, ascending = False)\n",
    "            best = result.iloc[0, 0]\n",
    "        elif criterion in ['CP']: #CP값이 작고, 변수의 개수와 유사할수록 Best\n",
    "            best_idx = np.abs(result['CP']-result['feature_combi'].apply(lambda x: x.count(',')+1)).sort_values(ascending=True).index\n",
    "            result = result.loc[best_idx, :]\n",
    "            best = result.iloc[0, 0]\n",
    "        else:\n",
    "            print(\"criterion options only cover AIC, BIC, CP, adj_R2.\")\n",
    "    return best, result"
   ]
  },
  {
   "cell_type": "code",
   "execution_count": 42,
   "metadata": {},
   "outputs": [
    {
     "name": "stdout",
     "output_type": "stream",
     "text": [
      "최적의 변수 조합:  const, bmi, sex, bp\n",
      "전체 결과값: \n",
      "               feature_combi          AIC          BIC          CP    adj_R2\n",
      "2        const, bmi, sex, bp  4876.695411  4893.060650    3.337361  0.395687\n",
      "8             const, bmi, bp  4877.487868  4889.761797    4.109107  0.393242\n",
      "0   const, bmi, age, sex, bp  4878.354321  4898.810871    5.000000  0.394771\n",
      "3        const, bmi, age, bp  4879.321065  4895.686305    5.943049  0.392087\n",
      "10           const, bmi, age  4909.624337  4921.898267   37.300082  0.347484\n",
      "4       const, bmi, age, sex  4911.296550  4927.661789   38.949213  0.346479\n",
      "14                const, bmi  4912.038221  4920.220840   40.050212  0.342433\n",
      "9            const, bmi, sex  4913.987529  4926.261459   41.995389  0.341010\n",
      "5             const, sex, bp  5002.161858  5014.435788  147.526881  0.195519\n",
      "11                 const, bp  5002.506590  5010.689210  148.630613  0.193078\n",
      "1        const, age, sex, bp  5002.827282  5019.192522  147.767635  0.196113\n",
      "6             const, age, bp  5003.525445  5015.799374  149.329863  0.193033\n",
      "13                const, age  5082.445976  5090.628596  264.927447  0.033110\n",
      "7            const, age, sex  5084.394690  5096.668620  266.845890  0.031020\n",
      "12                const, sex  5097.511242  5105.693862  289.299234 -0.000414\n",
      "\n",
      "기준 AIC에 의한 최적의 변수 조합 const, bmi, sex, bp\n",
      "기준 BIC에 의한 최적의 변수 조합 const, bmi, bp\n",
      "기준 CP에 의한 최적의 변수 조합 const, bmi, age, sex, bp\n",
      "기준 adj_R2에 의한 최적의 변수 조합 const, bmi, sex, bp\n"
     ]
    }
   ],
   "source": [
    "# AIC 기준으로 단계적 선택법을 통한 최적의 변수 선택 결과는 다음과 같다.\n",
    "best, result = stepwise_method(X, y, criterion='AIC')\n",
    "print(\"최적의 변수 조합: \", best)\n",
    "print(f\"전체 결과값: \\n{result}\\n\")\n",
    "\n",
    "for c in ['AIC', 'BIC', 'CP', 'adj_R2']:\n",
    "    best, result = stepwise_method(X, y, c)\n",
    "    print(f\"기준 {c}에 의한 최적의 변수 조합 {best}\")"
   ]
  },
  {
   "cell_type": "markdown",
   "metadata": {},
   "source": [
    "#### 잔차 분석\n",
    "- 잔차 분석 결과 회귀 분석의 가정을 만족하지 못하는 경우, 데이터 전처리(이상치, 영향치 처리, 다중공선성 제거, 종속변수 스케일링 등)를 진행한 후 새로운 모델을 적합하여 다시 잔차를 확인해야 한다."
   ]
  },
  {
   "cell_type": "code",
   "execution_count": 43,
   "metadata": {},
   "outputs": [
    {
     "name": "stdout",
     "output_type": "stream",
     "text": [
      "예측값: \n",
      " [205.82972979 105.33175612 182.53703825 129.17333187 137.56411038]\n",
      "실제값: \n",
      " [151.  75. 141. 206. 135.]\n",
      "잔차: \n",
      " [-54.82972979 -30.33175612 -41.53703825  76.82666813  -2.56411038]\n",
      "표준화 잔차: \n",
      " 0   -0.919416\n",
      "1   -0.508620\n",
      "2   -0.696516\n",
      "3    1.288273\n",
      "4   -0.042996\n",
      "dtype: float64\n"
     ]
    }
   ],
   "source": [
    "from scipy.stats import zscore, probplot\n",
    "\n",
    "X_ = sm.add_constant(X)\n",
    "model = sm.OLS(y, X_)\n",
    "fitted = model.fit()\n",
    "resid = fitted.resid # 잔차\n",
    "pred = fitted.fittedvalues #예측값\n",
    "sresid = zscore(resid) #표준화 잔차\n",
    "\n",
    "print(\"예측값: \\n\", pred[:5].values)\n",
    "print(\"실제값: \\n\", y[:5].values.ravel())\n",
    "print(\"잔차: \\n\", resid[:5].values)\n",
    "print(\"표준화 잔차: \\n\", sresid[:5])"
   ]
  },
  {
   "cell_type": "code",
   "execution_count": 46,
   "metadata": {},
   "outputs": [
    {
     "name": "stdout",
     "output_type": "stream",
     "text": [
      "1. 정규성 가정 확인: \n",
      " Jarque-bera: stats 6.464, p-value 0.039\n",
      " 왜도 0.146, 첨도 2.485\n"
     ]
    },
    {
     "data": {
      "image/png": "[encoded data removed]",
      "text/plain": [
       "<Figure size 720x360 with 2 Axes>"
      ]
     },
     "metadata": {
      "needs_background": "light"
     },
     "output_type": "display_data"
    }
   ],
   "source": [
    "from statsmodels.stats.stattools import jarque_bera\n",
    "print(\"1. 정규성 가정 확인: \") #히스토그램, QQ plot, Jarque-Bera\n",
    "stats, p, skew, kurt = jarque_bera(resid)\n",
    "print(\" Jarque-bera: stats {:.3f}, p-value {:.3f}\".format(stats, p))\n",
    "print(\" 왜도 {:.3f}, 첨도 {:.3f}\".format(skew, kurt))\n",
    "# Jarque bera 검정 결과, 유의수준 0.05 기준으로 정규분포와 차이가 있다(H1).\n",
    "# 정규분포는 왜도는 0, 첨도는 3을 따르는데 해당 기준으로는 다소 차이가 있다.\n",
    "\n",
    "fig, ax = plt.subplots(1,2, figsize=(10,5))\n",
    "ax[0].hist(resid)\n",
    "probplot(resid, plot=ax[1])\n",
    "\n",
    "# 히스토그램과 QQ plot 상으로는 정규분포와 근접해 보인다.\n",
    "plt.show()"
   ]
  },
  {
   "cell_type": "code",
   "execution_count": 47,
   "metadata": {},
   "outputs": [
    {
     "name": "stdout",
     "output_type": "stream",
     "text": [
      "2. 등분산성 가정 확인: \n"
     ]
    },
    {
     "data": {
      "image/png": "[encoded data removed]",
      "text/plain": [
       "<Figure size 864x216 with 4 Axes>"
      ]
     },
     "metadata": {
      "needs_background": "light"
     },
     "output_type": "display_data"
    }
   ],
   "source": [
    "print(\"2. 등분산성 가정 확인: \")\n",
    "fig, ax = plt.subplots(1,4, figsize=(12,3))\n",
    "for feature, ax in zip(X.columns, ax.ravel()):\n",
    "    sns.regplot(x=X[feature], y=sresid, line_kws={'color':'C1'}, ax=ax)\n",
    "\n",
    "# 각 독립변수와 잔차의 분산이 일정하면 가운데 회귀선이 수평하게 표시된다.\n",
    "# 표준화 잔차의 값이 +/-2를 벗어나면 이상값 또는 특이값을 예상할 수 있다.\n",
    "# 모든 독립변수에서 잔차의 분산이 일정한 것으로 보인다.     \n",
    "plt.show()"
   ]
  },
  {
   "cell_type": "code",
   "execution_count": 48,
   "metadata": {},
   "outputs": [
    {
     "name": "stdout",
     "output_type": "stream",
     "text": [
      "3. 독립성 가정 확인: \n",
      " Durbin-watson 통계량 1.933\n"
     ]
    }
   ],
   "source": [
    "print(\"3. 독립성 가정 확인: \")\n",
    "from statsmodels.stats.stattools import durbin_watson\n",
    "dw = durbin_watson(resid)\n",
    "\n",
    "# dw값이 2에 가까우면 잔차 간 독립이고, 0에 가까우면 양의 상관, 4에 가까우면 음의 상관이 있다고 본다.\n",
    "# 따라서 잔차 간 독립인 것으로 보인다.\n",
    "print(\" Durbin-watson 통계량 {:.3f}\".format(dw))"
   ]
  },
  {
   "cell_type": "markdown",
   "metadata": {},
   "source": [
    "### 8-1-3. 규제 선형 회귀(Regularized linear regression)\n",
    "- 규제 선형 회귀 방법은 잔차의 최소제곱합을 최소화하도록 회귀계수를 최적화하는 동시에, 패널티 함수를 수식에 추가하는 규제(=정규화, Regularization)를 적용함으로써 회귀계수의 값들이 과다 추정되는 것을 막고, 모델의 과적합(Overfitting)을 방지하는 회귀 모델이다.\n",
    "- 패널티 함수의 형태에 따라 릿지 회귀(Ridge regression), 라쏘 회귀(Lasso regression), 엘라스틱넷(Elastic net)이 잇다.\n",
    "- 잔차의 최소제곱합에서 릿지 회귀는 회귀계수의 제곱합 항을 추가하는 방식이고, 라쏘 회귀는 회귀계수의 절댓값 항을 추가하는 방식이며, 엘라스틱 넷은 이 둘을 결합한 방식이다.\n",
    "- scikit-learn에서 제공하는 함수를 사용할 경우, 규제의 정도는 파라미터 alpha로 조정할 수 있다.\n",
    "- alpha값이 클수록 규제가 커져 모델의 복잡성이 낮아지고, alpha값이 작을수록 규제가 작아져 모델이 복잡해지며 과적합 가능성이 높아진다."
   ]
  },
  {
   "cell_type": "markdown",
   "metadata": {},
   "source": [
    "[Norm, 노름, 놈]\n",
    "- norm의 사전적 정의는 규범이다. 수학에서 말하는 norm은 실수 또는 복소베터 공간에서 음이 아닌 실수로 사상되는 함수로서, 그 값은 원점으로부터의 거리로 이해될 수 있다. 거리를 구하는 방법에 따라 다양한 norm이 있는데 absolute-value norm, euclidean norm, manhattan norm, maximum norm, zero norm 등이 있다.\n",
    "- 릿지 회귀에서 페널티 항으로 사용하는 norm은 $L_2$ norm이라고도 불리는 euclidean norm이고, $||x||_2 := \\sqrt{x_1^2+...+x_n^2}$로 표기한다.\n",
    "- 라쏘 회귀에서 페널티 항으로 사용하는 norm은 $L_1$ norm이라고도 불리는 manhattan norm이고, $||x||_1 := \\sum_{i=1}^{n}|x_i|$로 표기한다."
   ]
  },
  {
   "cell_type": "markdown",
   "metadata": {},
   "source": [
    "#### 릿지 회귀\n",
    "- $\\sum_{i=1}^n (y_i-\\hat{y_i})^2 + \\alpha\\sum_{j=1}^{p}\\beta_j^2$를 최소화 하는 회귀계수들$(B_i)$의 값을 찾는 방법이다.\n",
    "- 선형 회귀 모델에서 회귀계수에 $L_2$ 규제를 주는 방법으로서 회귀계수의 절댓값을 가능한 한 작게 0에 가깝게 한다.\n",
    "- 작은 데이터셋에서는 선형 회귀보다 릿지 회귀의 점수가 더 좋지만, 데이터가 충분히 많아지면 규제항은 덜 중요해져서 릿지 회귀와 선형 회귀의 성능이 비슷해진다."
   ]
  },
  {
   "cell_type": "code",
   "execution_count": 49,
   "metadata": {},
   "outputs": [],
   "source": [
    "# 앞서 불러온 데이터셋 사용\n",
    "X = diabetes.filter(['bmi', 'age', 'sex', 'bp'])\n",
    "y = diabetes.filter(['target'])\n",
    "\n",
    "# 일반화 성능 확인을 위해 데이터를 train set과 test set으로 나눈다.\n",
    "from sklearn.model_selection import train_test_split\n",
    "X_train, X_test, y_train, y_test = train_test_split(X, y)"
   ]
  },
  {
   "cell_type": "code",
   "execution_count": 50,
   "metadata": {},
   "outputs": [
    {
     "name": "stdout",
     "output_type": "stream",
     "text": [
      "[alpha = 0.9]\n",
      " train set score: 0.325, test set score: 0.287\n",
      " 회귀계수 0: 390.82\n",
      " 회귀계수 1: 91.09\n",
      " 회귀계수 2: -0.97\n",
      " 회귀계수 3: 260.02\n",
      " 절편: 152.91\n"
     ]
    }
   ],
   "source": [
    "from sklearn.linear_model import Ridge\n",
    "# alpha값이 커질수록 규제가 커져 모델의 복잡성이 낮아진다. (일반화 된다.)\n",
    "a = 0.9\n",
    "ridge = Ridge(alpha=a).fit(X_train, y_train)\n",
    "print(f\"[alpha = {a}]\")\n",
    "\n",
    "train_s = ridge.score(X_train, y_train)\n",
    "test_s = ridge.score(X_test, y_test)\n",
    "print(\" train set score: {:.3f}, test set score: {:.3f}\".format(train_s, test_s))\n",
    "\n",
    "for i, coef in enumerate(ridge.coef_.ravel()):\n",
    "    print(\" 회귀계수 {}: {:.2f}\".format(i, coef))\n",
    "print(\" 절편: {:.2f}\".format(ridge.intercept_[0]))"
   ]
  },
  {
   "cell_type": "code",
   "execution_count": 51,
   "metadata": {},
   "outputs": [
    {
     "name": "stdout",
     "output_type": "stream",
     "text": [
      "[alpha = 0.1]\n",
      " train set score: 0.413, test set score: 0.339\n",
      " 회귀계수 0: 713.68\n",
      " 회귀계수 1: 98.01\n",
      " 회귀계수 2: -75.46\n",
      " 회귀계수 3: 411.30\n",
      " 절편: 152.39\n"
     ]
    }
   ],
   "source": [
    "a = 0.1\n",
    "print(f\"[alpha = {a}]\")\n",
    "ridge = Ridge(alpha=a).fit(X_train, y_train)\n",
    "train_s = ridge.score(X_train, y_train)\n",
    "test_s = ridge.score(X_test, y_test)\n",
    "print(\" train set score: {:.3f}, test set score: {:.3f}\".format(train_s, test_s))\n",
    "for i, coef in enumerate(ridge.coef_.ravel()):\n",
    "    print(\" 회귀계수 {}: {:.2f}\".format(i, coef))\n",
    "print(\" 절편: {:.2f}\".format(ridge.intercept_[0]))"
   ]
  },
  {
   "cell_type": "markdown",
   "metadata": {},
   "source": [
    "#### 라쏘 회귀\n",
    "- $\\sum_{i=1}^n (y_i-\\hat{y_i})^2 + \\alpha\\sum_{j=1}^{p}|\\beta_j|$를 최소화하는 회귀계수들 $(\\beta_j)$의 값을 찾는 방법이다.\n",
    "- 선형 회귀 모델에서 회귀계수에 $L_1$ 규제를 주는 방법이다.\n",
    "- $L_1$ 규제로 계수를 0에 가깝게 만들려고 하며, 실제로 어떤 계수는 0이 된다.\n",
    "- 모델에서 어떤 특성은 제거된다는 뜻이다.\n",
    "- 이와 같이 특성 선택이 자동으로 되기 때문에 모델에서 중요한 특성만 남길 수 있다.\n",
    "- 한 특성씩 좌표축을 따라 최적화하는 좌표 하강법(Coordinate descent)을 사용하며 학습과정이 반복적으로 진행되면서 최적의 값을 찾게 된다.\n",
    "- 일반적으로 릿지 회귀를 선호하지만, 특성이 아주 많고 그 중 일부분만 중요하다면 라쏘를 선택한다. 또한 분석하기 쉬운 모델을 원한다면 라쏘가 입력 특성 중 일부만 사용하기 때문에 해석이 쉽다."
   ]
  },
  {
   "cell_type": "code",
   "execution_count": 52,
   "metadata": {},
   "outputs": [
    {
     "name": "stdout",
     "output_type": "stream",
     "text": [
      "[alpha = 0.9]\n",
      " train set score: 0.327, test set score: 0.312\n",
      " 회귀계수 0: 516.03\n",
      " 회귀계수 1: 0.00\n",
      " 회귀계수 2: 0.00\n",
      " 회귀계수 3: 158.14\n",
      " 절편: 152.54\n"
     ]
    }
   ],
   "source": [
    "from sklearn.linear_model import Lasso\n",
    "# alpha값이 커질수록 규제가 커져 모델의 복잡성이 낮아진다. (일반화 된다.)\n",
    "a = 0.9\n",
    "lasso = Lasso(alpha=a).fit(X_train, y_train)\n",
    "print(f\"[alpha = {a}]\")\n",
    "train_s = lasso.score(X_train, y_train)\n",
    "test_s = lasso.score(X_test, y_test)\n",
    "print(\" train set score: {:.3f}, test set score: {:.3f}\".format(train_s, test_s))\n",
    "for i, coef in enumerate(lasso.coef_.ravel()):\n",
    "    print(\" 회귀계수 {}: {:.2f}\".format(i, coef))\n",
    "print(\" 절편: {:.2f}\".format(lasso.intercept_[0]))"
   ]
  },
  {
   "cell_type": "code",
   "execution_count": 53,
   "metadata": {},
   "outputs": [
    {
     "name": "stdout",
     "output_type": "stream",
     "text": [
      "[alpha = 0.1]\n",
      " train set score: 0.414, test set score: 0.342\n",
      " 회귀계수 0: 769.45\n",
      " 회귀계수 1: 53.57\n",
      " 회귀계수 2: -36.92\n",
      " 회귀계수 3: 405.17\n",
      " 절편: 152.32\n"
     ]
    }
   ],
   "source": [
    "a = 0.1\n",
    "print(f\"[alpha = {a}]\")\n",
    "lasso = Lasso(alpha=a).fit(X_train, y_train)\n",
    "train_s = lasso.score(X_train, y_train)\n",
    "test_s = lasso.score(X_test, y_test)\n",
    "print(\" train set score: {:.3f}, test set score: {:.3f}\".format(train_s, test_s))\n",
    "for i, coef in enumerate(lasso.coef_.ravel()):\n",
    "    print(\" 회귀계수 {}: {:.2f}\".format(i, coef))\n",
    "print(\" 절편: {:.2f}\".format(lasso.intercept_[0]))"
   ]
  },
  {
   "cell_type": "markdown",
   "metadata": {},
   "source": [
    "#### 엘라스틱 넷\n",
    "- 선형 회귀 모델에서 $L_1$ 규제와 $L_2$ 규제를 결합하여 규제를 주는 방법이다.\n",
    "- scikit-learn의 ElasticNet에서 규제 정도는 alpha로 지정하고, $L_1$ 규제와 $L_2$ 규제의 조합 비율은 l1_ratio로 정한다.\n",
    "- 자세한 공식은 scikit-learn의 공식 문서에서 확인할 수 있다."
   ]
  },
  {
   "cell_type": "code",
   "execution_count": 54,
   "metadata": {},
   "outputs": [
    {
     "name": "stdout",
     "output_type": "stream",
     "text": [
      "[alpha = 0.1, l1_ratio = 0.1]\n",
      " train set score: 0.029, test set score: 0.024\n",
      " 회귀계수 0: 23.63\n",
      " 회귀계수 1: 8.38\n",
      " 회귀계수 2: 3.01\n",
      " 회귀계수 3: 18.08\n",
      " 절편: 153.21\n"
     ]
    }
   ],
   "source": [
    "from sklearn.linear_model import ElasticNet\n",
    "# alpha는 패널티 조건을 곱하는 상수로서 0이면 LinearRegression과 동일\n",
    "# l1_ratio는 0~1 사이 값을 가지며, L1과 L2 규제의 조합을 의미함. 값이 0이면, L2 규제를 적용하고, 값이 1이면 L1 규제를 적용\n",
    "a = 0.1\n",
    "l1_ratio = 0.1\n",
    "en = ElasticNet(alpha=a, l1_ratio=l1_ratio).fit(X_train, y_train)\n",
    "print(f\"[alpha = {a}, l1_ratio = {l1_ratio}]\")\n",
    "train_s = en.score(X_train, y_train)\n",
    "test_s = en.score(X_test, y_test)\n",
    "print(\" train set score: {:.3f}, test set score: {:.3f}\".format(train_s, test_s))\n",
    "for i, coef in enumerate(en.coef_.ravel()):\n",
    "    print(\" 회귀계수 {}: {:.2f}\".format(i, coef))\n",
    "print(\" 절편: {:.2f}\".format(en.intercept_[0]))"
   ]
  },
  {
   "cell_type": "code",
   "execution_count": 55,
   "metadata": {},
   "outputs": [
    {
     "name": "stdout",
     "output_type": "stream",
     "text": [
      "[alpha = 0.1, l1_ratio = 0.9]\n",
      " train set score: 0.171, test set score: 0.156\n",
      " 회귀계수 0: 162.94\n",
      " 회귀계수 1: 45.63\n",
      " 회귀계수 2: 6.48\n",
      " 회귀계수 3: 117.05\n",
      " 절편: 153.12\n",
      "\n"
     ]
    }
   ],
   "source": [
    "a = 0.1\n",
    "l1_ratio = 0.9\n",
    "print(f\"[alpha = {a}, l1_ratio = {l1_ratio}]\")\n",
    "en = ElasticNet(alpha=a, l1_ratio=l1_ratio).fit(X_train, y_train)\n",
    "train_s = en.score(X_train, y_train)\n",
    "test_s = en.score(X_test, y_test)\n",
    "print(\" train set score: {:.3f}, test set score: {:.3f}\".format(train_s, test_s))\n",
    "for i, coef in enumerate(en.coef_.ravel()):\n",
    "    print(\" 회귀계수 {}: {:.2f}\".format(i, coef))\n",
    "print(\" 절편: {:.2f}\\n\".format(en.intercept_[0]))"
   ]
  },
  {
   "cell_type": "markdown",
   "metadata": {},
   "source": [
    "#### 일반화 선형 회귀(GLM, Generalized Linear Model)\n",
    "- 일반화 선형 회귀 모델은 정규분포를 따르지 않는 종속변수에 적절한 함수를 적용하여 예측변수에 따라 선형적으로 변화하도록 하는 회귀 모델 기법이다.\n",
    "- 이 때 종속변수에 적용하는 함수를 연결 함수(Link function)라고 부르는데 종속변수의 확률분포가 무엇인지에 따라 일반적으로 사용하는 연결함수가 정해져 있다."
   ]
  },
  {
   "cell_type": "markdown",
   "metadata": {},
   "source": [
    "[종속변수의 확률분포에 따른 표준연결함수와 평균함수]\n",
    "- $\\mu$는 반응변수의 기댓값, $X\\beta$는 예측변수들의 선형결합\n",
    "    - exponential, gamma distribution: negative inverse\n",
    "        - $X\\beta = -\\mu^{-1}, \\mu=-(X\\beta)^{-1}$\n",
    "    - poisson distribution: log\n",
    "        - $X\\beta = \\log(\\mu), \\mu=exp(X\\beta)$\n",
    "    - bernoulli, multinomial distribution: logit\n",
    "        - $X\\beta = \\log(\\frac{\\mu}{1-\\mu}), \\mu=\\frac{1}{1+exp(-X\\beta)}$"
   ]
  },
  {
   "cell_type": "markdown",
   "metadata": {},
   "source": [
    "[많이 사용하는 GLM]\n",
    "- 로지스틱 회귀(Logistic regression): 종속변수가 0 아니면 1인 경우이다. 종속변수의 확률분포가 bernoulli이기 때문에 연결함수로 logit function을 적용한다.\n",
    "- 포아송 회귀(Poisson regression): 종속변수가 개수, 빈도를 나타내는 경우이다. 종속변수의 확률분포가 poisson이기 때문에 연결함수로 log function을 적용한다."
   ]
  },
  {
   "cell_type": "markdown",
   "metadata": {},
   "source": [
    "#### 로지스틱 회귀\n",
    "[선형 회귀와 로지스틱 회귀 비교]\n",
    "- 두 가지 모두 예측변수와 응답변수를 선형관계로 가정한다.\n",
    "- 다만, 로지스틱 회귀의 경우 종속변수에 연결함수인 logit function을 적용해야 한다.\n",
    "- 또한, 선형모형에서 예측변수에 스플라인 변환을 사용하듯이 로지스틱 회귀에서도 동일하게 사용할 수 있다.\n",
    "- 회귀계수를 해석함으로써 예측변수 간의 중요도를 구분할 수 있고, 예측변수가 응답변수에 미치는 영향도 확인할 수 있다."
   ]
  },
  {
   "cell_type": "markdown",
   "metadata": {},
   "source": [
    "- 반면, 모델을 적합하는 원리가 다르다. 선형 회귀에서는 최소제곱법으로 최적의 회귀계수를 찾는데, 로지스틱 회귀 분석에서는 최대우도추정(MLE, Maximum Likelihood Estimation)을 사용해 모델을 적합한다. 최대우도추정은 예상 로그 오즈비가 관찰된 결과를 가장 잘 설명하는 모델을 찾는다.\n",
    "- 알고리즘은 현재 파라미터에 기반하여 점수를 얻는 단계(Fisher's scoring)와 적합성을 향상시키는 방향으로 파라미터를 업데이트 하는 단계를 계속적으로 반복하는 Quasi Newton optimization으로 동작한다.\n",
    "- 또한 로지스틱 회귀는 모델에서 잔차의 특징과 분석이 불가능하다."
   ]
  },
  {
   "cell_type": "markdown",
   "metadata": {},
   "source": [
    "[로지스틱 회귀의 장단점]\n",
    "- 로지스틱 회귀의 장점은 모델 구현이 쉽고 계산이 빨라 효율적이라는 것이다.\n",
    "- 또한, 다른 분류 방법들에 비해 모델을 해석하기가 쉽다.\n",
    "- 반면, 이상치에 민감하고, 표본의 크기가 너무 작으면 추정치가 불안정할 수 있다는 단점이 있다."
   ]
  },
  {
   "cell_type": "markdown",
   "metadata": {},
   "source": [
    "[로지스틱 회귀계수의 해석과 유효성]\n",
    "- 로지스틱 회귀 모델에서 다른 특성들의 값은 동일한 상태에서 특정한 특성 x가 한 단위 증가하면, 증가 후 y(1이 될 확률)의 오즈가 증가 전 y의 오즈의 'exp(특정 x의 회귀계수)배' 된다.\n",
    "- 따라서 이 'exp(회귀계수)' 값을 오즈비라고 한다.\n",
    "- 'exp(회귀계수)'가 1 이상이면, 해당 feature 값(x)이 증가할 때 y의 odds와 확률값이 높아지는 양의 인과관계가 있음을 알 수 있다.\n",
    "- 자세한 내용은 다음의 예제를 통해 설명하기로 한다."
   ]
  },
  {
   "cell_type": "markdown",
   "metadata": {},
   "source": [
    "- 한편, 회귀계수가 0인지 아닌지를 결정함으로써 회귀계수의 유효성을 확인해야 하는데 이 때 Z분포를 사용하여 검정한다.\n",
    "- 최대우도추정법을 이용한 추정량은 표본 크기가 증가하면 근사적으로 정규분포를 따르는 특성이 있기 때문이다.\n",
    "- 그래서 (회귀계수 추정량/회귀계수 추정량의 표준편차)를 통계량으로 Z분포에서의 임계치와 비교해 회귀계수를 검정할 수 있다.\n",
    "- 혹은 해당 통계량을 제곱한 왈드(Wald) 검정 통계량은 자유도가 1인 카이제곱분포를 따르는데, 이를 사용하여 회귀계수의 유효성을 검정할 수도 있다.\n",
    "- 두 검정 방법 모두 p-value가 유의수준 보다 작고, 귀무가설을 기각하면 회귀계수가 0이 아니며 유효하다고 할 수 있다."
   ]
  },
  {
   "cell_type": "markdown",
   "metadata": {},
   "source": [
    "[로지스틱 회귀 모델의 유효성]\n",
    "- 일반적인 선형 회귀 모델의 유효성을 확인하기 위해 F검정을 하는 것처럼, 로지스틱 회귀모델은 우도비 검정을 통해 로그우도비(LLR, Log-likelihood ratio)라는 통계량으로 모델의 유효성을 확인한다.\n",
    "- 로그우도비란, 상수항만 있는 모형($M_0$, null model, 축소모형)의 최대로그가능도에서 해당 모형($M_1$, full model, 포화모형)의 최대로그가능도를 뺀 값에 -2를 곱한 값이다.\n",
    "- 로그우도비 = $-2Log(M_0의\\ 가능도/M_1의\\ 가능도)\\ =\\ -2(M_0의\\ 로그\\ 가능도\\ -\\ M_1의\\ 로그\\ 가능도)$\n",
    "- 이 통계량은 자유도가 $(M_1의\\ 자유도 - M_0의\\ 자유도)$인 카이제곱분포를 따른다.\n",
    "- 귀무가설은 'null model의 최대로그가능도와 full model의 최대로그가능도는 차이가 없다'이고,\n",
    "- 대립가설은 'full model의 최대로그가능도가 null model의 최대로그가능도보다 크다'로 볼 수 있다.\n",
    "- 따라서 로그우도비가 임곗값보다 크거나, 로그우도비에 대한 p-value가 유의수준보다 작을 때 그 모델이 통계적으로 유의하다고 본다.\n",
    "- 로지스틱 회귀의 경우, 잔차 분석은 진행하지 않아도 된다."
   ]
  },
  {
   "cell_type": "markdown",
   "metadata": {},
   "source": [
    "- Statsmodels 라이브러리를 통해 로지스틱 회귀 적합하면 아래와 같이 모델의 적합도에 대한 결과값(Logit Regression Results)을 얻을 수 있다.\n",
    "- 각 결과값이 의미하는 바는 다음과 같다.\n",
    "    - Log-Likelihood(=llf): 적합한 모델의 최대로그우도\n",
    "    - LL-Null: 상수항만 있을 때의 최대로그우도, 축소모형의 최대로그가능도\n",
    "    - LLR p-value: LLR보다 큰 로그우도비 통계량을 얻을 수 있는 카이제곱의 확률로서 이 값이 유의수준보다 작아야 모델이 통계적으로 유의하다.\n",
    "    - Pseudo R-squ.: McFadden's pseudo-R-squared. (1-llf/llnull)로 구한다. 1에 가까울수록 잘 적합된 모델이라고 볼 수 있다.\n",
    "    - LLR: 로그우도비 통계량, -2 * (llnull - llf)로 구한다. 해당 통계량은 자유도가 (포화모형의 자유도 - 축소모형의 자유도)인 카이제곱분포를 따른다. 해당 값은 Statsmodels의 결과값으로 출력되지 않으므로, 결과값에 출력되는 Log-Likelihood와 LL-Null을 사용해서 직접 계산해야 한다."
   ]
  },
  {
   "cell_type": "code",
   "execution_count": 56,
   "metadata": {},
   "outputs": [
    {
     "name": "stdout",
     "output_type": "stream",
     "text": [
      "target class:  Counter({1: 357, 0: 212})\n"
     ]
    }
   ],
   "source": [
    "from sklearn.linear_model import LogisticRegression\n",
    "from sklearn.datasets import load_breast_cancer\n",
    "from sklearn.model_selection import train_test_split\n",
    "from collections import Counter\n",
    "from pandas import DataFrame\n",
    "import numpy as np\n",
    "\n",
    "# 데이터 불러오기\n",
    "cancer = load_breast_cancer()\n",
    "X = cancer.data[:, :4] # 유방암에 영향을 미치는 4개의 feature\n",
    "X_names = cancer.feature_names[:4]\n",
    "y = cancer.target # 유방암 여부\n",
    "X_train, X_test, y_train, y_test = train_test_split(X, y, stratify=y, random_state=0)\n",
    "print(\"target class: \", Counter(y))"
   ]
  },
  {
   "cell_type": "code",
   "execution_count": 57,
   "metadata": {},
   "outputs": [
    {
     "name": "stdout",
     "output_type": "stream",
     "text": [
      "train score 0.913, test score 0.874\n",
      "\n",
      "로지스틱 회귀식: \n",
      " y = 0.016*'mean radius' + -0.192*'mean texture' + -0.272*'mean perimeter' + 0.008*'mean area' + 24.001\n"
     ]
    }
   ],
   "source": [
    "# 로지스틱 회귀 적합\n",
    "# 파라미터 C값이 높을수록 규제가 약해지고, 모델 복잡성이 높아진다. \n",
    "LR = LogisticRegression(C=0.01, max_iter=1000)\n",
    "LR.fit(X_train, y_train)\n",
    "train_score = LR.score(X_train, y_train)\n",
    "test_score = LR.score(X_test, y_test)\n",
    "\n",
    "# 회귀식을 반환하는 함수 정의\n",
    "def regression_formula(feature_names, coef, intercept):\n",
    "    msg = \"y = \"\n",
    "    for i, feature in enumerate(feature_names):\n",
    "        coef = coef.ravel()\n",
    "        msg += \"+ {:.3f}*'{}' \".format(coef[i], feature)\n",
    "    if intercept.shape == (1,):\n",
    "        intercept = intercept[0]\n",
    "    else:\n",
    "        intercept = intercept\n",
    "    msg += \"+ {:.3f}\".format(intercept)\n",
    "    msg = msg[:4] + msg[6:]\n",
    "    return msg\n",
    "\n",
    "print(\"train score {:.3f}, test score {:.3f}\\n\".format(train_score, test_score))\n",
    "print(\"로지스틱 회귀식: \\n\", regression_formula(X_names, LR.coef_, LR.intercept_))"
   ]
  },
  {
   "cell_type": "code",
   "execution_count": 58,
   "metadata": {},
   "outputs": [
    {
     "name": "stdout",
     "output_type": "stream",
     "text": [
      " 0번 데이터의 features: [  17.99   10.38  122.8  1001.  ]\n",
      " 0번 데이터의 선형 함수 값 (XBeta): -2.932 (=-2.932)\n",
      " 0번 데이터의 시그모이드 함수 값 (mu): 0.051 (=0.051)\n"
     ]
    }
   ],
   "source": [
    "\n",
    "# XBeta값(설명변수의 선형 결합)과 예측확률값(평균함수값) 구하기\n",
    "data_idx = 0 #설명변수 X0의 index\n",
    "XB = (X[data_idx]*LR.coef_).sum()+LR.intercept_[0] #회귀식에 X0값을 대입한 예측값\n",
    "mu = 1/(1+np.exp(-XB)) #XB의 값을 변형하여 0~1 사이의 확률값으로 맵핑\n",
    "\n",
    "# method인 decision_function과 predict_proba로 계산하기\n",
    "XB2 = LR.decision_function(X[data_idx].reshape(-1,len(X[data_idx])))[0]\n",
    "mu2 = LR.predict_proba(X[data_idx].reshape(-1,len(X[data_idx])))[0][1] \n",
    "\n",
    "print(\" {}번 데이터의 features: {}\".format(data_idx, X[data_idx]))\n",
    "print(\" {}번 데이터의 선형 함수 값 (XBeta): {:.3f} (={:.3f})\".format(data_idx, XB, XB2))\n",
    "print(\" {}번 데이터의 시그모이드 함수 값 (mu): {:.3f} (={:.3f})\".format(data_idx, mu, mu2) )"
   ]
  },
  {
   "cell_type": "code",
   "execution_count": 59,
   "metadata": {},
   "outputs": [
    {
     "name": "stdout",
     "output_type": "stream",
     "text": [
      "각 클래스일 확률에 따른 예측분류값과 실제분류값:\n",
      "           0         1  pred  y\n",
      "0  0.949417  0.050583     0  0\n",
      "1  0.987738  0.012262     0  0\n",
      "2  0.994990  0.005010     0  0\n",
      "3  0.090167  0.909833     1  0\n"
     ]
    }
   ],
   "source": [
    "#기본 cut-off value(임계값)는 0.5: 확률값이 0.5 이상이면 1, 이하이면 0으로 분류\n",
    "prob = LR.predict_proba(X) #각 클래스에 대한 예측확률값\n",
    "## predict_proba: mu 계산, decision_function: XBeta 계산\n",
    "pred = LR.predict(X) # 예측값\n",
    "result = DataFrame(prob)\n",
    "result['pred'] = pred\n",
    "result['y'] = y\n",
    "print(\"각 클래스일 확률에 따른 예측분류값과 실제분류값:\\n\", result.head(4))"
   ]
  },
  {
   "cell_type": "code",
   "execution_count": 60,
   "metadata": {},
   "outputs": [
    {
     "name": "stdout",
     "output_type": "stream",
     "text": [
      "feature 'mean perimeter'의 회귀계수 -0.272\n",
      " ==> exp(회귀계수): 0.761\n",
      "\n",
      " (증가 전) 0번 데이터의 features: [  17.99   10.38  122.8  1001.  ]\n",
      " (증가 전)'mean perimeter'의 값이 122.800일 때, y는 0.051, odds(y/(1-y))는 0.053\n",
      "\n",
      " (증가 후) 0번 데이터의 features: [  17.99   10.38  123.8  1001.  ]\n",
      " (증가 후)'mean perimeter'의 값이 123.800일 때, y는 0.039,  odds(y/(1-y))는 0.041(=0.041)\n",
      "\n",
      " ==> x가 한단위 증가하기 후의 오즈는 증가 전 오즈의 0.761배가 된다. (증가 후 오즈/증가 전 오즈 = 오즈비)\n"
     ]
    }
   ],
   "source": [
    "# 회귀계수의 해석\n",
    "feat_idx = 2 #확인할 feature의 index 선택\n",
    "spec_X = X[data_idx]\n",
    "\n",
    "# 회귀계수 확인\n",
    "print(\"feature '{}'의 회귀계수 {:.3f}\".format(X_names[feat_idx], LR.coef_[0][feat_idx]))\n",
    "print(\" ==> exp(회귀계수): {:.3f}\\n\".format(np.exp(LR.coef_[0][feat_idx])))\n",
    "\n",
    "# 특정 feature의 값 한단위 증가 전 데이터와 오즈, 오즈비 확인\n",
    "pred_y = LR.predict_proba(spec_X.reshape(-1,len(spec_X)))[0][1]\n",
    "before_odds = pred_y/(1-pred_y)\n",
    "print(\" (증가 전) {}번 데이터의 features: {}\".format(data_idx, spec_X))\n",
    "print(\" (증가 전)'{}'의 값이 {:.3f}일 때, y는 {:.3f}, odds(y/(1-y))는 {:.3f}\\n\".format(X_names[feat_idx], spec_X[feat_idx], pred_y, before_odds))\n",
    "\n",
    "# 특정 feature의 값 한단위 증가 후 데이터와 오즈, 오즈비 확인\n",
    "spec_X[feat_idx] = spec_X[feat_idx] +1\n",
    "print(\" (증가 후) {}번 데이터의 features: {}\".format(data_idx, spec_X))\n",
    "pred_y2 = LR.predict_proba(spec_X.reshape(-1,len(spec_X)))[0][1]\n",
    "after_odds = pred_y2/(1-pred_y2)\n",
    "print(\" (증가 후)'{}'의 값이 {:.3f}일 때, y는 {:.3f},  odds(y/(1-y))는 {:.3f}(={:.3f})\".format(X_names[feat_idx], spec_X[feat_idx], pred_y2, (pred_y2 / (1-pred_y2)), before_odds*np.exp(LR.coef_[0][feat_idx])))\n",
    "\n",
    "print(\"\\n ==> x가 한단위 증가하기 후의 오즈는 증가 전 오즈의 {:.3f}배가 된다. (증가 후 오즈/증가 전 오즈 = 오즈비)\".format(after_odds/before_odds))\n",
    "\n",
    "## x가 한단위 증가하면, 증가 후 오즈가 증가 전의 0.761배 된다는 의미이다. 이 0.761을 오즈비라고 한다.\n",
    "## 즉, 해당 feature는 값이 증가할수록 반응변수의 확률값이 점점 줄어들게 된다."
   ]
  },
  {
   "cell_type": "code",
   "execution_count": 61,
   "metadata": {},
   "outputs": [
    {
     "name": "stdout",
     "output_type": "stream",
     "text": [
      "최적의 cut-off value: 0.526\n"
     ]
    }
   ],
   "source": [
    "# 분류 성능 최적화를 위해 cut-off value를 다르게 설정하기도 한다.\n",
    "# Youden Index (Youden's J statistic)는 기본적으로 민감도 + 특이도 - 1이라는 매우 단순한 계산식을 통해 특이도와 민감도의 합이 최대가 되는 점을 구하는 방법이다. 이를 통해 최적의 cut-off value를 찾을 수 있다.\n",
    "from sklearn.metrics import roc_curve\n",
    "fpr, tpr, thresholds = roc_curve(y, prob[:, 1]) #실제값과 예측 확률값으로 fpr, tpr, thresholds를 계산\n",
    "J = tpr - fpr\n",
    "idx= np.argmax(J)\n",
    "best_threshold = thresholds[idx]\n",
    "best_tpr = tpr[idx]\n",
    "best_fpr = fpr[idx]\n",
    "print(\"최적의 cut-off value: {:.3f}\".format(best_threshold))\n",
    "## 해당 모델은 최적의 cut-off value 0.526과 기본 설정값 0.5가 근사하지만, 어떤 경우 최적의 분류 결과를 위한 cut-off value가 0.5에서 많이 벗어난 값이 될 수도 있다. "
   ]
  },
  {
   "cell_type": "code",
   "execution_count": 62,
   "metadata": {},
   "outputs": [
    {
     "name": "stdout",
     "output_type": "stream",
     "text": [
      "Optimization terminated successfully.\n",
      "         Current function value: 0.169550\n",
      "         Iterations 10\n",
      "\n",
      "Log-Likelihood: -72.229, LL-Null: -281.440\n",
      "LLR: 418.423(= 418.423), critical value(임계값): 9.488\n",
      "LLR p-value: 0.000(= 0.000)\n",
      "R2: 0.743(= 0.743)\n"
     ]
    }
   ],
   "source": [
    "# statsmodels를 통해서도 회귀 적합할 수 있다. 다만, sklearn에서 적합한 회귀식과 다른 결과가 나오게 되는데, 그 이유는 sklearn에서 자동으로 규제(regularization)를 적용하고 있기 때문이다. sklearn의 C를 매우 큰 수로 설정하여 규제가 없다시피 하면, 두 라이브러리의 회귀식이 유사 해진다.\n",
    "import statsmodels.api as sm\n",
    "from scipy.stats import chi2\n",
    "X_train = sm.add_constant(X_train)\n",
    "model = sm.Logit(y_train, X_train)\n",
    "fitted = model.fit()\n",
    "\n",
    "# 로지스틱회귀 모델의 유의성 확인\n",
    "test_a = 0.05 #유의수준\n",
    "LLR = -2*(fitted.llnull - fitted.llf) #LLR (로그우도비)\n",
    "cv = chi2.ppf(1-test_a, fitted.df_model) #LLR이 임계값보다 크면 모형이 유의하다.\n",
    "sp = 1-chi2.cdf(LLR, fitted.df_model) #오른쪽 검정\n",
    "print(\"\\nLog-Likelihood: {:.3f}, LL-Null: {:.3f}\".format(fitted.llf, fitted.llnull))\n",
    "print(\"LLR: {:.3f}(= {:.3f}), critical value(임계값): {:.3f}\".format(fitted.llr, LLR, cv))\n",
    "print(\"LLR p-value: {:.3f}(= {:.3f})\".format(sp, fitted.llr_pvalue))\n",
    "print(\"R2: {:.3f}(= {:.3f})\".format(fitted.prsquared, 1-fitted.llf/fitted.llnull))\n",
    "## 해당 모델은 통계적으로 유의하다고 볼 수 있다."
   ]
  },
  {
   "cell_type": "code",
   "execution_count": 63,
   "metadata": {},
   "outputs": [
    {
     "name": "stdout",
     "output_type": "stream",
     "text": [
      "                           Logit Regression Results                           \n",
      "==============================================================================\n",
      "Dep. Variable:                      y   No. Observations:                  426\n",
      "Model:                          Logit   Df Residuals:                      421\n",
      "Method:                           MLE   Df Model:                            4\n",
      "Date:                Sun, 14 Apr 2024   Pseudo R-squ.:                  0.7434\n",
      "Time:                        21:31:14   Log-Likelihood:                -72.229\n",
      "converged:                       True   LL-Null:                       -281.44\n",
      "Covariance Type:            nonrobust   LLR p-value:                 2.906e-89\n",
      "==============================================================================\n",
      "                 coef    std err          z      P>|z|      [0.025      0.975]\n",
      "------------------------------------------------------------------------------\n",
      "const          0.1470      8.502      0.017      0.986     -16.516      16.810\n",
      "x1            10.3953      2.119      4.906      0.000       6.243      14.548\n",
      "x2            -0.2622      0.057     -4.577      0.000      -0.375      -0.150\n",
      "x3            -1.3234      0.217     -6.105      0.000      -1.748      -0.899\n",
      "x4            -0.0317      0.015     -2.150      0.032      -0.061      -0.003\n",
      "==============================================================================\n",
      "\n",
      "Possibly complete quasi-separation: A fraction 0.13 of observations can be\n",
      "perfectly predicted. This might indicate that there is complete\n",
      "quasi-separation. In this case some parameters will not be identified.\n"
     ]
    }
   ],
   "source": [
    "# statsmodels의 요약 결과 확인\n",
    "print(fitted.summary())"
   ]
  },
  {
   "cell_type": "code",
   "execution_count": 64,
   "metadata": {},
   "outputs": [
    {
     "name": "stdout",
     "output_type": "stream",
     "text": [
      "Z 통계량 4.906\n",
      "wald 통계량 24.066, 임곗값: 3.841\n",
      "유의수준 0.050, 해당 통계량의 유의확률 0.000\n"
     ]
    }
   ],
   "source": [
    "# x1의 회귀계수의 유의성 확인하기\n",
    "# 위의 요약 결과에서는 회귀계수의 유의성 확인을 위해 z통계량을 사용하고 있으나, 아래와 같이 z통계량을 제곱한 wald통계량을 통해서도 회귀계수의 유의성을 확인할 수 있다.\n",
    "z = (10.3953/2.119)\n",
    "waldstat = z**2 #위의 report에서 확인한 x1의 회귀계수와 표준오차\n",
    "cv = chi2.ppf(1-test_a, 1)\n",
    "sp = 1-chi2.cdf(waldstat, 1)\n",
    "print(f\"Z 통계량 {z:.3f}\")\n",
    "print(\"wald 통계량 {:.3f}, 임곗값: {:.3f}\".format(waldstat, cv))\n",
    "print(\"유의수준 {:.3f}, 해당 통계량의 유의확률 {:.3f}\".format(test_a, sp))\n",
    "# 따라서 해당 회귀계수는 통계적으로 유의하다"
   ]
  },
  {
   "cell_type": "markdown",
   "metadata": {},
   "source": [
    "#### 포아송 회귀\n",
    "- 종속변수가 포아송 분포를 따른다고 가정하고, 일반화 선형모형의 회귀 분석을 수행하는 것이다.\n",
    "- 종속변수가 빈도 데이터일 때 주로 사용된다."
   ]
  },
  {
   "cell_type": "markdown",
   "metadata": {},
   "source": [
    "[포아송 회귀의 가정]\n",
    "- 반응변수는 빈도 데이터이다.\n",
    "- 동일한 길이의 어떤 두 구간에서의 사건 발생 확률은 동일하다.\n",
    "- 어떤 구간에서의 사건 발생이 다른 구간의 사건 발생과 독립이다.\n",
    "- 어떤 짧은 구간에서 두 개 이상의 결과가 동시에 나올 확률은 0이다."
   ]
  },
  {
   "cell_type": "markdown",
   "metadata": {},
   "source": [
    "[포아송 회귀계수의 해석과 유효성]"
   ]
  }
 ],
 "metadata": {
  "kernelspec": {
   "display_name": "Python 3",
   "language": "python",
   "name": "python3"
  },
  "language_info": {
   "codemirror_mode": {
    "name": "ipython",
    "version": 3
   },
   "file_extension": ".py",
   "mimetype": "text/x-python",
   "name": "python",
   "nbconvert_exporter": "python",
   "pygments_lexer": "ipython3",
   "version": "3.7.0"
  }
 },
 "nbformat": 4,
 "nbformat_minor": 2
}
