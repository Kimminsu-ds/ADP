{
 "cells": [
  {
   "cell_type": "markdown",
   "metadata": {},
   "source": [
    "# Project: 제32회 ADP 실기시험 코드북"
   ]
  },
  {
   "cell_type": "markdown",
   "metadata": {},
   "source": [
    "# 환경설정"
   ]
  },
  {
   "cell_type": "code",
   "execution_count": 1,
   "metadata": {},
   "outputs": [],
   "source": [
    "import pandas as pd\n",
    "import numpy as np\n",
    "\n",
    "# 시각화\n",
    "import matplotlib.pyplot as plt\n",
    "import matplotlib.font_manager as fm\n",
    "\n",
    "plt.rc('font', family='Malgun Gothic') # 한글 폰트 설정\n",
    "plt.rcParams['axes.unicode_minus'] = False # minus 폰트 깨짐 해결\n",
    "\n",
    "import seaborn as sns"
   ]
  },
  {
   "cell_type": "markdown",
   "metadata": {},
   "source": [
    "# 머신러닝"
   ]
  },
  {
   "cell_type": "markdown",
   "metadata": {},
   "source": [
    "## EDA"
   ]
  },
  {
   "cell_type": "code",
   "execution_count": null,
   "metadata": {},
   "outputs": [],
   "source": [
    "# 데이터 첫 3행 확인\n",
    "df.head(3)\n",
    "\n",
    "# 데이터 구조 확인\n",
    "n_row, n_col = df.shape[0], df.shape[1]\n",
    "print(f\"데이터: {n_row}행, {n_col}열\")\n",
    "\n",
    "# 컬럼별 자료형/결측치 확인\n",
    "df.info()\n",
    "\n",
    "# 수치형 변수 기술통계\n",
    "numeric_cols = df._get_numeric_data().columns.tolist()\n",
    "print(f\"수치형 변수: {len(numeric_cols)}개 \\n {numeric_cols}\")\n",
    "\n",
    "df.describe(include=['float64', 'int64'])\n",
    "\n",
    "# 범주형 변수 기술통계\n",
    "category_cols = list(set(df.columns) - set(numeric_cols))\n",
    "print(f\"범주형 변수: {len(category_cols)}개 \\n {category_cols}\")\n",
    "\n",
    "df.describe(include=['category'])"
   ]
  },
  {
   "cell_type": "code",
   "execution_count": null,
   "metadata": {},
   "outputs": [],
   "source": [
    "# 결측치 확인\n",
    "null_sum = df.isnull().sum()\n",
    "print(null_sum)\n",
    "\n",
    "plt.barh(null_sum.index, null_sum.values)\n",
    "plt.show()"
   ]
  },
  {
   "cell_type": "code",
   "execution_count": null,
   "metadata": {},
   "outputs": [],
   "source": [
    "# 종속변수 분포 확인\n",
    "# 연속형\n",
    "df['y'].hist()\n",
    "\n",
    "# 범주형\n",
    "print(df['y'].value_counts(normalize=True))\n",
    "sns.countplot(df['y'])\n",
    "plt.show()"
   ]
  },
  {
   "cell_type": "code",
   "execution_count": null,
   "metadata": {},
   "outputs": [],
   "source": [
    "def make_plot(df):\n",
    "    plt.figure(figsize=(20, 10))\n",
    "    for i, col in enumerate(df.select_dtypes(exclude=object).columns, start=1):\n",
    "        plt.subplot(3,4,i)\n",
    "        plt.title(f'{col} Count')\n",
    "        plt.hist(df[col])\n",
    "        start_num = i+1\n",
    "    for i, col in enumerate(df.select_dtypes(include=object).columns, start=start_num):\n",
    "        plt.subplot(3, 4, i)\n",
    "        plt.title(f'{col} Count')\n",
    "        sns.countplot(data=df, x=col)\n",
    "    plt.tight_layout()\n",
    "    plt.show()\n",
    "    \n",
    "make_plot(df)"
   ]
  },
  {
   "cell_type": "markdown",
   "metadata": {},
   "source": [
    "## 전처리 - 이상치 처리"
   ]
  },
  {
   "cell_type": "code",
   "execution_count": null,
   "metadata": {},
   "outputs": [],
   "source": [
    "import numpy as np\n",
    "import matplotlib.pyplot as plt\n",
    "\n",
    "# IQR 기법을 활용한 이상치 탐색 및 조정(Winsorizing) 방식으로 이상치 처리 후 전/후 비교\n",
    "def outlier_iqr(df, col, winsorizing=False):\n",
    "    q1, q3 = np.quantile(df[col], 0.25), np.quantile(df[col], 0.75)\n",
    "    iqr = q3 - q1\n",
    "    \n",
    "    upper_bound = q3 + iqr * 1.5\n",
    "    lower_bound = q1 - iqr * 1.5\n",
    "\n",
    "    # upper_bound 보다 크고 lower_bound 보다 작은 데이터의 인덱스를 찾음\n",
    "    outlier_idx = df.loc[\n",
    "        (df[col] >= upper_bound) |\n",
    "        (df[col] <= lower_bound)\n",
    "    ].index\n",
    "\n",
    "    print(f\"이상치(Outlier) 갯수: {len(outlier_idx)}개\")\n",
    "    print(f\"이상치(Outlier) 인덱스 예시: {outlier_idx.tolist()[:10]}\")\n",
    "    \n",
    "    if winsorizing==True:\n",
    "        df_winsor = df[[col]].clip(lower_bound, upper_bound)\n",
    "        \n",
    "        plt.rcParams['figure.figsize'] = (10, 5)\n",
    "        plt.rcParams['font.size'] = 12\n",
    "        plt.rcParams['axes.unicode_minus'] = False\n",
    "        \n",
    "        fig, axes = plt.subplots(1, 2)\n",
    "        \n",
    "        for data, ax, title in zip([df[[col]], df_winsor], axes, ['Before', 'After']):\n",
    "            data.boxplot(ax=ax)\n",
    "            ax.set_title(f\"{title}, {len(data)}\")\n",
    "\n",
    "        plt.show()\n",
    "        \n",
    "        df[col] = df_winsor.values\n",
    "        \n",
    "        return df\n",
    "        \n",
    "numeric_cols = df._get_numeric_data().columns\n",
    "\n",
    "for col in numeric_cols:\n",
    "    print(col)\n",
    "    df = outlier_iqr(df, col, winsorizing=True)"
   ]
  },
  {
   "cell_type": "markdown",
   "metadata": {},
   "source": [
    "# 기타"
   ]
  },
  {
   "cell_type": "markdown",
   "metadata": {},
   "source": [
    "## 최적화 - 선형계획법"
   ]
  },
  {
   "cell_type": "markdown",
   "metadata": {},
   "source": [
    "### 최소 배송비용 구하기\n",
    "- (A, B, C) 3개의 공장에서 생산한 제품을 (x, y, z) 3지역으로 가능한 조건에 맞게 최대로 배송한다.\n",
    "- 각 공장과 각 지역 사이의 1개 제품 배송 비용이 아래와 같을 때, 최소 배송비용은 얼마인가?\n",
    "\n",
    "|공장|x|y|z|총 생산량|\n",
    "|-|-|-|-|-|\n",
    "|A|20만원|5만원|35만원|75개|\n",
    "|B|15만원|2만원|20만원|55개|\n",
    "|C|3만원|14만원|17만원|60개|\n",
    "|지역별 수요량|80개|50개|60개|-|"
   ]
  },
  {
   "cell_type": "code",
   "execution_count": 13,
   "metadata": {},
   "outputs": [
    {
     "name": "stdout",
     "output_type": "stream",
     "text": [
      "Ax = 25.0\n",
      "Ay = 50.0\n",
      "Az = 0.0\n",
      "Bx = 0.0\n",
      "By = 0.0\n",
      "Bz = 55.0\n",
      "Cx = 55.0\n",
      "Cy = 0.0\n",
      "Cz = 5.0\n"
     ]
    }
   ],
   "source": [
    "# !pip install pulp --no-deps --user\n",
    "import pulp\n",
    "\n",
    "# 변수설정 (공장-지역) 공급량\n",
    "Ax = pulp.LpVariable(name=\"Ax\", lowBound=0)\n",
    "Ay = pulp.LpVariable(name=\"Ay\", lowBound=0)\n",
    "Az = pulp.LpVariable(name=\"Az\", lowBound=0)\n",
    "\n",
    "Bx = pulp.LpVariable(name=\"Bx\", lowBound=0)\n",
    "By = pulp.LpVariable(name=\"By\", lowBound=0)\n",
    "Bz = pulp.LpVariable(name=\"Bz\", lowBound=0)\n",
    "\n",
    "Cx = pulp.LpVariable(name=\"Cx\", lowBound=0)\n",
    "Cy = pulp.LpVariable(name=\"Cy\", lowBound=0)\n",
    "Cz = pulp.LpVariable(name=\"Cz\", lowBound=0)\n",
    "\n",
    "# 모형적합: 제한조건을 만족하는 최적해 탐색 (최소 배송비용)\n",
    "model = pulp.LpProblem(name=\"model\", sense=pulp.LpMinimize)\n",
    "\n",
    "# 목적함수: 최소 배송비용\n",
    "model.objective = (Ax*20) + (Ay*5)  + (Az*35) + \\\n",
    "                  (Bx*15) + (By*2)  + (Bz*20) + \\\n",
    "                  (Cx*3)  + (Cy*14) + (Cz*17)\n",
    "\n",
    "# 제약조건 설정\n",
    "constraints = [\n",
    "    # 지역별 수요량\n",
    "    Ax + Bx + Cx == 80,\n",
    "    Ay + By + Cy == 50,\n",
    "    Az + Bz + Cz == 60,\n",
    "    \n",
    "    # 공장별 생산량\n",
    "    Ax + Ay + Az <= 75,\n",
    "    Bx + By + Bz <= 55,\n",
    "    Cx + Cy + Cz <= 60\n",
    "]\n",
    "\n",
    "for i, const in enumerate(constraints):\n",
    "    model.constraints[f\"Constraints {i}\"] = const\n",
    "    \n",
    "# 최적화\n",
    "model.solve()\n",
    "\n",
    "# 결과확인\n",
    "for v in model.variables():\n",
    "    print(f\"{v} = {v.varValue}\")"
   ]
  },
  {
   "cell_type": "code",
   "execution_count": 16,
   "metadata": {},
   "outputs": [
    {
     "name": "stdout",
     "output_type": "stream",
     "text": [
      "최소 배송비용: 2100.0\n"
     ]
    }
   ],
   "source": [
    "# 결론: 목적함수에 최적해 탐색의 결과를 대입하여 최소 배송비용을 정의\n",
    "Ax = 25.0\n",
    "Ay = 50.0\n",
    "Az = 0.0\n",
    "Bx = 0.0\n",
    "By = 0.0\n",
    "Bz = 55.0\n",
    "Cx = 55.0\n",
    "Cy = 0.0\n",
    "Cz = 5.0\n",
    "\n",
    "price = (Ax*20) + (Ay*5) + (Az*35) + (Bx*15) + (By*2) + (Bz*20) + (Cx*3) + (Cy*14) + (Cz*17)\n",
    "print(f\"최소 배송비용: {price}\")"
   ]
  }
 ],
 "metadata": {
  "kernelspec": {
   "display_name": "Python 3",
   "language": "python",
   "name": "python3"
  },
  "language_info": {
   "codemirror_mode": {
    "name": "ipython",
    "version": 3
   },
   "file_extension": ".py",
   "mimetype": "text/x-python",
   "name": "python",
   "nbconvert_exporter": "python",
   "pygments_lexer": "ipython3",
   "version": "3.7.0"
  }
 },
 "nbformat": 4,
 "nbformat_minor": 2
}
