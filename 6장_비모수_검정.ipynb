{
  "cells": [
    {
      "cell_type": "markdown",
      "metadata": {
        "id": "l48CpQQ1ny0j"
      },
      "source": [
        "# 제32회 ADP 실기 대비 - 핵심만 요약한 통계와 머신러닝 파이썬 코드북"
      ]
    },
    {
      "cell_type": "code",
      "execution_count": 2,
      "metadata": {
        "id": "ErDlntWyny0o"
      },
      "outputs": [],
      "source": [
        "import pandas as pd\n",
        "import numpy as np\n",
        "\n",
        "import matplotlib.pyplot as plt\n",
        "import seaborn as sns\n",
        "\n",
        "# 시각화 설정\n",
        "# plt.rcParams['font.family'] = 'Malgun Gothic' # 한글 폰트 설정\n",
        "plt.rcParams['axes.unicode_minus'] = False # 마이너스 부호 설정\n",
        "\n",
        "# Colab 한글 폰트 설정\n",
        "# !sudo apt-get install -y fonts-nanum\n",
        "# !sudo fc-cache -fv\n",
        "# !rm ~/.cache/matplotlib -rf\n",
        "# plt.rc('font', family='NanumBarunGothic')"
      ]
    },
    {
      "cell_type": "markdown",
      "metadata": {
        "id": "_c_Hs022ny0q"
      },
      "source": [
        "# 6장. 비모수 검정 (Non-parametic test)\n",
        "- 비모수 검정은 모수에 대한 가정 없이 가설 검정하는 것으로서 분포무관(Distribution-free) 검정이라고도 한다.\n",
        "- 모수 검정은 모집단의 분포에 대한 가정 하에 모수(예: 평균, 분산 등)에 대해 가설을 설정하고 표본의 정보를 사용하여 가설 검정을 하는 반면, 비모수 검정에서는 모집단의 분포에 대해 가정하지 않고, 표본의 정보를 사용하여 분포의 형태가 동일한지 여부에 대해서 검정한다.\n",
        "- 비모수 검정은 **`자료가 정규분포가 아닌 경우, 표본의 크기가 작은 경우, 자료가 순서식 데이터(서열척도) 혹은 빈도/바이너리 데이터(명목척도)인 경우`**에 사용한다.\n",
        "- 표본 개수와 척도 종류에 따라 아래와 같이 검정 방법을 적용한다."
      ]
    },
    {
      "cell_type": "markdown",
      "metadata": {
        "id": "-6HNiE7Iny0r"
      },
      "source": [
        "|표본|개수|비모수 검정(서열척도)|비모수 검정(명목척도)|모수검정(등간/비율 척도)|\n",
        "|-|-|-|-|-|\n",
        "|단일 표본|1개|부호검정, 부호순위검정|적합성 검정, Run 검정|일표본 t검정|\n",
        "|대응 표본|2개|부호검정, 부호순위검정|Mcnemar 검정|대응표본 t검정|\n",
        "|대응 표본|K개|Friedman 검정|Cochran Q 검정|Paired 일원배치 분산분석|\n",
        "|독립 표본|2개|순위합 검정, 만위트니U검정|독립성 검정, 동질성 검정|독립표본 t검정|\n",
        "|독립 표본|K개|Kruskal-Wallis 검정|독립성 검정, 동질성 검정|일원배치 분산분석|"
      ]
    },
    {
      "cell_type": "markdown",
      "metadata": {
        "id": "xkQoVuAuny0s"
      },
      "source": [
        "## 6-1. 카이제곱검정: 카이제곱분포"
      ]
    },
    {
      "cell_type": "markdown",
      "metadata": {
        "id": "uJ2Ht2SIny0s"
      },
      "source": [
        "### 적합성 검정 (Goodness of fit test): 다항모집단 비율의 차이\n",
        "- 적합성 검정은 관측값들이 어떤 이론이나 이론적 분포를 따르고 있는지를 검정하는 것이다.\n",
        "- 카이제곱분포를 이용한 검정은 기대도수가 적어도 5 이상이 될 때 적용해야 한다.\n",
        "- [가설 설정]\n",
        "    - 귀무가설($H_0$): 구해진 도수분포의 도수와 이론도수가 차이가 없다.\n",
        "    - 대립가설($H_1$): 구해진 도수분포의 도수와 이론도수가 차이가 있다."
      ]
    },
    {
      "cell_type": "markdown",
      "metadata": {
        "id": "yKX8DknTny0t"
      },
      "source": [
        "- (예) 적합성 검정: 세 후보자의 지지도가 다르다고 할 수 있을까?\n",
        "    - 귀무가설($H_0$): 세 후보자의 지지도는 동일하다.\n",
        "    - 대립가설($H_1$): 세 후보자의 지지도는 차이가 있다."
      ]
    },
    {
      "cell_type": "code",
      "execution_count": 3,
      "metadata": {
        "colab": {
          "base_uri": "https://localhost:8080/"
        },
        "id": "FfCiUtQany0t",
        "outputId": "064f8d6a-5f7b-4c92-a501-dcdcebe23cd2"
      },
      "outputs": [
        {
          "output_type": "execute_result",
          "data": {
            "text/plain": [
              "array([60, 50, 40])"
            ]
          },
          "metadata": {},
          "execution_count": 3
        }
      ],
      "source": [
        "data = np.array([60, 50, 40])\n",
        "data"
      ]
    },
    {
      "cell_type": "code",
      "execution_count": 4,
      "metadata": {
        "colab": {
          "base_uri": "https://localhost:8080/"
        },
        "id": "lrZfNO7Iny0u",
        "outputId": "8b3359a5-64a5-48a2-c92f-184b0e22666c"
      },
      "outputs": [
        {
          "output_type": "stream",
          "name": "stdout",
          "text": [
            "[수기 검정]\n",
            "오른쪽 검정의 임계값: 5.991, 검정통계량: 4.0\n",
            "유의 수준: 0.05, 유의 확률: 0.135\n"
          ]
        }
      ],
      "source": [
        "# 가설 검정 (우측 검정)\n",
        "# H0: 세 후보자의 지지도는 동일하다.\n",
        "# H1: 세 후보자의 지지도는 차이가 있다.\n",
        "\n",
        "from scipy.stats import chi2\n",
        "\n",
        "m0 = data.mean() # H0\n",
        "test_a = 0.05\n",
        "df = len(data) - 1\n",
        "\n",
        "chistat = sum((data - m0) ** 2 / m0)\n",
        "sp = 1 - chi2.cdf(chistat, df) # 오른쪽 검정\n",
        "cv = chi2.ppf(1-test_a, df)\n",
        "\n",
        "print(\"[수기 검정]\")\n",
        "print(f\"오른쪽 검정의 임계값: {round(cv, 3)}, 검정통계량: {round(chistat, 3)}\")\n",
        "print(f\"유의 수준: {round(test_a, 3)}, 유의 확률: {round(sp, 3)}\")"
      ]
    },
    {
      "cell_type": "code",
      "execution_count": 5,
      "metadata": {
        "colab": {
          "base_uri": "https://localhost:8080/"
        },
        "id": "Ijh2YVCCny0v",
        "outputId": "e18cd711-3765-426c-d4c3-8dcc26e0afe2"
      },
      "outputs": [
        {
          "output_type": "execute_result",
          "data": {
            "text/plain": [
              "Power_divergenceResult(statistic=4.0, pvalue=0.1353352832366127)"
            ]
          },
          "metadata": {},
          "execution_count": 5
        }
      ],
      "source": [
        "from scipy.stats import chisquare, chi2\n",
        "\n",
        "chisquare(data, data.mean())"
      ]
    },
    {
      "cell_type": "markdown",
      "metadata": {
        "id": "AQktqvssny0w"
      },
      "source": [
        "- **`[결론]`** 유의수준 0.05 하에서 p-value가 0.05 보다 크므로 귀무가설을 채택한다. 즉, 세 후보자의 지지도는 동일하다."
      ]
    },
    {
      "cell_type": "markdown",
      "metadata": {
        "id": "NB4R-fBtny0w"
      },
      "source": [
        "### 독립성 검정 (Test of independence): 한 모집단 내 여러 수준의 차이\n",
        "- 독립성 검정 혹은 교차분석이라고 한다.\n",
        "- 다수의 인자들에 의해 분할되어 있는 데이터에서, 인자들이 관찰값에 영향을 주고 있는지 여부를 검정한다.\n",
        "- **`[검정 조건]`**\n",
        "    - 자유도가 1인 경우 전체 데이터 수가 30보다 크면서 각 칸의 빈도가 5 이상일 때 사용\n",
        "    - 데이터 수가 30보다 크면서 5 미만의 기대빈도의 칸이 전체 칸의 20%보다 적고 모든 칸에 1 이상의 기대빈도가 있다면 척도에 관계없이 사용 가능\n",
        "    - 각 칸의 기대빈도가 5 미만인 경우 변수들의 범주를 묶거나 이항검정법을 사용\n",
        "    - 도수가 작아도 피셔의 정확검정(Fisher's exact test)을 이용하면 집계표의 독립성을 검정할 수 있음\n",
        "    \n",
        "- **`[가설 설정]`**\n",
        "    - 귀무가설($H_0$): 두 인자는 독립이다. (연관이 없다)\n",
        "    - 대립가설($H_1$): 두 인자는 독립이 아니다. (연관이 있다)"
      ]
    },
    {
      "cell_type": "markdown",
      "metadata": {
        "id": "RTJWOzZzny0x"
      },
      "source": [
        "- (예) 독립성 검정: 성별 변량과 안경 착용여부 변량이 서로 독립인지 관련이 있는지 유의수준 5% 검정\n",
        "    - 귀무가설($H_0$): 성별과 안경 착용여부는 서로 독립이다.\n",
        "    - 대립가설($H_1$): 성별과 안경 착용여부는 서로 독립이 아니다."
      ]
    },
    {
      "cell_type": "code",
      "execution_count": 6,
      "metadata": {
        "colab": {
          "base_uri": "https://localhost:8080/",
          "height": 142
        },
        "id": "_vJ9eGnFny0x",
        "outputId": "0285f906-d2cf-4815-aafb-dfa9d1c2d1cf"
      },
      "outputs": [
        {
          "output_type": "execute_result",
          "data": {
            "text/plain": [
              "    안경착용  안경미착용\n",
              "성별             \n",
              "남자    10     40\n",
              "여자    30     20"
            ],
            "text/html": [
              "\n",
              "  <div id=\"df-4ab1c3ae-327c-4fc9-a017-aea0437edc3f\" class=\"colab-df-container\">\n",
              "    <div>\n",
              "<style scoped>\n",
              "    .dataframe tbody tr th:only-of-type {\n",
              "        vertical-align: middle;\n",
              "    }\n",
              "\n",
              "    .dataframe tbody tr th {\n",
              "        vertical-align: top;\n",
              "    }\n",
              "\n",
              "    .dataframe thead th {\n",
              "        text-align: right;\n",
              "    }\n",
              "</style>\n",
              "<table border=\"1\" class=\"dataframe\">\n",
              "  <thead>\n",
              "    <tr style=\"text-align: right;\">\n",
              "      <th></th>\n",
              "      <th>안경착용</th>\n",
              "      <th>안경미착용</th>\n",
              "    </tr>\n",
              "    <tr>\n",
              "      <th>성별</th>\n",
              "      <th></th>\n",
              "      <th></th>\n",
              "    </tr>\n",
              "  </thead>\n",
              "  <tbody>\n",
              "    <tr>\n",
              "      <th>남자</th>\n",
              "      <td>10</td>\n",
              "      <td>40</td>\n",
              "    </tr>\n",
              "    <tr>\n",
              "      <th>여자</th>\n",
              "      <td>30</td>\n",
              "      <td>20</td>\n",
              "    </tr>\n",
              "  </tbody>\n",
              "</table>\n",
              "</div>\n",
              "    <div class=\"colab-df-buttons\">\n",
              "\n",
              "  <div class=\"colab-df-container\">\n",
              "    <button class=\"colab-df-convert\" onclick=\"convertToInteractive('df-4ab1c3ae-327c-4fc9-a017-aea0437edc3f')\"\n",
              "            title=\"Convert this dataframe to an interactive table.\"\n",
              "            style=\"display:none;\">\n",
              "\n",
              "  <svg xmlns=\"http://www.w3.org/2000/svg\" height=\"24px\" viewBox=\"0 -960 960 960\">\n",
              "    <path d=\"M120-120v-720h720v720H120Zm60-500h600v-160H180v160Zm220 220h160v-160H400v160Zm0 220h160v-160H400v160ZM180-400h160v-160H180v160Zm440 0h160v-160H620v160ZM180-180h160v-160H180v160Zm440 0h160v-160H620v160Z\"/>\n",
              "  </svg>\n",
              "    </button>\n",
              "\n",
              "  <style>\n",
              "    .colab-df-container {\n",
              "      display:flex;\n",
              "      gap: 12px;\n",
              "    }\n",
              "\n",
              "    .colab-df-convert {\n",
              "      background-color: #E8F0FE;\n",
              "      border: none;\n",
              "      border-radius: 50%;\n",
              "      cursor: pointer;\n",
              "      display: none;\n",
              "      fill: #1967D2;\n",
              "      height: 32px;\n",
              "      padding: 0 0 0 0;\n",
              "      width: 32px;\n",
              "    }\n",
              "\n",
              "    .colab-df-convert:hover {\n",
              "      background-color: #E2EBFA;\n",
              "      box-shadow: 0px 1px 2px rgba(60, 64, 67, 0.3), 0px 1px 3px 1px rgba(60, 64, 67, 0.15);\n",
              "      fill: #174EA6;\n",
              "    }\n",
              "\n",
              "    .colab-df-buttons div {\n",
              "      margin-bottom: 4px;\n",
              "    }\n",
              "\n",
              "    [theme=dark] .colab-df-convert {\n",
              "      background-color: #3B4455;\n",
              "      fill: #D2E3FC;\n",
              "    }\n",
              "\n",
              "    [theme=dark] .colab-df-convert:hover {\n",
              "      background-color: #434B5C;\n",
              "      box-shadow: 0px 1px 3px 1px rgba(0, 0, 0, 0.15);\n",
              "      filter: drop-shadow(0px 1px 2px rgba(0, 0, 0, 0.3));\n",
              "      fill: #FFFFFF;\n",
              "    }\n",
              "  </style>\n",
              "\n",
              "    <script>\n",
              "      const buttonEl =\n",
              "        document.querySelector('#df-4ab1c3ae-327c-4fc9-a017-aea0437edc3f button.colab-df-convert');\n",
              "      buttonEl.style.display =\n",
              "        google.colab.kernel.accessAllowed ? 'block' : 'none';\n",
              "\n",
              "      async function convertToInteractive(key) {\n",
              "        const element = document.querySelector('#df-4ab1c3ae-327c-4fc9-a017-aea0437edc3f');\n",
              "        const dataTable =\n",
              "          await google.colab.kernel.invokeFunction('convertToInteractive',\n",
              "                                                    [key], {});\n",
              "        if (!dataTable) return;\n",
              "\n",
              "        const docLinkHtml = 'Like what you see? Visit the ' +\n",
              "          '<a target=\"_blank\" href=https://colab.research.google.com/notebooks/data_table.ipynb>data table notebook</a>'\n",
              "          + ' to learn more about interactive tables.';\n",
              "        element.innerHTML = '';\n",
              "        dataTable['output_type'] = 'display_data';\n",
              "        await google.colab.output.renderOutput(dataTable, element);\n",
              "        const docLink = document.createElement('div');\n",
              "        docLink.innerHTML = docLinkHtml;\n",
              "        element.appendChild(docLink);\n",
              "      }\n",
              "    </script>\n",
              "  </div>\n",
              "\n",
              "\n",
              "<div id=\"df-d649ee35-ec88-468a-8938-0d2d2845722b\">\n",
              "  <button class=\"colab-df-quickchart\" onclick=\"quickchart('df-d649ee35-ec88-468a-8938-0d2d2845722b')\"\n",
              "            title=\"Suggest charts\"\n",
              "            style=\"display:none;\">\n",
              "\n",
              "<svg xmlns=\"http://www.w3.org/2000/svg\" height=\"24px\"viewBox=\"0 0 24 24\"\n",
              "     width=\"24px\">\n",
              "    <g>\n",
              "        <path d=\"M19 3H5c-1.1 0-2 .9-2 2v14c0 1.1.9 2 2 2h14c1.1 0 2-.9 2-2V5c0-1.1-.9-2-2-2zM9 17H7v-7h2v7zm4 0h-2V7h2v10zm4 0h-2v-4h2v4z\"/>\n",
              "    </g>\n",
              "</svg>\n",
              "  </button>\n",
              "\n",
              "<style>\n",
              "  .colab-df-quickchart {\n",
              "      --bg-color: #E8F0FE;\n",
              "      --fill-color: #1967D2;\n",
              "      --hover-bg-color: #E2EBFA;\n",
              "      --hover-fill-color: #174EA6;\n",
              "      --disabled-fill-color: #AAA;\n",
              "      --disabled-bg-color: #DDD;\n",
              "  }\n",
              "\n",
              "  [theme=dark] .colab-df-quickchart {\n",
              "      --bg-color: #3B4455;\n",
              "      --fill-color: #D2E3FC;\n",
              "      --hover-bg-color: #434B5C;\n",
              "      --hover-fill-color: #FFFFFF;\n",
              "      --disabled-bg-color: #3B4455;\n",
              "      --disabled-fill-color: #666;\n",
              "  }\n",
              "\n",
              "  .colab-df-quickchart {\n",
              "    background-color: var(--bg-color);\n",
              "    border: none;\n",
              "    border-radius: 50%;\n",
              "    cursor: pointer;\n",
              "    display: none;\n",
              "    fill: var(--fill-color);\n",
              "    height: 32px;\n",
              "    padding: 0;\n",
              "    width: 32px;\n",
              "  }\n",
              "\n",
              "  .colab-df-quickchart:hover {\n",
              "    background-color: var(--hover-bg-color);\n",
              "    box-shadow: 0 1px 2px rgba(60, 64, 67, 0.3), 0 1px 3px 1px rgba(60, 64, 67, 0.15);\n",
              "    fill: var(--button-hover-fill-color);\n",
              "  }\n",
              "\n",
              "  .colab-df-quickchart-complete:disabled,\n",
              "  .colab-df-quickchart-complete:disabled:hover {\n",
              "    background-color: var(--disabled-bg-color);\n",
              "    fill: var(--disabled-fill-color);\n",
              "    box-shadow: none;\n",
              "  }\n",
              "\n",
              "  .colab-df-spinner {\n",
              "    border: 2px solid var(--fill-color);\n",
              "    border-color: transparent;\n",
              "    border-bottom-color: var(--fill-color);\n",
              "    animation:\n",
              "      spin 1s steps(1) infinite;\n",
              "  }\n",
              "\n",
              "  @keyframes spin {\n",
              "    0% {\n",
              "      border-color: transparent;\n",
              "      border-bottom-color: var(--fill-color);\n",
              "      border-left-color: var(--fill-color);\n",
              "    }\n",
              "    20% {\n",
              "      border-color: transparent;\n",
              "      border-left-color: var(--fill-color);\n",
              "      border-top-color: var(--fill-color);\n",
              "    }\n",
              "    30% {\n",
              "      border-color: transparent;\n",
              "      border-left-color: var(--fill-color);\n",
              "      border-top-color: var(--fill-color);\n",
              "      border-right-color: var(--fill-color);\n",
              "    }\n",
              "    40% {\n",
              "      border-color: transparent;\n",
              "      border-right-color: var(--fill-color);\n",
              "      border-top-color: var(--fill-color);\n",
              "    }\n",
              "    60% {\n",
              "      border-color: transparent;\n",
              "      border-right-color: var(--fill-color);\n",
              "    }\n",
              "    80% {\n",
              "      border-color: transparent;\n",
              "      border-right-color: var(--fill-color);\n",
              "      border-bottom-color: var(--fill-color);\n",
              "    }\n",
              "    90% {\n",
              "      border-color: transparent;\n",
              "      border-bottom-color: var(--fill-color);\n",
              "    }\n",
              "  }\n",
              "</style>\n",
              "\n",
              "  <script>\n",
              "    async function quickchart(key) {\n",
              "      const quickchartButtonEl =\n",
              "        document.querySelector('#' + key + ' button');\n",
              "      quickchartButtonEl.disabled = true;  // To prevent multiple clicks.\n",
              "      quickchartButtonEl.classList.add('colab-df-spinner');\n",
              "      try {\n",
              "        const charts = await google.colab.kernel.invokeFunction(\n",
              "            'suggestCharts', [key], {});\n",
              "      } catch (error) {\n",
              "        console.error('Error during call to suggestCharts:', error);\n",
              "      }\n",
              "      quickchartButtonEl.classList.remove('colab-df-spinner');\n",
              "      quickchartButtonEl.classList.add('colab-df-quickchart-complete');\n",
              "    }\n",
              "    (() => {\n",
              "      let quickchartButtonEl =\n",
              "        document.querySelector('#df-d649ee35-ec88-468a-8938-0d2d2845722b button');\n",
              "      quickchartButtonEl.style.display =\n",
              "        google.colab.kernel.accessAllowed ? 'block' : 'none';\n",
              "    })();\n",
              "  </script>\n",
              "</div>\n",
              "\n",
              "  <div id=\"id_8169474d-4d95-4a8d-af0b-8ecf09c7b679\">\n",
              "    <style>\n",
              "      .colab-df-generate {\n",
              "        background-color: #E8F0FE;\n",
              "        border: none;\n",
              "        border-radius: 50%;\n",
              "        cursor: pointer;\n",
              "        display: none;\n",
              "        fill: #1967D2;\n",
              "        height: 32px;\n",
              "        padding: 0 0 0 0;\n",
              "        width: 32px;\n",
              "      }\n",
              "\n",
              "      .colab-df-generate:hover {\n",
              "        background-color: #E2EBFA;\n",
              "        box-shadow: 0px 1px 2px rgba(60, 64, 67, 0.3), 0px 1px 3px 1px rgba(60, 64, 67, 0.15);\n",
              "        fill: #174EA6;\n",
              "      }\n",
              "\n",
              "      [theme=dark] .colab-df-generate {\n",
              "        background-color: #3B4455;\n",
              "        fill: #D2E3FC;\n",
              "      }\n",
              "\n",
              "      [theme=dark] .colab-df-generate:hover {\n",
              "        background-color: #434B5C;\n",
              "        box-shadow: 0px 1px 3px 1px rgba(0, 0, 0, 0.15);\n",
              "        filter: drop-shadow(0px 1px 2px rgba(0, 0, 0, 0.3));\n",
              "        fill: #FFFFFF;\n",
              "      }\n",
              "    </style>\n",
              "    <button class=\"colab-df-generate\" onclick=\"generateWithVariable('table')\"\n",
              "            title=\"Generate code using this dataframe.\"\n",
              "            style=\"display:none;\">\n",
              "\n",
              "  <svg xmlns=\"http://www.w3.org/2000/svg\" height=\"24px\"viewBox=\"0 0 24 24\"\n",
              "       width=\"24px\">\n",
              "    <path d=\"M7,19H8.4L18.45,9,17,7.55,7,17.6ZM5,21V16.75L18.45,3.32a2,2,0,0,1,2.83,0l1.4,1.43a1.91,1.91,0,0,1,.58,1.4,1.91,1.91,0,0,1-.58,1.4L9.25,21ZM18.45,9,17,7.55Zm-12,3A5.31,5.31,0,0,0,4.9,8.1,5.31,5.31,0,0,0,1,6.5,5.31,5.31,0,0,0,4.9,4.9,5.31,5.31,0,0,0,6.5,1,5.31,5.31,0,0,0,8.1,4.9,5.31,5.31,0,0,0,12,6.5,5.46,5.46,0,0,0,6.5,12Z\"/>\n",
              "  </svg>\n",
              "    </button>\n",
              "    <script>\n",
              "      (() => {\n",
              "      const buttonEl =\n",
              "        document.querySelector('#id_8169474d-4d95-4a8d-af0b-8ecf09c7b679 button.colab-df-generate');\n",
              "      buttonEl.style.display =\n",
              "        google.colab.kernel.accessAllowed ? 'block' : 'none';\n",
              "\n",
              "      buttonEl.onclick = () => {\n",
              "        google.colab.notebook.generateWithVariable('table');\n",
              "      }\n",
              "      })();\n",
              "    </script>\n",
              "  </div>\n",
              "\n",
              "    </div>\n",
              "  </div>\n"
            ],
            "application/vnd.google.colaboratory.intrinsic+json": {
              "type": "dataframe",
              "variable_name": "table",
              "summary": "{\n  \"name\": \"table\",\n  \"rows\": 2,\n  \"fields\": [\n    {\n      \"column\": \"\\uc131\\ubcc4\",\n      \"properties\": {\n        \"dtype\": \"string\",\n        \"num_unique_values\": 2,\n        \"samples\": [\n          \"\\uc5ec\\uc790\",\n          \"\\ub0a8\\uc790\"\n        ],\n        \"semantic_type\": \"\",\n        \"description\": \"\"\n      }\n    },\n    {\n      \"column\": \"\\uc548\\uacbd\\ucc29\\uc6a9\",\n      \"properties\": {\n        \"dtype\": \"number\",\n        \"std\": 14,\n        \"min\": 10,\n        \"max\": 30,\n        \"num_unique_values\": 2,\n        \"samples\": [\n          30,\n          10\n        ],\n        \"semantic_type\": \"\",\n        \"description\": \"\"\n      }\n    },\n    {\n      \"column\": \"\\uc548\\uacbd\\ubbf8\\ucc29\\uc6a9\",\n      \"properties\": {\n        \"dtype\": \"number\",\n        \"std\": 14,\n        \"min\": 20,\n        \"max\": 40,\n        \"num_unique_values\": 2,\n        \"samples\": [\n          20,\n          40\n        ],\n        \"semantic_type\": \"\",\n        \"description\": \"\"\n      }\n    }\n  ]\n}"
            }
          },
          "metadata": {},
          "execution_count": 6
        }
      ],
      "source": [
        "table = pd.DataFrame({\"성별\" : ['남자', '여자'], '안경착용' : [10, 30], '안경미착용' : [40, 20]}).set_index(\"성별\")\n",
        "table"
      ]
    },
    {
      "cell_type": "code",
      "execution_count": 7,
      "metadata": {
        "colab": {
          "base_uri": "https://localhost:8080/"
        },
        "id": "h2YwOu5jny0y",
        "outputId": "56a1bfd2-4d46-400d-a462-437675247667"
      },
      "outputs": [
        {
          "output_type": "stream",
          "name": "stdout",
          "text": [
            "기댓값:\n",
            " [[20. 30.]\n",
            " [20. 30.]]\n",
            "관찰값:\n",
            " [[10 40]\n",
            " [30 20]]\n"
          ]
        }
      ],
      "source": [
        "ttl = table.sum().sum()\n",
        "r = table.sum(axis=1).values\n",
        "c = table.sum(axis=0).values\n",
        "\n",
        "exp = []\n",
        "for R in r:\n",
        "    for C in c:\n",
        "        exp.append(R * C / ttl)\n",
        "\n",
        "print(f\"기댓값:\\n {np.array(exp).reshape(table.shape)}\")\n",
        "\n",
        "obs = table.values.ravel()\n",
        "print(f\"관찰값:\\n {np.array(obs).reshape(table.shape)}\")"
      ]
    },
    {
      "cell_type": "code",
      "execution_count": 8,
      "metadata": {
        "colab": {
          "base_uri": "https://localhost:8080/"
        },
        "id": "deqkYaEgny0y",
        "outputId": "7ba0cd12-fc27-4b5e-9ec2-fbceea752cc3"
      },
      "outputs": [
        {
          "output_type": "stream",
          "name": "stdout",
          "text": [
            "오른쪽 검정의 임계값: 3.841, 검정통계량: 16.667\n",
            "유의수준: 0.05, 유의확률: 0.0\n"
          ]
        }
      ],
      "source": [
        "test_a = 0.05\n",
        "chistat = np.sum((obs-exp)**2 /exp)\n",
        "\n",
        "df = (table.shape[0]-1) * (table.shape[1]-1)\n",
        "sp = 1-chi2.cdf(chistat, df)\n",
        "cv = chi2.ppf(1-test_a, df)\n",
        "\n",
        "print(f\"오른쪽 검정의 임계값: {round(cv, 3)}, 검정통계량: {round(chistat, 3)}\")\n",
        "print(f\"유의수준: {round(test_a, 3)}, 유의확률: {round(sp, 3)}\")"
      ]
    },
    {
      "cell_type": "code",
      "execution_count": 9,
      "metadata": {
        "colab": {
          "base_uri": "https://localhost:8080/"
        },
        "id": "0m_NmJsyny0z",
        "outputId": "ae54b967-ee1b-41c6-8bbe-93565982423c"
      },
      "outputs": [
        {
          "output_type": "stream",
          "name": "stdout",
          "text": [
            "검정통계량: 16.667, p-value: 0.0 \n",
            " 기대값:\n",
            " [[20. 30.]\n",
            " [20. 30.]]\n"
          ]
        }
      ],
      "source": [
        "# 라이브러리 검정\n",
        "from scipy.stats import chi2_contingency\n",
        "\n",
        "chi2, p, df, expec = chi2_contingency(table, correction=False)\n",
        "\n",
        "# 검정 결과, 대립가설을 채택하며 성별과 안경 사용 여부는 연관이 있다.\n",
        "print(f\"검정통계량: {round(chi2, 3)}, p-value: {round(p, 3)} \\n 기대값:\\n {expec}\")"
      ]
    },
    {
      "cell_type": "markdown",
      "metadata": {
        "id": "wlWEvThBny0z"
      },
      "source": [
        "#### [참고] Fisher's exact test\n",
        "- 귀무가설($H_0$): A와 B의 실력은 차이가 없다.\n",
        "- 대립가설($H_1$): A와 B의 실력은 차이가 있다."
      ]
    },
    {
      "cell_type": "code",
      "execution_count": null,
      "metadata": {
        "id": "cmw3dhK0ny00",
        "outputId": "6dfc66cc-4772-43a7-8232-680f305d0fe8"
      },
      "outputs": [
        {
          "data": {
            "text/html": [
              "<div>\n",
              "<style scoped>\n",
              "    .dataframe tbody tr th:only-of-type {\n",
              "        vertical-align: middle;\n",
              "    }\n",
              "\n",
              "    .dataframe tbody tr th {\n",
              "        vertical-align: top;\n",
              "    }\n",
              "\n",
              "    .dataframe thead th {\n",
              "        text-align: right;\n",
              "    }\n",
              "</style>\n",
              "<table border=\"1\" class=\"dataframe\">\n",
              "  <thead>\n",
              "    <tr style=\"text-align: right;\">\n",
              "      <th></th>\n",
              "      <th>승</th>\n",
              "      <th>패</th>\n",
              "    </tr>\n",
              "  </thead>\n",
              "  <tbody>\n",
              "    <tr>\n",
              "      <th>A</th>\n",
              "      <td>10</td>\n",
              "      <td>2</td>\n",
              "    </tr>\n",
              "    <tr>\n",
              "      <th>B</th>\n",
              "      <td>3</td>\n",
              "      <td>5</td>\n",
              "    </tr>\n",
              "  </tbody>\n",
              "</table>\n",
              "</div>"
            ],
            "text/plain": [
              "    승  패\n",
              "A  10  2\n",
              "B   3  5"
            ]
          },
          "execution_count": 9,
          "metadata": {},
          "output_type": "execute_result"
        }
      ],
      "source": [
        "table = pd.DataFrame([[10, 2], [3, 5]], index=['A', 'B'], columns=['승', '패'])\n",
        "table"
      ]
    },
    {
      "cell_type": "code",
      "execution_count": 10,
      "metadata": {
        "colab": {
          "base_uri": "https://localhost:8080/"
        },
        "id": "adPK8JjSny00",
        "outputId": "e970cd4c-4ec2-4e4e-a839-882bbab5989c"
      },
      "outputs": [
        {
          "output_type": "stream",
          "name": "stdout",
          "text": [
            "검정통계량: 0.16666666666666666\n",
            "p-value: 0.999993675397855\n"
          ]
        }
      ],
      "source": [
        "from scipy.stats import fisher_exact\n",
        "\n",
        "stats, p = fisher_exact(table, alternative='greater')\n",
        "\n",
        "# 검정 결과, 귀무가설을 기각할 수 없으며 A와 B의 실력은 차이가 없다는 결론을 얻었다.\n",
        "print(f\"검정통계량: {stats}\")\n",
        "print(f\"p-value: {p}\")"
      ]
    },
    {
      "cell_type": "markdown",
      "metadata": {
        "id": "LJoaPyJmny01"
      },
      "source": [
        "### 동질성 검정 (Test of homogeneity): 여러 (부)모집단 간 여러 수준에 대한 차이\n",
        "- 동질성 검정은 속성 A, B를 가진 부모집단(Sub-population)들로부터 정해진 표본의 크기만큼 자료를 추출하는 경우에 분할표에서 부모집단의 비율이 동일한지 여부를 검정하는 것이다.\n",
        "- **`[가설 설정]`**\n",
        "    - 귀무가설($H_0$): 모든 집단의 분포가 차이가 없다. (동일하다)\n",
        "    - 대립가설($H_1$): 적어도 한 집단은 분포상 서로 차이가 있다. (동일하지 않다)"
      ]
    },
    {
      "cell_type": "markdown",
      "metadata": {
        "id": "GgkRZXFuny01"
      },
      "source": [
        "- (예) 동질성 검정: 프로그램 A, B, C에 대해 연령층별 시청자들의 선호가 다른지 유의수준 5%로 검정\n",
        "    - 귀무가설($H_0$): 프로그램에 대한 연령별 선호에 차이가 없다.\n",
        "    - 대립가설($H_1$): 적어도 한 집단은 차이가 있다."
      ]
    },
    {
      "cell_type": "code",
      "execution_count": 11,
      "metadata": {
        "colab": {
          "base_uri": "https://localhost:8080/",
          "height": 173
        },
        "id": "P8UsmQZqny01",
        "outputId": "dc7190c4-0291-4b12-ac3c-c371ec1f98af"
      },
      "outputs": [
        {
          "output_type": "execute_result",
          "data": {
            "text/plain": [
              "     청년  중년  장년\n",
              "TV             \n",
              "A   120  10  10\n",
              "B    30  75  30\n",
              "C    50  15  60"
            ],
            "text/html": [
              "\n",
              "  <div id=\"df-89b94514-206c-43b5-95e9-de6d1ca6dc66\" class=\"colab-df-container\">\n",
              "    <div>\n",
              "<style scoped>\n",
              "    .dataframe tbody tr th:only-of-type {\n",
              "        vertical-align: middle;\n",
              "    }\n",
              "\n",
              "    .dataframe tbody tr th {\n",
              "        vertical-align: top;\n",
              "    }\n",
              "\n",
              "    .dataframe thead th {\n",
              "        text-align: right;\n",
              "    }\n",
              "</style>\n",
              "<table border=\"1\" class=\"dataframe\">\n",
              "  <thead>\n",
              "    <tr style=\"text-align: right;\">\n",
              "      <th></th>\n",
              "      <th>청년</th>\n",
              "      <th>중년</th>\n",
              "      <th>장년</th>\n",
              "    </tr>\n",
              "    <tr>\n",
              "      <th>TV</th>\n",
              "      <th></th>\n",
              "      <th></th>\n",
              "      <th></th>\n",
              "    </tr>\n",
              "  </thead>\n",
              "  <tbody>\n",
              "    <tr>\n",
              "      <th>A</th>\n",
              "      <td>120</td>\n",
              "      <td>10</td>\n",
              "      <td>10</td>\n",
              "    </tr>\n",
              "    <tr>\n",
              "      <th>B</th>\n",
              "      <td>30</td>\n",
              "      <td>75</td>\n",
              "      <td>30</td>\n",
              "    </tr>\n",
              "    <tr>\n",
              "      <th>C</th>\n",
              "      <td>50</td>\n",
              "      <td>15</td>\n",
              "      <td>60</td>\n",
              "    </tr>\n",
              "  </tbody>\n",
              "</table>\n",
              "</div>\n",
              "    <div class=\"colab-df-buttons\">\n",
              "\n",
              "  <div class=\"colab-df-container\">\n",
              "    <button class=\"colab-df-convert\" onclick=\"convertToInteractive('df-89b94514-206c-43b5-95e9-de6d1ca6dc66')\"\n",
              "            title=\"Convert this dataframe to an interactive table.\"\n",
              "            style=\"display:none;\">\n",
              "\n",
              "  <svg xmlns=\"http://www.w3.org/2000/svg\" height=\"24px\" viewBox=\"0 -960 960 960\">\n",
              "    <path d=\"M120-120v-720h720v720H120Zm60-500h600v-160H180v160Zm220 220h160v-160H400v160Zm0 220h160v-160H400v160ZM180-400h160v-160H180v160Zm440 0h160v-160H620v160ZM180-180h160v-160H180v160Zm440 0h160v-160H620v160Z\"/>\n",
              "  </svg>\n",
              "    </button>\n",
              "\n",
              "  <style>\n",
              "    .colab-df-container {\n",
              "      display:flex;\n",
              "      gap: 12px;\n",
              "    }\n",
              "\n",
              "    .colab-df-convert {\n",
              "      background-color: #E8F0FE;\n",
              "      border: none;\n",
              "      border-radius: 50%;\n",
              "      cursor: pointer;\n",
              "      display: none;\n",
              "      fill: #1967D2;\n",
              "      height: 32px;\n",
              "      padding: 0 0 0 0;\n",
              "      width: 32px;\n",
              "    }\n",
              "\n",
              "    .colab-df-convert:hover {\n",
              "      background-color: #E2EBFA;\n",
              "      box-shadow: 0px 1px 2px rgba(60, 64, 67, 0.3), 0px 1px 3px 1px rgba(60, 64, 67, 0.15);\n",
              "      fill: #174EA6;\n",
              "    }\n",
              "\n",
              "    .colab-df-buttons div {\n",
              "      margin-bottom: 4px;\n",
              "    }\n",
              "\n",
              "    [theme=dark] .colab-df-convert {\n",
              "      background-color: #3B4455;\n",
              "      fill: #D2E3FC;\n",
              "    }\n",
              "\n",
              "    [theme=dark] .colab-df-convert:hover {\n",
              "      background-color: #434B5C;\n",
              "      box-shadow: 0px 1px 3px 1px rgba(0, 0, 0, 0.15);\n",
              "      filter: drop-shadow(0px 1px 2px rgba(0, 0, 0, 0.3));\n",
              "      fill: #FFFFFF;\n",
              "    }\n",
              "  </style>\n",
              "\n",
              "    <script>\n",
              "      const buttonEl =\n",
              "        document.querySelector('#df-89b94514-206c-43b5-95e9-de6d1ca6dc66 button.colab-df-convert');\n",
              "      buttonEl.style.display =\n",
              "        google.colab.kernel.accessAllowed ? 'block' : 'none';\n",
              "\n",
              "      async function convertToInteractive(key) {\n",
              "        const element = document.querySelector('#df-89b94514-206c-43b5-95e9-de6d1ca6dc66');\n",
              "        const dataTable =\n",
              "          await google.colab.kernel.invokeFunction('convertToInteractive',\n",
              "                                                    [key], {});\n",
              "        if (!dataTable) return;\n",
              "\n",
              "        const docLinkHtml = 'Like what you see? Visit the ' +\n",
              "          '<a target=\"_blank\" href=https://colab.research.google.com/notebooks/data_table.ipynb>data table notebook</a>'\n",
              "          + ' to learn more about interactive tables.';\n",
              "        element.innerHTML = '';\n",
              "        dataTable['output_type'] = 'display_data';\n",
              "        await google.colab.output.renderOutput(dataTable, element);\n",
              "        const docLink = document.createElement('div');\n",
              "        docLink.innerHTML = docLinkHtml;\n",
              "        element.appendChild(docLink);\n",
              "      }\n",
              "    </script>\n",
              "  </div>\n",
              "\n",
              "\n",
              "<div id=\"df-3de3f77a-f2e0-4c5a-8310-8d64760a168f\">\n",
              "  <button class=\"colab-df-quickchart\" onclick=\"quickchart('df-3de3f77a-f2e0-4c5a-8310-8d64760a168f')\"\n",
              "            title=\"Suggest charts\"\n",
              "            style=\"display:none;\">\n",
              "\n",
              "<svg xmlns=\"http://www.w3.org/2000/svg\" height=\"24px\"viewBox=\"0 0 24 24\"\n",
              "     width=\"24px\">\n",
              "    <g>\n",
              "        <path d=\"M19 3H5c-1.1 0-2 .9-2 2v14c0 1.1.9 2 2 2h14c1.1 0 2-.9 2-2V5c0-1.1-.9-2-2-2zM9 17H7v-7h2v7zm4 0h-2V7h2v10zm4 0h-2v-4h2v4z\"/>\n",
              "    </g>\n",
              "</svg>\n",
              "  </button>\n",
              "\n",
              "<style>\n",
              "  .colab-df-quickchart {\n",
              "      --bg-color: #E8F0FE;\n",
              "      --fill-color: #1967D2;\n",
              "      --hover-bg-color: #E2EBFA;\n",
              "      --hover-fill-color: #174EA6;\n",
              "      --disabled-fill-color: #AAA;\n",
              "      --disabled-bg-color: #DDD;\n",
              "  }\n",
              "\n",
              "  [theme=dark] .colab-df-quickchart {\n",
              "      --bg-color: #3B4455;\n",
              "      --fill-color: #D2E3FC;\n",
              "      --hover-bg-color: #434B5C;\n",
              "      --hover-fill-color: #FFFFFF;\n",
              "      --disabled-bg-color: #3B4455;\n",
              "      --disabled-fill-color: #666;\n",
              "  }\n",
              "\n",
              "  .colab-df-quickchart {\n",
              "    background-color: var(--bg-color);\n",
              "    border: none;\n",
              "    border-radius: 50%;\n",
              "    cursor: pointer;\n",
              "    display: none;\n",
              "    fill: var(--fill-color);\n",
              "    height: 32px;\n",
              "    padding: 0;\n",
              "    width: 32px;\n",
              "  }\n",
              "\n",
              "  .colab-df-quickchart:hover {\n",
              "    background-color: var(--hover-bg-color);\n",
              "    box-shadow: 0 1px 2px rgba(60, 64, 67, 0.3), 0 1px 3px 1px rgba(60, 64, 67, 0.15);\n",
              "    fill: var(--button-hover-fill-color);\n",
              "  }\n",
              "\n",
              "  .colab-df-quickchart-complete:disabled,\n",
              "  .colab-df-quickchart-complete:disabled:hover {\n",
              "    background-color: var(--disabled-bg-color);\n",
              "    fill: var(--disabled-fill-color);\n",
              "    box-shadow: none;\n",
              "  }\n",
              "\n",
              "  .colab-df-spinner {\n",
              "    border: 2px solid var(--fill-color);\n",
              "    border-color: transparent;\n",
              "    border-bottom-color: var(--fill-color);\n",
              "    animation:\n",
              "      spin 1s steps(1) infinite;\n",
              "  }\n",
              "\n",
              "  @keyframes spin {\n",
              "    0% {\n",
              "      border-color: transparent;\n",
              "      border-bottom-color: var(--fill-color);\n",
              "      border-left-color: var(--fill-color);\n",
              "    }\n",
              "    20% {\n",
              "      border-color: transparent;\n",
              "      border-left-color: var(--fill-color);\n",
              "      border-top-color: var(--fill-color);\n",
              "    }\n",
              "    30% {\n",
              "      border-color: transparent;\n",
              "      border-left-color: var(--fill-color);\n",
              "      border-top-color: var(--fill-color);\n",
              "      border-right-color: var(--fill-color);\n",
              "    }\n",
              "    40% {\n",
              "      border-color: transparent;\n",
              "      border-right-color: var(--fill-color);\n",
              "      border-top-color: var(--fill-color);\n",
              "    }\n",
              "    60% {\n",
              "      border-color: transparent;\n",
              "      border-right-color: var(--fill-color);\n",
              "    }\n",
              "    80% {\n",
              "      border-color: transparent;\n",
              "      border-right-color: var(--fill-color);\n",
              "      border-bottom-color: var(--fill-color);\n",
              "    }\n",
              "    90% {\n",
              "      border-color: transparent;\n",
              "      border-bottom-color: var(--fill-color);\n",
              "    }\n",
              "  }\n",
              "</style>\n",
              "\n",
              "  <script>\n",
              "    async function quickchart(key) {\n",
              "      const quickchartButtonEl =\n",
              "        document.querySelector('#' + key + ' button');\n",
              "      quickchartButtonEl.disabled = true;  // To prevent multiple clicks.\n",
              "      quickchartButtonEl.classList.add('colab-df-spinner');\n",
              "      try {\n",
              "        const charts = await google.colab.kernel.invokeFunction(\n",
              "            'suggestCharts', [key], {});\n",
              "      } catch (error) {\n",
              "        console.error('Error during call to suggestCharts:', error);\n",
              "      }\n",
              "      quickchartButtonEl.classList.remove('colab-df-spinner');\n",
              "      quickchartButtonEl.classList.add('colab-df-quickchart-complete');\n",
              "    }\n",
              "    (() => {\n",
              "      let quickchartButtonEl =\n",
              "        document.querySelector('#df-3de3f77a-f2e0-4c5a-8310-8d64760a168f button');\n",
              "      quickchartButtonEl.style.display =\n",
              "        google.colab.kernel.accessAllowed ? 'block' : 'none';\n",
              "    })();\n",
              "  </script>\n",
              "</div>\n",
              "\n",
              "  <div id=\"id_3f1975bb-f1d3-443e-8505-985f7da3b116\">\n",
              "    <style>\n",
              "      .colab-df-generate {\n",
              "        background-color: #E8F0FE;\n",
              "        border: none;\n",
              "        border-radius: 50%;\n",
              "        cursor: pointer;\n",
              "        display: none;\n",
              "        fill: #1967D2;\n",
              "        height: 32px;\n",
              "        padding: 0 0 0 0;\n",
              "        width: 32px;\n",
              "      }\n",
              "\n",
              "      .colab-df-generate:hover {\n",
              "        background-color: #E2EBFA;\n",
              "        box-shadow: 0px 1px 2px rgba(60, 64, 67, 0.3), 0px 1px 3px 1px rgba(60, 64, 67, 0.15);\n",
              "        fill: #174EA6;\n",
              "      }\n",
              "\n",
              "      [theme=dark] .colab-df-generate {\n",
              "        background-color: #3B4455;\n",
              "        fill: #D2E3FC;\n",
              "      }\n",
              "\n",
              "      [theme=dark] .colab-df-generate:hover {\n",
              "        background-color: #434B5C;\n",
              "        box-shadow: 0px 1px 3px 1px rgba(0, 0, 0, 0.15);\n",
              "        filter: drop-shadow(0px 1px 2px rgba(0, 0, 0, 0.3));\n",
              "        fill: #FFFFFF;\n",
              "      }\n",
              "    </style>\n",
              "    <button class=\"colab-df-generate\" onclick=\"generateWithVariable('table')\"\n",
              "            title=\"Generate code using this dataframe.\"\n",
              "            style=\"display:none;\">\n",
              "\n",
              "  <svg xmlns=\"http://www.w3.org/2000/svg\" height=\"24px\"viewBox=\"0 0 24 24\"\n",
              "       width=\"24px\">\n",
              "    <path d=\"M7,19H8.4L18.45,9,17,7.55,7,17.6ZM5,21V16.75L18.45,3.32a2,2,0,0,1,2.83,0l1.4,1.43a1.91,1.91,0,0,1,.58,1.4,1.91,1.91,0,0,1-.58,1.4L9.25,21ZM18.45,9,17,7.55Zm-12,3A5.31,5.31,0,0,0,4.9,8.1,5.31,5.31,0,0,0,1,6.5,5.31,5.31,0,0,0,4.9,4.9,5.31,5.31,0,0,0,6.5,1,5.31,5.31,0,0,0,8.1,4.9,5.31,5.31,0,0,0,12,6.5,5.46,5.46,0,0,0,6.5,12Z\"/>\n",
              "  </svg>\n",
              "    </button>\n",
              "    <script>\n",
              "      (() => {\n",
              "      const buttonEl =\n",
              "        document.querySelector('#id_3f1975bb-f1d3-443e-8505-985f7da3b116 button.colab-df-generate');\n",
              "      buttonEl.style.display =\n",
              "        google.colab.kernel.accessAllowed ? 'block' : 'none';\n",
              "\n",
              "      buttonEl.onclick = () => {\n",
              "        google.colab.notebook.generateWithVariable('table');\n",
              "      }\n",
              "      })();\n",
              "    </script>\n",
              "  </div>\n",
              "\n",
              "    </div>\n",
              "  </div>\n"
            ],
            "application/vnd.google.colaboratory.intrinsic+json": {
              "type": "dataframe",
              "variable_name": "table",
              "summary": "{\n  \"name\": \"table\",\n  \"rows\": 3,\n  \"fields\": [\n    {\n      \"column\": \"TV\",\n      \"properties\": {\n        \"dtype\": \"string\",\n        \"num_unique_values\": 3,\n        \"samples\": [\n          \"A\",\n          \"B\",\n          \"C\"\n        ],\n        \"semantic_type\": \"\",\n        \"description\": \"\"\n      }\n    },\n    {\n      \"column\": \"\\uccad\\ub144\",\n      \"properties\": {\n        \"dtype\": \"number\",\n        \"std\": 47,\n        \"min\": 30,\n        \"max\": 120,\n        \"num_unique_values\": 3,\n        \"samples\": [\n          120,\n          30,\n          50\n        ],\n        \"semantic_type\": \"\",\n        \"description\": \"\"\n      }\n    },\n    {\n      \"column\": \"\\uc911\\ub144\",\n      \"properties\": {\n        \"dtype\": \"number\",\n        \"std\": 36,\n        \"min\": 10,\n        \"max\": 75,\n        \"num_unique_values\": 3,\n        \"samples\": [\n          10,\n          75,\n          15\n        ],\n        \"semantic_type\": \"\",\n        \"description\": \"\"\n      }\n    },\n    {\n      \"column\": \"\\uc7a5\\ub144\",\n      \"properties\": {\n        \"dtype\": \"number\",\n        \"std\": 25,\n        \"min\": 10,\n        \"max\": 60,\n        \"num_unique_values\": 3,\n        \"samples\": [\n          10,\n          30,\n          60\n        ],\n        \"semantic_type\": \"\",\n        \"description\": \"\"\n      }\n    }\n  ]\n}"
            }
          },
          "metadata": {},
          "execution_count": 11
        }
      ],
      "source": [
        "table = pd.DataFrame({\"TV\" : [\"A\", \"B\", \"C\"], '청년' : [120, 30, 50], '중년' : [10, 75, 15], '장년' : [10, 30, 60]}).set_index(\"TV\")\n",
        "table"
      ]
    },
    {
      "cell_type": "code",
      "execution_count": 12,
      "metadata": {
        "colab": {
          "base_uri": "https://localhost:8080/"
        },
        "id": "PQq9c5ZAny02",
        "outputId": "208e5e03-972b-4c15-bc15-27c3aa21486c"
      },
      "outputs": [
        {
          "output_type": "stream",
          "name": "stdout",
          "text": [
            "기댓값:\n",
            " [[70.   35.   35.  ]\n",
            " [67.5  33.75 33.75]\n",
            " [62.5  31.25 31.25]]\n",
            "관찰값:\n",
            " [[120  10  10]\n",
            " [ 30  75  30]\n",
            " [ 50  15  60]]\n"
          ]
        }
      ],
      "source": [
        "ttl = table.sum().sum()\n",
        "r = table.sum(axis=1).values\n",
        "c = table.sum(axis=0).values\n",
        "\n",
        "exp = []\n",
        "for R in r:\n",
        "    for C in c:\n",
        "        exp.append(R * C / ttl)\n",
        "\n",
        "print(f\"기댓값:\\n {np.array(exp).reshape(table.shape)}\")\n",
        "\n",
        "obs = table.values.ravel()\n",
        "print(f\"관찰값:\\n {np.array(obs).reshape(table.shape)}\")"
      ]
    },
    {
      "cell_type": "code",
      "execution_count": 13,
      "metadata": {
        "colab": {
          "base_uri": "https://localhost:8080/"
        },
        "id": "O0lPsGE5ny03",
        "outputId": "27aec91f-8644-433a-9865-b7373231f44c"
      },
      "outputs": [
        {
          "output_type": "stream",
          "name": "stdout",
          "text": [
            "오른쪽 검정의 임계값: 9.488, 검정통계량: 180.495\n",
            "유의수준: 0.05, 유의확률: 0.0\n"
          ]
        }
      ],
      "source": [
        "from scipy.stats import chi2\n",
        "\n",
        "test_a = 0.05\n",
        "chistat = np.sum((obs-exp)**2 /exp)\n",
        "\n",
        "df = (table.shape[0]-1) * (table.shape[1]-1)\n",
        "sp = 1-chi2.cdf(chistat, df)\n",
        "cv = chi2.ppf(1-test_a, df)\n",
        "\n",
        "print(f\"오른쪽 검정의 임계값: {round(cv, 3)}, 검정통계량: {round(chistat, 3)}\")\n",
        "print(f\"유의수준: {round(test_a, 3)}, 유의확률: {round(sp, 3)}\")"
      ]
    },
    {
      "cell_type": "code",
      "execution_count": 14,
      "metadata": {
        "colab": {
          "base_uri": "https://localhost:8080/"
        },
        "id": "1oCf_mo-ny03",
        "outputId": "790428a9-e8b0-485c-9dee-8327be3bf602"
      },
      "outputs": [
        {
          "output_type": "stream",
          "name": "stdout",
          "text": [
            "검정통계량: 180.495, p-value: 0.0 \n",
            " 기대값:\n",
            " [[70.   35.   35.  ]\n",
            " [67.5  33.75 33.75]\n",
            " [62.5  31.25 31.25]]\n"
          ]
        }
      ],
      "source": [
        "# 라이브러리 검정\n",
        "from scipy.stats import chi2_contingency\n",
        "\n",
        "chi2, p, df, expec = chi2_contingency(table, correction=False)\n",
        "\n",
        "# 검정 결과, 대립가설을 채택하며 적어도 한 집단은 프로그램에 대한 선호가 다르다.\n",
        "print(f\"검정통계량: {round(chi2, 3)}, p-value: {round(p, 3)} \\n 기대값:\\n {expec}\")"
      ]
    },
    {
      "cell_type": "markdown",
      "metadata": {
        "id": "UPtdjghGny03"
      },
      "source": [
        "## 6-2. Run 검정: Run 검정표, Z분포"
      ]
    },
    {
      "cell_type": "markdown",
      "metadata": {
        "id": "EpXomICWny04"
      },
      "source": [
        "### 일표본 Run 검정\n",
        "- 한 개의 샘플이 무작위로 추출되었는지 여부를 검정한다.\n",
        "- 런(Run)이란 동일한 관측값이 연속적으로 이어진 것을 말한다.\n",
        "- 즉, 한 종류의 부호 혹은 한 집단이 시작하여 끝날 때까지의 한 덩어리를 의미한다.\n",
        "- 범주형 데이터의 경우 각 범주의 개수와 run의 개수를 사용하여 검정을 진행하고, 수치형 데이터의 경우 중앙값을 기준으로 데이터를 이진화 한 후 검정을 진행한다."
      ]
    },
    {
      "cell_type": "markdown",
      "metadata": {
        "id": "cZiJXGrBny04"
      },
      "source": [
        "[가설 설정]\n",
        "- 귀무가설($H_0$): 샘플이 무작위와 차이가 없다 (무작위로 추출되었다)\n",
        "- 대립가설($H_1$): 샘플이 무작위와 차이가 있다 (무작위로 추출되지 않았다)"
      ]
    },
    {
      "cell_type": "markdown",
      "metadata": {
        "id": "6gtKArHSny04"
      },
      "source": [
        "#### 범주형 데이터"
      ]
    },
    {
      "cell_type": "code",
      "execution_count": 15,
      "metadata": {
        "colab": {
          "base_uri": "https://localhost:8080/"
        },
        "id": "GXaOL0H1ny05",
        "outputId": "088d0dc7-8a10-4e52-8060-e1bb3848ba1c"
      },
      "outputs": [
        {
          "output_type": "stream",
          "name": "stdout",
          "text": [
            "[데이터 확인]\n",
            "Counter({1: 15, 0: 14})\n"
          ]
        }
      ],
      "source": [
        "from collections import Counter\n",
        "from scipy.stats import norm\n",
        "\n",
        "# run을 세는 함수 정의\n",
        "def count_run(data):\n",
        "    count_run = 1\n",
        "    for i, element in enumerate(data[:-1]):\n",
        "        if element == data[i+1]:\n",
        "            continue\n",
        "        else:\n",
        "            count_run += 1\n",
        "\n",
        "    return count_run\n",
        "\n",
        "data = ['a', 'a', 'b', 'b', 'a', 'a', 'a', 'a', 'b', 'b', 'b', 'b', 'a', 'b', 'a', 'a', 'b', 'b', 'a', 'a', 'b', 'b', 'b', 'a', 'a', 'b', 'b', 'a', 'b']\n",
        "data2 = list(map(lambda x: 0 if x == 'a' else 1, data))\n",
        "a, b = Counter(data2)[0], Counter(data2)[1]\n",
        "print(f\"[데이터 확인]\\n{Counter(data2)}\")"
      ]
    },
    {
      "cell_type": "code",
      "execution_count": 16,
      "metadata": {
        "colab": {
          "base_uri": "https://localhost:8080/"
        },
        "id": "lhfNKeNUny05",
        "outputId": "f6e5e80e-3a37-40b1-f472-43bcd1412e3e"
      },
      "outputs": [
        {
          "output_type": "stream",
          "name": "stdout",
          "text": [
            "[수기 검정]\n",
            " 기댓값: 15.483, 분산: 6.974, Z검정통계량: -0.372, p-value: 0.710\n"
          ]
        }
      ],
      "source": [
        "print(\"[수기 검정]\")\n",
        "n1, n2 = a, b\n",
        "\n",
        "# n1, n2이 충분히 클 때 평균이 avg, 분산이 var인 점근적 정규분포를 따른다\n",
        "run = count_run(data2) # Run의 개수\n",
        "avg = 2*n1*n2/(n1+n2)+1\n",
        "var = 2*n1*n2*(2*n1*n2-n1-n2)/((n1+n2)**2)/(n1+n2-1)\n",
        "\n",
        "# 런의 총개수에 따라서 h의 값을 정함\n",
        "if run < 2*n1*n2/(n1+n2)+0.5:\n",
        "    h = 0.5\n",
        "else:\n",
        "    h = -0.5\n",
        "\n",
        "# n1, n2의 크기에 따라서 Z통계량 공식을 정함\n",
        "if n1 <= 20 or n2 <= 20:\n",
        "    Z = (run-avg+h) / np.sqrt(var) # 소표본인 경우\n",
        "else:\n",
        "    Z = (run-avg) / np.sqrt(var) # 대표본인 경우\n",
        "\n",
        "sp = (1-norm.cdf(np.abs(Z)))*2\n",
        "print(\" 기댓값: {:.3f}, 분산: {:.3f}, Z검정통계량: {:.3f}, p-value: {:.3f}\".format(avg, var, Z, sp))"
      ]
    },
    {
      "cell_type": "code",
      "execution_count": 17,
      "metadata": {
        "colab": {
          "base_uri": "https://localhost:8080/"
        },
        "id": "yyF41jp9ny06",
        "outputId": "dc048682-0e6e-4780-d500-9f0f68413967"
      },
      "outputs": [
        {
          "output_type": "stream",
          "name": "stdout",
          "text": [
            "[0, 0, 1, 1, 0, 0, 0, 0, 1, 1, 1, 1, 0, 1, 0, 0, 1, 1, 0, 0, 1, 1, 1, 0, 0, 1, 1, 0, 1]\n",
            " 검정통계량 -0.372, p-value 0.710\n"
          ]
        }
      ],
      "source": [
        "# 라이브러리 검정을 위해 데이터를 숫자로 변환해야 한다.\n",
        "from statsmodels.sandbox.stats.runs import runstest_1samp\n",
        "\n",
        "print(data2)\n",
        "zstat, pval = runstest_1samp(data2)\n",
        "print(\" 검정통계량 {:.3f}, p-value {:.3f}\".format(zstat, pval))\n",
        "## 검정 결과, 귀무가설을 기각할 수 없으며 샘플이 무작위로 추출되었다는 결론을 얻었다."
      ]
    },
    {
      "cell_type": "markdown",
      "metadata": {
        "id": "M8DfmOwkny07"
      },
      "source": [
        "#### 수치형 데이터"
      ]
    },
    {
      "cell_type": "code",
      "execution_count": 18,
      "metadata": {
        "colab": {
          "base_uri": "https://localhost:8080/"
        },
        "id": "obN3rt1gny08",
        "outputId": "a87f67be-0283-4df2-8173-2bb2323f753f"
      },
      "outputs": [
        {
          "output_type": "stream",
          "name": "stdout",
          "text": [
            "[데이터 확인]\n",
            "Counter({0: 5, 1: 5})\n"
          ]
        }
      ],
      "source": [
        "from collections import Counter\n",
        "\n",
        "# run을 세는 함수 정의\n",
        "def count_run(data):\n",
        "    count_run = 1\n",
        "    for i, element in enumerate(data[:-1]):\n",
        "        if element == data[i+1]:\n",
        "            continue\n",
        "        else:\n",
        "            count_run += 1\n",
        "    return count_run\n",
        "\n",
        "data = [50, 60, 70, 40, 30, 20, 10, 70, 80, 100]\n",
        "median = np.median(data)\n",
        "data2 = []\n",
        "\n",
        "for sample in data: # 값을 중앙값을 기준으로 이진화 함\n",
        "    if sample >= median:\n",
        "        data2.append(1)\n",
        "    else:\n",
        "        data2.append(0)\n",
        "\n",
        "print(f\"[데이터 확인]\\n{Counter(data2)}\")"
      ]
    },
    {
      "cell_type": "code",
      "execution_count": 19,
      "metadata": {
        "colab": {
          "base_uri": "https://localhost:8080/"
        },
        "id": "-_nOfESCny09",
        "outputId": "e093c9e1-7359-4734-aeb7-bf477353ff6f"
      },
      "outputs": [
        {
          "output_type": "stream",
          "name": "stdout",
          "text": [
            "[수기 검정]\n",
            " 기댓값: 6.000, 분산: 2.222, Z검정통계량: -1.006, p-value: 0.314\n"
          ]
        }
      ],
      "source": [
        "print(\"[수기 검정]\")\n",
        "n1 = Counter(data2)[0]\n",
        "n2 = Counter(data2)[1]\n",
        "run = count_run(data2) # Run의 총 개수\n",
        "avg = 2*n1*n2/(n1+n2)+1\n",
        "var = 2*n1*n2*(2*n1*n2-n1-n2)/((n1+n2)**2)/(n1+n2-1)\n",
        "\n",
        "# 런의 총개수에 따라서 h의 값을 정함\n",
        "if run < 2*n1*n2/(n1+n2)+0.5:\n",
        "    h = 0.5\n",
        "else:\n",
        "    h = -0.5\n",
        "\n",
        "# n1, n2의 크기에 따라서 Z통계량 공식을 정함\n",
        "if n1 <= 20 or n2 <= 20:\n",
        "    Z = (run-avg+h) / np.sqrt(var) # 소표본인 경우\n",
        "else:\n",
        "    Z = (run-avg) / np.sqrt(var) # 대표본인 경우\n",
        "sp = (1-norm.cdf(np.abs(Z)))*2\n",
        "\n",
        "print(\" 기댓값: {:.3f}, 분산: {:.3f}, Z검정통계량: {:.3f}, p-value: {:.3f}\".format(avg, var, Z, sp))"
      ]
    },
    {
      "cell_type": "code",
      "execution_count": 20,
      "metadata": {
        "colab": {
          "base_uri": "https://localhost:8080/"
        },
        "id": "9051xy2Kny09",
        "outputId": "24492262-0487-4078-a98d-4cde3b670e3e"
      },
      "outputs": [
        {
          "output_type": "stream",
          "name": "stdout",
          "text": [
            " 검정통계량 -1.006, p-value 0.314\n"
          ]
        }
      ],
      "source": [
        "from statsmodels.sandbox.stats.runs import runstest_1samp\n",
        "\n",
        "zstat, pval = runstest_1samp(data2, cutoff='median')\n",
        "print(\" 검정통계량 {:.3f}, p-value {:.3f}\".format(zstat, pval))\n",
        "# 검정 결과, 귀무가설을 기각할 수 없으며 샘플이 무작위로 추출되었다는 결론을 얻었다."
      ]
    },
    {
      "cell_type": "markdown",
      "metadata": {
        "id": "J9si-mEany0-"
      },
      "source": [
        "### 이표본 Run 검정"
      ]
    },
    {
      "cell_type": "markdown",
      "metadata": {
        "id": "QkxGC6VSny0-"
      },
      "source": [
        "[가설 설정]\n",
        "- 귀무가설($H_0$): 두 데이터는 같은 분포에서 왔다\n",
        "- 대립가설($H_1$): 두 데이터는 다른 분포에서 왔다"
      ]
    },
    {
      "cell_type": "markdown",
      "metadata": {
        "id": "cKzMY4CAny0_"
      },
      "source": [
        "#### 수치형 데이터"
      ]
    },
    {
      "cell_type": "code",
      "execution_count": 21,
      "metadata": {
        "colab": {
          "base_uri": "https://localhost:8080/"
        },
        "id": "sM2G9kzUny1A",
        "outputId": "6d662635-3201-438c-e44b-97a2259aa739"
      },
      "outputs": [
        {
          "output_type": "stream",
          "name": "stdout",
          "text": [
            "[데이터 확인]\n",
            "Counter({23.0: 1, 42.0: 1, 36.0: 1, 27.0: 1, 48.0: 1, 52.0: 1, 35.0: 1, 31.0: 1}) \n",
            " Counter({43.0: 1, 56.0: 1, 38.0: 1, 20.0: 1, 46.0: 1, 51.0: 1, 36.0: 1})\n"
          ]
        }
      ],
      "source": [
        "# run을 세는 함수 정의\n",
        "def count_run(data):\n",
        "    count_run = 1\n",
        "    for i, element in enumerate(data[:-1]):\n",
        "        if element == data[i+1]:\n",
        "            continue\n",
        "        else:\n",
        "            count_run += 1\n",
        "    return count_run\n",
        "\n",
        "data1 = [23, 42, 36, 27, 48, 52, 35, 31]\n",
        "data2 = [43, 56, 38, 20, 46, 51, 36]\n",
        "\n",
        "# 라이브러리 검정을 위해 데이터 타입을 float으로 변환시켜 주어야 한다.\n",
        "data1 = list(map(lambda x: float(x), data1))\n",
        "data2 = list(map(lambda x: float(x), data2))\n",
        "print(f\"[데이터 확인]\\n{Counter(data1)} \\n {Counter(data2)}\")"
      ]
    },
    {
      "cell_type": "code",
      "execution_count": 22,
      "metadata": {
        "colab": {
          "base_uri": "https://localhost:8080/"
        },
        "id": "oE1H8z0xny1A",
        "outputId": "190c674e-b47c-4e21-f36b-a10a0586a3f0"
      },
      "outputs": [
        {
          "output_type": "stream",
          "name": "stdout",
          "text": [
            "[데이터 확인]\n",
            "Counter({1: 8, 0: 7})\n"
          ]
        }
      ],
      "source": [
        "data = data1 + data2\n",
        "median = np.median(data)\n",
        "\n",
        "data3 = [1 if i >= median else 0 for i in data] # 중앙값을 기준으로 이진화 함\n",
        "print(f\"[데이터 확인]\\n{Counter(data3)}\")"
      ]
    },
    {
      "cell_type": "code",
      "execution_count": 23,
      "metadata": {
        "colab": {
          "base_uri": "https://localhost:8080/"
        },
        "id": "8-z7-0o4ny1B",
        "outputId": "8a7182ac-6a31-48d8-e8f9-8e3542e42f76"
      },
      "outputs": [
        {
          "output_type": "stream",
          "name": "stdout",
          "text": [
            "[수기 검정]\n",
            " 기댓값: 8.467, 분산: 3.449, Z검정통계량: 0.018, p-value: 0.986\n"
          ]
        }
      ],
      "source": [
        "print(\"[수기 검정]\")\n",
        "n1 = Counter(data3)[0]\n",
        "n2 = Counter(data3)[1]\n",
        "run = count_run(data3) # Run의 총 개수\n",
        "\n",
        "avg = 2*n1*n2/(n1+n2)+1\n",
        "var = 2*n1*n2*(2*n1*n2-n1-n2)/((n1+n2)**2)/(n1+n2-1)\n",
        "\n",
        "# 런의 총개수에 따라서 h의 값을 정함\n",
        "if run < 2*n1*n2/(n1+n2)+0.5:\n",
        "    h = 0.5\n",
        "else:\n",
        "    h = -0.5\n",
        "\n",
        "# n1, n2의 크기에 따라서 Z통계량 공식을 정함\n",
        "if n1 <= 20 or n2 <= 20:\n",
        "    Z = (run-avg+h) / np.sqrt(var) # 소표본인 경우\n",
        "else:\n",
        "    Z = (run-avg) / np.sqrt(var) # 대표본인 경우\n",
        "sp = (1-norm.cdf(np.abs(Z)))*2\n",
        "\n",
        "print(\" 기댓값: {:.3f}, 분산: {:.3f}, Z검정통계량: {:.3f}, p-value: {:.3f}\".format(avg, var, Z, sp))"
      ]
    },
    {
      "cell_type": "code",
      "execution_count": 24,
      "metadata": {
        "colab": {
          "base_uri": "https://localhost:8080/"
        },
        "id": "eI9Y5dQ7ny1C",
        "outputId": "8f4cf9bf-6949-4b57-90c7-a76e93c41e17"
      },
      "outputs": [
        {
          "output_type": "stream",
          "name": "stdout",
          "text": [
            "ties detected\n",
            " 검정통계량 0.018, p-value 0.986\n",
            "\n"
          ]
        }
      ],
      "source": [
        "from statsmodels.sandbox.stats.runs import runstest_2samp\n",
        "\n",
        "zstat, pval = runstest_2samp(data1, data2)\n",
        "print(\" 검정통계량 {:.3f}, p-value {:.3f}\\n\".format(zstat, pval))\n",
        "## 검정 결과, 두 데이터가 같은 분포에서 왔다는 결론을 얻었다."
      ]
    },
    {
      "cell_type": "markdown",
      "metadata": {
        "id": "caqO7aTCny1C"
      },
      "source": [
        "## 6-3. 이항변수 데이터 검정: 카이제곱분포"
      ]
    },
    {
      "cell_type": "markdown",
      "metadata": {
        "id": "ICpirq9Any1D"
      },
      "source": [
        "### 맥니머 검정 (McNemar's test)\n",
        "- 맥니머 검정은 이항변수인 두 변수의 대응관계(Paired)가 있는 데이터 분포의 차이를 검정할 때 사용한다.\n",
        "- **`[가설 설정]`**\n",
        "    - 귀무가설($H_0$): 두 변수의 데이터 분포는 차이가 없다.\n",
        "    - 대립가설($H_1$): 두 변수의 데이터 분포는 차이가 있다."
      ]
    },
    {
      "cell_type": "markdown",
      "metadata": {
        "id": "ARlFyPM8ny1D"
      },
      "source": [
        "- (예) 프로모션 행사 전후로 상품에 대한 흥미 유무 데이터"
      ]
    },
    {
      "cell_type": "code",
      "execution_count": 25,
      "metadata": {
        "colab": {
          "base_uri": "https://localhost:8080/",
          "height": 125
        },
        "id": "Q3CM3fZGny1D",
        "outputId": "04e041f3-21e4-422e-d76c-52aa30453b8b"
      },
      "outputs": [
        {
          "output_type": "execute_result",
          "data": {
            "text/plain": [
              "        후_흥미있음  후_흥미없음\n",
              "전_흥미있음       9      12\n",
              "전_흥미없음      24      35"
            ],
            "text/html": [
              "\n",
              "  <div id=\"df-5fab56a6-bc4e-4f17-9259-1d3869412a99\" class=\"colab-df-container\">\n",
              "    <div>\n",
              "<style scoped>\n",
              "    .dataframe tbody tr th:only-of-type {\n",
              "        vertical-align: middle;\n",
              "    }\n",
              "\n",
              "    .dataframe tbody tr th {\n",
              "        vertical-align: top;\n",
              "    }\n",
              "\n",
              "    .dataframe thead th {\n",
              "        text-align: right;\n",
              "    }\n",
              "</style>\n",
              "<table border=\"1\" class=\"dataframe\">\n",
              "  <thead>\n",
              "    <tr style=\"text-align: right;\">\n",
              "      <th></th>\n",
              "      <th>후_흥미있음</th>\n",
              "      <th>후_흥미없음</th>\n",
              "    </tr>\n",
              "  </thead>\n",
              "  <tbody>\n",
              "    <tr>\n",
              "      <th>전_흥미있음</th>\n",
              "      <td>9</td>\n",
              "      <td>12</td>\n",
              "    </tr>\n",
              "    <tr>\n",
              "      <th>전_흥미없음</th>\n",
              "      <td>24</td>\n",
              "      <td>35</td>\n",
              "    </tr>\n",
              "  </tbody>\n",
              "</table>\n",
              "</div>\n",
              "    <div class=\"colab-df-buttons\">\n",
              "\n",
              "  <div class=\"colab-df-container\">\n",
              "    <button class=\"colab-df-convert\" onclick=\"convertToInteractive('df-5fab56a6-bc4e-4f17-9259-1d3869412a99')\"\n",
              "            title=\"Convert this dataframe to an interactive table.\"\n",
              "            style=\"display:none;\">\n",
              "\n",
              "  <svg xmlns=\"http://www.w3.org/2000/svg\" height=\"24px\" viewBox=\"0 -960 960 960\">\n",
              "    <path d=\"M120-120v-720h720v720H120Zm60-500h600v-160H180v160Zm220 220h160v-160H400v160Zm0 220h160v-160H400v160ZM180-400h160v-160H180v160Zm440 0h160v-160H620v160ZM180-180h160v-160H180v160Zm440 0h160v-160H620v160Z\"/>\n",
              "  </svg>\n",
              "    </button>\n",
              "\n",
              "  <style>\n",
              "    .colab-df-container {\n",
              "      display:flex;\n",
              "      gap: 12px;\n",
              "    }\n",
              "\n",
              "    .colab-df-convert {\n",
              "      background-color: #E8F0FE;\n",
              "      border: none;\n",
              "      border-radius: 50%;\n",
              "      cursor: pointer;\n",
              "      display: none;\n",
              "      fill: #1967D2;\n",
              "      height: 32px;\n",
              "      padding: 0 0 0 0;\n",
              "      width: 32px;\n",
              "    }\n",
              "\n",
              "    .colab-df-convert:hover {\n",
              "      background-color: #E2EBFA;\n",
              "      box-shadow: 0px 1px 2px rgba(60, 64, 67, 0.3), 0px 1px 3px 1px rgba(60, 64, 67, 0.15);\n",
              "      fill: #174EA6;\n",
              "    }\n",
              "\n",
              "    .colab-df-buttons div {\n",
              "      margin-bottom: 4px;\n",
              "    }\n",
              "\n",
              "    [theme=dark] .colab-df-convert {\n",
              "      background-color: #3B4455;\n",
              "      fill: #D2E3FC;\n",
              "    }\n",
              "\n",
              "    [theme=dark] .colab-df-convert:hover {\n",
              "      background-color: #434B5C;\n",
              "      box-shadow: 0px 1px 3px 1px rgba(0, 0, 0, 0.15);\n",
              "      filter: drop-shadow(0px 1px 2px rgba(0, 0, 0, 0.3));\n",
              "      fill: #FFFFFF;\n",
              "    }\n",
              "  </style>\n",
              "\n",
              "    <script>\n",
              "      const buttonEl =\n",
              "        document.querySelector('#df-5fab56a6-bc4e-4f17-9259-1d3869412a99 button.colab-df-convert');\n",
              "      buttonEl.style.display =\n",
              "        google.colab.kernel.accessAllowed ? 'block' : 'none';\n",
              "\n",
              "      async function convertToInteractive(key) {\n",
              "        const element = document.querySelector('#df-5fab56a6-bc4e-4f17-9259-1d3869412a99');\n",
              "        const dataTable =\n",
              "          await google.colab.kernel.invokeFunction('convertToInteractive',\n",
              "                                                    [key], {});\n",
              "        if (!dataTable) return;\n",
              "\n",
              "        const docLinkHtml = 'Like what you see? Visit the ' +\n",
              "          '<a target=\"_blank\" href=https://colab.research.google.com/notebooks/data_table.ipynb>data table notebook</a>'\n",
              "          + ' to learn more about interactive tables.';\n",
              "        element.innerHTML = '';\n",
              "        dataTable['output_type'] = 'display_data';\n",
              "        await google.colab.output.renderOutput(dataTable, element);\n",
              "        const docLink = document.createElement('div');\n",
              "        docLink.innerHTML = docLinkHtml;\n",
              "        element.appendChild(docLink);\n",
              "      }\n",
              "    </script>\n",
              "  </div>\n",
              "\n",
              "\n",
              "<div id=\"df-4dca561a-23f1-407f-a1af-43769dbf52a5\">\n",
              "  <button class=\"colab-df-quickchart\" onclick=\"quickchart('df-4dca561a-23f1-407f-a1af-43769dbf52a5')\"\n",
              "            title=\"Suggest charts\"\n",
              "            style=\"display:none;\">\n",
              "\n",
              "<svg xmlns=\"http://www.w3.org/2000/svg\" height=\"24px\"viewBox=\"0 0 24 24\"\n",
              "     width=\"24px\">\n",
              "    <g>\n",
              "        <path d=\"M19 3H5c-1.1 0-2 .9-2 2v14c0 1.1.9 2 2 2h14c1.1 0 2-.9 2-2V5c0-1.1-.9-2-2-2zM9 17H7v-7h2v7zm4 0h-2V7h2v10zm4 0h-2v-4h2v4z\"/>\n",
              "    </g>\n",
              "</svg>\n",
              "  </button>\n",
              "\n",
              "<style>\n",
              "  .colab-df-quickchart {\n",
              "      --bg-color: #E8F0FE;\n",
              "      --fill-color: #1967D2;\n",
              "      --hover-bg-color: #E2EBFA;\n",
              "      --hover-fill-color: #174EA6;\n",
              "      --disabled-fill-color: #AAA;\n",
              "      --disabled-bg-color: #DDD;\n",
              "  }\n",
              "\n",
              "  [theme=dark] .colab-df-quickchart {\n",
              "      --bg-color: #3B4455;\n",
              "      --fill-color: #D2E3FC;\n",
              "      --hover-bg-color: #434B5C;\n",
              "      --hover-fill-color: #FFFFFF;\n",
              "      --disabled-bg-color: #3B4455;\n",
              "      --disabled-fill-color: #666;\n",
              "  }\n",
              "\n",
              "  .colab-df-quickchart {\n",
              "    background-color: var(--bg-color);\n",
              "    border: none;\n",
              "    border-radius: 50%;\n",
              "    cursor: pointer;\n",
              "    display: none;\n",
              "    fill: var(--fill-color);\n",
              "    height: 32px;\n",
              "    padding: 0;\n",
              "    width: 32px;\n",
              "  }\n",
              "\n",
              "  .colab-df-quickchart:hover {\n",
              "    background-color: var(--hover-bg-color);\n",
              "    box-shadow: 0 1px 2px rgba(60, 64, 67, 0.3), 0 1px 3px 1px rgba(60, 64, 67, 0.15);\n",
              "    fill: var(--button-hover-fill-color);\n",
              "  }\n",
              "\n",
              "  .colab-df-quickchart-complete:disabled,\n",
              "  .colab-df-quickchart-complete:disabled:hover {\n",
              "    background-color: var(--disabled-bg-color);\n",
              "    fill: var(--disabled-fill-color);\n",
              "    box-shadow: none;\n",
              "  }\n",
              "\n",
              "  .colab-df-spinner {\n",
              "    border: 2px solid var(--fill-color);\n",
              "    border-color: transparent;\n",
              "    border-bottom-color: var(--fill-color);\n",
              "    animation:\n",
              "      spin 1s steps(1) infinite;\n",
              "  }\n",
              "\n",
              "  @keyframes spin {\n",
              "    0% {\n",
              "      border-color: transparent;\n",
              "      border-bottom-color: var(--fill-color);\n",
              "      border-left-color: var(--fill-color);\n",
              "    }\n",
              "    20% {\n",
              "      border-color: transparent;\n",
              "      border-left-color: var(--fill-color);\n",
              "      border-top-color: var(--fill-color);\n",
              "    }\n",
              "    30% {\n",
              "      border-color: transparent;\n",
              "      border-left-color: var(--fill-color);\n",
              "      border-top-color: var(--fill-color);\n",
              "      border-right-color: var(--fill-color);\n",
              "    }\n",
              "    40% {\n",
              "      border-color: transparent;\n",
              "      border-right-color: var(--fill-color);\n",
              "      border-top-color: var(--fill-color);\n",
              "    }\n",
              "    60% {\n",
              "      border-color: transparent;\n",
              "      border-right-color: var(--fill-color);\n",
              "    }\n",
              "    80% {\n",
              "      border-color: transparent;\n",
              "      border-right-color: var(--fill-color);\n",
              "      border-bottom-color: var(--fill-color);\n",
              "    }\n",
              "    90% {\n",
              "      border-color: transparent;\n",
              "      border-bottom-color: var(--fill-color);\n",
              "    }\n",
              "  }\n",
              "</style>\n",
              "\n",
              "  <script>\n",
              "    async function quickchart(key) {\n",
              "      const quickchartButtonEl =\n",
              "        document.querySelector('#' + key + ' button');\n",
              "      quickchartButtonEl.disabled = true;  // To prevent multiple clicks.\n",
              "      quickchartButtonEl.classList.add('colab-df-spinner');\n",
              "      try {\n",
              "        const charts = await google.colab.kernel.invokeFunction(\n",
              "            'suggestCharts', [key], {});\n",
              "      } catch (error) {\n",
              "        console.error('Error during call to suggestCharts:', error);\n",
              "      }\n",
              "      quickchartButtonEl.classList.remove('colab-df-spinner');\n",
              "      quickchartButtonEl.classList.add('colab-df-quickchart-complete');\n",
              "    }\n",
              "    (() => {\n",
              "      let quickchartButtonEl =\n",
              "        document.querySelector('#df-4dca561a-23f1-407f-a1af-43769dbf52a5 button');\n",
              "      quickchartButtonEl.style.display =\n",
              "        google.colab.kernel.accessAllowed ? 'block' : 'none';\n",
              "    })();\n",
              "  </script>\n",
              "</div>\n",
              "\n",
              "  <div id=\"id_0d7eceac-b282-434c-961d-b08bd1d65ea1\">\n",
              "    <style>\n",
              "      .colab-df-generate {\n",
              "        background-color: #E8F0FE;\n",
              "        border: none;\n",
              "        border-radius: 50%;\n",
              "        cursor: pointer;\n",
              "        display: none;\n",
              "        fill: #1967D2;\n",
              "        height: 32px;\n",
              "        padding: 0 0 0 0;\n",
              "        width: 32px;\n",
              "      }\n",
              "\n",
              "      .colab-df-generate:hover {\n",
              "        background-color: #E2EBFA;\n",
              "        box-shadow: 0px 1px 2px rgba(60, 64, 67, 0.3), 0px 1px 3px 1px rgba(60, 64, 67, 0.15);\n",
              "        fill: #174EA6;\n",
              "      }\n",
              "\n",
              "      [theme=dark] .colab-df-generate {\n",
              "        background-color: #3B4455;\n",
              "        fill: #D2E3FC;\n",
              "      }\n",
              "\n",
              "      [theme=dark] .colab-df-generate:hover {\n",
              "        background-color: #434B5C;\n",
              "        box-shadow: 0px 1px 3px 1px rgba(0, 0, 0, 0.15);\n",
              "        filter: drop-shadow(0px 1px 2px rgba(0, 0, 0, 0.3));\n",
              "        fill: #FFFFFF;\n",
              "      }\n",
              "    </style>\n",
              "    <button class=\"colab-df-generate\" onclick=\"generateWithVariable('table')\"\n",
              "            title=\"Generate code using this dataframe.\"\n",
              "            style=\"display:none;\">\n",
              "\n",
              "  <svg xmlns=\"http://www.w3.org/2000/svg\" height=\"24px\"viewBox=\"0 0 24 24\"\n",
              "       width=\"24px\">\n",
              "    <path d=\"M7,19H8.4L18.45,9,17,7.55,7,17.6ZM5,21V16.75L18.45,3.32a2,2,0,0,1,2.83,0l1.4,1.43a1.91,1.91,0,0,1,.58,1.4,1.91,1.91,0,0,1-.58,1.4L9.25,21ZM18.45,9,17,7.55Zm-12,3A5.31,5.31,0,0,0,4.9,8.1,5.31,5.31,0,0,0,1,6.5,5.31,5.31,0,0,0,4.9,4.9,5.31,5.31,0,0,0,6.5,1,5.31,5.31,0,0,0,8.1,4.9,5.31,5.31,0,0,0,12,6.5,5.46,5.46,0,0,0,6.5,12Z\"/>\n",
              "  </svg>\n",
              "    </button>\n",
              "    <script>\n",
              "      (() => {\n",
              "      const buttonEl =\n",
              "        document.querySelector('#id_0d7eceac-b282-434c-961d-b08bd1d65ea1 button.colab-df-generate');\n",
              "      buttonEl.style.display =\n",
              "        google.colab.kernel.accessAllowed ? 'block' : 'none';\n",
              "\n",
              "      buttonEl.onclick = () => {\n",
              "        google.colab.notebook.generateWithVariable('table');\n",
              "      }\n",
              "      })();\n",
              "    </script>\n",
              "  </div>\n",
              "\n",
              "    </div>\n",
              "  </div>\n"
            ],
            "application/vnd.google.colaboratory.intrinsic+json": {
              "type": "dataframe",
              "variable_name": "table",
              "summary": "{\n  \"name\": \"table\",\n  \"rows\": 2,\n  \"fields\": [\n    {\n      \"column\": \"\\ud6c4_\\ud765\\ubbf8\\uc788\\uc74c\",\n      \"properties\": {\n        \"dtype\": \"number\",\n        \"std\": 10,\n        \"min\": 9,\n        \"max\": 24,\n        \"num_unique_values\": 2,\n        \"samples\": [\n          24,\n          9\n        ],\n        \"semantic_type\": \"\",\n        \"description\": \"\"\n      }\n    },\n    {\n      \"column\": \"\\ud6c4_\\ud765\\ubbf8\\uc5c6\\uc74c\",\n      \"properties\": {\n        \"dtype\": \"number\",\n        \"std\": 16,\n        \"min\": 12,\n        \"max\": 35,\n        \"num_unique_values\": 2,\n        \"samples\": [\n          35,\n          12\n        ],\n        \"semantic_type\": \"\",\n        \"description\": \"\"\n      }\n    }\n  ]\n}"
            }
          },
          "metadata": {},
          "execution_count": 25
        }
      ],
      "source": [
        "table = pd.DataFrame([[9, 12], [24, 35]], index=['전_흥미있음', '전_흥미없음'], columns=['후_흥미있음', '후_흥미없음'])\n",
        "table"
      ]
    },
    {
      "cell_type": "code",
      "execution_count": 26,
      "metadata": {
        "colab": {
          "base_uri": "https://localhost:8080/"
        },
        "id": "oRAjJ705ny1D",
        "outputId": "24711453-20e9-4741-89b7-d631625433af"
      },
      "outputs": [
        {
          "output_type": "stream",
          "name": "stdout",
          "text": [
            "[수기 검정]\n",
            " 검정통계량 4.000, p-value 0.046\n"
          ]
        }
      ],
      "source": [
        "# H0: 흥미가 없다가 있게 된 경우와 있다가 없게 된 경우의 분포가 동일하다\n",
        "# H1: 두 경우의 분포가 다르다\n",
        "\n",
        "print(\"[수기 검정]\") # 변화가 있는 b와 c에 주목하고 변화가 없는 대각선 값은 무시\n",
        "from scipy.stats import chi2\n",
        "b = table.values[0][1]\n",
        "c = table.values[1][0]\n",
        "stat = (b-c)**2 / (b+c)\n",
        "alpha = 0.05\n",
        "df = 1\n",
        "pval = 1 - chi2.cdf(stat, df)\n",
        "print(\" 검정통계량 {:.3f}, p-value {:.3f}\".format(stat, pval))"
      ]
    },
    {
      "cell_type": "code",
      "execution_count": 27,
      "metadata": {
        "colab": {
          "base_uri": "https://localhost:8080/"
        },
        "id": "Hq-sXHgdny1E",
        "outputId": "de3940fc-c34a-4261-9eba-a7a25eaad2fe"
      },
      "outputs": [
        {
          "output_type": "stream",
          "name": "stdout",
          "text": [
            "[라이브러리 검정]\n",
            " 검정통계량 4.000, p-value 0.046\n"
          ]
        }
      ],
      "source": [
        "print(\"[라이브러리 검정]\")\n",
        "\n",
        "from statsmodels.stats.contingency_tables import mcnemar\n",
        "\n",
        "# 파라미터 exact 값이 True이면 이항분포, False이면 카이제곱분포를 사용한다.\n",
        "mc = mcnemar(table.values, exact=False, correction = False)\n",
        "\n",
        "print(\" 검정통계량 {:.3f}, p-value {:.3f}\".format(mc.statistic, mc.pvalue))\n",
        "## 검정 결과, 대립가설을 채택하며 이벤트의 효과가 있었다는 결론을 얻었다."
      ]
    },
    {
      "cell_type": "markdown",
      "metadata": {
        "id": "WuMi_YuNny1E"
      },
      "source": [
        "### 코크란Q 검정 (Cochran's Q test)\n",
        "- 코크란Q 검정은 이항변수인 세 변수 이상의 대응관계(Paired)가 있는 데이터 분포의 차이를 검정할 때 사용한다.\n",
        "- 대응 관계가 있는 일원배치 분산분석의 비모수 버전이다.\n",
        "- **`[가설 설정]`**\n",
        "    - 귀무가설($H_0$): 각 변수의 데이터 분포는 차이가 없다.\n",
        "    - 대립가설($H_1$): 적어도 한 쌍의 변수의 데이터 분포는 차이가 있다."
      ]
    },
    {
      "cell_type": "markdown",
      "metadata": {
        "id": "0FOonPxtny1F"
      },
      "source": [
        "- (예1) 연예인 3명에 대한 호감도 데이터를 얻기 위해 8명에게 설문 조사를 실시하였다. 연예인에 대한 호감도 비율에 차이가 있는가?"
      ]
    },
    {
      "cell_type": "code",
      "execution_count": 28,
      "metadata": {
        "colab": {
          "base_uri": "https://localhost:8080/",
          "height": 297
        },
        "id": "Qnx2N8q5ny1F",
        "outputId": "20307594-be58-4d84-e84a-6cbb6b4f69b2"
      },
      "outputs": [
        {
          "output_type": "execute_result",
          "data": {
            "text/plain": [
              "   가수1  가수2  가수3\n",
              "1    0    1    0\n",
              "2    1    1    1\n",
              "3    0    0    1\n",
              "4    1    1    1\n",
              "5    0    0    1\n",
              "6    0    0    1\n",
              "7    0    1    1\n",
              "8    0    1    1"
            ],
            "text/html": [
              "\n",
              "  <div id=\"df-a51f4073-027a-4365-a952-6f549e4a724b\" class=\"colab-df-container\">\n",
              "    <div>\n",
              "<style scoped>\n",
              "    .dataframe tbody tr th:only-of-type {\n",
              "        vertical-align: middle;\n",
              "    }\n",
              "\n",
              "    .dataframe tbody tr th {\n",
              "        vertical-align: top;\n",
              "    }\n",
              "\n",
              "    .dataframe thead th {\n",
              "        text-align: right;\n",
              "    }\n",
              "</style>\n",
              "<table border=\"1\" class=\"dataframe\">\n",
              "  <thead>\n",
              "    <tr style=\"text-align: right;\">\n",
              "      <th></th>\n",
              "      <th>가수1</th>\n",
              "      <th>가수2</th>\n",
              "      <th>가수3</th>\n",
              "    </tr>\n",
              "  </thead>\n",
              "  <tbody>\n",
              "    <tr>\n",
              "      <th>1</th>\n",
              "      <td>0</td>\n",
              "      <td>1</td>\n",
              "      <td>0</td>\n",
              "    </tr>\n",
              "    <tr>\n",
              "      <th>2</th>\n",
              "      <td>1</td>\n",
              "      <td>1</td>\n",
              "      <td>1</td>\n",
              "    </tr>\n",
              "    <tr>\n",
              "      <th>3</th>\n",
              "      <td>0</td>\n",
              "      <td>0</td>\n",
              "      <td>1</td>\n",
              "    </tr>\n",
              "    <tr>\n",
              "      <th>4</th>\n",
              "      <td>1</td>\n",
              "      <td>1</td>\n",
              "      <td>1</td>\n",
              "    </tr>\n",
              "    <tr>\n",
              "      <th>5</th>\n",
              "      <td>0</td>\n",
              "      <td>0</td>\n",
              "      <td>1</td>\n",
              "    </tr>\n",
              "    <tr>\n",
              "      <th>6</th>\n",
              "      <td>0</td>\n",
              "      <td>0</td>\n",
              "      <td>1</td>\n",
              "    </tr>\n",
              "    <tr>\n",
              "      <th>7</th>\n",
              "      <td>0</td>\n",
              "      <td>1</td>\n",
              "      <td>1</td>\n",
              "    </tr>\n",
              "    <tr>\n",
              "      <th>8</th>\n",
              "      <td>0</td>\n",
              "      <td>1</td>\n",
              "      <td>1</td>\n",
              "    </tr>\n",
              "  </tbody>\n",
              "</table>\n",
              "</div>\n",
              "    <div class=\"colab-df-buttons\">\n",
              "\n",
              "  <div class=\"colab-df-container\">\n",
              "    <button class=\"colab-df-convert\" onclick=\"convertToInteractive('df-a51f4073-027a-4365-a952-6f549e4a724b')\"\n",
              "            title=\"Convert this dataframe to an interactive table.\"\n",
              "            style=\"display:none;\">\n",
              "\n",
              "  <svg xmlns=\"http://www.w3.org/2000/svg\" height=\"24px\" viewBox=\"0 -960 960 960\">\n",
              "    <path d=\"M120-120v-720h720v720H120Zm60-500h600v-160H180v160Zm220 220h160v-160H400v160Zm0 220h160v-160H400v160ZM180-400h160v-160H180v160Zm440 0h160v-160H620v160ZM180-180h160v-160H180v160Zm440 0h160v-160H620v160Z\"/>\n",
              "  </svg>\n",
              "    </button>\n",
              "\n",
              "  <style>\n",
              "    .colab-df-container {\n",
              "      display:flex;\n",
              "      gap: 12px;\n",
              "    }\n",
              "\n",
              "    .colab-df-convert {\n",
              "      background-color: #E8F0FE;\n",
              "      border: none;\n",
              "      border-radius: 50%;\n",
              "      cursor: pointer;\n",
              "      display: none;\n",
              "      fill: #1967D2;\n",
              "      height: 32px;\n",
              "      padding: 0 0 0 0;\n",
              "      width: 32px;\n",
              "    }\n",
              "\n",
              "    .colab-df-convert:hover {\n",
              "      background-color: #E2EBFA;\n",
              "      box-shadow: 0px 1px 2px rgba(60, 64, 67, 0.3), 0px 1px 3px 1px rgba(60, 64, 67, 0.15);\n",
              "      fill: #174EA6;\n",
              "    }\n",
              "\n",
              "    .colab-df-buttons div {\n",
              "      margin-bottom: 4px;\n",
              "    }\n",
              "\n",
              "    [theme=dark] .colab-df-convert {\n",
              "      background-color: #3B4455;\n",
              "      fill: #D2E3FC;\n",
              "    }\n",
              "\n",
              "    [theme=dark] .colab-df-convert:hover {\n",
              "      background-color: #434B5C;\n",
              "      box-shadow: 0px 1px 3px 1px rgba(0, 0, 0, 0.15);\n",
              "      filter: drop-shadow(0px 1px 2px rgba(0, 0, 0, 0.3));\n",
              "      fill: #FFFFFF;\n",
              "    }\n",
              "  </style>\n",
              "\n",
              "    <script>\n",
              "      const buttonEl =\n",
              "        document.querySelector('#df-a51f4073-027a-4365-a952-6f549e4a724b button.colab-df-convert');\n",
              "      buttonEl.style.display =\n",
              "        google.colab.kernel.accessAllowed ? 'block' : 'none';\n",
              "\n",
              "      async function convertToInteractive(key) {\n",
              "        const element = document.querySelector('#df-a51f4073-027a-4365-a952-6f549e4a724b');\n",
              "        const dataTable =\n",
              "          await google.colab.kernel.invokeFunction('convertToInteractive',\n",
              "                                                    [key], {});\n",
              "        if (!dataTable) return;\n",
              "\n",
              "        const docLinkHtml = 'Like what you see? Visit the ' +\n",
              "          '<a target=\"_blank\" href=https://colab.research.google.com/notebooks/data_table.ipynb>data table notebook</a>'\n",
              "          + ' to learn more about interactive tables.';\n",
              "        element.innerHTML = '';\n",
              "        dataTable['output_type'] = 'display_data';\n",
              "        await google.colab.output.renderOutput(dataTable, element);\n",
              "        const docLink = document.createElement('div');\n",
              "        docLink.innerHTML = docLinkHtml;\n",
              "        element.appendChild(docLink);\n",
              "      }\n",
              "    </script>\n",
              "  </div>\n",
              "\n",
              "\n",
              "<div id=\"df-300816ac-6338-49aa-9986-97b380981a54\">\n",
              "  <button class=\"colab-df-quickchart\" onclick=\"quickchart('df-300816ac-6338-49aa-9986-97b380981a54')\"\n",
              "            title=\"Suggest charts\"\n",
              "            style=\"display:none;\">\n",
              "\n",
              "<svg xmlns=\"http://www.w3.org/2000/svg\" height=\"24px\"viewBox=\"0 0 24 24\"\n",
              "     width=\"24px\">\n",
              "    <g>\n",
              "        <path d=\"M19 3H5c-1.1 0-2 .9-2 2v14c0 1.1.9 2 2 2h14c1.1 0 2-.9 2-2V5c0-1.1-.9-2-2-2zM9 17H7v-7h2v7zm4 0h-2V7h2v10zm4 0h-2v-4h2v4z\"/>\n",
              "    </g>\n",
              "</svg>\n",
              "  </button>\n",
              "\n",
              "<style>\n",
              "  .colab-df-quickchart {\n",
              "      --bg-color: #E8F0FE;\n",
              "      --fill-color: #1967D2;\n",
              "      --hover-bg-color: #E2EBFA;\n",
              "      --hover-fill-color: #174EA6;\n",
              "      --disabled-fill-color: #AAA;\n",
              "      --disabled-bg-color: #DDD;\n",
              "  }\n",
              "\n",
              "  [theme=dark] .colab-df-quickchart {\n",
              "      --bg-color: #3B4455;\n",
              "      --fill-color: #D2E3FC;\n",
              "      --hover-bg-color: #434B5C;\n",
              "      --hover-fill-color: #FFFFFF;\n",
              "      --disabled-bg-color: #3B4455;\n",
              "      --disabled-fill-color: #666;\n",
              "  }\n",
              "\n",
              "  .colab-df-quickchart {\n",
              "    background-color: var(--bg-color);\n",
              "    border: none;\n",
              "    border-radius: 50%;\n",
              "    cursor: pointer;\n",
              "    display: none;\n",
              "    fill: var(--fill-color);\n",
              "    height: 32px;\n",
              "    padding: 0;\n",
              "    width: 32px;\n",
              "  }\n",
              "\n",
              "  .colab-df-quickchart:hover {\n",
              "    background-color: var(--hover-bg-color);\n",
              "    box-shadow: 0 1px 2px rgba(60, 64, 67, 0.3), 0 1px 3px 1px rgba(60, 64, 67, 0.15);\n",
              "    fill: var(--button-hover-fill-color);\n",
              "  }\n",
              "\n",
              "  .colab-df-quickchart-complete:disabled,\n",
              "  .colab-df-quickchart-complete:disabled:hover {\n",
              "    background-color: var(--disabled-bg-color);\n",
              "    fill: var(--disabled-fill-color);\n",
              "    box-shadow: none;\n",
              "  }\n",
              "\n",
              "  .colab-df-spinner {\n",
              "    border: 2px solid var(--fill-color);\n",
              "    border-color: transparent;\n",
              "    border-bottom-color: var(--fill-color);\n",
              "    animation:\n",
              "      spin 1s steps(1) infinite;\n",
              "  }\n",
              "\n",
              "  @keyframes spin {\n",
              "    0% {\n",
              "      border-color: transparent;\n",
              "      border-bottom-color: var(--fill-color);\n",
              "      border-left-color: var(--fill-color);\n",
              "    }\n",
              "    20% {\n",
              "      border-color: transparent;\n",
              "      border-left-color: var(--fill-color);\n",
              "      border-top-color: var(--fill-color);\n",
              "    }\n",
              "    30% {\n",
              "      border-color: transparent;\n",
              "      border-left-color: var(--fill-color);\n",
              "      border-top-color: var(--fill-color);\n",
              "      border-right-color: var(--fill-color);\n",
              "    }\n",
              "    40% {\n",
              "      border-color: transparent;\n",
              "      border-right-color: var(--fill-color);\n",
              "      border-top-color: var(--fill-color);\n",
              "    }\n",
              "    60% {\n",
              "      border-color: transparent;\n",
              "      border-right-color: var(--fill-color);\n",
              "    }\n",
              "    80% {\n",
              "      border-color: transparent;\n",
              "      border-right-color: var(--fill-color);\n",
              "      border-bottom-color: var(--fill-color);\n",
              "    }\n",
              "    90% {\n",
              "      border-color: transparent;\n",
              "      border-bottom-color: var(--fill-color);\n",
              "    }\n",
              "  }\n",
              "</style>\n",
              "\n",
              "  <script>\n",
              "    async function quickchart(key) {\n",
              "      const quickchartButtonEl =\n",
              "        document.querySelector('#' + key + ' button');\n",
              "      quickchartButtonEl.disabled = true;  // To prevent multiple clicks.\n",
              "      quickchartButtonEl.classList.add('colab-df-spinner');\n",
              "      try {\n",
              "        const charts = await google.colab.kernel.invokeFunction(\n",
              "            'suggestCharts', [key], {});\n",
              "      } catch (error) {\n",
              "        console.error('Error during call to suggestCharts:', error);\n",
              "      }\n",
              "      quickchartButtonEl.classList.remove('colab-df-spinner');\n",
              "      quickchartButtonEl.classList.add('colab-df-quickchart-complete');\n",
              "    }\n",
              "    (() => {\n",
              "      let quickchartButtonEl =\n",
              "        document.querySelector('#df-300816ac-6338-49aa-9986-97b380981a54 button');\n",
              "      quickchartButtonEl.style.display =\n",
              "        google.colab.kernel.accessAllowed ? 'block' : 'none';\n",
              "    })();\n",
              "  </script>\n",
              "</div>\n",
              "\n",
              "  <div id=\"id_65f95e26-8337-469a-a83b-834e6ea130b6\">\n",
              "    <style>\n",
              "      .colab-df-generate {\n",
              "        background-color: #E8F0FE;\n",
              "        border: none;\n",
              "        border-radius: 50%;\n",
              "        cursor: pointer;\n",
              "        display: none;\n",
              "        fill: #1967D2;\n",
              "        height: 32px;\n",
              "        padding: 0 0 0 0;\n",
              "        width: 32px;\n",
              "      }\n",
              "\n",
              "      .colab-df-generate:hover {\n",
              "        background-color: #E2EBFA;\n",
              "        box-shadow: 0px 1px 2px rgba(60, 64, 67, 0.3), 0px 1px 3px 1px rgba(60, 64, 67, 0.15);\n",
              "        fill: #174EA6;\n",
              "      }\n",
              "\n",
              "      [theme=dark] .colab-df-generate {\n",
              "        background-color: #3B4455;\n",
              "        fill: #D2E3FC;\n",
              "      }\n",
              "\n",
              "      [theme=dark] .colab-df-generate:hover {\n",
              "        background-color: #434B5C;\n",
              "        box-shadow: 0px 1px 3px 1px rgba(0, 0, 0, 0.15);\n",
              "        filter: drop-shadow(0px 1px 2px rgba(0, 0, 0, 0.3));\n",
              "        fill: #FFFFFF;\n",
              "      }\n",
              "    </style>\n",
              "    <button class=\"colab-df-generate\" onclick=\"generateWithVariable('table')\"\n",
              "            title=\"Generate code using this dataframe.\"\n",
              "            style=\"display:none;\">\n",
              "\n",
              "  <svg xmlns=\"http://www.w3.org/2000/svg\" height=\"24px\"viewBox=\"0 0 24 24\"\n",
              "       width=\"24px\">\n",
              "    <path d=\"M7,19H8.4L18.45,9,17,7.55,7,17.6ZM5,21V16.75L18.45,3.32a2,2,0,0,1,2.83,0l1.4,1.43a1.91,1.91,0,0,1,.58,1.4,1.91,1.91,0,0,1-.58,1.4L9.25,21ZM18.45,9,17,7.55Zm-12,3A5.31,5.31,0,0,0,4.9,8.1,5.31,5.31,0,0,0,1,6.5,5.31,5.31,0,0,0,4.9,4.9,5.31,5.31,0,0,0,6.5,1,5.31,5.31,0,0,0,8.1,4.9,5.31,5.31,0,0,0,12,6.5,5.46,5.46,0,0,0,6.5,12Z\"/>\n",
              "  </svg>\n",
              "    </button>\n",
              "    <script>\n",
              "      (() => {\n",
              "      const buttonEl =\n",
              "        document.querySelector('#id_65f95e26-8337-469a-a83b-834e6ea130b6 button.colab-df-generate');\n",
              "      buttonEl.style.display =\n",
              "        google.colab.kernel.accessAllowed ? 'block' : 'none';\n",
              "\n",
              "      buttonEl.onclick = () => {\n",
              "        google.colab.notebook.generateWithVariable('table');\n",
              "      }\n",
              "      })();\n",
              "    </script>\n",
              "  </div>\n",
              "\n",
              "    </div>\n",
              "  </div>\n"
            ],
            "application/vnd.google.colaboratory.intrinsic+json": {
              "type": "dataframe",
              "variable_name": "table",
              "summary": "{\n  \"name\": \"table\",\n  \"rows\": 8,\n  \"fields\": [\n    {\n      \"column\": \"\\uac00\\uc2181\",\n      \"properties\": {\n        \"dtype\": \"number\",\n        \"std\": 0,\n        \"min\": 0,\n        \"max\": 1,\n        \"num_unique_values\": 2,\n        \"samples\": [\n          1,\n          0\n        ],\n        \"semantic_type\": \"\",\n        \"description\": \"\"\n      }\n    },\n    {\n      \"column\": \"\\uac00\\uc2182\",\n      \"properties\": {\n        \"dtype\": \"number\",\n        \"std\": 0,\n        \"min\": 0,\n        \"max\": 1,\n        \"num_unique_values\": 2,\n        \"samples\": [\n          0,\n          1\n        ],\n        \"semantic_type\": \"\",\n        \"description\": \"\"\n      }\n    },\n    {\n      \"column\": \"\\uac00\\uc2183\",\n      \"properties\": {\n        \"dtype\": \"number\",\n        \"std\": 0,\n        \"min\": 0,\n        \"max\": 1,\n        \"num_unique_values\": 2,\n        \"samples\": [\n          1,\n          0\n        ],\n        \"semantic_type\": \"\",\n        \"description\": \"\"\n      }\n    }\n  ]\n}"
            }
          },
          "metadata": {},
          "execution_count": 28
        }
      ],
      "source": [
        "table = pd.DataFrame([\n",
        "    [0, 1, 0, 1, 0, 0, 0, 0],\n",
        "    [1, 1, 0, 1, 0, 0, 1, 1],\n",
        "    [0, 1, 1, 1, 1, 1, 1, 1]\n",
        "    ], index=['가수1', '가수2', '가수3'], columns=[1, 2, 3, 4, 5, 6, 7, 8]\n",
        ").T\n",
        "\n",
        "table"
      ]
    },
    {
      "cell_type": "code",
      "execution_count": 29,
      "metadata": {
        "colab": {
          "base_uri": "https://localhost:8080/"
        },
        "id": "HkapOSKEny1F",
        "outputId": "867fbe4b-0c0a-4895-abc7-8b30afea39fa"
      },
      "outputs": [
        {
          "output_type": "stream",
          "name": "stdout",
          "text": [
            "[수기 검정]\n",
            " 검정통계량 6.333, p-value 0.042\n"
          ]
        }
      ],
      "source": [
        "# H0: 모든 연예인에 대한 호감도 비율이 차이가 없다 (모든 연예인의 호감도가 같다)\n",
        "# H1: 적어도 한 쌍의 연예인은 호감도 비율이 차이가 있다 (적어도 한 쌍은 다르다)\n",
        "print(\"[수기 검정]\")\n",
        "n = table.shape[0] #표본 개수\n",
        "k = table.shape[1] #범주 개수\n",
        "df = k-1\n",
        "k_sums= np.array(table.sum())\n",
        "n_sums = np.array(table.sum(axis=1))\n",
        "Q1 = k * sum(k_sums**2) - sum(k_sums)**2\n",
        "Q2 = k * sum(n_sums) - sum(n_sums**2)\n",
        "stat = df * Q1 / Q2\n",
        "pval = 1- chi2.cdf(stat, df)\n",
        "print(\" 검정통계량 {:.3f}, p-value {:.3f}\".format(stat, pval))"
      ]
    },
    {
      "cell_type": "code",
      "execution_count": 30,
      "metadata": {
        "colab": {
          "base_uri": "https://localhost:8080/"
        },
        "id": "fHC_CMp3ny1G",
        "outputId": "77c449a3-3be0-4e66-8871-4d5872ac424a"
      },
      "outputs": [
        {
          "output_type": "stream",
          "name": "stdout",
          "text": [
            " 검정통계량 6.333, p-value 0.042\n"
          ]
        }
      ],
      "source": [
        "from statsmodels.stats.contingency_tables import cochrans_q\n",
        "ccq = cochrans_q(table)\n",
        "\n",
        "print(\" 검정통계량 {:.3f}, p-value {:.3f}\".format(ccq.statistic, ccq.pvalue))\n",
        "## 검정 결과, 대립가설을 채택하며 적어도 한 쌍의 연예인의 호감도는 다르다는 결론"
      ]
    },
    {
      "cell_type": "code",
      "execution_count": 31,
      "metadata": {
        "colab": {
          "base_uri": "https://localhost:8080/"
        },
        "id": "0RN8LXMIny1G",
        "outputId": "eda47edc-246d-44d3-ad8f-2729763b2c89"
      },
      "outputs": [
        {
          "output_type": "stream",
          "name": "stdout",
          "text": [
            "가수1-가수2: 검정통계량 3.000, p-value 0.083\n",
            "가수1-가수3: 검정통계량 5.000, p-value 0.025***\n",
            "가수2-가수3: 검정통계량 1.000, p-value 0.317\n"
          ]
        }
      ],
      "source": [
        "# 연예인 모든 쌍의 맥니머 검정을 통해 가수1-가수3의 호감도에 차이가 있음을 확인\n",
        "from itertools import combinations\n",
        "col_comp= list(combinations(table.columns, 2))\n",
        "\n",
        "from pandas import crosstab\n",
        "from statsmodels.stats.contingency_tables import mcnemar\n",
        "for s1, s2 in col_comp:\n",
        "    ct = crosstab(table.loc[:, s1], table.loc[:, s2])\n",
        "    mc = mcnemar(ct.values, exact=False, correction = False)\n",
        "    stat, p = mc.statistic, mc.pvalue\n",
        "    msg = \"{}-{}: 검정통계량 {:.3f}, p-value {:.3f}\".format(s1, s2, stat, p)\n",
        "    if p < 0.05:\n",
        "        print(msg + \"***\")\n",
        "    else:\n",
        "        print(msg)"
      ]
    },
    {
      "cell_type": "markdown",
      "metadata": {
        "id": "E8l6c1oUny1H"
      },
      "source": [
        "## 6-4. 부호, 순위 데이터 검정"
      ]
    },
    {
      "cell_type": "markdown",
      "metadata": {
        "id": "H_2SlIAOny1H"
      },
      "source": [
        "### 일표본 부호 검정: 이항분포, Z분포\n",
        "- $n <= 100$ 이면,부호검정 통계량은 이항분포를 따르고, $n>100$이면, 정규화한 부호검정 통계량은 정규분포를 따른다. 일표본 t검정에 대응한다."
      ]
    },
    {
      "cell_type": "code",
      "execution_count": 32,
      "metadata": {
        "colab": {
          "base_uri": "https://localhost:8080/"
        },
        "id": "QUzvewdEny1H",
        "outputId": "38584a61-273b-4451-c320-e78c82bf5677"
      },
      "outputs": [
        {
          "output_type": "stream",
          "name": "stdout",
          "text": [
            " 유효한 데이터 개수: 10, plus 개수(=검정통계량): 5\n"
          ]
        }
      ],
      "source": [
        "# 데이터의 중앙값으로 알려진 M0 = 200 일 때 가설 검정\n",
        "# H0: 데이터의 중앙값은 200과 차이가 없다, H1: 데이터의 중앙값은 200과 차이가 있다\n",
        "\n",
        "data = np.array([203,204,197,195,201,205,198,199,194,207]) # 데이터\n",
        "M0 = 200 # 귀무가설의 중앙값\n",
        "\n",
        "# 검정통계량 계산하기\n",
        "df = pd.DataFrame(data-M0, columns=['d'])\n",
        "df = df.query(\"d !=0\") # 중앙값과의 차이가 0이 아닌 데이터만 유효하다고 본다.\n",
        "plus = len(df.query(\"d > 0\")) #통계량\n",
        "minus = len(df.query(\"d < 0\"))\n",
        "n = len(df) # 유효데이터 개수\n",
        "print(\" 유효한 데이터 개수: {}, plus 개수(=검정통계량): {}\".format(n, plus))"
      ]
    },
    {
      "cell_type": "code",
      "execution_count": 35,
      "metadata": {
        "colab": {
          "base_uri": "https://localhost:8080/"
        },
        "id": "L1O-ftivny1I",
        "outputId": "01b14b74-df9b-4c46-afdf-2795a6d5cb88"
      },
      "outputs": [
        {
          "output_type": "stream",
          "name": "stdout",
          "text": [
            "[이항분포 기반] 확률분포표:\n",
            "        X      prob     value\n",
            "0    0.0  0.000977  0.000000\n",
            "1    1.0  0.009766  0.009766\n",
            "2    2.0  0.043945  0.087891\n",
            "3    3.0  0.117188  0.351562\n",
            "4    4.0  0.205078  0.820312\n",
            "5    5.0  0.246094  1.230469\n",
            "6    6.0  0.205078  1.230469\n",
            "7    7.0  0.117187  0.820312\n",
            "8    8.0  0.043945  0.351563\n",
            "9    9.0  0.009766  0.087891\n",
            "10  10.0  0.000977  0.009766\n"
          ]
        }
      ],
      "source": [
        "# plus 부호의 개수, 즉 검정통계량 B는 B(n, p=0.5)인 이항분포를 따른다.\n",
        "from scipy.stats import binom\n",
        "p = 0.5\n",
        "result = pd.DataFrame()\n",
        "for i in range(0,n+1):\n",
        "    result.loc[i, 'X'] = i\n",
        "    result.loc[i, 'prob'] = binom.pmf(i, n, p)\n",
        "result['value'] = result['X'] * result['prob']\n",
        "print(\"[이항분포 기반] 확률분포표:\\n\", result)"
      ]
    },
    {
      "cell_type": "code",
      "execution_count": 36,
      "metadata": {
        "colab": {
          "base_uri": "https://localhost:8080/"
        },
        "id": "iyrK_oF6ny1I",
        "outputId": "86858f77-717d-4984-ed0e-e20fdabe4a12"
      },
      "outputs": [
        {
          "output_type": "stream",
          "name": "stdout",
          "text": [
            " 기댓값: 5.000, 분산:2.500 (= 5.000, 2.500)\n"
          ]
        }
      ],
      "source": [
        "# 기댓값과 분산\n",
        "mean = result.sum()['value']\n",
        "var = sum((result['X']-mean)**2 *result['prob'])\n",
        "print(\" 기댓값: {:.3f}, 분산:{:.3f} (= {:.3f}, {:.3f})\"\n",
        "      .format(mean, var, n*p, n*p*(1-p)))"
      ]
    },
    {
      "cell_type": "code",
      "execution_count": 37,
      "metadata": {
        "colab": {
          "base_uri": "https://localhost:8080/"
        },
        "id": "E1nuWCVAny1J",
        "outputId": "6d74677a-17b8-46c4-d764-3f2e60a6509c"
      },
      "outputs": [
        {
          "output_type": "stream",
          "name": "stdout",
          "text": [
            " 검정통계량: 5, 임계치: 2, 8\n"
          ]
        }
      ],
      "source": [
        "# 검정통계량과 임계치\n",
        "test_a = 0.05 # 유의수준 5%, 양측검정\n",
        "start = int(binom.ppf(test_a/2, n, p))\n",
        "end = int(binom.ppf(1-test_a/2, n, p))\n",
        "print(\" 검정통계량: {}, 임계치: {}, {}\".format(plus, start, end))"
      ]
    },
    {
      "cell_type": "code",
      "execution_count": 38,
      "metadata": {
        "colab": {
          "base_uri": "https://localhost:8080/"
        },
        "id": "4WCPafxtny1J",
        "outputId": "e1c746a8-0256-49f9-b495-ab46d0538b49"
      },
      "outputs": [
        {
          "output_type": "stream",
          "name": "stdout",
          "text": [
            "[정규분포 기반] 기댓값: 5.000, 분산: 2.500\n",
            " 검정통계량: 0.000, 임계치: +/-1.960\n",
            " 유의수준: 0.050, 유의확률: 1.000\n"
          ]
        }
      ],
      "source": [
        "# 정규분포 근사\n",
        "from scipy.stats import norm\n",
        "mean2 = n/2\n",
        "var2 = n/4\n",
        "s = np.sqrt(var2)\n",
        "zstat = (plus-mean2)/s # plus를 대입\n",
        "ways = 'two' #'two', 'one-right', 'one-left' #대립가설기준\n",
        "\n",
        "if ways == 'two':\n",
        "    sp = (1-norm.cdf(np.abs(zstat)))*2 #significance probability\n",
        "    cv = norm.ppf(1-test_a/2) #critical value\n",
        "    cv = \"+/-{:.3f}\".format(cv)\n",
        "elif ways == 'one-right':\n",
        "    sp = 1-norm.cdf(zstat)\n",
        "    cv = norm.ppf(1-test_a)\n",
        "    cv = \"{:.3f}\".format(cv)\n",
        "elif ways == 'one-left':\n",
        "    sp = norm.cdf(zstat)\n",
        "    cv = norm.ppf(test_a)\n",
        "    cv = \"{:.3f}\".format(cv)\n",
        "\n",
        "print(\"[정규분포 기반] 기댓값: {:.3f}, 분산: {:.3f}\".format(mean2, var2))\n",
        "print(\" 검정통계량: {:.3f}, 임계치: {}\".format(zstat, cv))\n",
        "print(\" 유의수준: {:.3f}, 유의확률: {:.3f}\".format(test_a, sp))\n",
        "## 검정 결과, 데이터의 중앙값은 200과 차이가 없다는 결론을 얻었다."
      ]
    },
    {
      "cell_type": "markdown",
      "metadata": {
        "id": "O0figKY8ny1K"
      },
      "source": [
        "### 이표본 부호 검정: 이항분포, Z분포\n",
        "- $n<=100$이면, 부호검정 통계량은 이항분포를 따르고, $n>100$이면, 정규화한 부호검정 통계량은 정규분포를 따른다. 대응표본 t검정에 대응한다."
      ]
    },
    {
      "cell_type": "code",
      "execution_count": 39,
      "metadata": {
        "colab": {
          "base_uri": "https://localhost:8080/"
        },
        "id": "e3q86c6Uny1K",
        "outputId": "bcf96668-5866-427c-9c5f-3eaf5fc375f7"
      },
      "outputs": [
        {
          "output_type": "stream",
          "name": "stdout",
          "text": [
            "[수기 검정]\n",
            " 유효한 데이터 개수: 8, plus 개수(=검정통계량): 7\n"
          ]
        }
      ],
      "source": [
        "# A, B의 5점 척도 만족도 설문조사로부터 A의 만족도가 더 높다고 할 수 있는지 검정\n",
        "# H0: A와 B의 만족도는 차이가 없다, H1: A의 만족도가 더 높다\n",
        "\n",
        "print(\"[수기 검정]\")\n",
        "data1 = np.array([4,3,5,2,1,3,4,3]) #A\n",
        "data2 = np.array([3,2,3,1,2,2,2,2]) #B\n",
        "M0 = 0\n",
        "df = pd.DataFrame(data1-data2, columns=['d'])\n",
        "df = df.query(\"d !=0\")\n",
        "plus = len(df.query(\"d > 0\"))\n",
        "minus = len(df.query(\"d < 0\"))\n",
        "n = len(df)\n",
        "print(\" 유효한 데이터 개수: {}, plus 개수(=검정통계량): {}\".format(n, plus))"
      ]
    },
    {
      "cell_type": "code",
      "execution_count": 40,
      "metadata": {
        "colab": {
          "base_uri": "https://localhost:8080/"
        },
        "id": "DQJbnhcOny1K",
        "outputId": "6e455ceb-9659-4b38-a48b-0c774eea9782"
      },
      "outputs": [
        {
          "output_type": "stream",
          "name": "stdout",
          "text": [
            "[이항분포 기반] 확률분포표:\n",
            "      X      prob    value\n",
            "0  0.0  0.003906  0.00000\n",
            "1  1.0  0.031250  0.03125\n",
            "2  2.0  0.109375  0.21875\n",
            "3  3.0  0.218750  0.65625\n",
            "4  4.0  0.273437  1.09375\n",
            "5  5.0  0.218750  1.09375\n",
            "6  6.0  0.109375  0.65625\n",
            "7  7.0  0.031250  0.21875\n",
            "8  8.0  0.003906  0.03125\n"
          ]
        }
      ],
      "source": [
        "# plus 부호의 개수 X는 (n, p=0.5)인 이항분포를 따른다.\n",
        "from scipy.stats import binom\n",
        "p = 0.5\n",
        "result = pd.DataFrame()\n",
        "for i in range(0,n+1):\n",
        "    result.loc[i, 'X'] = i\n",
        "    result.loc[i, 'prob'] = binom.pmf(i, n, p)\n",
        "result['value'] = result['X'] * result['prob']\n",
        "print(\"[이항분포 기반] 확률분포표:\\n\", result)"
      ]
    },
    {
      "cell_type": "code",
      "execution_count": 41,
      "metadata": {
        "colab": {
          "base_uri": "https://localhost:8080/"
        },
        "id": "oRCyuvPdny1L",
        "outputId": "2ffd2be9-784b-466c-c92a-d739c748f783"
      },
      "outputs": [
        {
          "output_type": "stream",
          "name": "stdout",
          "text": [
            " 기댓값: 4.000, 분산:2.000 (= 4.000, 2.000)\n"
          ]
        }
      ],
      "source": [
        "# 기댓값과 분산\n",
        "mean = result.sum()['value']\n",
        "var = sum((result['X']-mean)**2 *result['prob'])\n",
        "print(\" 기댓값: {:.3f}, 분산:{:.3f} (= {:.3f}, {:.3f})\"\n",
        "      .format(mean, var, n*p, n*p*(1-p)))"
      ]
    },
    {
      "cell_type": "code",
      "execution_count": 42,
      "metadata": {
        "colab": {
          "base_uri": "https://localhost:8080/"
        },
        "id": "AlII82cNny1L",
        "outputId": "b2e1ca6a-9a9e-4fbc-db50-cd6de6503475"
      },
      "outputs": [
        {
          "output_type": "stream",
          "name": "stdout",
          "text": [
            " 검정통계량: 7, 임계치: 1, 7\n"
          ]
        }
      ],
      "source": [
        "# 검정통계량과 임계치\n",
        "test_a = 0.05 #유의수준 5%, 양측검정\n",
        "start = int(binom.ppf(test_a/2, n, p))\n",
        "end = int(binom.ppf(1-test_a/2, n, p))\n",
        "print(\" 검정통계량: {}, 임계치: {}, {}\".format(plus, start, end))"
      ]
    },
    {
      "cell_type": "code",
      "execution_count": 43,
      "metadata": {
        "colab": {
          "base_uri": "https://localhost:8080/"
        },
        "id": "JxFwvGCony1L",
        "outputId": "43739a14-74f4-4d55-f5e5-afbe1eb0587f"
      },
      "outputs": [
        {
          "output_type": "stream",
          "name": "stdout",
          "text": [
            "[정규분포 기반] 기댓값: 4.000, 분산: 2.000\n",
            " 검정통계량: 2.121, 임계치: 1.645\n",
            " 유의수준: 0.050, 유의확률: 0.017\n"
          ]
        }
      ],
      "source": [
        "# 정규분포 근사\n",
        "from scipy.stats import norm\n",
        "mean2 = n/2\n",
        "var2 = n/4\n",
        "s = np.sqrt(var2)\n",
        "zstat = (plus-mean2)/s\n",
        "ways = 'one-right' #'two', 'one-right', 'one-left' #대립가설기준\n",
        "\n",
        "if ways == 'two':\n",
        "    sp = (1-norm.cdf(np.abs(zstat)))*2 #significance probability\n",
        "    cv = norm.ppf(1-test_a/2) #critical value\n",
        "    cv = \"+/-{:.3f}\".format(cv)\n",
        "elif ways == 'one-right':\n",
        "    sp = 1-norm.cdf(zstat)\n",
        "    cv = norm.ppf(1-test_a)\n",
        "    cv = \"{:.3f}\".format(cv)\n",
        "elif ways == 'one-left':\n",
        "    sp = norm.cdf(zstat)\n",
        "    cv = norm.ppf(test_a)\n",
        "    cv = \"{:.3f}\".format(cv)\n",
        "\n",
        "print(\"[정규분포 기반] 기댓값: {:.3f}, 분산: {:.3f}\".format(mean2, var2))\n",
        "print(\" 검정통계량: {:.3f}, 임계치: {}\".format(zstat, cv))\n",
        "print(\" 유의수준: {:.3f}, 유의확률: {:.3f}\".format(test_a, sp))\n",
        "\n",
        "## 검정 결과, 대립가설을 채택하며 A의 만족도가 더 높다고 할 수 있다."
      ]
    },
    {
      "cell_type": "markdown",
      "metadata": {
        "id": "d_ckEansny1M"
      },
      "source": [
        "### 일표본 윌콕슨 부호순위 검정: 윌콕슨 부호순위 검정표, Z분포\n",
        "- $n<=20$이면 윌콕슨 순위합 분포를 따르고, $n>20$이면 정규분포에 근사한다. 일표본 t검정에 대응한다."
      ]
    },
    {
      "cell_type": "code",
      "execution_count": 44,
      "metadata": {
        "colab": {
          "base_uri": "https://localhost:8080/"
        },
        "id": "13H-_G_Fny1M",
        "outputId": "ad101b2e-8062-4f1c-9627-895ad67f27b0"
      },
      "outputs": [
        {
          "output_type": "stream",
          "name": "stdout",
          "text": [
            "[수기 검정]\n",
            " 부호순위 계산표:\n",
            "   d  sign  abs_d  rank\n",
            "0  3     1      3   4.5\n",
            "1  4     1      4   6.0\n",
            "2 -3    -1      3   4.5\n",
            "3 -5    -1      5   7.5\n",
            "4  1     1      1   1.5\n",
            "5  5     1      5   7.5\n",
            "6 -2    -1      2   3.0\n",
            "7 -1    -1      1   1.5\n",
            "8 -6    -1      6   9.0\n",
            "9  7     1      7  10.0\n"
          ]
        }
      ],
      "source": [
        "# 데이터의 중앙값으로 알려진 M0 = 200 일 때 가설 검정\n",
        "# H0: 데이터의 중앙값은 200과 차이가 없다, H1: 데이터의 중앙값은 200과 차이가 있다\n",
        "print(\"[수기 검정]\")\n",
        "data = np.array([203,204,197,195,201,205,198,199,194,207]) #데이터\n",
        "M0 = 200 #중앙값\n",
        "d = data-M0\n",
        "table = pd.DataFrame(d, columns=['d'])\n",
        "table = table.query(\"d !=0\") #d=0인 데이터 제외\n",
        "n = len(table)\n",
        "table['sign'] = np.sign(table['d'])\n",
        "table['abs_d'] = table['d'].abs()\n",
        "table['rank'] = table['abs_d'].rank(method='average')\n",
        "print(\" 부호순위 계산표:\\n{}\".format(table))"
      ]
    },
    {
      "cell_type": "code",
      "execution_count": 45,
      "metadata": {
        "colab": {
          "base_uri": "https://localhost:8080/"
        },
        "id": "MugSrHhBny1M",
        "outputId": "51c35932-5e66-4318-9848-ac48c9362d37"
      },
      "outputs": [
        {
          "output_type": "stream",
          "name": "stdout",
          "text": [
            "[윌콕슨 부호순위 분포 기반]\n",
            " 유효한 데이터 개수: 10, 검정통계량: 25.5\n"
          ]
        }
      ],
      "source": [
        "plus = table.query(\"sign==1\")['rank'].sum()\n",
        "minus = table.query(\"sign==-1\")['rank'].sum()\n",
        "stat = np.minimum(plus, minus) #부호의 개수가 더 적은 것을 검정통계량으로 사용\n",
        "print(\"[윌콕슨 부호순위 분포 기반]\")\n",
        "print(\" 유효한 데이터 개수: {}, 검정통계량: {}\".format(n, stat))"
      ]
    },
    {
      "cell_type": "code",
      "execution_count": 46,
      "metadata": {
        "colab": {
          "base_uri": "https://localhost:8080/"
        },
        "id": "JBHiL0d-ny1N",
        "outputId": "ef5985b3-31de-4ef1-d6cd-761416508e64"
      },
      "outputs": [
        {
          "output_type": "stream",
          "name": "stdout",
          "text": [
            "[라이브러리 검정]\n",
            " 검정통계량 25.500, p-value 0.846\n"
          ]
        }
      ],
      "source": [
        "print(\"[라이브러리 검정]\")\n",
        "from scipy.stats import wilcoxon\n",
        "stat, p = wilcoxon([M0 for i in range(len(data))], data)\n",
        "print(\" 검정통계량 {:.3f}, p-value {:.3f}\".format(stat, p))"
      ]
    },
    {
      "cell_type": "code",
      "execution_count": 47,
      "metadata": {
        "colab": {
          "base_uri": "https://localhost:8080/"
        },
        "id": "BERRQEC3ny1N",
        "outputId": "09d1fbe6-81f7-46d3-f834-5d7d397c7c16"
      },
      "outputs": [
        {
          "output_type": "stream",
          "name": "stdout",
          "text": [
            "[정규분포 기반] 기댓값: 27.500, 분산: 96.250\n",
            " 검정통계량: -0.204, 임계치: +/-1.960\n",
            " 유의수준: 0.050, 유의확률: 0.838\n"
          ]
        }
      ],
      "source": [
        "# 정규 근사\n",
        "wstat = np.minimum(plus, minus) #작은쪽을 검정통계량으로 삼음\n",
        "mean = n*(n+1)/4\n",
        "var = n*(n+1)*(2*n+1)/24\n",
        "s = np.sqrt(var)\n",
        "zstat = (wstat - mean)/s\n",
        "ways = 'two' #'two', 'one-right', 'one-left' #대립가설기준\n",
        "if ways == 'two':\n",
        "    sp = (1-norm.cdf(np.abs(zstat)))*2 #significance probability\n",
        "    cv = norm.ppf(1-test_a/2) #critical value\n",
        "    cv = \"+/-{:.3f}\".format(cv)\n",
        "elif ways == 'one-right':\n",
        "    sp = 1-norm.cdf(zstat)\n",
        "    cv = norm.ppf(1-test_a)\n",
        "    cv = \"{:.3f}\".format(cv)\n",
        "elif ways == 'one-left':\n",
        "    sp = norm.cdf(zstat)\n",
        "    cv = norm.ppf(test_a)\n",
        "    cv = \"{:.3f}\".format(cv)\n",
        "\n",
        "print(\"[정규분포 기반] 기댓값: {:.3f}, 분산: {:.3f}\".format(mean, var))\n",
        "print(\" 검정통계량: {:.3f}, 임계치: {}\".format(zstat, cv))\n",
        "print(\" 유의수준: {:.3f}, 유의확률: {:.3f}\".format(test_a, sp))\n",
        "\n",
        "## 검정 결과, 데이터의 중앙값은 200과 차이가 없다는 결론을 얻었다."
      ]
    },
    {
      "cell_type": "markdown",
      "metadata": {
        "id": "L1pNXr4Qny1O"
      },
      "source": [
        "### 이표본 윌콕슨 부호순위 검정: 윌콕슨 부호순위 검정표, Z분포\n",
        "- $n<=20$이면 윌콕슨 순위합 분포를 따르고, $n>20$이면 정규분포에 근사한다. 대응표본 t검정에 대응한다."
      ]
    },
    {
      "cell_type": "code",
      "execution_count": 48,
      "metadata": {
        "colab": {
          "base_uri": "https://localhost:8080/"
        },
        "id": "N6wwc3VMny1O",
        "outputId": "e28b64f8-c8cf-4170-b157-2987ba066f54"
      },
      "outputs": [
        {
          "output_type": "stream",
          "name": "stdout",
          "text": [
            "[수기 검정]\n",
            " 부호순위 계산표:\n",
            "    d  sign  abs_d  rank\n",
            "0   9     1      9   6.0\n",
            "1   8     1      8   5.0\n",
            "2  12     1     12   7.0\n",
            "3  -5    -1      5   2.0\n",
            "4  13     1     13   8.0\n",
            "5  -4    -1      4   1.0\n",
            "6   6     1      6   3.0\n",
            "7   7     1      7   4.0\n"
          ]
        }
      ],
      "source": [
        "# 동일한 피험자 8명에게 맥박을 2번 측정하였을 때,\n",
        "# H0: 1번째 측정값과 2번째 측정값은 차이가 없다, H1: 차이가 있다\n",
        "print(\"[수기 검정]\")\n",
        "data1 = np.array([79, 96, 85, 69, 88, 75, 83, 88])\n",
        "data2 = np.array([70, 88, 73, 74, 75, 79, 77, 81])\n",
        "d = data1 - data2\n",
        "table = pd.DataFrame(d, columns=['d'])\n",
        "table = table.query(\"d !=0\") #d=0인 데이터 제외\n",
        "n = len(table)\n",
        "table['sign'] = np.sign(table['d'])\n",
        "table['abs_d'] = table['d'].abs()\n",
        "table['rank'] = table['abs_d'].rank(method='average')\n",
        "print(\" 부호순위 계산표:\\n{}\".format(table))"
      ]
    },
    {
      "cell_type": "code",
      "execution_count": 49,
      "metadata": {
        "colab": {
          "base_uri": "https://localhost:8080/"
        },
        "id": "6OKCNbFany1P",
        "outputId": "d2ef2c0d-a87a-4dad-b66f-e7f1040d514b"
      },
      "outputs": [
        {
          "output_type": "stream",
          "name": "stdout",
          "text": [
            "[윌콕슨 부호순위 분포 기반]\n",
            " 유효한 데이터 개수: 8, 검정통계량: 3.0\n"
          ]
        }
      ],
      "source": [
        "plus = table.query(\"sign==1\")['rank'].sum()\n",
        "minus = table.query(\"sign==-1\")['rank'].sum()\n",
        "stat = np.minimum(plus, minus) #부호의 개수가 더 적은 것을 검정통계량으로 사용\n",
        "print(\"[윌콕슨 부호순위 분포 기반]\")\n",
        "print(\" 유효한 데이터 개수: {}, 검정통계량: {}\".format(n, stat))"
      ]
    },
    {
      "cell_type": "code",
      "execution_count": 50,
      "metadata": {
        "colab": {
          "base_uri": "https://localhost:8080/"
        },
        "id": "8Llz34vOny1P",
        "outputId": "edb0deb0-7810-4863-d8f9-edd608c700df"
      },
      "outputs": [
        {
          "output_type": "stream",
          "name": "stdout",
          "text": [
            "[라이브러리 검정]\n",
            " 검정통계량 3.000, p-value 0.039\n"
          ]
        }
      ],
      "source": [
        "print(\"[라이브러리 검정]\")\n",
        "from scipy.stats import wilcoxon\n",
        "stat, p = wilcoxon(data1, data2, zero_method='wilcox')\n",
        "print(\" 검정통계량 {:.3f}, p-value {:.3f}\".format(stat, p))"
      ]
    },
    {
      "cell_type": "code",
      "execution_count": 51,
      "metadata": {
        "colab": {
          "base_uri": "https://localhost:8080/"
        },
        "id": "basqmVPDny1P",
        "outputId": "44d83c6e-52e8-43a5-cf15-e051d5559e3e"
      },
      "outputs": [
        {
          "output_type": "stream",
          "name": "stdout",
          "text": [
            "[정규분포 기반] 기댓값: 18.000, 분산: 51.000\n",
            " 검정통계량: -2.100, 임계치: +/-1.960\n",
            " 유의수준: 0.050, 유의확률: 0.036\n"
          ]
        }
      ],
      "source": [
        "# 정규 근사\n",
        "wstat = np.minimum(plus, minus) #작은쪽을 검정통계량으로 삼음\n",
        "mean = n*(n+1)/4\n",
        "var = n*(n+1)*(2*n+1)/24\n",
        "s = np.sqrt(var)\n",
        "zstat = (wstat - mean)/s\n",
        "ways = 'two' #'two', 'one-right', 'one-left' #대립가설기준\n",
        "if ways == 'two':\n",
        "    sp = (1-norm.cdf(np.abs(zstat)))*2 #significance probability\n",
        "    cv = norm.ppf(1-test_a/2) #critical value\n",
        "    cv = \"+/-{:.3f}\".format(cv)\n",
        "elif ways == 'one-right':\n",
        "    sp = 1-norm.cdf(zstat)\n",
        "    cv = norm.ppf(1-test_a)\n",
        "    cv = \"{:.3f}\".format(cv)\n",
        "elif ways == 'one-left':\n",
        "    sp = norm.cdf(zstat)\n",
        "    cv = norm.ppf(test_a)\n",
        "    cv = \"{:.3f}\".format(cv)\n",
        "print(\"[정규분포 기반] 기댓값: {:.3f}, 분산: {:.3f}\".format(mean, var))\n",
        "print(\" 검정통계량: {:.3f}, 임계치: {}\".format(zstat, cv))\n",
        "print(\" 유의수준: {:.3f}, 유의확률: {:.3f}\".format(test_a, sp))\n",
        "## 검정 결과, 대립가설을 채택하여 1번째 측정값과 2번째 측정값은 차이가 있다는 결론"
      ]
    },
    {
      "cell_type": "markdown",
      "metadata": {
        "id": "YWtuHgA5ny1Q"
      },
      "source": [
        "### 윌콕슨 순위합 검정(만 위트니 U검정): 윌콕슨 순위합 검정표, Z분포\n",
        "- $n(=n_1+n_2)<=25$이면 순위합 분포를 따르고, $n>25$이면 정규분포에 근사한다.\n",
        "- 독립표본 t검정에 대응한다. 만 위트니 U검정(Mann-Whitney U test)와 동일한 결과를 얻는다."
      ]
    },
    {
      "cell_type": "code",
      "execution_count": 52,
      "metadata": {
        "colab": {
          "base_uri": "https://localhost:8080/"
        },
        "id": "JIbzcv9Wny1Q",
        "outputId": "48855880-4c09-43f8-8710-4952a147c706"
      },
      "outputs": [
        {
          "output_type": "stream",
          "name": "stdout",
          "text": [
            "[수기 검정]\n",
            " 순위합 계산표:\n",
            "   data     M  rank\n",
            "0    87  87.0   8.5\n",
            "1    75  87.0   4.0\n",
            "2    65  87.0   2.0\n",
            "3    95  87.0  13.0\n",
            "4    90  87.0  10.5\n",
            "5    81  87.0   5.0\n",
            "6    93  87.0  12.0\n",
            "0    57  84.0   1.0\n",
            "1    85  84.0   7.0\n",
            "2    90  84.0  10.5\n",
            "3    83  84.0   6.0\n",
            "4    87  84.0   8.5\n",
            "5    71  84.0   3.0\n"
          ]
        }
      ],
      "source": [
        "# 팀 별 영업 성적이 차이가 있는지 검정\n",
        "# H0: 성적 차이가 없다. 두 A, B 중앙값의 차이는 0이다\n",
        "# H1: 성적 차이가 있다. 두 A, B 중앙값의 차이는 0이 아니다.\n",
        "\n",
        "data1 = [87,75,65,95,90,81,93]\n",
        "data2 = [57,85,90,83,87,71]\n",
        "n1 = len(data1)\n",
        "n2 = len(data2)\n",
        "M1 = np.median(data1) #각 데이터의 중앙값\n",
        "M2 = np.median(data2)\n",
        "\n",
        "print(\"[수기 검정]\")\n",
        "\n",
        "table1 = pd.DataFrame(data1, columns=['data'])\n",
        "table1['M'] = M1\n",
        "\n",
        "table2 = pd.DataFrame(data2, columns=['data'])\n",
        "table2['M'] = M2\n",
        "\n",
        "table = pd.concat([table1, table2])\n",
        "table['rank'] = table['data'].rank(method='average')\n",
        "print(\" 순위합 계산표:\\n{}\".format(table))"
      ]
    },
    {
      "cell_type": "code",
      "execution_count": 53,
      "metadata": {
        "colab": {
          "base_uri": "https://localhost:8080/"
        },
        "id": "QBeftjGany1Q",
        "outputId": "14c25e9f-7af5-443e-8451-989a636d753a"
      },
      "outputs": [
        {
          "output_type": "stream",
          "name": "stdout",
          "text": [
            " 자료의 개수: 7, 6\n",
            " 순위합 검정통계량: 55.0 or 36.0\n",
            " 만위트니 검정통계량 27.0 or 15.0\n"
          ]
        }
      ],
      "source": [
        "W1 = table.query(\"M==@M1\")['rank'].sum() #순위합 검정통계량1\n",
        "W2 = table.query(\"M==@M2\")['rank'].sum() #순위합 검정통계량2\n",
        "U1 = W1 - n1*(n1+1)/2 #만위트니 검정통계량\n",
        "U2 = W2 - n2*(n2+1)/2 #만위트니 검정통계량\n",
        "print(\" 자료의 개수: {}, {}\".format(n1, n2))\n",
        "print(\" 순위합 검정통계량: {} or {}\".format(W1, W2))\n",
        "print(\" 만위트니 검정통계량 {} or {}\".format(U1, U2))"
      ]
    },
    {
      "cell_type": "code",
      "execution_count": 54,
      "metadata": {
        "colab": {
          "base_uri": "https://localhost:8080/"
        },
        "id": "fYtXIui8ny1Q",
        "outputId": "ce00ebe5-a2d2-4beb-a3f5-c31ed779913e"
      },
      "outputs": [
        {
          "output_type": "stream",
          "name": "stdout",
          "text": [
            "[라이브러리 검정]\n",
            " 순위합 정규근사 검정통계량: 0.857, p-value: 0.391\n",
            " 만위트니 검정통계량: 27.000, p-value: 0.431\n"
          ]
        }
      ],
      "source": [
        "print(\"[라이브러리 검정]\")\n",
        "from scipy.stats import ranksums, mannwhitneyu\n",
        "zstats, p = ranksums(data1, data2) #default: alternative='two-sided'\n",
        "print(\" 순위합 정규근사 검정통계량: {:.3f}, p-value: {:.3f}\".format(zstats, p))\n",
        "mstat, p = mannwhitneyu(data1, data2, alternative='two-sided')\n",
        "print(\" 만위트니 검정통계량: {:.3f}, p-value: {:.3f}\".format(mstat, p))"
      ]
    },
    {
      "cell_type": "code",
      "execution_count": 55,
      "metadata": {
        "colab": {
          "base_uri": "https://localhost:8080/"
        },
        "id": "2sonX0m4ny1R",
        "outputId": "39a2da16-4510-44db-bd66-cd489926d20e"
      },
      "outputs": [
        {
          "output_type": "stream",
          "name": "stdout",
          "text": [
            "[정규분포 기반] 기댓값: 21.000, 분산: 49.000\n",
            " 검정통계량: 0.857, 임계치: +/-1.960\n",
            " 유의수준: 0.050, 유의확률: 0.391\n"
          ]
        }
      ],
      "source": [
        "# 정규 근사\n",
        "mean = n1*n2/2\n",
        "var = n1*n2*(n1+n2+1)/12\n",
        "s = np.sqrt(var)\n",
        "Z1 = (U1 - mean)/s #만위트니 검정통계량으로 정규화된 검정통계량\n",
        "Z2 = (U2 - mean)/s #만위트니 검정통계량으로 정규화된 검정통계량\n",
        "test_a = 0.05\n",
        "zstat = Z1 #Z1과 Z2는 부호만 다르고 같은 값임\n",
        "ways = 'two' #'two', 'one-right', 'one-left' #대립가설기준\n",
        "if ways == 'two':\n",
        "    sp = (1-norm.cdf(np.abs(zstat)))*2 #significance probability\n",
        "    cv = norm.ppf(1-test_a/2) #critical value\n",
        "    cv = \"+/-{:.3f}\".format(cv)\n",
        "elif ways == 'one-right':\n",
        "    sp = 1-norm.cdf(zstat)\n",
        "    cv = norm.ppf(1-test_a)\n",
        "    cv = \"{:.3f}\".format(cv)\n",
        "elif ways == 'one-left':\n",
        "    sp = norm.cdf(zstat)\n",
        "    cv = norm.ppf(test_a)\n",
        "    cv = \"{:.3f}\".format(cv)\n",
        "\n",
        "print(\"[정규분포 기반] 기댓값: {:.3f}, 분산: {:.3f}\".format(mean, var))\n",
        "print(\" 검정통계량: {:.3f}, 임계치: {}\".format(zstat, cv))\n",
        "print(\" 유의수준: {:.3f}, 유의확률: {:.3f}\".format(test_a, sp))\n",
        "\n",
        "## 검정 결과, 팀별 영업 성적이 차이가 없다는 결론을 얻었다."
      ]
    },
    {
      "cell_type": "markdown",
      "metadata": {
        "id": "MZolufMUny1R"
      },
      "source": [
        "## 6-5. k표본 순위 데이터 검정"
      ]
    },
    {
      "cell_type": "markdown",
      "metadata": {
        "id": "WpzssOHtny1R"
      },
      "source": [
        "### 크러스컬 월리스 검정: 크러스컬 월리스 검정표, 카이제곱분포\n",
        "- 세 변수 이상의 대응 관계가 없는 데이터의 차이를 검정한다. 즉, 대응 관계가 없는 일원배치 분산분석의 비모수 버전이다.\n",
        "- 사후 검정은 윌콕슨 순위합검정으로 진행할 수 있다.\n",
        "- 3개 범주이고 데이터 크기가 15 이하이거나 4개 범주이고 데이터 크기가 14 이하인 작은 표본은 크러스컬 월리스 검정표를 사용하고 이외에 데이터 크기가 충분히 크면 검정 통계량 H가 카이제곱분포에 근사한다."
      ]
    },
    {
      "cell_type": "code",
      "execution_count": 57,
      "metadata": {
        "colab": {
          "base_uri": "https://localhost:8080/"
        },
        "id": "cWez60Ksny1S",
        "outputId": "9124fb0b-80a9-4ce3-f547-8b8fc58ba904"
      },
      "outputs": [
        {
          "output_type": "stream",
          "name": "stdout",
          "text": [
            "[데이터 확인]\n",
            "    0   1   2   3     4\n",
            "A  69  67  65  59  66.0\n",
            "B  56  63  55  40   NaN\n",
            "C  71  72  70  75   NaN\n"
          ]
        }
      ],
      "source": [
        "# A, B, C 세 사람의 모의고사 성적을 통해 성취도의 차이가 있는지 검정\n",
        "# H0: 세 사람의 성취도는 차이가 없다, H1: 적어도 한 쌍의 성취도는 차이가 있다.\n",
        "table = pd.DataFrame([[69,67,65,59,66], [56,63,55,40], [71,72,70,75]], index=['A','B','C'])\n",
        "print(f\"[데이터 확인]\\n{table}\")"
      ]
    },
    {
      "cell_type": "code",
      "execution_count": 58,
      "metadata": {
        "colab": {
          "base_uri": "https://localhost:8080/"
        },
        "id": "cmKAgGNony1S",
        "outputId": "b3b8fff6-91b9-4fb8-9477-836b95f7977d"
      },
      "outputs": [
        {
          "output_type": "stream",
          "name": "stdout",
          "text": [
            "[수기 검정]\n",
            " 순위 계산표:\n",
            "[[ 5.  6.  8. 10.  7.]\n",
            " [11.  9. 12. 13. nan]\n",
            " [ 3.  2.  4.  1. nan]]\n"
          ]
        }
      ],
      "source": [
        "print(\"[수기 검정]\")\n",
        "ranktable = pd.DataFrame(table.values.ravel()).rank(ascending=False).values.reshape(table.shape)\n",
        "print(f\" 순위 계산표:\\n{ranktable}\")"
      ]
    },
    {
      "cell_type": "code",
      "execution_count": 59,
      "metadata": {
        "colab": {
          "base_uri": "https://localhost:8080/"
        },
        "id": "P4BjRMJjny1S",
        "outputId": "cfa9003c-b12d-4ec2-c7bc-2780ebe527c7"
      },
      "outputs": [
        {
          "output_type": "stream",
          "name": "stdout",
          "text": [
            " 검정통계량: 10.118, p-value: 0.006\n"
          ]
        }
      ],
      "source": [
        "N = [] #범주별 데이터 개수\n",
        "R = [] #범주별 순위합\n",
        "for i in range(len(table)):\n",
        "    row = table.iloc[i, :] #데이터프레임일 때 행 추출\n",
        "    rank = ranktable[i, :] #배열일때 행 추출\n",
        "    ni = 0\n",
        "    ri = 0\n",
        "    for d, r in zip(row, rank):\n",
        "        if np.isnan(d) == False: #nan값을 제외한 범주별 데이터 개수\n",
        "            ni += 1\n",
        "            ri += r #범주별 순위합 구하기\n",
        "    N.append(ni)\n",
        "    R.append(ri)\n",
        "\n",
        "# 리스트를 array로 변환\n",
        "N = np.array(N)\n",
        "R = np.array(R)\n",
        "df = len(N) -1 #자유도, 범주의 개수-1\n",
        "\n",
        "# 가설 검정 (우측 검정)\n",
        "n = sum(N)\n",
        "H = 12/(n*(n+1)) * sum(R**2/N) -3*(n+1) # 검정통계량 H\n",
        "pval = 1-chi2.cdf(H, df)\n",
        "print(' 검정통계량: {:.3f}, p-value: {:.3f}'.format(H, pval))"
      ]
    },
    {
      "cell_type": "code",
      "execution_count": 60,
      "metadata": {
        "colab": {
          "base_uri": "https://localhost:8080/"
        },
        "id": "qS1Msar-ny1T",
        "outputId": "afd84d1a-a8a1-425b-edb5-0ccb44aeeaa2"
      },
      "outputs": [
        {
          "output_type": "stream",
          "name": "stdout",
          "text": [
            "[라이브러리 검정]\n",
            " 검정통계량 10.118, p-value 0.006\n"
          ]
        }
      ],
      "source": [
        "from scipy.stats import kruskal\n",
        "print(\"[라이브러리 검정]\")\n",
        "# nan_policy='omit'으로 설정하면 nan값은 제거하고 자동 계산\n",
        "stat, p = kruskal(table.values[0], table.values[1], table.values[2], nan_policy='omit')\n",
        "# 아래 방식으로도 적용 가능\n",
        "# stat, p = kruskal([v for v in table.values[0] if str(v) != 'nan'],\n",
        "#                  [v for v in table.values[1] if str(v) != 'nan'],\n",
        "#                  [v for v in table.values[2] if str(v) != 'nan'])\n",
        "print(\" 검정통계량 {:.3f}, p-value {:.3f}\".format(stat, p))\n",
        "\n",
        "## 검정 결과, 대립가설을 채택하며 적어도 한 쌍의 사람들의 성취도는 차이가 있다는 결론을 얻었다."
      ]
    },
    {
      "cell_type": "code",
      "execution_count": 67,
      "metadata": {
        "colab": {
          "base_uri": "https://localhost:8080/"
        },
        "id": "KJ5ZKebany1T",
        "outputId": "74361317-4acc-46f3-8211-2ec6d53dc8fd"
      },
      "outputs": [
        {
          "output_type": "stream",
          "name": "stdout",
          "text": [
            "A-B: 검정통계량 nan, p-value nan\n",
            "A-C: 검정통계량 nan, p-value nan\n",
            "B-C: 검정통계량 nan, p-value nan\n"
          ]
        }
      ],
      "source": [
        "# [사후 검정] 모든 조합 별 윌콕슨 순위합 검정에서는 A-C의 조합에서 유의한 차이가 있는 것으로 나타났다.\n",
        "from itertools import combinations\n",
        "col_comp= list(combinations(table.index, 2))\n",
        "\n",
        "from pandas import crosstab\n",
        "from scipy.stats import ranksums\n",
        "for s1, s2 in col_comp:\n",
        "\n",
        "    stat, p = ranksums(table.loc[s1, :], table.loc[s2, :])\n",
        "    msg = \"{}-{}: 검정통계량 {:.3f}, p-value {:.3f}\".format(s1, s2, stat, p)\n",
        "    if p < 0.05:\n",
        "        print(msg + \"***\")\n",
        "    else:\n",
        "        print(msg)"
      ]
    },
    {
      "cell_type": "markdown",
      "metadata": {
        "id": "Sn48NpaDny1U"
      },
      "source": [
        "### 프리드먼 검정: 프리드먼 검정표, 카이제곱 분포\n",
        "- 세 변수 이상의 대응 관계가 있는 데이터의 차이를 검정한다.\n",
        "- 즉, 대응 관계가 있는 일원배치 분산분석의 비모수 버전이다.\n",
        "- 사후 검정은 윌콕슨 부호순위검정으로 진행할 수 있다.\n",
        "- 3개 범주이고 데이터 크기가 9 이하이거나 4개 범주이고 데이터 크기가 5 이하인 작은 표본은 프리드먼 검정표를 사용하고 이외에 데이터 크기가 충분히 크면 검정 통계량 Q가 카이제곱분포에 근사한다."
      ]
    },
    {
      "cell_type": "code",
      "execution_count": 68,
      "metadata": {
        "colab": {
          "base_uri": "https://localhost:8080/"
        },
        "id": "RZ4mapvLny1U",
        "outputId": "2a7f816c-f273-4a57-ec72-4c91b679e370"
      },
      "outputs": [
        {
          "output_type": "stream",
          "name": "stdout",
          "text": [
            "[데이터 확인]\n",
            "   0  1  2\n",
            "A  4  2  5\n",
            "B  3  5  2\n",
            "C  5  4  4\n",
            "D  1  1  3\n"
          ]
        }
      ],
      "source": [
        "# 운전자 A, B, C, D의 운전 점수에 차이가 있는지 검정\n",
        "# H0: 네 운전자의 운전 점수는 차이가 없다.\n",
        "# H1: 적어도 한 쌍의 운전자의 운전 점수는 차이가 있다.\n",
        "from scipy.stats import friedmanchisquare\n",
        "table = pd.DataFrame([[4,2,5], [3,5,2], [5,4,4], [1,1,3]], index=['A', 'B', 'C', 'D'])\n",
        "print(f\"[데이터 확인]\\n{table}\")"
      ]
    },
    {
      "cell_type": "code",
      "execution_count": 69,
      "metadata": {
        "colab": {
          "base_uri": "https://localhost:8080/"
        },
        "id": "pKrWY1Rkny1U",
        "outputId": "8886d45c-1b10-440b-83cd-ce6734e4f6f4"
      },
      "outputs": [
        {
          "output_type": "stream",
          "name": "stdout",
          "text": [
            "[수기 검정]\n",
            " 순위 계산표:\n",
            "     0    1    2\n",
            "A  2.0  3.0  1.0\n",
            "B  3.0  1.0  4.0\n",
            "C  1.0  2.0  2.0\n",
            "D  4.0  4.0  3.0\n"
          ]
        }
      ],
      "source": [
        "print(\"[수기 검정]\")\n",
        "srtable = table.rank(ascending=False)\n",
        "print(f\" 순위 계산표:\\n{srtable}\")"
      ]
    },
    {
      "cell_type": "code",
      "execution_count": 70,
      "metadata": {
        "colab": {
          "base_uri": "https://localhost:8080/"
        },
        "id": "n5_uLDmhny1V",
        "outputId": "aa661c35-9e3b-4c46-eae2-df4f7ed0ff1f"
      },
      "outputs": [
        {
          "output_type": "stream",
          "name": "stdout",
          "text": [
            " 검정통계량: 4.200, p-value: 0.241\n"
          ]
        }
      ],
      "source": [
        "R = srtable.sum(axis=1).values #행 범주별 순위합\n",
        "n = table.shape[1] #열 범주별 데이터 개수: n이 3으로 소표본!\n",
        "k = table.shape[0] #행 범주 개수\n",
        "df = k-1 #행 범주 개수가 자유도\n",
        "\n",
        "# 가설 검정 (우측 검정)\n",
        "Q = 12/(n*k*(k+1)) * sum(R**2) -3*n*(k+1) #검정통계량 Q\n",
        "pval = 1-chi2.cdf(Q, df)\n",
        "print(' 검정통계량: {:.3f}, p-value: {:.3f}'.format(Q, pval))"
      ]
    },
    {
      "cell_type": "code",
      "execution_count": 71,
      "metadata": {
        "colab": {
          "base_uri": "https://localhost:8080/"
        },
        "id": "9X_ts61Hny1V",
        "outputId": "faf9e1f3-b7d1-428d-f280-55c70dfb0f6e"
      },
      "outputs": [
        {
          "output_type": "stream",
          "name": "stdout",
          "text": [
            "[라이브러리 검정]\n",
            " 검정통계량 4.200, p-value 0.241\n"
          ]
        }
      ],
      "source": [
        "print(\"[라이브러리 검정]\")\n",
        "stat, p = friedmanchisquare(table.values[0], table.values[1], table.values[2], table.values[3])\n",
        "print(\" 검정통계량 {:.3f}, p-value {:.3f}\".format(stat, p))\n",
        "\n",
        "## 검정결과, 모든 운전자의 운전 점수는 차이가 없다는 결론을 얻었다."
      ]
    },
    {
      "cell_type": "code",
      "execution_count": 72,
      "metadata": {
        "colab": {
          "base_uri": "https://localhost:8080/"
        },
        "id": "0MKZdkzqny1V",
        "outputId": "d1abf6d1-31fd-4c47-b3f1-96ddfa64e1c8"
      },
      "outputs": [
        {
          "output_type": "stream",
          "name": "stdout",
          "text": [
            "A-B: 검정통계량 2.500, p-value 1.000\n",
            "A-C: 검정통계량 1.500, p-value 0.500\n",
            "A-D: 검정통계량 0.000, p-value 0.250\n",
            "B-C: 검정통계량 1.000, p-value 0.500\n",
            "B-D: 검정통계량 1.000, p-value 0.500\n",
            "C-D: 검정통계량 0.000, p-value 0.250\n"
          ]
        }
      ],
      "source": [
        "# [사후 검정] 모든 조합 별 윌콕슨 부호순위 검정에서도 모든 쌍에서 유의한 차이가 없는 것으로 나타났다.\n",
        "from itertools import combinations\n",
        "col_comp= list(combinations(table.index, 2))\n",
        "\n",
        "from pandas import crosstab\n",
        "from scipy.stats import wilcoxon\n",
        "for s1, s2 in col_comp:\n",
        "    stat, p = wilcoxon(table.loc[s1, :], table.loc[s2, :], zero_method='wilcox')\n",
        "    msg = \"{}-{}: 검정통계량 {:.3f}, p-value {:.3f}\".format(s1, s2, stat, p)\n",
        "    if p < 0.05:\n",
        "        print(msg + \"***\")\n",
        "    else:\n",
        "        print(msg)"
      ]
    },
    {
      "cell_type": "markdown",
      "metadata": {
        "id": "YbGCyrrZny1W"
      },
      "source": [
        "## 연습문제"
      ]
    },
    {
      "cell_type": "markdown",
      "metadata": {
        "id": "Tt2VsUl7ny1W"
      },
      "source": [
        "#### 1.\n",
        "- 아래 그래프는 A, B, C 동별 입주민의 주민대표 찬반 투표 결과를 나타낸다.\n",
        "- 동별 찬반 비율이 동일한지 귀무가설과 대립가설을 설정하고, 검정통계량을 계산하여 검정하시오. (유의수준 0.05)"
      ]
    },
    {
      "cell_type": "code",
      "execution_count": null,
      "metadata": {
        "id": "amfgFauxny1X",
        "outputId": "db5ed72f-14a8-447d-bed0-c5ece5f25c9d"
      },
      "outputs": [
        {
          "name": "stdout",
          "output_type": "stream",
          "text": [
            "     A   B   C\n",
            "구분            \n",
            "찬성  50  60  65\n",
            "반대  45  32  55\n",
            "검정통계량 3.667, p-value 0.160\n"
          ]
        }
      ],
      "source": [
        "# 동질성 검정\n",
        "# 귀무가설: 동별 찬반 비율은 차이가 없다\n",
        "# 대립가설: 적어도 한쌍의 동의 찬반 비율은 차이가 있다\n",
        "table = pd.DataFrame({\"구분\":['찬성', '반대'], 'A':[50, 45], 'B':[60, 32], 'C':[65, 55]}).set_index('구분')\n",
        "print(table)\n",
        "\n",
        "from scipy.stats import chi2_contingency\n",
        "chistat, p, df, expec = chi2_contingency(table, correction=False)\n",
        "print(\"검정통계량 {:.3f}, p-value {:.3f}\".format(chistat, p))\n",
        "\n",
        "# 유의확률이 유의수준 0.05보다 크기 때문에 귀무가설을 기각할 수 없다."
      ]
    },
    {
      "cell_type": "markdown",
      "metadata": {
        "id": "Kz0y9d5mny1X"
      },
      "source": [
        "#### 2.\n",
        "- 특정 캠페인에 노출되기 전과 후의 캠페인 주제에 대한 지지 여부를 기록한 데이터이다.\n",
        "- 캠페인 전후의 지지 비율이 차이가 있는지 귀무가설과 대립가설을 설정하고, 검정통계량을 계산하여 검정하시오. (유의수준 0.05)"
      ]
    },
    {
      "cell_type": "code",
      "execution_count": null,
      "metadata": {
        "id": "-Tzk7I1lny1X",
        "outputId": "598da6ac-991d-4565-80cb-d090ed0704ae"
      },
      "outputs": [
        {
          "name": "stdout",
          "output_type": "stream",
          "text": [
            "        0  1  2  3  4\n",
            "before  1  1  1  0  1\n",
            "after   0  1  1  1  0\n"
          ]
        }
      ],
      "source": [
        "data = pd.read_csv('https://raw.githubusercontent.com/algoboni/pythoncodebook1-1/main/practice6_ba.csv', index_col=0)\n",
        "print(data.head(5).T)"
      ]
    },
    {
      "cell_type": "code",
      "execution_count": null,
      "metadata": {
        "id": "YNyN1mzZny1Y",
        "outputId": "83711066-94da-448c-f470-bbf99053e45b"
      },
      "outputs": [
        {
          "name": "stdout",
          "output_type": "stream",
          "text": [
            "after   0   1\n",
            "before       \n",
            "0       4  12\n",
            "1       9   6\n",
            "검정통계량 0.429, p-value 0.513\n"
          ]
        }
      ],
      "source": [
        "## 맥니마르 검정\n",
        "# 귀무가설: 캠페인 전후 지지 비율은 차이가 없다.\n",
        "# 대립가설: 캠페인 전후 지지지 비율은 차이가 있다.\n",
        "from pandas import read_csv, crosstab\n",
        "table = crosstab(data['before'], data['after'])\n",
        "print(table)\n",
        "from statsmodels.stats.contingency_tables import mcnemar\n",
        "mc = mcnemar(table, exact=False, correction=False) #correction=False: 카이제곱분포 사용\n",
        "print(\"검정통계량 {:.3f}, p-value {:.3f}\".format(mc.statistic, mc.pvalue))\n",
        "## 유의확률이 유의수준 0.05보다 크기 때문에 귀무가설을 기각할 수 없다.\n",
        "# 즉, 캠페인 전후 지지 비율은 차이가 없다."
      ]
    },
    {
      "cell_type": "markdown",
      "metadata": {
        "id": "gyi-Dm8wny1Y"
      },
      "source": [
        "#### 3.\n",
        "- 다음의 T와 F가 무작위로 나열되어 있다고 볼 수 있는지 귀무가설과 대립가설을 설정하고, 검정통계량을 계산하여 검정하시오. (유의수준 0.05)"
      ]
    },
    {
      "cell_type": "code",
      "execution_count": null,
      "metadata": {
        "id": "M8E2-8fEny1Y",
        "outputId": "b149519e-9aab-4af5-8992-29d8478fbf31"
      },
      "outputs": [
        {
          "name": "stdout",
          "output_type": "stream",
          "text": [
            "검정통계량 2.187, p-value 0.029\n"
          ]
        }
      ],
      "source": [
        "## 런검정\n",
        "# 귀무가설: T와 F는 무작위로 나열되었다.\n",
        "# 연구가설: T와 F는 무작위로 나열되지 않았다.\n",
        "TFlist = ['T','F','F','T','F','T','F','T','T','F','F','T','F','T','F','T','F','T']\n",
        "from statsmodels.sandbox.stats.runs import runstest_1samp\n",
        "data = list(map(lambda x: 0 if x =='F' else 1, TFlist))\n",
        "zstat, p = runstest_1samp(data)\n",
        "print(\"검정통계량 {:.3f}, p-value {:.3f}\".format(zstat, p))\n",
        "## 유의확률이 유의수준 0.05보다 작기 때문에 귀무가설을 기각할 수 있다.\n",
        "# 즉, T와 F는 무작위로 나열되지 않았다."
      ]
    },
    {
      "cell_type": "markdown",
      "metadata": {
        "id": "7GkoZM3Zny1Z"
      },
      "source": [
        "#### 4.\n",
        "- 20대보다 30대가 기대하는 연봉상승률이 더 높다는 주장이 있다.\n",
        "- 이 주장이 타당한지를 확인해보기 위해서 20대 10명과 30대 8명을 임의로 추출하여 기대하는 연봉상승률을 다음과 같이 정리하였다.\n",
        "- 이 주장을 검정하기 위한 귀무가설과 대립가설을 설정하고, 검정통계량을 계산하여 검정하시오. (유의수준 0.05)"
      ]
    },
    {
      "cell_type": "code",
      "execution_count": null,
      "metadata": {
        "id": "GQyExo6Pny1Z",
        "outputId": "6356c297-4ccf-467c-d703-e71623cf89ff"
      },
      "outputs": [
        {
          "name": "stdout",
          "output_type": "stream",
          "text": [
            "순위합 검정통계량 69.5 or 101.5\n",
            "만위트니 검정통계량 14.5 or 65.5\n",
            "검정통계량 14.5, p-value 0.013\n"
          ]
        }
      ],
      "source": [
        "## 윌콕슨 순위합 검정 (만위트니 검정)\n",
        "# 귀무가설: 20대와 30대가 기대하는 연봉상승률은 차이가 없다.\n",
        "# 대립가설: 20대가 기대하는 연봉상승률은 30대가 기대하는 연봉상승률보다 더 낮다.\n",
        "A = [3.0, 3.5, 2.0, 2.8, 5.0, 0, 2.3, 2.8, 3.3, 3.5] #20대\n",
        "B = [3.5, 5.5, 5.0, 5.0, 10.0, 8.0, 2.5, 3.0 ] #30대\n",
        "import numpy as np\n",
        "n1, n2 = len(A), len(B)\n",
        "M1, M2 = np.median(A), np.median(B)\n",
        "from pandas import DataFrame, concat\n",
        "table1 = DataFrame(A, columns = ['data'])\n",
        "table1['M'] = M1\n",
        "table2 = DataFrame(B, columns = ['data'])\n",
        "table2['M'] = M2\n",
        "table = concat([table1, table2])\n",
        "table['rank'] = table['data'].rank(method='average') # 순위합 계산표\n",
        "W1 = table.query(\"M==@M1\")['rank'].sum()\n",
        "W2 = table.query(\"M==@M2\")['rank'].sum()\n",
        "U1 = W1 - n1*(n1+1)/2\n",
        "U2 = W2 - n2*(n2+1)/2\n",
        "print(\"순위합 검정통계량 {} or {}\".format(W1, W2))\n",
        "print(\"만위트니 검정통계량 {} or {}\".format(U1, U2))\n",
        "\n",
        "from scipy.stats import mannwhitneyu\n",
        "mstat, p = mannwhitneyu(A, B, alternative='less')\n",
        "print(\"검정통계량 {:.1f}, p-value {:.3f}\".format(mstat, p))\n",
        "## 유의확률이 유의수준보다 작으므로 귀무가설을 기각할 수 있다.\n",
        "# 20대가 기대하는 연봉상승률은 30대가 기대하는 연봉상승률보다 더 낮다."
      ]
    },
    {
      "cell_type": "markdown",
      "metadata": {
        "id": "pOys9gmSny1Z"
      },
      "source": [
        "#### 5.\n",
        "- 양식, 한식, 중식에 대한 5명의 선호도를 나타내는 표이다.\n",
        "- '선호하지 않는다'를 1, '보통이다'를 2, '선호한다'를 3으로 응답하였다.\n",
        "- 음식 종류에 따라 선호도 차이가 있는지 귀무가설과 대립가설을 설정하고, 검정통계량을 계산하여 검정하시오. (유의수준 0.05)"
      ]
    },
    {
      "cell_type": "code",
      "execution_count": null,
      "metadata": {
        "id": "XOE9HE0wny1a",
        "outputId": "78ffddf4-e4a7-4ca2-c775-b80ae4d00fac"
      },
      "outputs": [
        {
          "name": "stdout",
          "output_type": "stream",
          "text": [
            "검정통계량 2.667, p-value 0.264\n"
          ]
        }
      ],
      "source": [
        "## 프리드먼 검정\n",
        "# 귀무가설: 음식 종류에 대한 선호도는 차이가 없다.\n",
        "# 연구가설: 적어도 한쌍의 음식 종류에 대한 선호도는 차이가 있다.\n",
        "\n",
        "W = [1,3,1,3,1]\n",
        "K = [1,3,3,1,1]\n",
        "C = [2,3,3,3,1]\n",
        "\n",
        "from scipy.stats import friedmanchisquare\n",
        "fstat, p = friedmanchisquare(W, K, C)\n",
        "print(\"검정통계량 {:.3f}, p-value {:.3f}\".format(fstat, p))\n",
        "## 유의확률이 유의수준 0.05보다 크기 때문에 귀무가설을 기각할 수 없다.\n",
        "# 즉, 음식 종류에 대한 선호도는 차이가 없다."
      ]
    },
    {
      "cell_type": "markdown",
      "metadata": {
        "id": "g21FRlBTny1a"
      },
      "source": [
        "#### 6.\n",
        "- 임의로 추출한 A, B, C 지역 학생들의 키가 다음과 같다.\n",
        "- 지역별 학생들의 키가 차이가 있는지 검정하기 위한 귀무가설과 대립가설을 설정하고, 검정통계량을 계산하여 검정하시오. (유의수준 0.05)"
      ]
    },
    {
      "cell_type": "code",
      "execution_count": null,
      "metadata": {
        "id": "RaxMKSeSny1a",
        "outputId": "42c95712-ecf1-4eee-c69c-9b3f30116d2d"
      },
      "outputs": [
        {
          "name": "stdout",
          "output_type": "stream",
          "text": [
            "검정통계량 1.331, p-value 0.514\n"
          ]
        }
      ],
      "source": [
        "## 크루스컬 월리스 검정\n",
        "# 귀무가설: 세 지역 학생들의 키는 차이가 없다.\n",
        "# 대립가설: 적어도 한쌍의 지역 학생들의 키는 차이가 있다.\n",
        "\n",
        "A = [177, 167, 188, 189, 152, 159, 184, 175]\n",
        "B = [151, 177, 150, 187, 167, 166, 179, 161, 174]\n",
        "C = [173, 151, 156, 182, 188, 175, 150, 165, 176, 183]\n",
        "\n",
        "from scipy.stats import kruskal\n",
        "kstat, p = kruskal(A, B, C)\n",
        "print(\"검정통계량 {:.3f}, p-value {:.3f}\".format(kstat, p))\n",
        "# 유의확률이 유의수준보다 높으므로 귀무가설을 기각할 수 없다.\n",
        "# 즉, 세 지역 학생들의 키는 차이가 없다."
      ]
    }
  ],
  "metadata": {
    "kernelspec": {
      "display_name": "Python 3",
      "language": "python",
      "name": "python3"
    },
    "language_info": {
      "codemirror_mode": {
        "name": "ipython",
        "version": 3
      },
      "file_extension": ".py",
      "mimetype": "text/x-python",
      "name": "python",
      "nbconvert_exporter": "python",
      "pygments_lexer": "ipython3",
      "version": "3.7.0"
    },
    "colab": {
      "provenance": []
    }
  },
  "nbformat": 4,
  "nbformat_minor": 0
}